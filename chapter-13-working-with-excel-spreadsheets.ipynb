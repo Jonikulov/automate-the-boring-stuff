{
 "cells": [
  {
   "cell_type": "markdown",
   "id": "0f033327",
   "metadata": {},
   "source": [
    "# Chapter 13: WORKING WITH EXCEL SPREADSHEETS"
   ]
  },
  {
   "cell_type": "markdown",
   "id": "f2b0c520",
   "metadata": {},
   "source": [
    "## Reading Excel Documents\n",
    "\n",
    "`!pip install openpyxl==2.6.2`"
   ]
  },
  {
   "cell_type": "markdown",
   "id": "304893f8",
   "metadata": {},
   "source": [
    "### Opening Excel Documents with OpenPyXL"
   ]
  },
  {
   "cell_type": "code",
   "execution_count": 1,
   "id": "80695b7d",
   "metadata": {},
   "outputs": [
    {
     "data": {
      "text/plain": [
       "openpyxl.workbook.workbook.Workbook"
      ]
     },
     "execution_count": 1,
     "metadata": {},
     "output_type": "execute_result"
    }
   ],
   "source": [
    "import openpyxl\n",
    "\n",
    "wb = openpyxl.load_workbook(\"automate-online-materials/example.xlsx\")\n",
    "type(wb)"
   ]
  },
  {
   "cell_type": "code",
   "execution_count": 13,
   "id": "74451f9a",
   "metadata": {},
   "outputs": [
    {
     "data": {
      "text/plain": [
       "['Sheet1', 'Sheet2', 'Sheet3']"
      ]
     },
     "execution_count": 13,
     "metadata": {},
     "output_type": "execute_result"
    }
   ],
   "source": [
    "wb.sheetnames  # The workbook's sheets' names."
   ]
  },
  {
   "cell_type": "code",
   "execution_count": 14,
   "id": "96f53415",
   "metadata": {},
   "outputs": [],
   "source": [
    "sheet = wb['Sheet3']  # Get a sheet from the workbook."
   ]
  },
  {
   "cell_type": "code",
   "execution_count": 15,
   "id": "d9bd25af",
   "metadata": {},
   "outputs": [
    {
     "data": {
      "text/plain": [
       "<Worksheet \"Sheet3\">"
      ]
     },
     "execution_count": 15,
     "metadata": {},
     "output_type": "execute_result"
    }
   ],
   "source": [
    "sheet"
   ]
  },
  {
   "cell_type": "code",
   "execution_count": 16,
   "id": "81867270",
   "metadata": {},
   "outputs": [
    {
     "data": {
      "text/plain": [
       "openpyxl.worksheet.worksheet.Worksheet"
      ]
     },
     "execution_count": 16,
     "metadata": {},
     "output_type": "execute_result"
    }
   ],
   "source": [
    "type(sheet)"
   ]
  },
  {
   "cell_type": "code",
   "execution_count": 17,
   "id": "ce4ce797",
   "metadata": {},
   "outputs": [
    {
     "data": {
      "text/plain": [
       "'Sheet3'"
      ]
     },
     "execution_count": 17,
     "metadata": {},
     "output_type": "execute_result"
    }
   ],
   "source": [
    "sheet.title  # Get the sheet's title as a string."
   ]
  },
  {
   "cell_type": "code",
   "execution_count": 18,
   "id": "bc7e8177",
   "metadata": {},
   "outputs": [],
   "source": [
    "anotherSheet = wb.active  # Get the active sheet."
   ]
  },
  {
   "cell_type": "code",
   "execution_count": 19,
   "id": "1814e718",
   "metadata": {},
   "outputs": [
    {
     "data": {
      "text/plain": [
       "<Worksheet \"Sheet1\">"
      ]
     },
     "execution_count": 19,
     "metadata": {},
     "output_type": "execute_result"
    }
   ],
   "source": [
    "anotherSheet"
   ]
  },
  {
   "cell_type": "markdown",
   "id": "433182dd",
   "metadata": {},
   "source": [
    "### Getting Cells from the Sheets"
   ]
  },
  {
   "cell_type": "code",
   "execution_count": 20,
   "id": "cb926f62",
   "metadata": {},
   "outputs": [
    {
     "data": {
      "text/plain": [
       "<Cell 'Sheet1'.A1>"
      ]
     },
     "execution_count": 20,
     "metadata": {},
     "output_type": "execute_result"
    }
   ],
   "source": [
    "import openpyxl\n",
    "\n",
    "wb = openpyxl.load_workbook(\"automate-online-materials/example.xlsx\")\n",
    "sheet = wb['Sheet1']  # Get a sheet from the workbook.\n",
    "sheet['A1']  # Get a cell from the sheet."
   ]
  },
  {
   "cell_type": "code",
   "execution_count": 23,
   "id": "5bdb8b38",
   "metadata": {},
   "outputs": [
    {
     "data": {
      "text/plain": [
       "datetime.datetime(2015, 4, 5, 13, 34, 2)"
      ]
     },
     "execution_count": 23,
     "metadata": {},
     "output_type": "execute_result"
    }
   ],
   "source": [
    "sheet['A1'].value  # Get the value from the cell."
   ]
  },
  {
   "cell_type": "code",
   "execution_count": 26,
   "id": "dacb7ed1",
   "metadata": {},
   "outputs": [
    {
     "data": {
      "text/plain": [
       "'Apples'"
      ]
     },
     "execution_count": 26,
     "metadata": {},
     "output_type": "execute_result"
    }
   ],
   "source": [
    "c = sheet['B1']  # Get another cell from the sheet.\n",
    "c.value"
   ]
  },
  {
   "cell_type": "code",
   "execution_count": 28,
   "id": "3e541f17",
   "metadata": {},
   "outputs": [
    {
     "data": {
      "text/plain": [
       "'Row 1, Column B is Apples'"
      ]
     },
     "execution_count": 28,
     "metadata": {},
     "output_type": "execute_result"
    }
   ],
   "source": [
    "# Get the row, column, and value from the cell.\n",
    "f\"Row {c.row}, Column {c.column_letter} is {c.value}\""
   ]
  },
  {
   "cell_type": "code",
   "execution_count": 29,
   "id": "df51195a",
   "metadata": {},
   "outputs": [
    {
     "data": {
      "text/plain": [
       "'Cell B1 is Apples'"
      ]
     },
     "execution_count": 29,
     "metadata": {},
     "output_type": "execute_result"
    }
   ],
   "source": [
    "f\"Cell {c.coordinate} is {c.value}\""
   ]
  },
  {
   "cell_type": "code",
   "execution_count": 30,
   "id": "ce260cdd",
   "metadata": {},
   "outputs": [
    {
     "data": {
      "text/plain": [
       "73"
      ]
     },
     "execution_count": 30,
     "metadata": {},
     "output_type": "execute_result"
    }
   ],
   "source": [
    "sheet['C1'].value"
   ]
  },
  {
   "cell_type": "code",
   "execution_count": 35,
   "id": "bddbddc4",
   "metadata": {},
   "outputs": [
    {
     "data": {
      "text/plain": [
       "datetime.datetime(2015, 4, 5, 3, 41, 23)"
      ]
     },
     "execution_count": 35,
     "metadata": {},
     "output_type": "execute_result"
    }
   ],
   "source": [
    "sheet['A2'].value"
   ]
  },
  {
   "cell_type": "code",
   "execution_count": 36,
   "id": "bafa191d",
   "metadata": {},
   "outputs": [
    {
     "data": {
      "text/plain": [
       "'2015-04-05 03:41:23'"
      ]
     },
     "execution_count": 36,
     "metadata": {},
     "output_type": "execute_result"
    }
   ],
   "source": [
    "str(sheet['A2'].value)"
   ]
  },
  {
   "cell_type": "markdown",
   "id": "5874a7e8",
   "metadata": {},
   "source": [
    "We you can also get a cell using the sheet’s `cell()` method and passing integers for its row and column keyword arguments. The first `row` or `column` integer is `1`, not `0`."
   ]
  },
  {
   "cell_type": "code",
   "execution_count": 46,
   "id": "d1602fa5",
   "metadata": {},
   "outputs": [
    {
     "data": {
      "text/plain": [
       "<Cell 'Sheet1'.B1>"
      ]
     },
     "execution_count": 46,
     "metadata": {},
     "output_type": "execute_result"
    }
   ],
   "source": [
    "sheet.cell(row=1, column=2)"
   ]
  },
  {
   "cell_type": "code",
   "execution_count": 47,
   "id": "dbd0debb",
   "metadata": {},
   "outputs": [
    {
     "data": {
      "text/plain": [
       "'Apples'"
      ]
     },
     "execution_count": 47,
     "metadata": {},
     "output_type": "execute_result"
    }
   ],
   "source": [
    "sheet.cell(row=1, column=2).value"
   ]
  },
  {
   "cell_type": "code",
   "execution_count": 52,
   "id": "3401a698",
   "metadata": {},
   "outputs": [
    {
     "name": "stdout",
     "output_type": "stream",
     "text": [
      "1 Apples\n",
      "3 Pears\n",
      "5 Apples\n",
      "7 Strawberries\n"
     ]
    }
   ],
   "source": [
    "for i in range(1, 8, 2):  # Go through every other row:\n",
    "    print(i, sheet.cell(row=i, column=2).value)"
   ]
  },
  {
   "cell_type": "markdown",
   "id": "03f5b0ef",
   "metadata": {},
   "source": [
    "We can determine the size of the sheet with the `Worksheet` object’s `max_row` and `max_column` attributes."
   ]
  },
  {
   "cell_type": "code",
   "execution_count": 54,
   "id": "62fa9c4b",
   "metadata": {},
   "outputs": [
    {
     "data": {
      "text/plain": [
       "3"
      ]
     },
     "execution_count": 54,
     "metadata": {},
     "output_type": "execute_result"
    }
   ],
   "source": [
    "sheet.max_column  # Get the highest column number."
   ]
  },
  {
   "cell_type": "code",
   "execution_count": 55,
   "id": "4aa7b7d6",
   "metadata": {},
   "outputs": [
    {
     "data": {
      "text/plain": [
       "9"
      ]
     },
     "execution_count": 55,
     "metadata": {},
     "output_type": "execute_result"
    }
   ],
   "source": [
    "sheet.max_row  # Get the highest row number."
   ]
  },
  {
   "cell_type": "markdown",
   "id": "a83fe187",
   "metadata": {},
   "source": [
    "### Converting Between Column Letters and Numbers"
   ]
  },
  {
   "cell_type": "code",
   "execution_count": 1,
   "id": "4a209ce0",
   "metadata": {},
   "outputs": [
    {
     "data": {
      "text/plain": [
       "'A'"
      ]
     },
     "execution_count": 1,
     "metadata": {},
     "output_type": "execute_result"
    }
   ],
   "source": [
    "import openpyxl\n",
    "from openpyxl.utils import get_column_letter, column_index_from_string\n",
    "\n",
    "get_column_letter(1)  # Translate column 1 to a letter."
   ]
  },
  {
   "cell_type": "code",
   "execution_count": 2,
   "id": "e48fa283",
   "metadata": {},
   "outputs": [
    {
     "data": {
      "text/plain": [
       "'B'"
      ]
     },
     "execution_count": 2,
     "metadata": {},
     "output_type": "execute_result"
    }
   ],
   "source": [
    "get_column_letter(2)"
   ]
  },
  {
   "cell_type": "code",
   "execution_count": 3,
   "id": "cea7cf6f",
   "metadata": {},
   "outputs": [
    {
     "data": {
      "text/plain": [
       "'AA'"
      ]
     },
     "execution_count": 3,
     "metadata": {},
     "output_type": "execute_result"
    }
   ],
   "source": [
    "get_column_letter(27)"
   ]
  },
  {
   "cell_type": "code",
   "execution_count": 4,
   "id": "9081aa66",
   "metadata": {},
   "outputs": [
    {
     "data": {
      "text/plain": [
       "'AHP'"
      ]
     },
     "execution_count": 4,
     "metadata": {},
     "output_type": "execute_result"
    }
   ],
   "source": [
    "get_column_letter(900)"
   ]
  },
  {
   "cell_type": "code",
   "execution_count": 5,
   "id": "b9c09ae9",
   "metadata": {},
   "outputs": [
    {
     "data": {
      "text/plain": [
       "'C'"
      ]
     },
     "execution_count": 5,
     "metadata": {},
     "output_type": "execute_result"
    }
   ],
   "source": [
    "wb = openpyxl.load_workbook(\"automate-online-materials/example.xlsx\")\n",
    "sheet = wb['Sheet1']\n",
    "get_column_letter(sheet.max_column)"
   ]
  },
  {
   "cell_type": "code",
   "execution_count": 8,
   "id": "3e147dfe",
   "metadata": {},
   "outputs": [
    {
     "data": {
      "text/plain": [
       "1"
      ]
     },
     "execution_count": 8,
     "metadata": {},
     "output_type": "execute_result"
    }
   ],
   "source": [
    "column_index_from_string('A')  # Get A's number."
   ]
  },
  {
   "cell_type": "code",
   "execution_count": 9,
   "id": "b40ec5b5",
   "metadata": {},
   "outputs": [
    {
     "data": {
      "text/plain": [
       "27"
      ]
     },
     "execution_count": 9,
     "metadata": {},
     "output_type": "execute_result"
    }
   ],
   "source": [
    "column_index_from_string('AA')"
   ]
  },
  {
   "cell_type": "markdown",
   "id": "33796fe5",
   "metadata": {},
   "source": [
    "### Getting Rows and Columns from the Sheets"
   ]
  },
  {
   "cell_type": "code",
   "execution_count": 10,
   "id": "0ace5541",
   "metadata": {},
   "outputs": [
    {
     "data": {
      "text/plain": [
       "['Sheet1', 'Sheet2', 'Sheet3']"
      ]
     },
     "execution_count": 10,
     "metadata": {},
     "output_type": "execute_result"
    }
   ],
   "source": [
    "wb.sheetnames"
   ]
  },
  {
   "cell_type": "code",
   "execution_count": 11,
   "id": "01a9af52",
   "metadata": {},
   "outputs": [],
   "source": [
    "sheet = wb['Sheet1']"
   ]
  },
  {
   "cell_type": "code",
   "execution_count": 12,
   "id": "929051e6",
   "metadata": {},
   "outputs": [
    {
     "data": {
      "text/plain": [
       "((<Cell 'Sheet1'.A1>, <Cell 'Sheet1'.B1>, <Cell 'Sheet1'.C1>),\n",
       " (<Cell 'Sheet1'.A2>, <Cell 'Sheet1'.B2>, <Cell 'Sheet1'.C2>),\n",
       " (<Cell 'Sheet1'.A3>, <Cell 'Sheet1'.B3>, <Cell 'Sheet1'.C3>))"
      ]
     },
     "execution_count": 12,
     "metadata": {},
     "output_type": "execute_result"
    }
   ],
   "source": [
    "sheet['A1':'C3']  # Get all cells from A1 to C3."
   ]
  },
  {
   "cell_type": "code",
   "execution_count": 24,
   "id": "e95301af",
   "metadata": {},
   "outputs": [
    {
     "name": "stdout",
     "output_type": "stream",
     "text": [
      "A1 2015-04-05 13:34:02\n",
      "B1 Apples\n",
      "C1 73\n",
      "--- END OF ROW ---\n",
      "A2 2015-04-05 03:41:23\n",
      "B2 Cherries\n",
      "C2 85\n",
      "--- END OF ROW ---\n",
      "A3 2015-04-06 12:46:51\n",
      "B3 Pears\n",
      "C3 14\n",
      "--- END OF ROW ---\n"
     ]
    }
   ],
   "source": [
    "for row_cell_obj in sheet['A1':'C3']:\n",
    "    for cell in row_cell_obj:\n",
    "        print(cell.coordinate, cell.value)\n",
    "    print(\"--- END OF ROW ---\")"
   ]
  },
  {
   "cell_type": "code",
   "execution_count": 34,
   "id": "ebd65ce8",
   "metadata": {},
   "outputs": [
    {
     "data": {
      "text/plain": [
       "[(<Cell 'Sheet1'.A1>,\n",
       "  <Cell 'Sheet1'.A2>,\n",
       "  <Cell 'Sheet1'.A3>,\n",
       "  <Cell 'Sheet1'.A4>,\n",
       "  <Cell 'Sheet1'.A5>,\n",
       "  <Cell 'Sheet1'.A6>,\n",
       "  <Cell 'Sheet1'.A7>),\n",
       " (<Cell 'Sheet1'.B1>,\n",
       "  <Cell 'Sheet1'.B2>,\n",
       "  <Cell 'Sheet1'.B3>,\n",
       "  <Cell 'Sheet1'.B4>,\n",
       "  <Cell 'Sheet1'.B5>,\n",
       "  <Cell 'Sheet1'.B6>,\n",
       "  <Cell 'Sheet1'.B7>),\n",
       " (<Cell 'Sheet1'.C1>,\n",
       "  <Cell 'Sheet1'.C2>,\n",
       "  <Cell 'Sheet1'.C3>,\n",
       "  <Cell 'Sheet1'.C4>,\n",
       "  <Cell 'Sheet1'.C5>,\n",
       "  <Cell 'Sheet1'.C6>,\n",
       "  <Cell 'Sheet1'.C7>)]"
      ]
     },
     "execution_count": 34,
     "metadata": {},
     "output_type": "execute_result"
    }
   ],
   "source": [
    "list(sheet.columns)"
   ]
  },
  {
   "cell_type": "code",
   "execution_count": 36,
   "id": "fe61c5e8",
   "metadata": {},
   "outputs": [
    {
     "data": {
      "text/plain": [
       "(<Cell 'Sheet1'.B1>,\n",
       " <Cell 'Sheet1'.B2>,\n",
       " <Cell 'Sheet1'.B3>,\n",
       " <Cell 'Sheet1'.B4>,\n",
       " <Cell 'Sheet1'.B5>,\n",
       " <Cell 'Sheet1'.B6>,\n",
       " <Cell 'Sheet1'.B7>)"
      ]
     },
     "execution_count": 36,
     "metadata": {},
     "output_type": "execute_result"
    }
   ],
   "source": [
    "list(sheet.columns)[1]  # Get second column's cells."
   ]
  },
  {
   "cell_type": "code",
   "execution_count": 42,
   "id": "c54f1559",
   "metadata": {},
   "outputs": [
    {
     "name": "stdout",
     "output_type": "stream",
     "text": [
      "Apples\n",
      "Cherries\n",
      "Pears\n",
      "Oranges\n",
      "Apples\n",
      "Bananas\n",
      "Strawberries\n"
     ]
    }
   ],
   "source": [
    "for cell in list(sheet.columns)[1]:\n",
    "    print(cell.value)"
   ]
  },
  {
   "cell_type": "markdown",
   "id": "dd489a3f",
   "metadata": {},
   "source": [
    "## Project: Reading Data from a Spreadsheet"
   ]
  },
  {
   "cell_type": "code",
   "execution_count": 20,
   "id": "ce168724",
   "metadata": {},
   "outputs": [
    {
     "name": "stdout",
     "output_type": "stream",
     "text": [
      "Opening workbook...\n",
      "Reading rows...\n",
      "Writing results...\n",
      "Done.\n"
     ]
    }
   ],
   "source": [
    "# readCensusExcel.py - Tabulates population and number of census tracts for each county.\n",
    "\n",
    "import openpyxl\n",
    "import pprint\n",
    "\n",
    "print(\"Opening workbook...\")\n",
    "wb = openpyxl.load_workbook(\"automate-online-materials/censuspopdata.xlsx\")\n",
    "sheet = wb['Population by Census Tract']\n",
    "countyData = {}\n",
    "\n",
    "# Fill in countyData with each county's population and tracts.\n",
    "print(\"Reading rows...\")\n",
    "for row in range(2, sheet.max_row + 1):\n",
    "    # Each row in the spreadsheet has data for one census tract.\n",
    "    state = sheet['B' + str(row)].value\n",
    "    county = sheet['C' + str(row)].value\n",
    "    pop = sheet['D' + str(row)].value\n",
    "\n",
    "    # Make sure the key for this state exists.\n",
    "    countyData.setdefault(state, {})\n",
    "    # Make sure the key for this county in this state exists.\n",
    "    countyData[state].setdefault(county, {'tracts':0, 'pop':0})\n",
    "\n",
    "    # Each row represents one census tract, so increment by one.\n",
    "    countyData[state][county]['tracts'] += 1\n",
    "    # Increase the county pop by the pop in this census tract.\n",
    "    countyData[state][county]['pop'] += int(pop)\n",
    "\n",
    "# Open a new text file and write the contents of countyData to it.\n",
    "print('Writing results...')\n",
    "with open('census2010.py', 'w') as file:\n",
    "    file.write('allData = ' + pprint.pformat(countyData))\n",
    "print('Done.')"
   ]
  },
  {
   "cell_type": "code",
   "execution_count": 1,
   "id": "7b15b69b",
   "metadata": {},
   "outputs": [
    {
     "name": "stdout",
     "output_type": "stream",
     "text": [
      "The 2010 population of Anchorage was 291826\n"
     ]
    }
   ],
   "source": [
    "import os\n",
    "import census2010\n",
    "\n",
    "# census2010.allData['AK']['Anchorage']\n",
    "anchoragePop = census2010.allData['AK']['Anchorage']['pop']\n",
    "print(\"The 2010 population of Anchorage was\", anchoragePop)"
   ]
  },
  {
   "cell_type": "markdown",
   "id": "d5fe02d0",
   "metadata": {},
   "source": [
    "### Ideas for Similar Programs\n",
    "\n",
    "- Compare data across multiple rows in a spreadsheet.\n",
    "- Open multiple Excel files and compare data between spreadsheets.\n",
    "- Check whether a spreadsheet has blank rows or invalid data in any cells and alert the user if it does.\n",
    "- Read data from a spreadsheet and use it as the input for your Python programs."
   ]
  },
  {
   "cell_type": "markdown",
   "id": "e2a6ef79",
   "metadata": {},
   "source": [
    "## Writing Excel Documents"
   ]
  },
  {
   "cell_type": "markdown",
   "id": "de3077b2",
   "metadata": {},
   "source": [
    "### Creating and Saving Excel Documents"
   ]
  },
  {
   "cell_type": "code",
   "execution_count": 9,
   "id": "784b4b36",
   "metadata": {},
   "outputs": [
    {
     "data": {
      "text/plain": [
       "['Sheet']"
      ]
     },
     "execution_count": 9,
     "metadata": {},
     "output_type": "execute_result"
    }
   ],
   "source": [
    "import openpyxl\n",
    "\n",
    "wb = openpyxl.Workbook()  # Create a blank workbook.\n",
    "wb.sheetnames  # It starts with one sheet."
   ]
  },
  {
   "cell_type": "code",
   "execution_count": 10,
   "id": "8631a9b5",
   "metadata": {},
   "outputs": [
    {
     "data": {
      "text/plain": [
       "'Sheet'"
      ]
     },
     "execution_count": 10,
     "metadata": {},
     "output_type": "execute_result"
    }
   ],
   "source": [
    "sheet = wb.active\n",
    "sheet.title"
   ]
  },
  {
   "cell_type": "code",
   "execution_count": 11,
   "id": "e0f44362",
   "metadata": {},
   "outputs": [
    {
     "data": {
      "text/plain": [
       "['Spam Bacon Eggs Sheet']"
      ]
     },
     "execution_count": 11,
     "metadata": {},
     "output_type": "execute_result"
    }
   ],
   "source": [
    "sheet.title = 'Spam Bacon Eggs Sheet'  # Change title.\n",
    "wb.sheetnames"
   ]
  },
  {
   "cell_type": "markdown",
   "id": "8f273228",
   "metadata": {},
   "source": [
    "Any time you modify the `Workbook` object or its sheets and cells, the spreadsheet file will not be saved until you call the `save()` workbook method."
   ]
  },
  {
   "cell_type": "code",
   "execution_count": 13,
   "id": "9a2acf0b",
   "metadata": {},
   "outputs": [],
   "source": [
    "wb = openpyxl.load_workbook('automate-online-materials/example.xlsx')\n",
    "sheet = wb.active\n",
    "sheet.title = 'Spam Spam Spam'\n",
    "wb.save('example_copy.xlsx')  # Save the workbook."
   ]
  },
  {
   "cell_type": "markdown",
   "id": "20bf65a8",
   "metadata": {},
   "source": [
    "### Creating and Removing Sheets"
   ]
  },
  {
   "cell_type": "code",
   "execution_count": 1,
   "id": "42ca92aa",
   "metadata": {},
   "outputs": [
    {
     "data": {
      "text/plain": [
       "['Sheet']"
      ]
     },
     "execution_count": 1,
     "metadata": {},
     "output_type": "execute_result"
    }
   ],
   "source": [
    "import openpyxl\n",
    "\n",
    "wb = openpyxl.Workbook()\n",
    "wb.sheetnames"
   ]
  },
  {
   "cell_type": "code",
   "execution_count": 2,
   "id": "9ce6efd9",
   "metadata": {},
   "outputs": [
    {
     "data": {
      "text/plain": [
       "<Worksheet \"Sheet1\">"
      ]
     },
     "execution_count": 2,
     "metadata": {},
     "output_type": "execute_result"
    }
   ],
   "source": [
    "wb.create_sheet()  # Add a new sheet."
   ]
  },
  {
   "cell_type": "code",
   "execution_count": 3,
   "id": "2e4afd1d",
   "metadata": {},
   "outputs": [
    {
     "data": {
      "text/plain": [
       "['Sheet', 'Sheet1']"
      ]
     },
     "execution_count": 3,
     "metadata": {},
     "output_type": "execute_result"
    }
   ],
   "source": [
    "wb.sheetnames"
   ]
  },
  {
   "cell_type": "code",
   "execution_count": 4,
   "id": "b695905c",
   "metadata": {},
   "outputs": [
    {
     "data": {
      "text/plain": [
       "<Worksheet \"First Sheet\">"
      ]
     },
     "execution_count": 4,
     "metadata": {},
     "output_type": "execute_result"
    }
   ],
   "source": [
    "# Create a new sheet at index 0.\n",
    "wb.create_sheet(index=0, title='First Sheet')"
   ]
  },
  {
   "cell_type": "code",
   "execution_count": 5,
   "id": "11ba09f4",
   "metadata": {},
   "outputs": [
    {
     "data": {
      "text/plain": [
       "['First Sheet', 'Sheet', 'Sheet1']"
      ]
     },
     "execution_count": 5,
     "metadata": {},
     "output_type": "execute_result"
    }
   ],
   "source": [
    "wb.sheetnames"
   ]
  },
  {
   "cell_type": "code",
   "execution_count": 6,
   "id": "1f4ce512",
   "metadata": {},
   "outputs": [
    {
     "data": {
      "text/plain": [
       "<Worksheet \"Middle Sheet\">"
      ]
     },
     "execution_count": 6,
     "metadata": {},
     "output_type": "execute_result"
    }
   ],
   "source": [
    "wb.create_sheet(index=2, title='Middle Sheet')"
   ]
  },
  {
   "cell_type": "code",
   "execution_count": 7,
   "id": "7b0a91ea",
   "metadata": {},
   "outputs": [
    {
     "data": {
      "text/plain": [
       "['First Sheet', 'Sheet', 'Middle Sheet', 'Sheet1']"
      ]
     },
     "execution_count": 7,
     "metadata": {},
     "output_type": "execute_result"
    }
   ],
   "source": [
    "wb.sheetnames"
   ]
  },
  {
   "cell_type": "code",
   "execution_count": 10,
   "id": "753d3aba",
   "metadata": {},
   "outputs": [],
   "source": [
    "del wb['Middle Sheet']\n",
    "del wb['Sheet1']"
   ]
  },
  {
   "cell_type": "code",
   "execution_count": 11,
   "id": "3961f385",
   "metadata": {},
   "outputs": [
    {
     "data": {
      "text/plain": [
       "['First Sheet', 'Sheet']"
      ]
     },
     "execution_count": 11,
     "metadata": {},
     "output_type": "execute_result"
    }
   ],
   "source": [
    "wb.sheetnames"
   ]
  },
  {
   "cell_type": "markdown",
   "id": "50d94eef",
   "metadata": {},
   "source": [
    "### Writing Values to Cells"
   ]
  },
  {
   "cell_type": "code",
   "execution_count": 12,
   "id": "4d828afb",
   "metadata": {},
   "outputs": [
    {
     "data": {
      "text/plain": [
       "'Hello, World!'"
      ]
     },
     "execution_count": 12,
     "metadata": {},
     "output_type": "execute_result"
    }
   ],
   "source": [
    "import openpyxl\n",
    "\n",
    "wb = openpyxl.Workbook()\n",
    "sheet = wb['Sheet']\n",
    "sheet['A1'] = 'Hello, World!'  # Edit the cell's value.\n",
    "sheet['A1'].value"
   ]
  },
  {
   "cell_type": "markdown",
   "id": "a5e399ad",
   "metadata": {},
   "source": [
    "## Project: Updating a Spreadsheet"
   ]
  },
  {
   "cell_type": "code",
   "execution_count": 2,
   "id": "725fcb84",
   "metadata": {},
   "outputs": [],
   "source": [
    "# updateProduce - Corrects costs in produce sales spreadsheet.\n",
    "import openpyxl\n",
    "\n",
    "wb = openpyxl.load_workbook(\"automate-online-materials/produceSales.xlsx\")\n",
    "sheet = wb['Sheet']\n",
    "\n",
    "# The produce types and their updated prices\n",
    "PRICE_UPDATES = {'Garlic': 3.07, 'Celery': 1.19, 'Lemon': 1.27}\n",
    "\n",
    "# Loop through the rows and update the prices\n",
    "for rowNum in range(2, sheet.max_row):  # skip the first row\n",
    "    produceName = sheet.cell(row=rowNum, column=1).value\n",
    "    if produceName in PRICE_UPDATES:\n",
    "        sheet.cell(row=rowNum, column=2).value = PRICE_UPDATES[produceName]\n",
    "\n",
    "wb.save('updatedProduceSales.xlsx')"
   ]
  },
  {
   "cell_type": "markdown",
   "id": "0eeff770",
   "metadata": {},
   "source": [
    "### Ideas for Similar Programs\n",
    "\n",
    "- Read data from one spreadsheet and write it to parts of other spreadsheets.\n",
    "- Read data from websites, text files, or the clipboard and write it to a spreadsheet.\n",
    "- Automatically “clean up” data in spreadsheets. For example, it could use regular expressions to read multiple formats of phone numbers and edit them to a single, standard format."
   ]
  },
  {
   "cell_type": "markdown",
   "id": "df86e3cc",
   "metadata": {},
   "source": [
    "## Setting the Font Style of Cells"
   ]
  },
  {
   "cell_type": "code",
   "execution_count": 1,
   "id": "8ec619f9",
   "metadata": {},
   "outputs": [],
   "source": [
    "import openpyxl\n",
    "from openpyxl.styles import Font\n",
    "\n",
    "wb = openpyxl.Workbook()\n",
    "sheet = wb['Sheet']\n",
    "italic24Font = Font(size=24, italic=True)  # Create a font.\n",
    "sheet['A1'].font = italic24Font  # Apply the font to A1.\n",
    "sheet['A1'] = 'Hello, World!'\n",
    "wb.save(\"styles.xlsx\")"
   ]
  },
  {
   "cell_type": "markdown",
   "id": "0648385b",
   "metadata": {},
   "source": [
    "## Font Objects\n",
    "\n",
    "| **Keyword argument** | **Data type** | **Description** |\n",
    "| - | - | - |\n",
    "| *name* | String | The font name, such as `'Calibri'` or `'Times New Roman'`\n",
    "| *size* | Integer | The point size |\n",
    "| *bold* | Boolean | True, for bold font |\n",
    "| *italic*| Boolean| True, for italic font |"
   ]
  },
  {
   "cell_type": "code",
   "execution_count": 1,
   "id": "f4582e17",
   "metadata": {},
   "outputs": [],
   "source": [
    "import openpyxl\n",
    "from openpyxl.styles import Font\n",
    "\n",
    "wb = openpyxl.Workbook()\n",
    "sheet = wb['Sheet']\n",
    "\n",
    "fontObj1 = Font(name='Times New Roman', bold=True)\n",
    "sheet['A1'].font = fontObj1\n",
    "sheet['A1'] = 'Bold Times New Roman'\n",
    "\n",
    "fontObj2 = Font(size=24, italic=True)\n",
    "sheet['B3'] = '24 pt Italic'\n",
    "\n",
    "wb.save('styles.xlsx')"
   ]
  },
  {
   "cell_type": "markdown",
   "id": "77a8c013",
   "metadata": {},
   "source": [
    "![font_style.jpg](https://automatetheboringstuff.com/2e/images/000007.jpg)"
   ]
  },
  {
   "cell_type": "markdown",
   "id": "062db6a4",
   "metadata": {},
   "source": [
    "## Formulas"
   ]
  },
  {
   "cell_type": "code",
   "execution_count": null,
   "id": "07044457",
   "metadata": {},
   "outputs": [],
   "source": []
  }
 ],
 "metadata": {
  "kernelspec": {
   "display_name": "Python 3.10.5 64-bit",
   "language": "python",
   "name": "python3"
  },
  "language_info": {
   "codemirror_mode": {
    "name": "ipython",
    "version": 3
   },
   "file_extension": ".py",
   "mimetype": "text/x-python",
   "name": "python",
   "nbconvert_exporter": "python",
   "pygments_lexer": "ipython3",
   "version": "3.10.5"
  },
  "vscode": {
   "interpreter": {
    "hash": "2c7666c1320a956fa05893d10993164efa76d3af81fc7470d6f4943526f3df36"
   }
  }
 },
 "nbformat": 4,
 "nbformat_minor": 5
}
