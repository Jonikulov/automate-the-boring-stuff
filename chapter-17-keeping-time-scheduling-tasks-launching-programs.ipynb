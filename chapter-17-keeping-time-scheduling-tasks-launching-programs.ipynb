{
 "cells": [
  {
   "cell_type": "markdown",
   "id": "8fe5b251",
   "metadata": {},
   "source": [
    "# Chapter 17: KEEPING TIME, SCHEDULING TASKS, AND LAUNCHING PROGRAMS"
   ]
  },
  {
   "cell_type": "markdown",
   "id": "d7d385dc",
   "metadata": {},
   "source": [
    "## The time Module"
   ]
  },
  {
   "cell_type": "markdown",
   "id": "22ec9025",
   "metadata": {},
   "source": [
    "### The `time.time()` Function\n",
    "\n",
    "The `time.time()` function returns the number of seconds since that moment as a float value."
   ]
  },
  {
   "cell_type": "code",
   "execution_count": 4,
   "id": "4b052278",
   "metadata": {},
   "outputs": [
    {
     "data": {
      "text/plain": [
       "1672032751.5813851"
      ]
     },
     "execution_count": 4,
     "metadata": {},
     "output_type": "execute_result"
    }
   ],
   "source": [
    "import time\n",
    "\n",
    "time.time()"
   ]
  },
  {
   "cell_type": "markdown",
   "id": "c872aaa2",
   "metadata": {},
   "source": [
    "Time was: `December 26, 2022, 10:32 AM (UTC+5)`."
   ]
  },
  {
   "cell_type": "markdown",
   "id": "26045f01",
   "metadata": {},
   "source": [
    "Epoch timestamps can be used to *profile* code, that is, measure how long a piece of code takes to run. If you call `time.time()` at the beginning of the code block you want to measure and again at the end, you can subtract the first timestamp from the second to find the elapsed time between those two calls."
   ]
  },
  {
   "cell_type": "code",
   "execution_count": 19,
   "id": "ca2e9e27",
   "metadata": {},
   "outputs": [
    {
     "name": "stdout",
     "output_type": "stream",
     "text": [
      "The result is 456569 digits long.\n",
      "Took 2.547215223312378 seconds to calculate.\n"
     ]
    }
   ],
   "source": [
    "import sys\n",
    "sys.set_int_max_str_digits(1_000_000)\n",
    "\n",
    "import time\n",
    "\n",
    "def calcProd():\n",
    "    # Calculate the product of the first 100,000 numbers.\n",
    "    product = 1\n",
    "    for i in range(1, 100_000):\n",
    "        product *= i\n",
    "    return product\n",
    "\n",
    "startTime = time.time()\n",
    "prod = calcProd()\n",
    "endTime = time.time()\n",
    "print(f\"The result is {len(str(prod))} digits long.\")\n",
    "print(f\"Took {endTime - startTime} seconds to calculate.\")"
   ]
  },
  {
   "cell_type": "markdown",
   "id": "58c38cf0",
   "metadata": {},
   "source": [
    "The return value from `time.time()` is useful, but not human-readable. The `time.ctime()` function returns a string description of the current time. You can also optionally pass the number of seconds since the Unix epoch, as returned by `time.time()`, to get a string value of that time."
   ]
  },
  {
   "cell_type": "code",
   "execution_count": 22,
   "id": "58bf803a",
   "metadata": {},
   "outputs": [
    {
     "data": {
      "text/plain": [
       "'Mon Dec 26 10:49:50 2022'"
      ]
     },
     "execution_count": 22,
     "metadata": {},
     "output_type": "execute_result"
    }
   ],
   "source": [
    "import time\n",
    "\n",
    "time.ctime()"
   ]
  },
  {
   "cell_type": "code",
   "execution_count": 24,
   "id": "effd4543",
   "metadata": {},
   "outputs": [
    {
     "data": {
      "text/plain": [
       "'Mon Dec 26 10:50:13 2022'"
      ]
     },
     "execution_count": 24,
     "metadata": {},
     "output_type": "execute_result"
    }
   ],
   "source": [
    "thisMoment = time.time()\n",
    "time.ctime(thisMoment)"
   ]
  },
  {
   "cell_type": "markdown",
   "id": "ef549ce3",
   "metadata": {},
   "source": [
    "### The `time.sleep()` Function\n",
    "\n",
    "If you need to pause your program for a while, call the `time.sleep()` function and pass it the number of seconds you want your program to stay paused."
   ]
  },
  {
   "cell_type": "code",
   "execution_count": 28,
   "id": "22ffb3ff",
   "metadata": {},
   "outputs": [
    {
     "name": "stdout",
     "output_type": "stream",
     "text": [
      "Tick\n",
      "Tock\n",
      "Tick\n",
      "Tock\n",
      "Tick\n",
      "Tock\n"
     ]
    }
   ],
   "source": [
    "import time\n",
    "\n",
    "for i in range(3):\n",
    "    print('Tick')\n",
    "    time.sleep(1)\n",
    "    print('Tock')\n",
    "    time.sleep(1)"
   ]
  },
  {
   "cell_type": "markdown",
   "id": "4e5453bf",
   "metadata": {},
   "source": [
    "## Rounding Numbers\n",
    "\n",
    "To make float values easier to work with, you can shorten them with Python’s built-in `round()` function, which rounds a float to the precision you specify."
   ]
  },
  {
   "cell_type": "code",
   "execution_count": 30,
   "id": "d5d8f7f6",
   "metadata": {},
   "outputs": [
    {
     "data": {
      "text/plain": [
       "1672034115.9513366"
      ]
     },
     "execution_count": 30,
     "metadata": {},
     "output_type": "execute_result"
    }
   ],
   "source": [
    "import time\n",
    "\n",
    "now = time.time()\n",
    "now"
   ]
  },
  {
   "cell_type": "code",
   "execution_count": 31,
   "id": "616edb95",
   "metadata": {},
   "outputs": [
    {
     "data": {
      "text/plain": [
       "1672034115.95"
      ]
     },
     "execution_count": 31,
     "metadata": {},
     "output_type": "execute_result"
    }
   ],
   "source": [
    "round(now, 2)"
   ]
  },
  {
   "cell_type": "code",
   "execution_count": 32,
   "id": "67765f0d",
   "metadata": {},
   "outputs": [
    {
     "data": {
      "text/plain": [
       "1672034115.9513"
      ]
     },
     "execution_count": 32,
     "metadata": {},
     "output_type": "execute_result"
    }
   ],
   "source": [
    "round(now, 4)"
   ]
  },
  {
   "cell_type": "code",
   "execution_count": 33,
   "id": "d3ea6bbd",
   "metadata": {},
   "outputs": [
    {
     "data": {
      "text/plain": [
       "1672034116"
      ]
     },
     "execution_count": 33,
     "metadata": {},
     "output_type": "execute_result"
    }
   ],
   "source": [
    "round(now)"
   ]
  },
  {
   "cell_type": "markdown",
   "id": "dfbeceea",
   "metadata": {},
   "source": [
    "## Project: Super Stopwatch"
   ]
  },
  {
   "cell_type": "code",
   "execution_count": 36,
   "id": "6f0154a5",
   "metadata": {},
   "outputs": [
    {
     "name": "stdout",
     "output_type": "stream",
     "text": [
      "Press ENTER to begin. Afterward, press ENTER to \"click\" the stopwatch. Press Ctrl+C to quit.\n",
      "\n",
      "Started.\n",
      "\n",
      "Lap #1: 2.42 (2.42)\n",
      "Lap #2: 4.69 (2.28)\n",
      "Lap #3: 6.92 (2.22)\n",
      "Lap #4: 8.27 (1.35)\n",
      "Lap #5: 12.19 (3.92)\n",
      "Lap #6: 12.32 (0.13)\n",
      "Done.\n"
     ]
    }
   ],
   "source": [
    "# stopwatch.py - A simple stopwatch program.\n",
    "\n",
    "import time\n",
    "\n",
    "# Display the program's instructions.\n",
    "print('Press ENTER to begin. Afterward, press ENTER to \"click\" the stopwatch. Press Ctrl+C to quit.')\n",
    "input()  # Press ENTER to begin\n",
    "print('Started.')\n",
    "start_time = time.time()  # get the first lap's start time\n",
    "last_time = start_time\n",
    "lap_num = 1\n",
    "\n",
    "# Start tracking the lap times.\n",
    "try:\n",
    "    while True:\n",
    "        input()\n",
    "        lap_time = round(time.time() - last_time, 2)\n",
    "        total_time = round(time.time() - start_time, 2)\n",
    "        print(f'Lap #{lap_num}: {total_time} ({lap_time})', end=\"\")\n",
    "        lap_num += 1\n",
    "        last_time = time.time()  # reset the last lap time\n",
    "except KeyboardInterrupt:\n",
    "    # Handle the Ctrl+C exception to keep its error message from displaying.\n",
    "    print('\\nDone.')"
   ]
  },
  {
   "cell_type": "markdown",
   "id": "a67e1ddc",
   "metadata": {},
   "source": [
    "### Ideas for Similar Programs\n",
    "\n",
    "- Create a simple timesheet app that records when you type a person’s name and uses the current time to clock them in or out.\n",
    "- Add a feature to your program to display the elapsed time since a process started, such as a download that uses the `requests` module. (See Chapter 12.)\n",
    "- Intermittently check how long a program has been running and offer the user a chance to cancel tasks that are taking too long."
   ]
  },
  {
   "cell_type": "markdown",
   "id": "2c19fd0b",
   "metadata": {},
   "source": [
    "## The datetime Module\n",
    "\n",
    "The `datetime` module has its own `datetime` data type. datetime values represent a specific moment in time. "
   ]
  },
  {
   "cell_type": "code",
   "execution_count": 2,
   "id": "99444f58",
   "metadata": {},
   "outputs": [
    {
     "data": {
      "text/plain": [
       "datetime.datetime(2022, 12, 27, 10, 51, 20, 801051)"
      ]
     },
     "execution_count": 2,
     "metadata": {},
     "output_type": "execute_result"
    }
   ],
   "source": [
    "import datetime\n",
    "\n",
    "datetime.datetime.now()"
   ]
  },
  {
   "cell_type": "code",
   "execution_count": 3,
   "id": "310a2c7c",
   "metadata": {},
   "outputs": [
    {
     "data": {
      "text/plain": [
       "(2022, 12, 27)"
      ]
     },
     "execution_count": 3,
     "metadata": {},
     "output_type": "execute_result"
    }
   ],
   "source": [
    "dt = datetime.datetime(2022, 12, 27, 10, 51, 20, 801051)\n",
    "dt.year, dt.month, dt.day"
   ]
  },
  {
   "cell_type": "code",
   "execution_count": 8,
   "id": "9dbcb156",
   "metadata": {},
   "outputs": [
    {
     "data": {
      "text/plain": [
       "(10, 51, 20, 801051)"
      ]
     },
     "execution_count": 8,
     "metadata": {},
     "output_type": "execute_result"
    }
   ],
   "source": [
    "dt.hour, dt.minute, dt.second, dt.microsecond"
   ]
  },
  {
   "cell_type": "markdown",
   "id": "3cd5c428",
   "metadata": {},
   "source": [
    "A Unix epoch timestamp can be converted to a datetime object with the `datetime.datetime.fromtimestamp()` function. The date and time of the datetime object will be converted for the local time zone."
   ]
  },
  {
   "cell_type": "code",
   "execution_count": 9,
   "id": "858cb52e",
   "metadata": {},
   "outputs": [
    {
     "data": {
      "text/plain": [
       "datetime.datetime(1970, 1, 12, 19, 46, 40)"
      ]
     },
     "execution_count": 9,
     "metadata": {},
     "output_type": "execute_result"
    }
   ],
   "source": [
    "import time\n",
    "import datetime\n",
    "\n",
    "datetime.datetime.fromtimestamp(1_000_000)"
   ]
  },
  {
   "cell_type": "code",
   "execution_count": 12,
   "id": "b261732e",
   "metadata": {},
   "outputs": [
    {
     "data": {
      "text/plain": [
       "1672120575.7445722"
      ]
     },
     "execution_count": 12,
     "metadata": {},
     "output_type": "execute_result"
    }
   ],
   "source": [
    "time.time()"
   ]
  },
  {
   "cell_type": "code",
   "execution_count": 13,
   "id": "d88f4a95",
   "metadata": {},
   "outputs": [
    {
     "data": {
      "text/plain": [
       "datetime.datetime(2022, 12, 27, 10, 56, 15, 831389)"
      ]
     },
     "execution_count": 13,
     "metadata": {},
     "output_type": "execute_result"
    }
   ],
   "source": [
    "datetime.datetime.fromtimestamp(time.time())"
   ]
  },
  {
   "cell_type": "markdown",
   "id": "5218b74b",
   "metadata": {},
   "source": [
    "You can compare `datetime` objects with each other using comparison operators to find out which one precedes the other."
   ]
  },
  {
   "cell_type": "code",
   "execution_count": 17,
   "id": "5c18d744",
   "metadata": {},
   "outputs": [
    {
     "data": {
      "text/plain": [
       "True"
      ]
     },
     "execution_count": 17,
     "metadata": {},
     "output_type": "execute_result"
    }
   ],
   "source": [
    "halloween2019 = datetime.datetime(2019, 10, 31, 0, 0, 0)\n",
    "newyears2020 = datetime.datetime(2020, 1, 1, 0, 0, 0)\n",
    "oct_31_2019 = datetime.datetime(2019, 10, 31, 0, 0, 0)\n",
    "halloween2019 == oct_31_2019"
   ]
  },
  {
   "cell_type": "code",
   "execution_count": 20,
   "id": "d9fc222b",
   "metadata": {},
   "outputs": [
    {
     "data": {
      "text/plain": [
       "False"
      ]
     },
     "execution_count": 20,
     "metadata": {},
     "output_type": "execute_result"
    }
   ],
   "source": [
    "halloween2019 > newyears2020"
   ]
  },
  {
   "cell_type": "code",
   "execution_count": 21,
   "id": "cff6d8ee",
   "metadata": {},
   "outputs": [
    {
     "data": {
      "text/plain": [
       "True"
      ]
     },
     "execution_count": 21,
     "metadata": {},
     "output_type": "execute_result"
    }
   ],
   "source": [
    "newyears2020 > halloween2019"
   ]
  },
  {
   "cell_type": "code",
   "execution_count": 22,
   "id": "45f64fbf",
   "metadata": {},
   "outputs": [
    {
     "data": {
      "text/plain": [
       "True"
      ]
     },
     "execution_count": 22,
     "metadata": {},
     "output_type": "execute_result"
    }
   ],
   "source": [
    "newyears2020 != oct_31_2019"
   ]
  },
  {
   "cell_type": "markdown",
   "id": "3e2e3406",
   "metadata": {},
   "source": [
    "### The timedelta Data Type\n",
    "\n",
    "The `datetime` module also provides a `timedelta` data type, which represents a duration of time rather than a moment in time."
   ]
  },
  {
   "cell_type": "code",
   "execution_count": 23,
   "id": "c022be64",
   "metadata": {},
   "outputs": [
    {
     "data": {
      "text/plain": [
       "(11, 40148, 0)"
      ]
     },
     "execution_count": 23,
     "metadata": {},
     "output_type": "execute_result"
    }
   ],
   "source": [
    "delta = datetime.timedelta(days=11, hours=11, minutes=9, seconds=8)\n",
    "delta.days, delta.seconds, delta.microseconds"
   ]
  },
  {
   "cell_type": "code",
   "execution_count": 24,
   "id": "7083ae4d",
   "metadata": {},
   "outputs": [
    {
     "data": {
      "text/plain": [
       "990548.0"
      ]
     },
     "execution_count": 24,
     "metadata": {},
     "output_type": "execute_result"
    }
   ],
   "source": [
    "delta.total_seconds()"
   ]
  },
  {
   "cell_type": "code",
   "execution_count": 26,
   "id": "87abb393",
   "metadata": {},
   "outputs": [
    {
     "data": {
      "text/plain": [
       "datetime.timedelta(days=11, seconds=40148)"
      ]
     },
     "execution_count": 26,
     "metadata": {},
     "output_type": "execute_result"
    }
   ],
   "source": [
    "delta"
   ]
  },
  {
   "cell_type": "code",
   "execution_count": 27,
   "id": "b0893a10",
   "metadata": {
    "scrolled": true
   },
   "outputs": [
    {
     "data": {
      "text/plain": [
       "'11 days, 11:09:08'"
      ]
     },
     "execution_count": 27,
     "metadata": {},
     "output_type": "execute_result"
    }
   ],
   "source": [
    "str(delta)"
   ]
  },
  {
   "cell_type": "markdown",
   "id": "9ea87ec9",
   "metadata": {},
   "source": [
    "To create a `timedelta` object, use the `datetime.timedelta()` function. The `datetime.timedelta()` function takes keyword arguments `weeks`, `days`, `hours`, `minutes`, `seconds`, `milliseconds`, and `microseconds`. There is no `month` or `year` keyword argument, because “a month” or “a year” is a variable amount of time depending on the particular month or year. A `timedelta` object has the total duration represented in days, seconds, and microseconds. These numbers are stored in the `days`, `seconds`, and `microseconds` attributes, respectively. The `total_seconds()` method will return the duration in number of seconds alone. Passing a timedelta object to str() will return a nicely formatted, human-readable string representation of the object.\n",
    "\n",
    "The arithmetic operators can be used to perform *date arithmetic* on `datetime` values."
   ]
  },
  {
   "cell_type": "code",
   "execution_count": 28,
   "id": "9ef9f1a0",
   "metadata": {},
   "outputs": [],
   "source": [
    "dt = datetime.datetime.now()"
   ]
  },
  {
   "cell_type": "code",
   "execution_count": 34,
   "id": "1855cbe3",
   "metadata": {},
   "outputs": [
    {
     "data": {
      "text/plain": [
       "datetime.datetime(2022, 12, 27, 11, 11, 41, 649237)"
      ]
     },
     "execution_count": 34,
     "metadata": {},
     "output_type": "execute_result"
    }
   ],
   "source": [
    "dt = datetime.datetime.now()\n",
    "dt"
   ]
  },
  {
   "cell_type": "code",
   "execution_count": 35,
   "id": "7ef3d1a9",
   "metadata": {},
   "outputs": [
    {
     "data": {
      "text/plain": [
       "datetime.datetime(2025, 9, 22, 11, 11, 41, 649237)"
      ]
     },
     "execution_count": 35,
     "metadata": {},
     "output_type": "execute_result"
    }
   ],
   "source": [
    "thousandDays = datetime.timedelta(days=1000)\n",
    "dt + thousandDays"
   ]
  },
  {
   "cell_type": "markdown",
   "id": "8e1e34f1",
   "metadata": {},
   "source": [
    "`timedelta` objects can be added or subtracted with `datetime` objects or other `timedelta` objects using the `+` and `-` operators. A `timedelta` object can be multiplied or divided by integer or float values with the `*` and `/` operators."
   ]
  },
  {
   "cell_type": "code",
   "execution_count": 37,
   "id": "526dcc65",
   "metadata": {},
   "outputs": [
    {
     "data": {
      "text/plain": [
       "datetime.datetime(2019, 10, 21, 16, 29)"
      ]
     },
     "execution_count": 37,
     "metadata": {},
     "output_type": "execute_result"
    }
   ],
   "source": [
    "oct21 = datetime.datetime(2019, 10, 21, 16, 29, 0)\n",
    "aboutThirtyYears = datetime.timedelta(days = 365 * 30)\n",
    "oct21"
   ]
  },
  {
   "cell_type": "code",
   "execution_count": 38,
   "id": "72a00cf3",
   "metadata": {},
   "outputs": [
    {
     "data": {
      "text/plain": [
       "datetime.datetime(1989, 10, 28, 16, 29)"
      ]
     },
     "execution_count": 38,
     "metadata": {},
     "output_type": "execute_result"
    }
   ],
   "source": [
    "oct21 - aboutThirtyYears"
   ]
  },
  {
   "cell_type": "code",
   "execution_count": 39,
   "id": "b90f437a",
   "metadata": {},
   "outputs": [
    {
     "data": {
      "text/plain": [
       "datetime.datetime(1959, 11, 5, 16, 29)"
      ]
     },
     "execution_count": 39,
     "metadata": {},
     "output_type": "execute_result"
    }
   ],
   "source": [
    "oct21 - (2 * aboutThirtyYears)"
   ]
  },
  {
   "cell_type": "markdown",
   "id": "27858fd9",
   "metadata": {},
   "source": [
    "### Pausing Until a Specific Date\n",
    "\n",
    "The following code will continue to loop until Halloween 2023:"
   ]
  },
  {
   "cell_type": "code",
   "execution_count": 44,
   "id": "72f77678",
   "metadata": {},
   "outputs": [
    {
     "ename": "KeyboardInterrupt",
     "evalue": "",
     "output_type": "error",
     "traceback": [
      "\u001b[0;31m---------------------------------------------------------------------------\u001b[0m",
      "\u001b[0;31mKeyboardInterrupt\u001b[0m                         Traceback (most recent call last)",
      "Cell \u001b[0;32mIn[44], line 6\u001b[0m\n\u001b[1;32m      4\u001b[0m halloween2023 \u001b[38;5;241m=\u001b[39m datetime\u001b[38;5;241m.\u001b[39mdatetime(\u001b[38;5;241m2023\u001b[39m, \u001b[38;5;241m10\u001b[39m, \u001b[38;5;241m31\u001b[39m, \u001b[38;5;241m0\u001b[39m, \u001b[38;5;241m0\u001b[39m, \u001b[38;5;241m0\u001b[39m)\n\u001b[1;32m      5\u001b[0m \u001b[38;5;28;01mwhile\u001b[39;00m datetime\u001b[38;5;241m.\u001b[39mdatetime\u001b[38;5;241m.\u001b[39mnow() \u001b[38;5;241m<\u001b[39m halloween2023:\n\u001b[0;32m----> 6\u001b[0m     \u001b[43mtime\u001b[49m\u001b[38;5;241;43m.\u001b[39;49m\u001b[43msleep\u001b[49m\u001b[43m(\u001b[49m\u001b[38;5;241;43m1\u001b[39;49m\u001b[43m)\u001b[49m\n",
      "\u001b[0;31mKeyboardInterrupt\u001b[0m: "
     ]
    }
   ],
   "source": [
    "import datetime\n",
    "import time\n",
    "\n",
    "halloween2023 = datetime.datetime(2023, 10, 31, 0, 0, 0)\n",
    "while datetime.datetime.now() < halloween2023:\n",
    "    time.sleep(1)"
   ]
  },
  {
   "cell_type": "markdown",
   "id": "7bce2ba8",
   "metadata": {},
   "source": [
    "### Converting datetime Objects into Strings\n",
    "\n",
    "The `strftime()` method uses directives similar to Python’s string formatting. The table below has a full list of `strftime()` directives.\n",
    "\n",
    "**`strftime()` Directives**\n",
    "\n",
    "| strftime() directive | Meaning |\n",
    "| :- | :- |\n",
    "| %Y | Year with century, as in '2014' |\n",
    "| %y | Year without century, '00' to '99' (1970 to 2069) |\n",
    "| %m | Month as a decimal number, '01' to '12' |\n",
    "| %B | Full month name, as in 'November' |\n",
    "| %b | Abbreviated month name, as in 'Nov' |\n",
    "| %d | Day of the month, '01' to '31' |\n",
    "| %j | Day of the year, '001' to '366' |\n",
    "| %w | Day of the week, '0' (Sunday) to '6' (Saturday) |\n",
    "| %A | Full weekday name, as in 'Monday' |\n",
    "| %a | Abbreviated weekday name, as in 'Mon' |\n",
    "| %H | Hour (24-hour clock), '00' to '23' |\n",
    "| %I | Hour (12-hour clock), '01' to '12' |\n",
    "| %M | Minute, '00' to '59' |\n",
    "| %S | Second, '00' to '59' |\n",
    "| %p | 'AM' or 'PM' |\n",
    "| %% | Literal '%' character |"
   ]
  },
  {
   "cell_type": "code",
   "execution_count": 54,
   "id": "fc5d5aad",
   "metadata": {},
   "outputs": [
    {
     "data": {
      "text/plain": [
       "'2019/10/21 16:29:00'"
      ]
     },
     "execution_count": 54,
     "metadata": {},
     "output_type": "execute_result"
    }
   ],
   "source": [
    "oct21st = datetime.datetime(2019, 10, 21, 16, 29, 0)\n",
    "oct21st.strftime('%Y/%m/%d %H:%M:%S')"
   ]
  },
  {
   "cell_type": "code",
   "execution_count": 55,
   "id": "97840e12",
   "metadata": {},
   "outputs": [
    {
     "data": {
      "text/plain": [
       "'04:29 PM'"
      ]
     },
     "execution_count": 55,
     "metadata": {},
     "output_type": "execute_result"
    }
   ],
   "source": [
    "oct21st.strftime('%I:%M %p')"
   ]
  },
  {
   "cell_type": "code",
   "execution_count": 57,
   "id": "ef944857",
   "metadata": {},
   "outputs": [
    {
     "data": {
      "text/plain": [
       "\"October of '19\""
      ]
     },
     "execution_count": 57,
     "metadata": {},
     "output_type": "execute_result"
    }
   ],
   "source": [
    "oct21st.strftime(\"%B of '%y\")"
   ]
  },
  {
   "cell_type": "code",
   "execution_count": 80,
   "id": "05b07dd5",
   "metadata": {},
   "outputs": [
    {
     "data": {
      "text/plain": [
       "'12:22:20  Sunday, February 02, 2020'"
      ]
     },
     "execution_count": 80,
     "metadata": {},
     "output_type": "execute_result"
    }
   ],
   "source": [
    "datetime.datetime(2020, 2, 2, 12, 22, 20).strftime('%H:%M:%S  %A, %B %d, %Y')"
   ]
  },
  {
   "cell_type": "markdown",
   "id": "12eec686",
   "metadata": {},
   "source": [
    "### Converting Strings into datetime Objects\n",
    "\n",
    "If you have a string of date information, such as `'2019/10/21 16:29:00'` or '`October 21, 2019'`, and need to convert it to a `datetime` object, use the `datetime.datetime.strptime()` function."
   ]
  },
  {
   "cell_type": "code",
   "execution_count": 2,
   "id": "7bcc3b82",
   "metadata": {},
   "outputs": [
    {
     "data": {
      "text/plain": [
       "datetime.datetime(2019, 10, 21, 0, 0)"
      ]
     },
     "execution_count": 2,
     "metadata": {},
     "output_type": "execute_result"
    }
   ],
   "source": [
    "import datetime\n",
    "\n",
    "datetime.datetime.strptime('October 21, 2019', '%B %d, %Y')"
   ]
  },
  {
   "cell_type": "code",
   "execution_count": 3,
   "id": "349dc57a",
   "metadata": {},
   "outputs": [
    {
     "data": {
      "text/plain": [
       "datetime.datetime(2019, 10, 21, 16, 39)"
      ]
     },
     "execution_count": 3,
     "metadata": {},
     "output_type": "execute_result"
    }
   ],
   "source": [
    "datetime.datetime.strptime('2019/10/21 16:39:00', '%Y/%m/%d %H:%M:%S')"
   ]
  },
  {
   "cell_type": "code",
   "execution_count": 5,
   "id": "cd6ebe40",
   "metadata": {},
   "outputs": [
    {
     "data": {
      "text/plain": [
       "datetime.datetime(2019, 10, 1, 0, 0)"
      ]
     },
     "execution_count": 5,
     "metadata": {},
     "output_type": "execute_result"
    }
   ],
   "source": [
    "datetime.datetime.strptime(\"October of '19\", \"%B of '%y\")"
   ]
  },
  {
   "cell_type": "code",
   "execution_count": 6,
   "id": "40f75ba2",
   "metadata": {},
   "outputs": [
    {
     "data": {
      "text/plain": [
       "datetime.datetime(2063, 11, 1, 0, 0)"
      ]
     },
     "execution_count": 6,
     "metadata": {},
     "output_type": "execute_result"
    }
   ],
   "source": [
    "datetime.datetime.strptime(\"November of '63\", \"%B of '%y\")"
   ]
  },
  {
   "cell_type": "markdown",
   "id": "536eb71f",
   "metadata": {},
   "source": [
    "## Multithreading\n",
    "\n",
    "To introduce the concept of multithreading, let’s look at an example situation. Say you want to schedule some code to run after a delay or at a specific time."
   ]
  },
  {
   "cell_type": "code",
   "execution_count": 7,
   "id": "d783a1af",
   "metadata": {},
   "outputs": [
    {
     "ename": "KeyboardInterrupt",
     "evalue": "",
     "output_type": "error",
     "traceback": [
      "\u001b[0;31m---------------------------------------------------------------------------\u001b[0m",
      "\u001b[0;31mKeyboardInterrupt\u001b[0m                         Traceback (most recent call last)",
      "Cell \u001b[0;32mIn[7], line 6\u001b[0m\n\u001b[1;32m      4\u001b[0m start_time \u001b[38;5;241m=\u001b[39m datetime\u001b[38;5;241m.\u001b[39mdatetime(\u001b[38;5;241m2029\u001b[39m, \u001b[38;5;241m10\u001b[39m, \u001b[38;5;241m31\u001b[39m, \u001b[38;5;241m0\u001b[39m, \u001b[38;5;241m0\u001b[39m, \u001b[38;5;241m0\u001b[39m)\n\u001b[1;32m      5\u001b[0m \u001b[38;5;28;01mwhile\u001b[39;00m datetime\u001b[38;5;241m.\u001b[39mdatetime\u001b[38;5;241m.\u001b[39mnow() \u001b[38;5;241m<\u001b[39m start_time:\n\u001b[0;32m----> 6\u001b[0m     \u001b[43mtime\u001b[49m\u001b[38;5;241;43m.\u001b[39;49m\u001b[43msleep\u001b[49m\u001b[43m(\u001b[49m\u001b[38;5;241;43m1\u001b[39;49m\u001b[43m)\u001b[49m\n\u001b[1;32m      8\u001b[0m \u001b[38;5;28mprint\u001b[39m(\u001b[38;5;124m'\u001b[39m\u001b[38;5;124mProgram now starting on Halloween 2019\u001b[39m\u001b[38;5;124m'\u001b[39m)\n",
      "\u001b[0;31mKeyboardInterrupt\u001b[0m: "
     ]
    }
   ],
   "source": [
    "import time\n",
    "import datetime\n",
    "\n",
    "start_time = datetime.datetime(2029, 10, 31, 0, 0, 0)\n",
    "while datetime.datetime.now() < start_time:\n",
    "    time.sleep(1)\n",
    "\n",
    "print('Program now starting on Halloween 2019')"
   ]
  },
  {
   "cell_type": "markdown",
   "id": "5fa8f666",
   "metadata": {},
   "source": [
    "This code designates a start time of October 31, 2029, and keeps calling `time.sleep(1)` until the start time arrives. Your program cannot do anything while waiting for the loop of `time.sleep()` calls to finish; it just sits around until Halloween 2029. This is because Python programs by default have a single *thread* of execution."
   ]
  },
  {
   "cell_type": "code",
   "execution_count": 19,
   "id": "e563a30f",
   "metadata": {},
   "outputs": [
    {
     "name": "stdout",
     "output_type": "stream",
     "text": [
      "Start of program.\n",
      "End of program.\n",
      "Wake up!\n"
     ]
    }
   ],
   "source": [
    "import threading\n",
    "import time\n",
    "\n",
    "print('Start of program.')\n",
    "\n",
    "def takeNap():\n",
    "    time.sleep(5)\n",
    "    print('Wake up!')\n",
    "    \n",
    "threadObj = threading.Thread(target=takeNap)\n",
    "threadObj.start()\n",
    "\n",
    "print('End of program.')"
   ]
  },
  {
   "cell_type": "markdown",
   "id": "f19d9b47",
   "metadata": {},
   "source": [
    "### Passing Arguments to the Thread’s Target Function\n",
    "\n",
    "If the target function you want to run in the new thread takes arguments, you can pass the target function’s arguments to `threading.Thread()`."
   ]
  },
  {
   "cell_type": "code",
   "execution_count": 16,
   "id": "3299d577",
   "metadata": {},
   "outputs": [
    {
     "name": "stdout",
     "output_type": "stream",
     "text": [
      "Cats & Dogs & Frogs\n"
     ]
    }
   ],
   "source": [
    "print('Cats', 'Dogs', 'Frogs', sep=' & ')"
   ]
  },
  {
   "cell_type": "code",
   "execution_count": 1,
   "id": "1cfdafdc",
   "metadata": {},
   "outputs": [
    {
     "name": "stdout",
     "output_type": "stream",
     "text": [
      "Cats & Dogs & Frogs\n"
     ]
    }
   ],
   "source": [
    "import threading\n",
    "\n",
    "threadObj = threading.Thread(target=print, args=['Cats', 'Dogs', 'Frogs'], kwargs={'sep':' & '})\n",
    "threadObj.start()"
   ]
  },
  {
   "cell_type": "markdown",
   "id": "aba669d1",
   "metadata": {},
   "source": [
    "### Concurrency Issues\n",
    "\n",
    "To avoid concurrency issues, never let multiple threads read or write the same variables. When you create a new `Thread` object, make sure its target function uses only local variables in that function. This will avoid hard-to-debug concurrency issues in your programs."
   ]
  },
  {
   "cell_type": "markdown",
   "id": "461f6d4a",
   "metadata": {},
   "source": [
    "##  Project: Multithreaded XKCD Downloader"
   ]
  },
  {
   "cell_type": "code",
   "execution_count": 42,
   "id": "6f60fb09",
   "metadata": {
    "scrolled": true
   },
   "outputs": [
    {
     "name": "stdout",
     "output_type": "stream",
     "text": [
      "Downloading page https://xkcd.com/1\n",
      "Downloading page https://xkcd.com/11\n",
      "Downloading page https://xkcd.com/21\n",
      "Downloading page https://xkcd.com/31\n",
      "Downloading page https://xkcd.com/41\n",
      "Downloading page https://xkcd.com/51\n",
      "Downloading page https://xkcd.com/61\n",
      "Downloading page https://xkcd.com/71\n",
      "Downloading page https://xkcd.com/81\n",
      "Downloading page https://xkcd.com/91\n",
      "Downloading page https://xkcd.com/101\n",
      "Downloading page https://xkcd.com/111\n",
      "Downloading page https://xkcd.com/121\n",
      "Downloading page https://xkcd.com/131\n",
      "Downloading page https://xkcd.com/141\n",
      "Downloading page https://xkcd.com/92\n",
      "Downloading page https://xkcd.com/132\n",
      "Downloading page https://xkcd.com/122\n",
      "Downloading page https://xkcd.com/2\n",
      "Downloading page https://xkcd.com/82\n",
      "Downloading page https://xkcd.com/42\n",
      "Downloading page https://xkcd.com/112\n",
      "Downloading page https://xkcd.com/22\n",
      "Downloading page https://xkcd.com/62\n",
      "Downloading page https://xkcd.com/32\n",
      "Downloading page https://xkcd.com/12\n",
      "Downloading page https://xkcd.com/142\n",
      "Downloading page https://xkcd.com/123\n",
      "Downloading page https://xkcd.com/72\n",
      "Downloading page https://xkcd.com/102\n",
      "Downloading page https://xkcd.com/133\n",
      "Downloading page https://xkcd.com/83\n",
      "Downloading page https://xkcd.com/52\n",
      "Downloading page https://xkcd.com/3\n",
      "Downloading page https://xkcd.com/113\n",
      "Downloading page https://xkcd.com/93\n",
      "Downloading page https://xkcd.com/23\n",
      "Downloading page https://xkcd.com/143\n",
      "Downloading page https://xkcd.com/43\n",
      "Downloading page https://xkcd.com/63\n",
      "Downloading page https://xkcd.com/33\n",
      "Downloading page https://xkcd.com/13\n",
      "Downloading page https://xkcd.com/124\n",
      "Downloading page https://xkcd.com/73\n",
      "Downloading page https://xkcd.com/103\n",
      "Downloading page https://xkcd.com/84\n",
      "Downloading page https://xkcd.com/134\n",
      "Downloading page https://xkcd.com/4\n",
      "Downloading page https://xkcd.com/114\n",
      "Downloading page https://xkcd.com/53\n",
      "Downloading page https://xkcd.com/94\n",
      "Downloading page https://xkcd.com/144\n",
      "Downloading page https://xkcd.com/24\n",
      "Downloading page https://xkcd.com/64\n",
      "Downloading page https://xkcd.com/74\n",
      "Downloading page https://xkcd.com/34\n",
      "Downloading page https://xkcd.com/14\n",
      "Downloading page https://xkcd.com/44\n",
      "Downloading page https://xkcd.com/125\n",
      "Downloading page https://xkcd.com/104\n",
      "Downloading page https://xkcd.com/85\n",
      "Downloading page https://xkcd.com/135\n",
      "Downloading page https://xkcd.com/115\n",
      "Downloading page https://xkcd.com/54\n",
      "Downloading page https://xkcd.com/95\n",
      "Downloading page https://xkcd.com/5\n",
      "Downloading page https://xkcd.com/145\n",
      "Downloading page https://xkcd.com/75\n",
      "Downloading page https://xkcd.com/65\n",
      "Downloading page https://xkcd.com/15\n",
      "Downloading page https://xkcd.com/25\n",
      "Downloading page https://xkcd.com/126\n",
      "Downloading page https://xkcd.com/105\n",
      "Downloading page https://xkcd.com/45\n",
      "Downloading page https://xkcd.com/116\n",
      "Downloading page https://xkcd.com/86\n",
      "Downloading page https://xkcd.com/136\n",
      "Downloading page https://xkcd.com/96\n",
      "Downloading page https://xkcd.com/35\n",
      "Downloading page https://xkcd.com/6\n",
      "Downloading page https://xkcd.com/55\n",
      "Downloading page https://xkcd.com/76\n",
      "Downloading page https://xkcd.com/146\n",
      "Downloading page https://xkcd.com/127\n",
      "Downloading page https://xkcd.com/66\n",
      "Downloading page https://xkcd.com/106\n",
      "Downloading page https://xkcd.com/16\n",
      "Downloading page https://xkcd.com/26\n",
      "Downloading page https://xkcd.com/46\n",
      "Downloading page https://xkcd.com/117\n",
      "Downloading page https://xkcd.com/87\n",
      "Downloading page https://xkcd.com/97\n",
      "Downloading page https://xkcd.com/137\n",
      "Downloading page https://xkcd.com/36\n",
      "Downloading page https://xkcd.com/7\n",
      "Downloading page https://xkcd.com/147\n",
      "Downloading page https://xkcd.com/77\n",
      "Downloading page https://xkcd.com/56\n",
      "Downloading page https://xkcd.com/128\n",
      "Downloading page https://xkcd.com/107\n",
      "Downloading page https://xkcd.com/27\n",
      "Downloading page https://xkcd.com/67\n",
      "Downloading page https://xkcd.com/47\n",
      "Downloading page https://xkcd.com/17\n",
      "Downloading page https://xkcd.com/118\n",
      "Downloading page https://xkcd.com/88\n",
      "Downloading page https://xkcd.com/98\n",
      "Downloading page https://xkcd.com/138\n",
      "Downloading page https://xkcd.com/37\n",
      "Downloading page https://xkcd.com/8\n",
      "Downloading page https://xkcd.com/78\n",
      "Downloading page https://xkcd.com/129\n",
      "Downloading page https://xkcd.com/57\n",
      "Downloading page https://xkcd.com/108\n",
      "Downloading page https://xkcd.com/148\n",
      "Downloading page https://xkcd.com/68\n",
      "Downloading page https://xkcd.com/119\n",
      "Downloading page https://xkcd.com/89\n",
      "Downloading page https://xkcd.com/28\n",
      "Downloading page https://xkcd.com/99\n",
      "Downloading page https://xkcd.com/48\n",
      "Downloading page https://xkcd.com/139\n",
      "Downloading page https://xkcd.com/18\n",
      "Downloading page https://xkcd.com/79\n",
      "Downloading page https://xkcd.com/9\n",
      "Downloading page https://xkcd.com/38\n",
      "Downloading page https://xkcd.com/149\n",
      "Downloading page https://xkcd.com/109\n",
      "Downloading page https://xkcd.com/58\n",
      "Downloading page https://xkcd.com/69\n",
      "Downloading page https://xkcd.com/29\n",
      "Downloading page https://xkcd.com/49\n",
      "Downloading page https://xkcd.com/19\n",
      "Downloading page https://xkcd.com/39\n",
      "Downloading page https://xkcd.com/59\n",
      "Done.\n"
     ]
    }
   ],
   "source": [
    "# threadedDownloadXkcd - Downlaods XKCD comics using mulitple threads.\n",
    "\n",
    "import os\n",
    "import requests\n",
    "import bs4\n",
    "from pathlib import Path\n",
    "import threading\n",
    "\n",
    "os.makedirs('xkcd', exist_ok=True)  # store comics in ./xkcd\n",
    "\n",
    "def downloadXkcd(startComic, endComic):\n",
    "    for urlNum in range(startComic, endComic):\n",
    "        # Download the page.\n",
    "        print(f\"Downloading page https://xkcd.com/{urlNum}\")\n",
    "        res = requests.get(f\"https://xkcd.com/{urlNum}\")\n",
    "        res.raise_for_status()\n",
    "\n",
    "        soup = bs4.BeautifulSoup(res.text, 'lxml')\n",
    "        # Find the URL of the comic image.\n",
    "        comicElem = soup.select('#comic img')\n",
    "        if comicElem == []:\n",
    "            print('Could not find comic image.')\n",
    "        else:\n",
    "            comicUrl = comicElem[0].get('src')\n",
    "            # Download the image\n",
    "            res = requests.get('https:' + comicUrl)\n",
    "            res.raise_for_status()\n",
    "\n",
    "            # Save the image to ./xkcd\n",
    "            with open(Path('xkcd', Path(comicUrl).name), 'wb') as img:\n",
    "                img.write(res.content)\n",
    "\n",
    "# Create and start the Thread objects.\n",
    "downloadThreads = []  # a list of all the Thread objects\n",
    "for i in range(1, 151, 10):  # loops 15 times, creates 15 threads\n",
    "    start = i\n",
    "    end = i + 9\n",
    "    downloadThread = threading.Thread(target=downloadXkcd, args=(start, end))\n",
    "    downloadThreads.append(downloadThread)\n",
    "    downloadThread.start()\n",
    "\n",
    "# Wait for all threads to end.\n",
    "for downloadThread in downloadThreads:\n",
    "    downloadThread.join()\n",
    "\n",
    "print('Done.')"
   ]
  },
  {
   "cell_type": "markdown",
   "id": "d08158bf",
   "metadata": {},
   "source": [
    "## Launching Other Programs from Python"
   ]
  },
  {
   "cell_type": "code",
   "execution_count": 36,
   "id": "ef3b5202",
   "metadata": {},
   "outputs": [
    {
     "data": {
      "text/plain": [
       "<Popen: returncode: None args: '/mnt/c/Windows/System32/calc.exe'>"
      ]
     },
     "execution_count": 36,
     "metadata": {},
     "output_type": "execute_result"
    }
   ],
   "source": [
    "import subprocess\n",
    "\n",
    "subprocess.Popen(\"/mnt/c/Windows/System32/calc.exe\")"
   ]
  },
  {
   "cell_type": "markdown",
   "id": "d035f62e",
   "metadata": {},
   "source": [
    "The return value is a Popen object, which has two useful methods: `poll()` and `wait()`.\n",
    "\n",
    "You can think of the `poll()` method as asking your driver “Are we there yet?” over and over until you arrive. The `poll()` method will return `None` if the process is still running at the time `poll()` is called. If the program has terminated, it will return the process’s integer exit code. An *exit code* is used to indicate whether the process terminated without errors (an exit code of `0`) or whether an error caused the process to terminate (a nonzero exit code—generally 1, but it may vary depending on the program).\n",
    "\n",
    "The `wait()` method is like waiting until the driver has arrived at your destination. The `wait()` method will block until the launched process has terminated. This is helpful if you want your program to pause until the user finishes with the other program. The return value of `wait()` is the process’s integer exit code."
   ]
  },
  {
   "cell_type": "code",
   "execution_count": 29,
   "id": "b41abbe5",
   "metadata": {},
   "outputs": [],
   "source": [
    "import subprocess\n",
    "\n",
    "paintProc = subprocess.Popen(\"/mnt/c/Windows/System32/mspaint.exe\")  # open MS Paint"
   ]
  },
  {
   "cell_type": "code",
   "execution_count": 30,
   "id": "f787e0a3",
   "metadata": {},
   "outputs": [
    {
     "data": {
      "text/plain": [
       "True"
      ]
     },
     "execution_count": 30,
     "metadata": {},
     "output_type": "execute_result"
    }
   ],
   "source": [
    "paintProc.poll() == None  # check the process is still running"
   ]
  },
  {
   "cell_type": "code",
   "execution_count": 31,
   "id": "d15d2c9b",
   "metadata": {},
   "outputs": [
    {
     "data": {
      "text/plain": [
       "0"
      ]
     },
     "execution_count": 31,
     "metadata": {},
     "output_type": "execute_result"
    }
   ],
   "source": [
    "# wait() call will block until you quit the launched MS Paint program\n",
    "paintProc.wait()  # doesn't return until MS Paint closes"
   ]
  },
  {
   "cell_type": "code",
   "execution_count": 32,
   "id": "8a127fb9",
   "metadata": {},
   "outputs": [
    {
     "data": {
      "text/plain": [
       "0"
      ]
     },
     "execution_count": 32,
     "metadata": {},
     "output_type": "execute_result"
    }
   ],
   "source": [
    "paintProc.poll()"
   ]
  },
  {
   "cell_type": "markdown",
   "id": "0494a91a",
   "metadata": {},
   "source": [
    "Now `wait()` and `poll()` return `0`, indicating that the process terminated without errors."
   ]
  },
  {
   "cell_type": "markdown",
   "id": "182373fb",
   "metadata": {},
   "source": [
    "### Passing Command Line Arguments to the Popen() Function"
   ]
  },
  {
   "cell_type": "code",
   "execution_count": 2,
   "id": "ef100d37",
   "metadata": {},
   "outputs": [
    {
     "data": {
      "text/plain": [
       "<Popen: returncode: None args: ['/mnt/c/Windows/notepad.exe', '/mnt/d/GitHub...>"
      ]
     },
     "execution_count": 2,
     "metadata": {},
     "output_type": "execute_result"
    }
   ],
   "source": [
    "import subprocess\n",
    "\n",
    "subprocess.Popen([\"/mnt/c/Windows/notepad.exe\", \"/mnt/d/GitHub/hello.txt\"])"
   ]
  },
  {
   "cell_type": "markdown",
   "id": "8d247000",
   "metadata": {},
   "source": [
    "### Running Other Python Scripts"
   ]
  },
  {
   "cell_type": "code",
   "execution_count": 69,
   "id": "cbbdd349",
   "metadata": {},
   "outputs": [
    {
     "data": {
      "text/plain": [
       "<Popen: returncode: None args: ['/mnt/c/Users/javoh/AppData/Local/Programs/P...>"
      ]
     },
     "execution_count": 69,
     "metadata": {},
     "output_type": "execute_result"
    },
    {
     "name": "stdout",
     "output_type": "stream",
     "text": [
      "Hello, World!\r\n",
      "\u0007\r\n"
     ]
    }
   ],
   "source": [
    "import subprocess\n",
    "\n",
    "subprocess.Popen([\"/mnt/c/Users/YOUR_USERNAME/AppData/Local/Programs/Python/Python310/python.exe\",\n",
    "                  \"hello.py\"])"
   ]
  },
  {
   "cell_type": "markdown",
   "id": "0088fb80",
   "metadata": {},
   "source": [
    "### Opening Files with Default Applications"
   ]
  },
  {
   "cell_type": "code",
   "execution_count": 73,
   "id": "f2dd83d1",
   "metadata": {},
   "outputs": [],
   "source": [
    "with open(\"hello.txt\", 'w') as file:\n",
    "    file.write(\"Hello, World!\")"
   ]
  },
  {
   "cell_type": "code",
   "execution_count": 1,
   "id": "8e8b0dd7",
   "metadata": {},
   "outputs": [
    {
     "data": {
      "text/plain": [
       "<Popen: returncode: None args: ['notepad', 'hello.txt']>"
      ]
     },
     "execution_count": 1,
     "metadata": {},
     "output_type": "execute_result"
    }
   ],
   "source": [
    "import subprocess\n",
    "\n",
    "subprocess.Popen(['notepad', 'hello.txt'], shell=True)"
   ]
  },
  {
   "cell_type": "code",
   "execution_count": 83,
   "id": "2d26c139",
   "metadata": {},
   "outputs": [
    {
     "data": {
      "text/plain": [
       "<Popen: returncode: None args: ['python3', './hello.py']>"
      ]
     },
     "execution_count": 83,
     "metadata": {},
     "output_type": "execute_result"
    },
    {
     "name": "stdout",
     "output_type": "stream",
     "text": [
      "Hello, World!\n",
      "\u0007\n"
     ]
    }
   ],
   "source": [
    "subprocess.Popen(['python3', \"./hello.py\"])"
   ]
  },
  {
   "cell_type": "markdown",
   "id": "171d9378",
   "metadata": {},
   "source": [
    "## Project: Simple Countdown Program"
   ]
  },
  {
   "cell_type": "code",
   "execution_count": 1,
   "id": "0a1c580b",
   "metadata": {},
   "outputs": [
    {
     "name": "stdout",
     "output_type": "stream",
     "text": [
      "3 2 1 "
     ]
    },
    {
     "data": {
      "text/plain": [
       "<Popen: returncode: None args: ['start', 'alarm.wav']>"
      ]
     },
     "execution_count": 1,
     "metadata": {},
     "output_type": "execute_result"
    }
   ],
   "source": [
    "# countdown - A simple countdown script.\n",
    "import time\n",
    "import subprocess\n",
    "\n",
    "timeLeft = 3\n",
    "while timeLeft > 0:\n",
    "    print(timeLeft, end=\" \")\n",
    "    time.sleep(1)\n",
    "    timeLeft -= 1\n",
    "\n",
    "# At the end of the countdown, play a sound file\n",
    "subprocess.Popen(['start', \"alarm.wav\"], shell=True)"
   ]
  },
  {
   "cell_type": "markdown",
   "id": "2ee68bcd",
   "metadata": {},
   "source": [
    "### Ideas for Similar Programs\n",
    "\n",
    "- Use `time.sleep()` to give the user a chance to press CTRL-C to cancel an action, such as deleting files. Your program can print a “Press CTRL-C to cancel” message and then handle any KeyboardInterrupt exceptions with try and except statements.\n",
    "- For a long-term countdown, you can use `timedelta` objects to measure the number of days, hours, minutes, and seconds until some point (a birthday? an anniversary?) in the future."
   ]
  },
  {
   "cell_type": "code",
   "execution_count": null,
   "id": "f657242e",
   "metadata": {},
   "outputs": [],
   "source": []
  },
  {
   "cell_type": "markdown",
   "id": "63a56d9a",
   "metadata": {},
   "source": [
    "## Practice Projects"
   ]
  },
  {
   "cell_type": "markdown",
   "id": "453ad4a9",
   "metadata": {},
   "source": [
    "### Prettified Stopwatch\n",
    "\n",
    "Expand the stopwatch project from this chapter so that it uses the `rjust()` and `ljust()` string methods to “prettify” the output. (These methods were covered in Chapter 6.) Instead of output such as this:\n",
    "\n",
    "---\n",
    "Lap #1: 3.56 (3.56) \\\n",
    "Lap #2: 8.63 (5.07) \\\n",
    "Lap #3: 17.68 (9.05) \\\n",
    "Lap #4: 19.11 (1.43)\n",
    "\n",
    "---\n",
    ". . . the output will look like this:\n",
    "\n",
    "---\n",
    "Lap &nbsp; # 1: &nbsp;&nbsp;&nbsp; 3.56 &nbsp; (3.56) \\\n",
    "Lap &nbsp; # 2: &nbsp;&nbsp;&nbsp; 8.63 &nbsp; (5.07) \\\n",
    "Lap &nbsp; # 3: &nbsp; 17.68 &nbsp; (9.05) \\\n",
    "Lap &nbsp; # 4: &nbsp; 19.11 &nbsp; (1.43)\n",
    "\n",
    "---\n",
    "Note that you will need string versions of the `lapNum`, `lapTime`, and `totalTime` integer and float variables in order to call the string methods on them.\n",
    "\n",
    "Next, use the `pyperclip` module introduced in Chapter 6 to copy the text output to the clipboard so the user can quickly paste the output to a text file or email.\n"
   ]
  },
  {
   "cell_type": "code",
   "execution_count": null,
   "id": "7bc63407",
   "metadata": {},
   "outputs": [],
   "source": []
  },
  {
   "cell_type": "markdown",
   "id": "d52b9f42",
   "metadata": {},
   "source": [
    "### Scheduled Web Comic Downloader\n",
    "\n",
    "Write a program that checks the websites of several web comics and automatically downloads the images if the comic was updated since the program’s last visit. Your operating system’s scheduler (Scheduled Tasks on Windows, launchd on macOS, and cron on Linux) can run your Python program once a day. The Python program itself can download the comic and then copy it to your desktop so that it is easy to find. This will free you from having to check the website yourself to see whether it has updated. (A list of web comics is available at https://nostarch.com/automatestuff2/.)"
   ]
  },
  {
   "cell_type": "code",
   "execution_count": null,
   "id": "ca9419a7",
   "metadata": {},
   "outputs": [],
   "source": []
  }
 ],
 "metadata": {
  "kernelspec": {
   "display_name": "Python 3 (ipykernel)",
   "language": "python",
   "name": "python3"
  },
  "language_info": {
   "codemirror_mode": {
    "name": "ipython",
    "version": 3
   },
   "file_extension": ".py",
   "mimetype": "text/x-python",
   "name": "python",
   "nbconvert_exporter": "python",
   "pygments_lexer": "ipython3",
   "version": "3.9.15"
  },
  "vscode": {
   "interpreter": {
    "hash": "2c7666c1320a956fa05893d10993164efa76d3af81fc7470d6f4943526f3df36"
   }
  }
 },
 "nbformat": 4,
 "nbformat_minor": 5
}
