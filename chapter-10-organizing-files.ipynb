{
 "cells": [
  {
   "cell_type": "markdown",
   "id": "dbdc6aa6",
   "metadata": {},
   "source": [
    "# Chapter 10: ORGANIZING FILES"
   ]
  },
  {
   "cell_type": "markdown",
   "id": "3fa9dfaa",
   "metadata": {},
   "source": [
    "## The `shutil` Module"
   ]
  },
  {
   "cell_type": "markdown",
   "id": "a00ed4a9",
   "metadata": {},
   "source": [
    "### Copying Files and Folders"
   ]
  },
  {
   "cell_type": "code",
   "execution_count": 26,
   "id": "7b7d454a",
   "metadata": {},
   "outputs": [],
   "source": [
    "import os\n",
    "import shutil\n",
    "from pathlib import Path"
   ]
  },
  {
   "cell_type": "code",
   "execution_count": 6,
   "id": "7f15d3b3",
   "metadata": {},
   "outputs": [
    {
     "name": "stdout",
     "output_type": "stream",
     "text": [
      "\u001b[0m\u001b[01;32mREADME.md\u001b[0m*                                     \u001b[01;32mdata.txt\u001b[0m*\r\n",
      "\u001b[01;32mchapter-06-manipulating-strings.ipynb\u001b[0m*         \u001b[34;42mfiles\u001b[0m/\r\n",
      "\u001b[01;32mchapter-09-paths-reading-writing-files.ipynb\u001b[0m*  \u001b[34;42mmy_folder\u001b[0m/\r\n",
      "\u001b[01;32mchapter-10-organizing-files.ipynb\u001b[0m*\r\n"
     ]
    }
   ],
   "source": [
    "ls"
   ]
  },
  {
   "cell_type": "markdown",
   "id": "914c7d03",
   "metadata": {},
   "source": [
    "`shutil.copy(`**`file, destination`**`)`\n",
    "\n",
    "copy a single file to the folder at the path *destination*"
   ]
  },
  {
   "cell_type": "code",
   "execution_count": 3,
   "id": "2616c879",
   "metadata": {},
   "outputs": [
    {
     "data": {
      "text/plain": [
       "'my_folder/data.txt'"
      ]
     },
     "execution_count": 3,
     "metadata": {},
     "output_type": "execute_result"
    }
   ],
   "source": [
    "shutil.copy(\"data.txt\", \"my_folder\")"
   ]
  },
  {
   "cell_type": "markdown",
   "id": "0862bf1c",
   "metadata": {},
   "source": [
    "`shutil.copytree(`**`files, destination`**`)`\n",
    "\n",
    "copy the folder at the path *source*, along with all of its files and subfolders, to the folder at the path *destination*."
   ]
  },
  {
   "cell_type": "code",
   "execution_count": 11,
   "id": "8061b43f",
   "metadata": {},
   "outputs": [
    {
     "data": {
      "text/plain": [
       "'backup_folder'"
      ]
     },
     "execution_count": 11,
     "metadata": {},
     "output_type": "execute_result"
    }
   ],
   "source": [
    "shutil.copytree(\"files\", \"backup_folder\")"
   ]
  },
  {
   "cell_type": "markdown",
   "id": "4ebbcce1",
   "metadata": {},
   "source": [
    "### Moving and Renaming Files and Folders"
   ]
  },
  {
   "cell_type": "markdown",
   "id": "d55b88d9",
   "metadata": {},
   "source": [
    "`shutil.move(`**`source, destination`**`)`\n",
    "\n",
    "Recursively move a file or directory to another location. This is similar to the Unix \"mv\" command. Return the file or directory's destination."
   ]
  },
  {
   "cell_type": "code",
   "execution_count": 25,
   "id": "6382c6e0",
   "metadata": {},
   "outputs": [
    {
     "data": {
      "text/plain": [
       "'new_data.txt'"
      ]
     },
     "execution_count": 25,
     "metadata": {},
     "output_type": "execute_result"
    }
   ],
   "source": [
    "shutil.move(\"data.txt\", \"new_data.txt\")"
   ]
  },
  {
   "cell_type": "code",
   "execution_count": 12,
   "id": "1e2c81e3",
   "metadata": {},
   "outputs": [
    {
     "data": {
      "text/plain": [
       "'files/data.txt'"
      ]
     },
     "execution_count": 12,
     "metadata": {},
     "output_type": "execute_result"
    }
   ],
   "source": [
    "shutil.move(\"data.txt\", \"files\")"
   ]
  },
  {
   "cell_type": "code",
   "execution_count": 20,
   "id": "4948ebd2",
   "metadata": {},
   "outputs": [
    {
     "data": {
      "text/plain": [
       "'new_folder'"
      ]
     },
     "execution_count": 20,
     "metadata": {},
     "output_type": "execute_result"
    }
   ],
   "source": [
    "shutil.move(\"files\", \"new_folder\")"
   ]
  },
  {
   "cell_type": "markdown",
   "id": "fe7c4c4e",
   "metadata": {},
   "source": [
    "### Permanently Deleting Files and Folders"
   ]
  },
  {
   "cell_type": "code",
   "execution_count": 32,
   "id": "74c54c9c",
   "metadata": {},
   "outputs": [],
   "source": [
    "os.remove(\"temp_data.txt\")  # Remove a file (same as unlink())."
   ]
  },
  {
   "cell_type": "code",
   "execution_count": 35,
   "id": "a5f6415b",
   "metadata": {},
   "outputs": [],
   "source": [
    "os.rmdir(\"this_empty_folder\")  # Remove a directory. Directory must be empty."
   ]
  },
  {
   "cell_type": "code",
   "execution_count": 36,
   "id": "70704ad1",
   "metadata": {},
   "outputs": [],
   "source": [
    "# Recursively delete a directory tree.\n",
    "shutil.rmtree(\"my_folder\")"
   ]
  },
  {
   "cell_type": "markdown",
   "id": "89780329",
   "metadata": {},
   "source": [
    "### Safe Deletes with the `send2trash` Module"
   ]
  },
  {
   "cell_type": "markdown",
   "id": "eee73d21",
   "metadata": {},
   "source": [
    "**`send2trash`** sends *folders and files* to computer’s trash or recycle bin instead of permanently deleting them."
   ]
  },
  {
   "cell_type": "code",
   "execution_count": 37,
   "id": "9ed9555c",
   "metadata": {},
   "outputs": [
    {
     "name": "stdout",
     "output_type": "stream",
     "text": [
      "Requirement already satisfied: send2trash in /home/javohir/anaconda3/lib/python3.9/site-packages (1.8.0)\r\n"
     ]
    }
   ],
   "source": [
    "!pip install send2trash"
   ]
  },
  {
   "cell_type": "code",
   "execution_count": 43,
   "id": "ad87d551",
   "metadata": {},
   "outputs": [],
   "source": [
    "from send2trash import send2trash\n",
    "import send2trash"
   ]
  },
  {
   "cell_type": "code",
   "execution_count": 47,
   "id": "8676fe71",
   "metadata": {},
   "outputs": [],
   "source": [
    "send2trash.send2trash(\"my_data\")"
   ]
  },
  {
   "cell_type": "markdown",
   "id": "27be76f4",
   "metadata": {},
   "source": [
    "**Note** that the `send2trash()` function can only send files to the recycle bin; it cannot pull files out of it."
   ]
  },
  {
   "cell_type": "markdown",
   "id": "994b0032",
   "metadata": {},
   "source": [
    "## Walking a Directory Tree"
   ]
  },
  {
   "cell_type": "code",
   "execution_count": null,
   "id": "79594bd3",
   "metadata": {},
   "outputs": [],
   "source": []
  }
 ],
 "metadata": {
  "kernelspec": {
   "display_name": "Python 3 (ipykernel)",
   "language": "python",
   "name": "python3"
  },
  "language_info": {
   "codemirror_mode": {
    "name": "ipython",
    "version": 3
   },
   "file_extension": ".py",
   "mimetype": "text/x-python",
   "name": "python",
   "nbconvert_exporter": "python",
   "pygments_lexer": "ipython3",
   "version": "3.9.12"
  },
  "vscode": {
   "interpreter": {
    "hash": "2c7666c1320a956fa05893d10993164efa76d3af81fc7470d6f4943526f3df36"
   }
  }
 },
 "nbformat": 4,
 "nbformat_minor": 5
}
