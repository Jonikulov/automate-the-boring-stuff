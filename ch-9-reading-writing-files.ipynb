{
 "cells": [
  {
   "cell_type": "markdown",
   "id": "9b5b2591",
   "metadata": {},
   "source": [
    "# READING AND WRITING FILES"
   ]
  },
  {
   "cell_type": "markdown",
   "id": "12763f29",
   "metadata": {},
   "source": [
    "## Files and File Paths"
   ]
  },
  {
   "cell_type": "code",
   "execution_count": 4,
   "id": "4fd76f48",
   "metadata": {},
   "outputs": [],
   "source": [
    "import os\n",
    "from pathlib import Path"
   ]
  },
  {
   "cell_type": "markdown",
   "id": "8cdd5c6a",
   "metadata": {},
   "source": [
    "**Path** object works with any operating system"
   ]
  },
  {
   "cell_type": "code",
   "execution_count": 13,
   "id": "732b2914",
   "metadata": {},
   "outputs": [
    {
     "data": {
      "text/plain": [
       "WindowsPath('Disk/Folder/File')"
      ]
     },
     "execution_count": 13,
     "metadata": {},
     "output_type": "execute_result"
    }
   ],
   "source": [
    "path = Path(\"Disk\", \"Folder\", \"File\")\n",
    "path"
   ]
  },
  {
   "cell_type": "markdown",
   "id": "ebd8b9d2",
   "metadata": {},
   "source": [
    "#### Joining Paths"
   ]
  },
  {
   "cell_type": "code",
   "execution_count": 12,
   "id": "7b337f97",
   "metadata": {},
   "outputs": [
    {
     "data": {
      "text/plain": [
       "WindowsPath('Disk/Folder/File/new_file')"
      ]
     },
     "execution_count": 12,
     "metadata": {},
     "output_type": "execute_result"
    }
   ],
   "source": [
    "Path(path, \"new_file\")"
   ]
  },
  {
   "cell_type": "code",
   "execution_count": 15,
   "id": "0f01057b",
   "metadata": {},
   "outputs": [
    {
     "data": {
      "text/plain": [
       "WindowsPath('disk/some_folder/My_Files')"
      ]
     },
     "execution_count": 15,
     "metadata": {},
     "output_type": "execute_result"
    }
   ],
   "source": [
    "Path('disk') / Path('some_folder', 'My_Files')"
   ]
  },
  {
   "cell_type": "code",
   "execution_count": 16,
   "id": "18f482ed",
   "metadata": {},
   "outputs": [
    {
     "data": {
      "text/plain": [
       "WindowsPath('folder/dir1/files')"
      ]
     },
     "execution_count": 16,
     "metadata": {},
     "output_type": "execute_result"
    }
   ],
   "source": [
    "Path('folder') / Path('dir1/files')"
   ]
  },
  {
   "cell_type": "code",
   "execution_count": 18,
   "id": "b09d4ed1",
   "metadata": {},
   "outputs": [
    {
     "data": {
      "text/plain": [
       "WindowsPath('Mail/Inbox/Spam')"
      ]
     },
     "execution_count": 18,
     "metadata": {},
     "output_type": "execute_result"
    }
   ],
   "source": [
    "Path('Mail') / 'Inbox' / 'Spam'"
   ]
  },
  {
   "cell_type": "markdown",
   "id": "294f5c0e",
   "metadata": {},
   "source": [
    "#### Drive letter in Path"
   ]
  },
  {
   "cell_type": "code",
   "execution_count": 23,
   "id": "102e4dbe",
   "metadata": {},
   "outputs": [
    {
     "data": {
      "text/plain": [
       "WindowsPath('D:/PATH/folder')"
      ]
     },
     "execution_count": 23,
     "metadata": {},
     "output_type": "execute_result"
    }
   ],
   "source": [
    "Path(\"/mnt/d\", \"PATH\", \"folder\")  # Linux\n",
    "Path(\"D:/\", \"PATH\", \"folder\")  # Windows"
   ]
  },
  {
   "cell_type": "markdown",
   "id": "6f3cfa35",
   "metadata": {},
   "source": [
    "#### Current Working Directory"
   ]
  },
  {
   "cell_type": "code",
   "execution_count": 24,
   "id": "915ad9ef",
   "metadata": {},
   "outputs": [
    {
     "data": {
      "text/plain": [
       "WindowsPath('D:/GitHub Repos/coding/automate-with-python')"
      ]
     },
     "execution_count": 24,
     "metadata": {},
     "output_type": "execute_result"
    }
   ],
   "source": [
    "Path.cwd()"
   ]
  },
  {
   "cell_type": "code",
   "execution_count": 25,
   "id": "76fe849b",
   "metadata": {},
   "outputs": [
    {
     "data": {
      "text/plain": [
       "'D:\\\\GitHub Repos\\\\coding\\\\automate-with-python'"
      ]
     },
     "execution_count": 25,
     "metadata": {},
     "output_type": "execute_result"
    }
   ],
   "source": [
    "os.getcwd()"
   ]
  },
  {
   "cell_type": "markdown",
   "id": "1c25b133",
   "metadata": {},
   "source": [
    "#### Change Current Working Directory"
   ]
  },
  {
   "cell_type": "code",
   "execution_count": 34,
   "id": "b5be89ba",
   "metadata": {},
   "outputs": [
    {
     "data": {
      "text/plain": [
       "WindowsPath('D:/Software')"
      ]
     },
     "execution_count": 34,
     "metadata": {},
     "output_type": "execute_result"
    }
   ],
   "source": [
    "os.chdir(\"D:/Software\")\n",
    "\n",
    "Path.cwd()"
   ]
  },
  {
   "cell_type": "markdown",
   "id": "6da95905",
   "metadata": {},
   "source": [
    "#### The Home Directory"
   ]
  },
  {
   "cell_type": "code",
   "execution_count": 35,
   "id": "24063258",
   "metadata": {},
   "outputs": [
    {
     "data": {
      "text/plain": [
       "WindowsPath('C:/Users/javoh')"
      ]
     },
     "execution_count": 35,
     "metadata": {},
     "output_type": "execute_result"
    }
   ],
   "source": [
    "Path.home()"
   ]
  },
  {
   "cell_type": "markdown",
   "id": "1417757b",
   "metadata": {},
   "source": [
    "#### Create New Folders (Directories)"
   ]
  },
  {
   "cell_type": "code",
   "execution_count": 45,
   "id": "f3fc7102",
   "metadata": {},
   "outputs": [],
   "source": [
    "os.makedirs(Path(\"D:/\", \"FOLDER1\", 'sub_folder_1', 'again_folder!'))"
   ]
  },
  {
   "cell_type": "markdown",
   "id": "07f39079",
   "metadata": {},
   "source": [
    "#### Create Only One Directory"
   ]
  },
  {
   "cell_type": "code",
   "execution_count": 47,
   "id": "12649c4b",
   "metadata": {},
   "outputs": [],
   "source": [
    "Path(\"D:/\", \"temp_folder\").mkdir()"
   ]
  },
  {
   "cell_type": "markdown",
   "id": "afd9c535",
   "metadata": {},
   "source": [
    "#### Check Whether a Given Path is an Absolute Path"
   ]
  },
  {
   "cell_type": "code",
   "execution_count": 77,
   "id": "23dae477",
   "metadata": {},
   "outputs": [
    {
     "data": {
      "text/plain": [
       "True"
      ]
     },
     "execution_count": 77,
     "metadata": {},
     "output_type": "execute_result"
    }
   ],
   "source": [
    "Path(\"D:/GitHub Repos/coding/\").is_absolute()"
   ]
  },
  {
   "cell_type": "code",
   "execution_count": 78,
   "id": "30ce83c3",
   "metadata": {},
   "outputs": [
    {
     "data": {
      "text/plain": [
       "False"
      ]
     },
     "execution_count": 78,
     "metadata": {},
     "output_type": "execute_result"
    }
   ],
   "source": [
    "Path(\"/GitHub Repos/coding/\").is_absolute()"
   ]
  },
  {
   "cell_type": "code",
   "execution_count": 80,
   "id": "1b140825",
   "metadata": {},
   "outputs": [
    {
     "data": {
      "text/plain": [
       "True"
      ]
     },
     "execution_count": 80,
     "metadata": {},
     "output_type": "execute_result"
    }
   ],
   "source": [
    "os.path.isabs(\"F:/Hello/Path\")"
   ]
  },
  {
   "cell_type": "code",
   "execution_count": 82,
   "id": "e95a8314",
   "metadata": {},
   "outputs": [
    {
     "data": {
      "text/plain": [
       "False"
      ]
     },
     "execution_count": 82,
     "metadata": {},
     "output_type": "execute_result"
    }
   ],
   "source": [
    "os.path.isabs(\"directory/some_folder\")"
   ]
  },
  {
   "cell_type": "markdown",
   "id": "32c1411a",
   "metadata": {},
   "source": [
    "#### String of the Absolute Path of the Argument - convert a relative path into an absolute"
   ]
  },
  {
   "cell_type": "code",
   "execution_count": 85,
   "id": "ca5b34be",
   "metadata": {},
   "outputs": [
    {
     "data": {
      "text/plain": [
       "WindowsPath('Disk/Folder/File')"
      ]
     },
     "execution_count": 85,
     "metadata": {},
     "output_type": "execute_result"
    }
   ],
   "source": [
    "path"
   ]
  },
  {
   "cell_type": "code",
   "execution_count": 84,
   "id": "b7e8b661",
   "metadata": {},
   "outputs": [
    {
     "data": {
      "text/plain": [
       "'D:\\\\GitHub Repos\\\\coding\\\\automate-with-python\\\\Disk\\\\Folder\\\\File'"
      ]
     },
     "execution_count": 84,
     "metadata": {},
     "output_type": "execute_result"
    }
   ],
   "source": [
    "os.path.abspath(path)"
   ]
  },
  {
   "cell_type": "markdown",
   "id": "a63cc90e",
   "metadata": {},
   "source": [
    "#### String of a Relative Path from the `start` path to `path`\n",
    "*`os.path.relpath(`**`start, path`**`)`*"
   ]
  },
  {
   "cell_type": "code",
   "execution_count": 88,
   "id": "5b3e7c13",
   "metadata": {},
   "outputs": [
    {
     "data": {
      "text/plain": [
       "'path\\\\dir'"
      ]
     },
     "execution_count": 88,
     "metadata": {},
     "output_type": "execute_result"
    }
   ],
   "source": [
    "os.path.relpath('D:/path/dir', 'D:/')"
   ]
  },
  {
   "cell_type": "markdown",
   "id": "9dfefa12",
   "metadata": {},
   "source": [
    "#### Getting the Parts of a File Path"
   ]
  },
  {
   "cell_type": "code",
   "execution_count": 94,
   "id": "ce7decf5",
   "metadata": {},
   "outputs": [],
   "source": [
    "p = Path(\"D:/Folders/Pictures/nature.png\")"
   ]
  },
  {
   "cell_type": "code",
   "execution_count": 95,
   "id": "d0be799e",
   "metadata": {},
   "outputs": [
    {
     "data": {
      "text/plain": [
       "'D:\\\\'"
      ]
     },
     "execution_count": 95,
     "metadata": {},
     "output_type": "execute_result"
    }
   ],
   "source": [
    "p.anchor"
   ]
  },
  {
   "cell_type": "code",
   "execution_count": 96,
   "id": "52e1b8dc",
   "metadata": {},
   "outputs": [
    {
     "data": {
      "text/plain": [
       "'D:'"
      ]
     },
     "execution_count": 96,
     "metadata": {},
     "output_type": "execute_result"
    }
   ],
   "source": [
    "p.drive"
   ]
  },
  {
   "cell_type": "code",
   "execution_count": 97,
   "id": "5c89a180",
   "metadata": {},
   "outputs": [
    {
     "data": {
      "text/plain": [
       "('D:\\\\', 'Folders', 'Pictures', 'nature.png')"
      ]
     },
     "execution_count": 97,
     "metadata": {},
     "output_type": "execute_result"
    }
   ],
   "source": [
    "p.parts"
   ]
  },
  {
   "cell_type": "code",
   "execution_count": 98,
   "id": "95b68e3b",
   "metadata": {},
   "outputs": [
    {
     "data": {
      "text/plain": [
       "WindowsPath('D:/Folders/Pictures')"
      ]
     },
     "execution_count": 98,
     "metadata": {},
     "output_type": "execute_result"
    }
   ],
   "source": [
    "p.parent"
   ]
  },
  {
   "cell_type": "code",
   "execution_count": 107,
   "id": "bb1a9d5d",
   "metadata": {},
   "outputs": [
    {
     "data": {
      "text/plain": [
       "WindowsPath('D:/Folders/Pictures')"
      ]
     },
     "execution_count": 107,
     "metadata": {},
     "output_type": "execute_result"
    }
   ],
   "source": [
    "p.parents[0]"
   ]
  },
  {
   "cell_type": "code",
   "execution_count": 108,
   "id": "fa3212e7",
   "metadata": {},
   "outputs": [
    {
     "data": {
      "text/plain": [
       "WindowsPath('D:/')"
      ]
     },
     "execution_count": 108,
     "metadata": {},
     "output_type": "execute_result"
    }
   ],
   "source": [
    "p.parents[2]"
   ]
  },
  {
   "cell_type": "code",
   "execution_count": 109,
   "id": "6121f837",
   "metadata": {},
   "outputs": [
    {
     "data": {
      "text/plain": [
       "'\\\\'"
      ]
     },
     "execution_count": 109,
     "metadata": {},
     "output_type": "execute_result"
    }
   ],
   "source": [
    "p.root"
   ]
  },
  {
   "cell_type": "code",
   "execution_count": 110,
   "id": "5181a4b6",
   "metadata": {},
   "outputs": [
    {
     "data": {
      "text/plain": [
       "'nature.png'"
      ]
     },
     "execution_count": 110,
     "metadata": {},
     "output_type": "execute_result"
    }
   ],
   "source": [
    "p.name"
   ]
  },
  {
   "cell_type": "code",
   "execution_count": 111,
   "id": "5323427b",
   "metadata": {},
   "outputs": [
    {
     "data": {
      "text/plain": [
       "'nature'"
      ]
     },
     "execution_count": 111,
     "metadata": {},
     "output_type": "execute_result"
    }
   ],
   "source": [
    "p.stem"
   ]
  },
  {
   "cell_type": "code",
   "execution_count": 112,
   "id": "dbbac61f",
   "metadata": {},
   "outputs": [
    {
     "data": {
      "text/plain": [
       "'.png'"
      ]
     },
     "execution_count": 112,
     "metadata": {},
     "output_type": "execute_result"
    }
   ],
   "source": [
    "p.suffix"
   ]
  },
  {
   "cell_type": "code",
   "execution_count": 113,
   "id": "095da2a8",
   "metadata": {},
   "outputs": [
    {
     "data": {
      "text/plain": [
       "['.png']"
      ]
     },
     "execution_count": 113,
     "metadata": {},
     "output_type": "execute_result"
    }
   ],
   "source": [
    "p.suffixes"
   ]
  },
  {
   "cell_type": "markdown",
   "id": "9c3241e2",
   "metadata": {},
   "source": [
    "#### Finding File Sizes and Folder Contents"
   ]
  },
  {
   "cell_type": "markdown",
   "id": "dda2453b",
   "metadata": {},
   "source": [
    "**`os.path.getsize`** this will return the size in bytes of the file"
   ]
  },
  {
   "cell_type": "code",
   "execution_count": 115,
   "id": "ab296590",
   "metadata": {},
   "outputs": [
    {
     "data": {
      "text/plain": [
       "168448"
      ]
     },
     "execution_count": 115,
     "metadata": {},
     "output_type": "execute_result"
    }
   ],
   "source": [
    "os.path.getsize(\"D:/Software/NewFolderWizard.exe\")"
   ]
  },
  {
   "cell_type": "markdown",
   "id": "34dc5fd9",
   "metadata": {},
   "source": [
    "**`os.listdir`** will return a list of filename strings"
   ]
  },
  {
   "cell_type": "code",
   "execution_count": 119,
   "id": "9f724592",
   "metadata": {},
   "outputs": [
    {
     "data": {
      "text/plain": [
       "['antivirus-update.py',\n",
       " 'pi-million-digits-no-space.txt',\n",
       " 'pi-million-digits.txt',\n",
       " 'regex-corey-schafer.py',\n",
       " 'space-correction',\n",
       " 'wordlist-10000-mit.txt']"
      ]
     },
     "execution_count": 119,
     "metadata": {},
     "output_type": "execute_result"
    }
   ],
   "source": [
    "os.listdir(\"D:/GitHub Repos/coding/ARCHIVE\")"
   ]
  },
  {
   "cell_type": "code",
   "execution_count": 123,
   "id": "6234d320",
   "metadata": {},
   "outputs": [
    {
     "name": "stdout",
     "output_type": "stream",
     "text": [
      "2108634 bytes = 2059.21 KB\n"
     ]
    }
   ],
   "source": [
    "total_size = 0\n",
    "folder_path = \"D:/GitHub Repos/coding/ARCHIVE\"\n",
    "for filename in os.listdir(folder_path):\n",
    "    total_size += os.path.getsize(folder_path / Path(filename))\n",
    "\n",
    "print(f\"{total_size} bytes = {total_size/1024:.2f} KB\")"
   ]
  },
  {
   "cell_type": "code",
   "execution_count": null,
   "id": "a2a4e7a3",
   "metadata": {},
   "outputs": [],
   "source": []
  }
 ],
 "metadata": {
  "kernelspec": {
   "display_name": "Python 3 (ipykernel)",
   "language": "python",
   "name": "python3"
  },
  "language_info": {
   "codemirror_mode": {
    "name": "ipython",
    "version": 3
   },
   "file_extension": ".py",
   "mimetype": "text/x-python",
   "name": "python",
   "nbconvert_exporter": "python",
   "pygments_lexer": "ipython3",
   "version": "3.10.5"
  }
 },
 "nbformat": 4,
 "nbformat_minor": 5
}
