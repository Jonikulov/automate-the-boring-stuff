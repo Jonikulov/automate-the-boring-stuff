{
 "cells": [
  {
   "cell_type": "markdown",
   "id": "dbdc6aa6",
   "metadata": {},
   "source": [
    "# Chapter 11: DEBUGGING"
   ]
  },
  {
   "cell_type": "markdown",
   "id": "3fa9dfaa",
   "metadata": {},
   "source": [
    "## Raising Exceptions\n",
    "\n",
    "Raising an exception is a way of saying, “Stop running the code in this function and move the program execution to the `except` statement.”"
   ]
  },
  {
   "cell_type": "code",
   "execution_count": 3,
   "id": "25dc98a7",
   "metadata": {},
   "outputs": [
    {
     "ename": "Exception",
     "evalue": "This is the error message.",
     "output_type": "error",
     "traceback": [
      "\u001b[0;31m---------------------------------------------------------------------------\u001b[0m",
      "\u001b[0;31mException\u001b[0m                                 Traceback (most recent call last)",
      "Cell \u001b[0;32mIn [3], line 1\u001b[0m\n\u001b[0;32m----> 1\u001b[0m \u001b[38;5;28;01mraise\u001b[39;00m \u001b[38;5;167;01mException\u001b[39;00m(\u001b[38;5;124m\"\u001b[39m\u001b[38;5;124mThis is the error message.\u001b[39m\u001b[38;5;124m\"\u001b[39m)\n",
      "\u001b[0;31mException\u001b[0m: This is the error message."
     ]
    }
   ],
   "source": [
    "raise Exception(\"This is the error message.\")"
   ]
  },
  {
   "cell_type": "code",
   "execution_count": 9,
   "id": "a9b2a4cb",
   "metadata": {},
   "outputs": [
    {
     "name": "stdout",
     "output_type": "stream",
     "text": [
      "****\n",
      "*  *\n",
      "*  *\n",
      "****\n",
      "OOOOOOOOOOOOOOOOOOOOOOOOO\n",
      "O                       O\n",
      "O                       O\n",
      "O                       O\n",
      "OOOOOOOOOOOOOOOOOOOOOOOOO\n",
      "An exception happened: Width must be greater than 2.\n",
      "An exception happened: Symbol must be a single character string.\n"
     ]
    }
   ],
   "source": [
    "def boxPrint(symbol, width, height):\n",
    "    if len(symbol) != 1:\n",
    "        raise Exception(\"Symbol must be a single character string.\")\n",
    "    if width <= 2:\n",
    "        raise Exception(\"Width must be greater than 2.\")\n",
    "    if height <= 2:\n",
    "        raise Exception(\"Height must be greater than 2.\")\n",
    "        \n",
    "    print(symbol * width)\n",
    "    for i in range(height - 2):\n",
    "        print(symbol + (\" \" * (width - 2)) + symbol)\n",
    "    print(symbol * width)\n",
    "\n",
    "for sym, w, h in (('*', 4, 4), ('O', 25, 5), ('x', 1, 3), ('ZZ', 3, 3)):\n",
    "    try:\n",
    "        boxPrint(sym, w, h)\n",
    "    except Exception as err:\n",
    "        print(\"An exception happened:\", str(err))"
   ]
  },
  {
   "cell_type": "markdown",
   "id": "a00ed4a9",
   "metadata": {},
   "source": [
    "## Getting the Traceback as a String"
   ]
  },
  {
   "cell_type": "code",
   "execution_count": 11,
   "id": "ea0bcd2c",
   "metadata": {},
   "outputs": [
    {
     "ename": "Exception",
     "evalue": "This is the error message.",
     "output_type": "error",
     "traceback": [
      "\u001b[0;31m---------------------------------------------------------------------------\u001b[0m",
      "\u001b[0;31mException\u001b[0m                                 Traceback (most recent call last)",
      "Cell \u001b[0;32mIn [11], line 7\u001b[0m\n\u001b[1;32m      4\u001b[0m \u001b[38;5;28;01mdef\u001b[39;00m \u001b[38;5;21mbacon\u001b[39m():\n\u001b[1;32m      5\u001b[0m     \u001b[38;5;28;01mraise\u001b[39;00m \u001b[38;5;167;01mException\u001b[39;00m(\u001b[38;5;124m\"\u001b[39m\u001b[38;5;124mThis is the error message.\u001b[39m\u001b[38;5;124m\"\u001b[39m)\n\u001b[0;32m----> 7\u001b[0m spam()\n",
      "Cell \u001b[0;32mIn [11], line 2\u001b[0m, in \u001b[0;36mspam\u001b[0;34m()\u001b[0m\n\u001b[1;32m      1\u001b[0m \u001b[38;5;28;01mdef\u001b[39;00m \u001b[38;5;21mspam\u001b[39m():\n\u001b[0;32m----> 2\u001b[0m     \u001b[43mbacon\u001b[49m\u001b[43m(\u001b[49m\u001b[43m)\u001b[49m\n",
      "Cell \u001b[0;32mIn [11], line 5\u001b[0m, in \u001b[0;36mbacon\u001b[0;34m()\u001b[0m\n\u001b[1;32m      4\u001b[0m \u001b[38;5;28;01mdef\u001b[39;00m \u001b[38;5;21mbacon\u001b[39m():\n\u001b[0;32m----> 5\u001b[0m     \u001b[38;5;28;01mraise\u001b[39;00m \u001b[38;5;167;01mException\u001b[39;00m(\u001b[38;5;124m\"\u001b[39m\u001b[38;5;124mThis is the error message.\u001b[39m\u001b[38;5;124m\"\u001b[39m)\n",
      "\u001b[0;31mException\u001b[0m: This is the error message."
     ]
    }
   ],
   "source": [
    "def spam():\n",
    "    bacon()\n",
    "\n",
    "def bacon():\n",
    "    raise Exception(\"This is the error message.\")\n",
    "\n",
    "spam()"
   ]
  },
  {
   "cell_type": "markdown",
   "id": "69661a36",
   "metadata": {},
   "source": [
    "Instead of crashing your program right when an exception occurs, you can write the traceback information to a text file and keep your program running. You can look at the text file later, when you’re ready to debug your program."
   ]
  },
  {
   "cell_type": "code",
   "execution_count": 15,
   "id": "11f80627",
   "metadata": {},
   "outputs": [
    {
     "name": "stdout",
     "output_type": "stream",
     "text": [
      "The traceback info was written to errorInfo.txt.\n"
     ]
    }
   ],
   "source": [
    "import traceback\n",
    "\n",
    "try:\n",
    "    raise Exception(\"This is the error message.\")\n",
    "except:\n",
    "    with open(\"errorInfo.txt\", 'w') as errf:\n",
    "        errf.write(traceback.format_exc())\n",
    "    print(\"The traceback info was written to errorInfo.txt.\")"
   ]
  },
  {
   "cell_type": "code",
   "execution_count": 18,
   "id": "cd67ad27",
   "metadata": {},
   "outputs": [
    {
     "name": "stdout",
     "output_type": "stream",
     "text": [
      "Traceback (most recent call last):\r\n",
      "  File \"/tmp/ipykernel_197/2142403542.py\", line 4, in <module>\r\n",
      "    raise Exception(\"This is the error message.\")\r\n",
      "Exception: This is the error message.\r\n"
     ]
    }
   ],
   "source": [
    "# see errorInfo.txt file\n",
    "!cat errorInfo.txt"
   ]
  },
  {
   "cell_type": "markdown",
   "id": "7e81a238",
   "metadata": {},
   "source": [
    "## Assertions\n",
    "\n",
    "In plain English, an `assert` statement says, “I assert that the condition holds true, and if not, there is a bug somewhere, so immediately stop the program.”"
   ]
  },
  {
   "cell_type": "code",
   "execution_count": 5,
   "id": "f1b0fb8c",
   "metadata": {
    "scrolled": true
   },
   "outputs": [
    {
     "data": {
      "text/plain": [
       "[15, 17, 22, 26, 47, 54, 57, 73, 80, 92]"
      ]
     },
     "execution_count": 5,
     "metadata": {},
     "output_type": "execute_result"
    }
   ],
   "source": [
    "ages = [26, 57, 92, 54, 22, 15, 17, 80, 47, 73]\n",
    "ages.sort()\n",
    "ages"
   ]
  },
  {
   "cell_type": "code",
   "execution_count": 6,
   "id": "88689ca0",
   "metadata": {},
   "outputs": [],
   "source": [
    "assert ages[0] <= ages[-1]  # Assert that the first age is <= the last age."
   ]
  },
  {
   "cell_type": "code",
   "execution_count": 7,
   "id": "a6a5ec34",
   "metadata": {},
   "outputs": [
    {
     "data": {
      "text/plain": [
       "[73, 47, 80, 17, 15, 22, 54, 92, 57, 26]"
      ]
     },
     "execution_count": 7,
     "metadata": {},
     "output_type": "execute_result"
    }
   ],
   "source": [
    "ages = [26, 57, 92, 54, 22, 15, 17, 80, 47, 73]\n",
    "ages.reverse()\n",
    "ages"
   ]
  },
  {
   "cell_type": "code",
   "execution_count": 10,
   "id": "29b53107",
   "metadata": {},
   "outputs": [
    {
     "ename": "AssertionError",
     "evalue": "",
     "output_type": "error",
     "traceback": [
      "\u001b[0;31m---------------------------------------------------------------------------\u001b[0m",
      "\u001b[0;31mAssertionError\u001b[0m                            Traceback (most recent call last)",
      "Cell \u001b[0;32mIn [10], line 1\u001b[0m\n\u001b[0;32m----> 1\u001b[0m \u001b[38;5;28;01massert\u001b[39;00m ages[\u001b[38;5;241m0\u001b[39m] \u001b[38;5;241m<\u001b[39m\u001b[38;5;241m=\u001b[39m ages[\u001b[38;5;241m-\u001b[39m\u001b[38;5;241m1\u001b[39m]\n",
      "\u001b[0;31mAssertionError\u001b[0m: "
     ]
    }
   ],
   "source": [
    "assert ages[0] <= ages[-1]  # Assert that the first age is <= the last age."
   ]
  },
  {
   "cell_type": "markdown",
   "id": "30b95e85",
   "metadata": {},
   "source": [
    "### Using an Assertion in a Traffic Light Simulation\n",
    "\n",
    "Say you’re building a traffic light simulation program. The data structure representing the stoplights at an intersection is a dictionary with keys `'ns'` and `'ew'`, for the stoplights facing north-south and east-west, respectively. The values at these keys will be one of the strings `'green'`, `'yellow'`, or `'red'`. The"
   ]
  },
  {
   "cell_type": "code",
   "execution_count": 12,
   "id": "c18ea337",
   "metadata": {},
   "outputs": [],
   "source": [
    "market_2nd = {'ns': 'green', 'ew': 'red'}\n",
    "mission_16th = {'ns': 'red', 'ew': 'green'}"
   ]
  },
  {
   "cell_type": "code",
   "execution_count": 13,
   "id": "7ca6cd68",
   "metadata": {},
   "outputs": [
    {
     "ename": "AssertionError",
     "evalue": "Neither light is red! {'ns': 'yellow', 'ew': 'green'}",
     "output_type": "error",
     "traceback": [
      "\u001b[0;31m---------------------------------------------------------------------------\u001b[0m",
      "\u001b[0;31mAssertionError\u001b[0m                            Traceback (most recent call last)",
      "Cell \u001b[0;32mIn [13], line 12\u001b[0m\n\u001b[1;32m      8\u001b[0m             stoplight[key] \u001b[38;5;241m=\u001b[39m \u001b[38;5;124m'\u001b[39m\u001b[38;5;124mgreen\u001b[39m\u001b[38;5;124m'\u001b[39m\n\u001b[1;32m     10\u001b[0m     \u001b[38;5;28;01massert\u001b[39;00m \u001b[38;5;124m'\u001b[39m\u001b[38;5;124mred\u001b[39m\u001b[38;5;124m'\u001b[39m \u001b[38;5;129;01min\u001b[39;00m stoplight\u001b[38;5;241m.\u001b[39mvalues(), \u001b[38;5;124m'\u001b[39m\u001b[38;5;124mNeither light is red! \u001b[39m\u001b[38;5;124m'\u001b[39m \u001b[38;5;241m+\u001b[39m \u001b[38;5;28mstr\u001b[39m(stoplight)\n\u001b[0;32m---> 12\u001b[0m switchLights(market_2nd)\n",
      "Cell \u001b[0;32mIn [13], line 10\u001b[0m, in \u001b[0;36mswitchLights\u001b[0;34m(stoplight)\u001b[0m\n\u001b[1;32m      7\u001b[0m     \u001b[38;5;28;01melif\u001b[39;00m stoplight[key] \u001b[38;5;241m==\u001b[39m \u001b[38;5;124m'\u001b[39m\u001b[38;5;124mred\u001b[39m\u001b[38;5;124m'\u001b[39m:\n\u001b[1;32m      8\u001b[0m         stoplight[key] \u001b[38;5;241m=\u001b[39m \u001b[38;5;124m'\u001b[39m\u001b[38;5;124mgreen\u001b[39m\u001b[38;5;124m'\u001b[39m\n\u001b[0;32m---> 10\u001b[0m \u001b[38;5;28;01massert\u001b[39;00m \u001b[38;5;124m'\u001b[39m\u001b[38;5;124mred\u001b[39m\u001b[38;5;124m'\u001b[39m \u001b[38;5;129;01min\u001b[39;00m stoplight\u001b[38;5;241m.\u001b[39mvalues(), \u001b[38;5;124m'\u001b[39m\u001b[38;5;124mNeither light is red! \u001b[39m\u001b[38;5;124m'\u001b[39m \u001b[38;5;241m+\u001b[39m \u001b[38;5;28mstr\u001b[39m(stoplight)\n",
      "\u001b[0;31mAssertionError\u001b[0m: Neither light is red! {'ns': 'yellow', 'ew': 'green'}"
     ]
    }
   ],
   "source": [
    "def switchLights(stoplight):\n",
    "    for key in stoplight.keys():\n",
    "        if stoplight[key] == 'green':\n",
    "            stoplight[key] = 'yellow'\n",
    "        elif stoplight[key] == 'yellow':\n",
    "            stoplight[key] = 'red'\n",
    "        elif stoplight[key] == 'red':\n",
    "            stoplight[key] = 'green'\n",
    "\n",
    "    assert 'red' in stoplight.values(), 'Neither light is red! ' + str(stoplight)\n",
    "\n",
    "switchLights(market_2nd)"
   ]
  },
  {
   "cell_type": "code",
   "execution_count": 14,
   "id": "7e4509e7",
   "metadata": {},
   "outputs": [
    {
     "data": {
      "text/plain": [
       "{'ns': 'yellow', 'ew': 'green'}"
      ]
     },
     "execution_count": 14,
     "metadata": {},
     "output_type": "execute_result"
    }
   ],
   "source": [
    "market_2nd"
   ]
  },
  {
   "cell_type": "markdown",
   "id": "db7b800d",
   "metadata": {},
   "source": [
    "## Logging\n",
    "\n",
    "Logging is a great way to understand what’s happening in your program and in what order it’s happening. Python’s `logging` module makes it easy to create a record of custom messages that you write. These log messages will describe when the program execution has reached the logging function call and list any variables you have specified at that point in time. On the other hand, a missing log message indicates a part of the code was skipped and never executed."
   ]
  },
  {
   "cell_type": "markdown",
   "id": "8d86b1d4",
   "metadata": {},
   "source": [
    "### Using the logging Module"
   ]
  },
  {
   "cell_type": "code",
   "execution_count": 1,
   "id": "703649f1",
   "metadata": {},
   "outputs": [
    {
     "name": "stderr",
     "output_type": "stream",
     "text": [
      "2022-10-26 08:37:38,504 -  DEBUG-  Start of program\n",
      "2022-10-26 08:37:38,506 -  DEBUG-  Start of factorial(5%)\n",
      "2022-10-26 08:37:38,507 -  DEBUG-  i is 1, total is 1\n",
      "2022-10-26 08:37:38,509 -  DEBUG-  i is 2, total is 2\n",
      "2022-10-26 08:37:38,510 -  DEBUG-  i is 3, total is 6\n",
      "2022-10-26 08:37:38,511 -  DEBUG-  i is 4, total is 24\n",
      "2022-10-26 08:37:38,511 -  DEBUG-  i is 5, total is 120\n",
      "2022-10-26 08:37:38,513 -  DEBUG-  End of factorial(5%)\n",
      "2022-10-26 08:37:38,514 -  DEBUG-  End of program\n"
     ]
    },
    {
     "name": "stdout",
     "output_type": "stream",
     "text": [
      "120\n"
     ]
    }
   ],
   "source": [
    "import logging\n",
    "logging.basicConfig(level=logging.DEBUG, format='%(asctime)s -  %(levelname)s-  %(message)s')\n",
    "logging.debug('Start of program')\n",
    "\n",
    "def factorial(n):\n",
    "    logging.debug('Start of factorial(%s%%)'  % (n))\n",
    "    total = 1\n",
    "    for i in range(1, n + 1):\n",
    "        total *= i\n",
    "        logging.debug('i is ' + str(i) + ', total is ' + str(total))\n",
    "    logging.debug('End of factorial(%s%%)'  % (n))\n",
    "    return total\n",
    "\n",
    "print(factorial(5))\n",
    "logging.debug('End of program')"
   ]
  },
  {
   "cell_type": "markdown",
   "id": "8b0f3494",
   "metadata": {},
   "source": [
    "### Logging Levels\n",
    "\n",
    "Logging levels provide a way to categorize your log messages by importance. There are five logging levels, described in below from least to most important. Messages can be logged at each level using a different logging function.\n",
    "\n",
    "---\n",
    "**Level | Logging function | Description**\n",
    "\n",
    "- DEBUG - `logging.debug()` - The lowest level. Used for small details. Usually you care about these messages only when diagnosing problems.\n",
    "\n",
    "- INFO - `logging.info()` - Used to record information on general events in your program or confirm that things are working at their point in the program.\n",
    "\n",
    "- WARNING - `logging.warning()` - Used to indicate a potential problem that doesn’t prevent the program from working but might do so in the future.\n",
    "\n",
    "- ERROR - `logging.error()` - Used to record an error that caused the program to fail to do something.\n",
    "\n",
    "- CRITICAL - `logging.critical()` - The highest level. Used to indicate a fatal error that has caused or is about to cause the program to stop running entirely."
   ]
  },
  {
   "cell_type": "code",
   "execution_count": 8,
   "id": "dada9411",
   "metadata": {},
   "outputs": [],
   "source": [
    "import logging\n",
    "\n",
    "logging.basicConfig(level=logging.DEBUG, format=' %(asctime)s -%(levelname)s -  %(message)s')"
   ]
  },
  {
   "cell_type": "code",
   "execution_count": 9,
   "id": "1c0286f3",
   "metadata": {},
   "outputs": [
    {
     "name": "stderr",
     "output_type": "stream",
     "text": [
      "2022-10-26 09:05:31,702 -  DEBUG-  Some debug details.\n"
     ]
    }
   ],
   "source": [
    "logging.debug(\"Some debug details.\")"
   ]
  },
  {
   "cell_type": "code",
   "execution_count": 10,
   "id": "ff5587eb",
   "metadata": {},
   "outputs": [
    {
     "name": "stderr",
     "output_type": "stream",
     "text": [
      "2022-10-26 09:05:48,459 -  INFO-  The logging module is working.\n"
     ]
    }
   ],
   "source": [
    "logging.info(\"The logging module is working.\")"
   ]
  },
  {
   "cell_type": "code",
   "execution_count": 11,
   "id": "9fbc3d35",
   "metadata": {},
   "outputs": [
    {
     "name": "stderr",
     "output_type": "stream",
     "text": [
      "2022-10-26 09:06:49,436 -  WARNING-  An error message is about to be logged.\n"
     ]
    }
   ],
   "source": [
    "logging.warning(\"An error message is about to be logged.\")"
   ]
  },
  {
   "cell_type": "code",
   "execution_count": 12,
   "id": "bcf465b8",
   "metadata": {},
   "outputs": [
    {
     "name": "stderr",
     "output_type": "stream",
     "text": [
      "2022-10-26 09:07:05,933 -  ERROR-  An error has occured.\n"
     ]
    }
   ],
   "source": [
    "logging.error(\"An error has occured.\")"
   ]
  },
  {
   "cell_type": "code",
   "execution_count": 13,
   "id": "bb9b84ad",
   "metadata": {},
   "outputs": [
    {
     "name": "stderr",
     "output_type": "stream",
     "text": [
      "2022-10-26 09:07:19,785 -  CRITICAL-  The program is unable to recover!\n"
     ]
    }
   ],
   "source": [
    "logging.critical(\"The program is unable to recover!\")"
   ]
  },
  {
   "cell_type": "markdown",
   "id": "00ef9579",
   "metadata": {},
   "source": [
    "### Disabling Logging\n",
    "\n",
    "After you’ve debugged your program, you probably don’t want all these log messages cluttering the screen. The `logging.disable()` function disables these so that you don’t have to go into your program and remove all the logging calls by hand. You simply pass `logging.disable()` a logging level, and it will suppress all log messages at that level or lower. So if you want to disable logging entirely, just add `logging.disable(logging.CRITICAL)` to your program. "
   ]
  },
  {
   "cell_type": "code",
   "execution_count": 16,
   "id": "e92dd6d5",
   "metadata": {},
   "outputs": [
    {
     "name": "stderr",
     "output_type": "stream",
     "text": [
      "2022-10-26 09:14:08,609 -  CRITICAL-  Critical error! Critical error!\n"
     ]
    }
   ],
   "source": [
    "logging.critical('Critical error! Critical error!')"
   ]
  },
  {
   "cell_type": "code",
   "execution_count": 17,
   "id": "e8d3039c",
   "metadata": {},
   "outputs": [],
   "source": [
    "logging.disable(logging.CRITICAL)"
   ]
  },
  {
   "cell_type": "code",
   "execution_count": 18,
   "id": "3bbdf041",
   "metadata": {},
   "outputs": [],
   "source": [
    "logging.critical('Critical error! Critical error!')"
   ]
  },
  {
   "cell_type": "code",
   "execution_count": 19,
   "id": "d6a87772",
   "metadata": {},
   "outputs": [],
   "source": [
    "logging.error('Error! Error!')"
   ]
  },
  {
   "cell_type": "markdown",
   "id": "511a9066",
   "metadata": {},
   "source": [
    "### Logging to a File\n",
    "\n",
    "Instead of displaying the log messages to the screen, you can write them to a text file. The `logging.basicConfig()` function takes a `filename` keyword argument."
   ]
  },
  {
   "cell_type": "code",
   "execution_count": 39,
   "id": "4c0ea780",
   "metadata": {},
   "outputs": [],
   "source": [
    "import logging\n",
    "\n",
    "logging.basicConfig(filename='myProgramLog.txt', level=logging.DEBUG,\n",
    "                    format='%(asctime)s -  %(levelname)s -  %(message)s')"
   ]
  },
  {
   "cell_type": "markdown",
   "id": "787e9691",
   "metadata": {},
   "source": [
    "## Mu's Debugger\n",
    "\n",
    "The *debugger* is a feature of the Mu editor, IDLE, and other editor software that allows you to execute your program one line at a time. The debugger will run a single line of code and then wait for you to tell it to continue. By running your program “under the debugger” like this, you can take as much time as you want to examine the values in the variables at any given point during the program’s lifetime. This is a valuable tool for tracking down bugs.\n",
    "\n",
    "### Continue\n",
    "Clicking the Continue button will cause the program to execute normally until it terminates or reaches a breakpoint. (I will describe breakpoints later in this chapter.) If you are done debugging and want the program to continue normally, click the Continue button.\n",
    "\n",
    "### Step In\n",
    "Clicking the Step In button will cause the debugger to execute the next line of code and then pause again. If the next line of code is a function call, the debugger will “step into” that function and jump to the first line of code of that function.\n",
    "\n",
    "### Step Over\n",
    "Clicking the Step Over button will execute the next line of code, similar to the Step In button. However, if the next line of code is a function call, the Step Over button will “step over” the code in the function. The function’s code will be executed at full speed, and the debugger will pause as soon as the function call returns. For example, if the next line of code calls a spam() function but you don’t really care about code inside this function, you can click Step Over to execute the code in the function at normal speed, and then pause when the function returns. For this reason, using the Over button is more common than using the Step In button.\n",
    "\n",
    "### Step Out\n",
    "Clicking the Step Out button will cause the debugger to execute lines of code at full speed until it returns from the current function. If you have stepped into a function call with the Step In button and now simply want to keep executing instructions until you get back out, click the Out button to “step out” of the current function call.\n",
    "\n",
    "### Stop\n",
    "If you want to stop debugging entirely and not bother to continue executing the rest of the program, click the Stop button. The Stop button will immediately terminate the program."
   ]
  },
  {
   "cell_type": "markdown",
   "id": "77c1fc26",
   "metadata": {},
   "source": [
    "### Debugging a Number Adding Program"
   ]
  },
  {
   "cell_type": "code",
   "execution_count": 40,
   "id": "aec9d94a",
   "metadata": {},
   "outputs": [
    {
     "name": "stdout",
     "output_type": "stream",
     "text": [
      "Enter the first number to add:\n",
      "5\n",
      "Enter the second number to add:\n",
      "12\n",
      "Enter the third number to add:\n",
      "36\n",
      "The sum is 51236\n"
     ]
    }
   ],
   "source": [
    "# buggyAddingProgram\n",
    "print('Enter the first number to add:')\n",
    "first = input()\n",
    "print('Enter the second number to add:')\n",
    "second = input()\n",
    "print('Enter the third number to add:')\n",
    "third = input()\n",
    "print('The sum is ' + first + second + third)"
   ]
  },
  {
   "cell_type": "markdown",
   "id": "8782da61",
   "metadata": {},
   "source": [
    "### Breakpoints\n",
    "\n",
    "A *breakpoint* can be set on a specific line of code and forces the debugger to pause whenever the program execution reaches that line."
   ]
  },
  {
   "cell_type": "markdown",
   "id": "42359572",
   "metadata": {},
   "source": [
    "## Practice Project"
   ]
  },
  {
   "cell_type": "markdown",
   "id": "310296a9",
   "metadata": {},
   "source": [
    "### Debugging Coin Toss\n",
    "\n",
    "The following program is meant to be a simple coin toss guessing game. The player gets two guesses (it’s an easy game). However, the program has several bugs in it. Run through the program a few times to find the bugs that keep the program from working correctly."
   ]
  },
  {
   "cell_type": "code",
   "execution_count": 34,
   "id": "73aeb5d5",
   "metadata": {},
   "outputs": [
    {
     "name": "stdout",
     "output_type": "stream",
     "text": [
      "Guess the coin toss! Enter heads or tails:\n",
      "heads\n",
      "Nope! Guess again!\n",
      "tails\n",
      "Nope. You are really bad at this game.\n"
     ]
    }
   ],
   "source": [
    "# Coint Toss (buggy)\n",
    "import random\n",
    "\n",
    "guess = ''\n",
    "while guess not in ('heads', 'tails'):\n",
    "    print('Guess the coin toss! Enter heads or tails:')\n",
    "    guess = input()\n",
    "toss = random.randint(0, 1) # 0 is tails, 1 is heads\n",
    "if toss == guess:\n",
    "    print('You got it!')\n",
    "else:\n",
    "    print('Nope! Guess again!')\n",
    "    guesss = input()\n",
    "    if toss == guess:\n",
    "        print('You got it!')\n",
    "    else:\n",
    "        print('Nope. You are really bad at this game.')"
   ]
  },
  {
   "cell_type": "code",
   "execution_count": 38,
   "id": "9c6b2bb2",
   "metadata": {},
   "outputs": [
    {
     "name": "stdout",
     "output_type": "stream",
     "text": [
      "Guess the coin toss! Enter heads or tails:\n",
      "heads\n",
      "Nope! Guess again!\n",
      "tails\n",
      "You got it!\n"
     ]
    }
   ],
   "source": [
    "# Coint Toss (debugged)\n",
    "import random\n",
    "\n",
    "guess = ''\n",
    "while guess not in ('heads', 'tails'):\n",
    "    print('Guess the coin toss! Enter heads or tails:')\n",
    "    guess = input()\n",
    "\n",
    "coin_dict = {'heads':1, 'tails':0}  # ADDED\n",
    "toss = random.randint(0, 1)  # 0 is tails, 1 is heads\n",
    "if toss == coin_dict[guess]:\n",
    "    print('You got it!')\n",
    "else:\n",
    "    print('Nope! Guess again!')\n",
    "    guess = input()  # DEBUGGED\n",
    "    if toss == coin_dict[guess]:\n",
    "        print('You got it!')\n",
    "    else:\n",
    "        print('Nope. You are really bad at this game.')"
   ]
  }
 ],
 "metadata": {
  "kernelspec": {
   "display_name": "Python [conda env:root] *",
   "language": "python",
   "name": "conda-root-py"
  },
  "language_info": {
   "codemirror_mode": {
    "name": "ipython",
    "version": 3
   },
   "file_extension": ".py",
   "mimetype": "text/x-python",
   "name": "python",
   "nbconvert_exporter": "python",
   "pygments_lexer": "ipython3",
   "version": "3.9.13"
  }
 },
 "nbformat": 4,
 "nbformat_minor": 5
}
