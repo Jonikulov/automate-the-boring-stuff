{
 "cells": [
  {
   "cell_type": "markdown",
   "id": "0f033327",
   "metadata": {},
   "source": [
    "# Chapter 14: WORKING WITH GOOGLE SHEETS"
   ]
  },
  {
   "cell_type": "markdown",
   "id": "887296cb",
   "metadata": {},
   "source": [
    "## Spreadsheet Objects\n",
    "\n",
    "`!pip install ezsheets`"
   ]
  },
  {
   "cell_type": "markdown",
   "id": "8e9731db",
   "metadata": {},
   "source": [
    "### Creating, Uploading, and Listing Spreadsheets"
   ]
  },
  {
   "cell_type": "code",
   "execution_count": null,
   "id": "92a77776",
   "metadata": {},
   "outputs": [],
   "source": []
  },
  {
   "cell_type": "code",
   "execution_count": null,
   "id": "b0d9f31b",
   "metadata": {},
   "outputs": [],
   "source": []
  }
 ],
 "metadata": {
  "kernelspec": {
   "display_name": "Python 3 (ipykernel)",
   "language": "python",
   "name": "python3"
  },
  "language_info": {
   "codemirror_mode": {
    "name": "ipython",
    "version": 3
   },
   "file_extension": ".py",
   "mimetype": "text/x-python",
   "name": "python",
   "nbconvert_exporter": "python",
   "pygments_lexer": "ipython3",
   "version": "3.9.15"
  },
  "vscode": {
   "interpreter": {
    "hash": "2c7666c1320a956fa05893d10993164efa76d3af81fc7470d6f4943526f3df36"
   }
  }
 },
 "nbformat": 4,
 "nbformat_minor": 5
}
