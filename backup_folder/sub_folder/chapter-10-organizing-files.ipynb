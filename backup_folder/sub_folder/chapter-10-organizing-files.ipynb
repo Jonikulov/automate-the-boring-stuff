{
 "cells": [
  {
   "cell_type": "markdown",
   "id": "dbdc6aa6",
   "metadata": {},
   "source": [
    "# Chapter 10: ORGANIZING FILES"
   ]
  },
  {
   "cell_type": "markdown",
   "id": "3fa9dfaa",
   "metadata": {},
   "source": [
    "## The shutil Module"
   ]
  },
  {
   "cell_type": "markdown",
   "id": "a00ed4a9",
   "metadata": {},
   "source": [
    "### Copying Files and Folders"
   ]
  },
  {
   "cell_type": "code",
   "execution_count": 6,
   "id": "7b7d454a",
   "metadata": {},
   "outputs": [],
   "source": [
    "import shutil\n",
    "from pathlib import Path"
   ]
  },
  {
   "cell_type": "code",
   "execution_count": 8,
   "id": "3cc3a877",
   "metadata": {},
   "outputs": [
    {
     "name": "stdout",
     "output_type": "stream",
     "text": [
      "README.md\n",
      "chapter-10-organizing-files.ipynb\n",
      "chapter-12-web-scraping.ipynb\n",
      "chapter-6-manipulating-strings.ipynb\n",
      "chapter-9-reading-writing-files.ipynb\n",
      "data.txt\n",
      "my_folder\n"
     ]
    }
   ],
   "source": [
    "!wsl ls"
   ]
  },
  {
   "cell_type": "markdown",
   "id": "54cffb09",
   "metadata": {},
   "source": [
    "`shutil.copy(`**`source, destination`**`)` - copy a single file to the folder at the path *destination*"
   ]
  },
  {
   "cell_type": "code",
   "execution_count": 11,
   "id": "8f909e99",
   "metadata": {},
   "outputs": [
    {
     "data": {
      "text/plain": [
       "'my_folder\\\\data.txt'"
      ]
     },
     "execution_count": 11,
     "metadata": {},
     "output_type": "execute_result"
    }
   ],
   "source": [
    "shutil.copy(\"data.txt\", \"my_folder\")"
   ]
  },
  {
   "cell_type": "markdown",
   "id": "75c1665b",
   "metadata": {},
   "source": [
    "`shutil.copy(`**`source, destination`**`)` - copy the folder at the path *source*, along with all of its files and subfolders, to the folder at the path *destination*."
   ]
  },
  {
   "cell_type": "code",
   "execution_count": null,
   "id": "fe802dbd",
   "metadata": {},
   "outputs": [],
   "source": []
  }
 ],
 "metadata": {
  "kernelspec": {
   "display_name": "Python 3 (ipykernel)",
   "language": "python",
   "name": "python3"
  },
  "language_info": {
   "codemirror_mode": {
    "name": "ipython",
    "version": 3
   },
   "file_extension": ".py",
   "mimetype": "text/x-python",
   "name": "python",
   "nbconvert_exporter": "python",
   "pygments_lexer": "ipython3",
   "version": "3.10.5"
  }
 },
 "nbformat": 4,
 "nbformat_minor": 5
}
