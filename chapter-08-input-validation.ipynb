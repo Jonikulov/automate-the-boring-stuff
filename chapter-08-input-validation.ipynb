{
 "cells": [
  {
   "cell_type": "markdown",
   "id": "fc4ac26e",
   "metadata": {},
   "source": [
    "# Chapter 8: INPUT VALIDATION"
   ]
  },
  {
   "cell_type": "markdown",
   "id": "fc715939",
   "metadata": {},
   "source": [
    "## The PyInputPlus Module"
   ]
  },
  {
   "cell_type": "code",
   "execution_count": 2,
   "id": "526de828",
   "metadata": {},
   "outputs": [],
   "source": [
    "import pyinputplus"
   ]
  },
  {
   "cell_type": "code",
   "execution_count": null,
   "id": "b583faa2",
   "metadata": {},
   "outputs": [],
   "source": []
  },
  {
   "cell_type": "markdown",
   "id": "7e559234",
   "metadata": {},
   "source": [
    "### The min, max, greaterThan, and lessThan Keyword Arguments"
   ]
  },
  {
   "cell_type": "code",
   "execution_count": null,
   "id": "9f5b4204",
   "metadata": {},
   "outputs": [],
   "source": []
  }
 ],
 "metadata": {
  "kernelspec": {
   "display_name": "Python 3 (ipykernel)",
   "language": "python",
   "name": "python3"
  },
  "language_info": {
   "codemirror_mode": {
    "name": "ipython",
    "version": 3
   },
   "file_extension": ".py",
   "mimetype": "text/x-python",
   "name": "python",
   "nbconvert_exporter": "python",
   "pygments_lexer": "ipython3",
   "version": "3.10.4"
  },
  "vscode": {
   "interpreter": {
    "hash": "2c7666c1320a956fa05893d10993164efa76d3af81fc7470d6f4943526f3df36"
   }
  }
 },
 "nbformat": 4,
 "nbformat_minor": 5
}
