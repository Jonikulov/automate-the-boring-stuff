{
 "cells": [
  {
   "cell_type": "markdown",
   "id": "fc4ac26e",
   "metadata": {},
   "source": [
    "# Chapter 8: INPUT VALIDATION"
   ]
  },
  {
   "cell_type": "code",
   "execution_count": 7,
   "id": "85095620",
   "metadata": {},
   "outputs": [
    {
     "name": "stdout",
     "output_type": "stream",
     "text": [
      "Enter your age: five\n",
      "Please, use numeric digits.\n",
      "Enter your age: -4\n",
      "Please enter a positive number.\n",
      "Enter your age: 20\n",
      "Your age is 20.\n"
     ]
    }
   ],
   "source": [
    "while True:\n",
    "    print(\"Enter your age: \", end=\"\")\n",
    "    age = input()\n",
    "    try:\n",
    "        age = int(age)\n",
    "    except:\n",
    "        print(\"Please, use numeric digits.\")\n",
    "        continue\n",
    "    if age < 1:\n",
    "        print(\"Please enter a positive number.\")\n",
    "        continue\n",
    "    break\n",
    "\n",
    "print(f\"Your age is {age}.\")"
   ]
  },
  {
   "cell_type": "markdown",
   "id": "fc715939",
   "metadata": {},
   "source": [
    "## The PyInputPlus Module\n",
    "\n",
    "- `inputNum()` - Ensures the user enters a number and returns an int or float, depending on if the number has a decimal point in it\n",
    "\n",
    "- `inputChoice()` - Ensures the user enters one of the provided choices\n",
    "\n",
    "- `inputMenu()` - Is similar to inputChoice(), but provides a menu with numbered or lettered options\n",
    "\n",
    "- `inputDatetime()` - Ensures the user enters a date and time\n",
    "\n",
    "- `inputYesNo()` - Ensures the user enters a “yes” or “no” response\n",
    "\n",
    "- `inputBool()` - Is similar to inputYesNo(), but takes a “True” or “False” response and returns a Boolean value\n",
    "\n",
    "- `inputEmail()` - Ensures the user enters a valid email address\n",
    "\n",
    "- `inputFilepath()` - Ensures the user enters a valid file path and filename, and can optionally check that a file with that name exists\n",
    "\n",
    "- `inputPassword()` - Is like the built-in input(), but displays * characters as the user types so that passwords, or other sensitive information, aren’t displayed on the screen"
   ]
  },
  {
   "cell_type": "code",
   "execution_count": 1,
   "id": "27a552cc",
   "metadata": {},
   "outputs": [],
   "source": [
    "import pyinputplus as pyip  # pip install pyinputplus"
   ]
  },
  {
   "cell_type": "code",
   "execution_count": 9,
   "id": "70e6e868",
   "metadata": {},
   "outputs": [
    {
     "name": "stdout",
     "output_type": "stream",
     "text": [
      "9\n"
     ]
    }
   ],
   "source": [
    "response = pyip.inputNum()"
   ]
  },
  {
   "cell_type": "code",
   "execution_count": 10,
   "id": "e11802c2",
   "metadata": {},
   "outputs": [
    {
     "data": {
      "text/plain": [
       "9"
      ]
     },
     "execution_count": 10,
     "metadata": {},
     "output_type": "execute_result"
    }
   ],
   "source": [
    "response"
   ]
  },
  {
   "cell_type": "code",
   "execution_count": 11,
   "id": "97a6cf48",
   "metadata": {},
   "outputs": [
    {
     "name": "stdout",
     "output_type": "stream",
     "text": [
      "Enter a number: cat\n",
      "'cat' is not a number.\n",
      "Enter a number: 42\n"
     ]
    }
   ],
   "source": [
    "response = pyip.inputNum(prompt=\"Enter a number: \")"
   ]
  },
  {
   "cell_type": "code",
   "execution_count": 12,
   "id": "99206faa",
   "metadata": {},
   "outputs": [
    {
     "data": {
      "text/plain": [
       "42"
      ]
     },
     "execution_count": 12,
     "metadata": {},
     "output_type": "execute_result"
    }
   ],
   "source": [
    "response"
   ]
  },
  {
   "cell_type": "markdown",
   "id": "7e559234",
   "metadata": {},
   "source": [
    "### The `min`, `max`, `greaterThan`, and `lessThan` Keyword Arguments"
   ]
  },
  {
   "cell_type": "code",
   "execution_count": 14,
   "id": "63759135",
   "metadata": {},
   "outputs": [
    {
     "name": "stdout",
     "output_type": "stream",
     "text": [
      "Enter num: 3\n",
      "Number must be at minimum 4.\n",
      "Enter num: 5\n"
     ]
    }
   ],
   "source": [
    "response = pyip.inputNum(\"Enter num: \", min=4)"
   ]
  },
  {
   "cell_type": "code",
   "execution_count": 15,
   "id": "91c93ccf",
   "metadata": {},
   "outputs": [
    {
     "name": "stdout",
     "output_type": "stream",
     "text": [
      "Enter num: 4\n",
      "Number must be greater than 4.\n",
      "Enter num: 5\n"
     ]
    }
   ],
   "source": [
    "response = pyip.inputNum(\"Enter num: \", greaterThan=4)"
   ]
  },
  {
   "cell_type": "code",
   "execution_count": 32,
   "id": "658b4f8d",
   "metadata": {},
   "outputs": [
    {
     "name": "stdout",
     "output_type": "stream",
     "text": [
      "Enter num: 6\n",
      "Number must be less than 6.\n",
      "Enter num: 3\n",
      "Number must be at minimum 4.\n",
      "Enter num: 4\n"
     ]
    },
    {
     "data": {
      "text/plain": [
       "4"
      ]
     },
     "execution_count": 32,
     "metadata": {},
     "output_type": "execute_result"
    }
   ],
   "source": [
    "pyip.inputNum('Enter num: ', min=4, lessThan=6)"
   ]
  },
  {
   "cell_type": "code",
   "execution_count": 16,
   "id": "7a937908",
   "metadata": {},
   "outputs": [
    {
     "name": "stdout",
     "output_type": "stream",
     "text": [
      "Number: 9\n",
      "Number must be at maximum 8.\n",
      "Number: 8\n"
     ]
    },
    {
     "data": {
      "text/plain": [
       "8"
      ]
     },
     "execution_count": 16,
     "metadata": {},
     "output_type": "execute_result"
    }
   ],
   "source": [
    "pyip.inputNum('Number: ', max=8)"
   ]
  },
  {
   "cell_type": "markdown",
   "id": "746c10c2",
   "metadata": {},
   "source": [
    "### The `blank` Keyword Argument"
   ]
  },
  {
   "cell_type": "code",
   "execution_count": 34,
   "id": "c0e592c8",
   "metadata": {},
   "outputs": [
    {
     "name": "stdout",
     "output_type": "stream",
     "text": [
      "Enter num: \n",
      "Blank values are not allowed.\n",
      "Enter num: 500\n"
     ]
    },
    {
     "data": {
      "text/plain": [
       "500"
      ]
     },
     "execution_count": 34,
     "metadata": {},
     "output_type": "execute_result"
    }
   ],
   "source": [
    "pyip.inputNum('Enter num: ')"
   ]
  },
  {
   "cell_type": "code",
   "execution_count": 35,
   "id": "17a8d724",
   "metadata": {},
   "outputs": [
    {
     "name": "stdout",
     "output_type": "stream",
     "text": [
      "Enter num: \n"
     ]
    },
    {
     "data": {
      "text/plain": [
       "''"
      ]
     },
     "execution_count": 35,
     "metadata": {},
     "output_type": "execute_result"
    }
   ],
   "source": [
    "pyip.inputNum('Enter num: ', blank=True)"
   ]
  },
  {
   "cell_type": "markdown",
   "id": "2dcf8e6c",
   "metadata": {},
   "source": [
    "### The `limit`, `timeout`, and `default` Keyword Arguments"
   ]
  },
  {
   "cell_type": "code",
   "execution_count": 6,
   "id": "06617a8c",
   "metadata": {
    "scrolled": false
   },
   "outputs": [
    {
     "name": "stdout",
     "output_type": "stream",
     "text": [
      "hi\n",
      "'hi' is not a number.\n",
      "number\n",
      "'number' is not a number.\n"
     ]
    },
    {
     "ename": "RetryLimitException",
     "evalue": "",
     "output_type": "error",
     "traceback": [
      "\u001b[0;31m---------------------------------------------------------------------------\u001b[0m",
      "\u001b[0;31mValueError\u001b[0m                                Traceback (most recent call last)",
      "File \u001b[0;32m~/miniconda3/lib/python3.9/site-packages/pysimplevalidate/__init__.py:512\u001b[0m, in \u001b[0;36mvalidateNum\u001b[0;34m(value, blank, strip, allowRegexes, blockRegexes, _numType, min, max, lessThan, greaterThan, excMsg)\u001b[0m\n\u001b[1;32m    511\u001b[0m \u001b[38;5;28;01mtry\u001b[39;00m:\n\u001b[0;32m--> 512\u001b[0m     numericValue \u001b[38;5;241m=\u001b[39m \u001b[38;5;28;43mint\u001b[39;49m\u001b[43m(\u001b[49m\u001b[43mvalue\u001b[49m\u001b[43m)\u001b[49m\n\u001b[1;32m    513\u001b[0m \u001b[38;5;28;01mexcept\u001b[39;00m:\n",
      "\u001b[0;31mValueError\u001b[0m: invalid literal for int() with base 10: 'number'",
      "\nDuring handling of the above exception, another exception occurred:\n",
      "\u001b[0;31mValidationException\u001b[0m                       Traceback (most recent call last)",
      "File \u001b[0;32m~/miniconda3/lib/python3.9/site-packages/pyinputplus/__init__.py:167\u001b[0m, in \u001b[0;36m_genericInput\u001b[0;34m(prompt, default, timeout, limit, applyFunc, validationFunc, postValidateApplyFunc, passwordMask)\u001b[0m\n\u001b[1;32m    166\u001b[0m \u001b[38;5;28;01mtry\u001b[39;00m:\n\u001b[0;32m--> 167\u001b[0m     possibleNewUserInput \u001b[38;5;241m=\u001b[39m \u001b[43mvalidationFunc\u001b[49m\u001b[43m(\u001b[49m\n\u001b[1;32m    168\u001b[0m \u001b[43m        \u001b[49m\u001b[43muserInput\u001b[49m\n\u001b[1;32m    169\u001b[0m \u001b[43m    \u001b[49m\u001b[43m)\u001b[49m  \u001b[38;5;66;03m# If validation fails, this function will raise an exception. Returns an updated value to use as user input (e.g. stripped of whitespace, etc.)\u001b[39;00m\n\u001b[1;32m    170\u001b[0m     \u001b[38;5;28;01mif\u001b[39;00m possibleNewUserInput \u001b[38;5;129;01mis\u001b[39;00m \u001b[38;5;129;01mnot\u001b[39;00m \u001b[38;5;28;01mNone\u001b[39;00m:\n",
      "File \u001b[0;32m~/miniconda3/lib/python3.9/site-packages/pyinputplus/__init__.py:385\u001b[0m, in \u001b[0;36minputNum.<locals>.<lambda>\u001b[0;34m(value)\u001b[0m\n\u001b[1;32m    383\u001b[0m pysv\u001b[38;5;241m.\u001b[39m_validateParamsFor_validateNum(\u001b[38;5;28mmin\u001b[39m\u001b[38;5;241m=\u001b[39m\u001b[38;5;28mmin\u001b[39m, \u001b[38;5;28mmax\u001b[39m\u001b[38;5;241m=\u001b[39m\u001b[38;5;28mmax\u001b[39m, lessThan\u001b[38;5;241m=\u001b[39mlessThan, greaterThan\u001b[38;5;241m=\u001b[39mgreaterThan)\n\u001b[0;32m--> 385\u001b[0m validationFunc \u001b[38;5;241m=\u001b[39m \u001b[38;5;28;01mlambda\u001b[39;00m value: \u001b[43mpysv\u001b[49m\u001b[38;5;241;43m.\u001b[39;49m\u001b[43mvalidateNum\u001b[49m\u001b[43m(\u001b[49m\n\u001b[1;32m    386\u001b[0m \u001b[43m    \u001b[49m\u001b[43mvalue\u001b[49m\u001b[43m,\u001b[49m\n\u001b[1;32m    387\u001b[0m \u001b[43m    \u001b[49m\u001b[43mblank\u001b[49m\u001b[38;5;241;43m=\u001b[39;49m\u001b[43mblank\u001b[49m\u001b[43m,\u001b[49m\n\u001b[1;32m    388\u001b[0m \u001b[43m    \u001b[49m\u001b[43mstrip\u001b[49m\u001b[38;5;241;43m=\u001b[39;49m\u001b[43mstrip\u001b[49m\u001b[43m,\u001b[49m\n\u001b[1;32m    389\u001b[0m \u001b[43m    \u001b[49m\u001b[43mallowRegexes\u001b[49m\u001b[38;5;241;43m=\u001b[39;49m\u001b[43mallowRegexes\u001b[49m\u001b[43m,\u001b[49m\n\u001b[1;32m    390\u001b[0m \u001b[43m    \u001b[49m\u001b[43mblockRegexes\u001b[49m\u001b[38;5;241;43m=\u001b[39;49m\u001b[43mblockRegexes\u001b[49m\u001b[43m,\u001b[49m\n\u001b[1;32m    391\u001b[0m \u001b[43m    \u001b[49m\u001b[38;5;28;43mmin\u001b[39;49m\u001b[38;5;241;43m=\u001b[39;49m\u001b[38;5;28;43mmin\u001b[39;49m\u001b[43m,\u001b[49m\n\u001b[1;32m    392\u001b[0m \u001b[43m    \u001b[49m\u001b[38;5;28;43mmax\u001b[39;49m\u001b[38;5;241;43m=\u001b[39;49m\u001b[38;5;28;43mmax\u001b[39;49m\u001b[43m,\u001b[49m\n\u001b[1;32m    393\u001b[0m \u001b[43m    \u001b[49m\u001b[43mlessThan\u001b[49m\u001b[38;5;241;43m=\u001b[39;49m\u001b[43mlessThan\u001b[49m\u001b[43m,\u001b[49m\n\u001b[1;32m    394\u001b[0m \u001b[43m    \u001b[49m\u001b[43mgreaterThan\u001b[49m\u001b[38;5;241;43m=\u001b[39;49m\u001b[43mgreaterThan\u001b[49m\u001b[43m,\u001b[49m\n\u001b[1;32m    395\u001b[0m \u001b[43m    \u001b[49m\u001b[43m_numType\u001b[49m\u001b[38;5;241;43m=\u001b[39;49m\u001b[38;5;124;43m\"\u001b[39;49m\u001b[38;5;124;43mnum\u001b[39;49m\u001b[38;5;124;43m\"\u001b[39;49m\u001b[43m,\u001b[49m\n\u001b[1;32m    396\u001b[0m \u001b[43m\u001b[49m\u001b[43m)\u001b[49m\n\u001b[1;32m    398\u001b[0m \u001b[38;5;28;01mreturn\u001b[39;00m _genericInput(\n\u001b[1;32m    399\u001b[0m     prompt\u001b[38;5;241m=\u001b[39mprompt,\n\u001b[1;32m    400\u001b[0m     default\u001b[38;5;241m=\u001b[39mdefault,\n\u001b[0;32m   (...)\u001b[0m\n\u001b[1;32m    405\u001b[0m     validationFunc\u001b[38;5;241m=\u001b[39mvalidationFunc,\n\u001b[1;32m    406\u001b[0m )\n",
      "File \u001b[0;32m~/miniconda3/lib/python3.9/site-packages/pysimplevalidate/__init__.py:514\u001b[0m, in \u001b[0;36mvalidateNum\u001b[0;34m(value, blank, strip, allowRegexes, blockRegexes, _numType, min, max, lessThan, greaterThan, excMsg)\u001b[0m\n\u001b[1;32m    513\u001b[0m     \u001b[38;5;28;01mexcept\u001b[39;00m:\n\u001b[0;32m--> 514\u001b[0m         \u001b[43m_raiseValidationException\u001b[49m\u001b[43m(\u001b[49m\u001b[43m_\u001b[49m\u001b[43m(\u001b[49m\u001b[38;5;124;43m\"\u001b[39;49m\u001b[38;5;132;43;01m%r\u001b[39;49;00m\u001b[38;5;124;43m is not a number.\u001b[39;49m\u001b[38;5;124;43m\"\u001b[39;49m\u001b[43m)\u001b[49m\u001b[43m \u001b[49m\u001b[38;5;241;43m%\u001b[39;49m\u001b[43m \u001b[49m\u001b[43m(\u001b[49m\u001b[43m_errstr\u001b[49m\u001b[43m(\u001b[49m\u001b[43mvalue\u001b[49m\u001b[43m)\u001b[49m\u001b[43m)\u001b[49m\u001b[43m,\u001b[49m\u001b[43m \u001b[49m\u001b[43mexcMsg\u001b[49m\u001b[43m)\u001b[49m\n\u001b[1;32m    515\u001b[0m \u001b[38;5;28;01melif\u001b[39;00m _numType \u001b[38;5;241m==\u001b[39m \u001b[38;5;124m\"\u001b[39m\u001b[38;5;124mfloat\u001b[39m\u001b[38;5;124m\"\u001b[39m:\n",
      "File \u001b[0;32m~/miniconda3/lib/python3.9/site-packages/pysimplevalidate/__init__.py:222\u001b[0m, in \u001b[0;36m_raiseValidationException\u001b[0;34m(standardExcMsg, customExcMsg)\u001b[0m\n\u001b[1;32m    221\u001b[0m \u001b[38;5;28;01mif\u001b[39;00m customExcMsg \u001b[38;5;129;01mis\u001b[39;00m \u001b[38;5;28;01mNone\u001b[39;00m:\n\u001b[0;32m--> 222\u001b[0m     \u001b[38;5;28;01mraise\u001b[39;00m ValidationException(\u001b[38;5;28mstr\u001b[39m(standardExcMsg))\n\u001b[1;32m    223\u001b[0m \u001b[38;5;28;01melse\u001b[39;00m:\n",
      "\u001b[0;31mValidationException\u001b[0m: 'number' is not a number.",
      "\nDuring handling of the above exception, another exception occurred:\n",
      "\u001b[0;31mRetryLimitException\u001b[0m                       Traceback (most recent call last)",
      "Cell \u001b[0;32mIn [6], line 2\u001b[0m\n\u001b[1;32m      1\u001b[0m \u001b[38;5;66;03m# limit keyword argument to determine how many attempts\u001b[39;00m\n\u001b[0;32m----> 2\u001b[0m pyip\u001b[38;5;241m.\u001b[39minputNum(limit\u001b[38;5;241m=\u001b[39m\u001b[38;5;241m2\u001b[39m)\n",
      "File \u001b[0;32m~/miniconda3/lib/python3.9/site-packages/pyinputplus/__init__.py:398\u001b[0m, in \u001b[0;36minputNum\u001b[0;34m(prompt, default, blank, timeout, limit, strip, allowRegexes, blockRegexes, applyFunc, postValidateApplyFunc, min, max, greaterThan, lessThan)\u001b[0m\n\u001b[1;32m    383\u001b[0m pysv\u001b[38;5;241m.\u001b[39m_validateParamsFor_validateNum(\u001b[38;5;28mmin\u001b[39m\u001b[38;5;241m=\u001b[39m\u001b[38;5;28mmin\u001b[39m, \u001b[38;5;28mmax\u001b[39m\u001b[38;5;241m=\u001b[39m\u001b[38;5;28mmax\u001b[39m, lessThan\u001b[38;5;241m=\u001b[39mlessThan, greaterThan\u001b[38;5;241m=\u001b[39mgreaterThan)\n\u001b[1;32m    385\u001b[0m validationFunc \u001b[38;5;241m=\u001b[39m \u001b[38;5;28;01mlambda\u001b[39;00m value: pysv\u001b[38;5;241m.\u001b[39mvalidateNum(\n\u001b[1;32m    386\u001b[0m     value,\n\u001b[1;32m    387\u001b[0m     blank\u001b[38;5;241m=\u001b[39mblank,\n\u001b[0;32m   (...)\u001b[0m\n\u001b[1;32m    395\u001b[0m     _numType\u001b[38;5;241m=\u001b[39m\u001b[38;5;124m\"\u001b[39m\u001b[38;5;124mnum\u001b[39m\u001b[38;5;124m\"\u001b[39m,\n\u001b[1;32m    396\u001b[0m )\n\u001b[0;32m--> 398\u001b[0m \u001b[38;5;28;01mreturn\u001b[39;00m \u001b[43m_genericInput\u001b[49m\u001b[43m(\u001b[49m\n\u001b[1;32m    399\u001b[0m \u001b[43m    \u001b[49m\u001b[43mprompt\u001b[49m\u001b[38;5;241;43m=\u001b[39;49m\u001b[43mprompt\u001b[49m\u001b[43m,\u001b[49m\n\u001b[1;32m    400\u001b[0m \u001b[43m    \u001b[49m\u001b[43mdefault\u001b[49m\u001b[38;5;241;43m=\u001b[39;49m\u001b[43mdefault\u001b[49m\u001b[43m,\u001b[49m\n\u001b[1;32m    401\u001b[0m \u001b[43m    \u001b[49m\u001b[43mtimeout\u001b[49m\u001b[38;5;241;43m=\u001b[39;49m\u001b[43mtimeout\u001b[49m\u001b[43m,\u001b[49m\n\u001b[1;32m    402\u001b[0m \u001b[43m    \u001b[49m\u001b[43mlimit\u001b[49m\u001b[38;5;241;43m=\u001b[39;49m\u001b[43mlimit\u001b[49m\u001b[43m,\u001b[49m\n\u001b[1;32m    403\u001b[0m \u001b[43m    \u001b[49m\u001b[43mapplyFunc\u001b[49m\u001b[38;5;241;43m=\u001b[39;49m\u001b[43mapplyFunc\u001b[49m\u001b[43m,\u001b[49m\n\u001b[1;32m    404\u001b[0m \u001b[43m    \u001b[49m\u001b[43mpostValidateApplyFunc\u001b[49m\u001b[38;5;241;43m=\u001b[39;49m\u001b[43mpostValidateApplyFunc\u001b[49m\u001b[43m,\u001b[49m\n\u001b[1;32m    405\u001b[0m \u001b[43m    \u001b[49m\u001b[43mvalidationFunc\u001b[49m\u001b[38;5;241;43m=\u001b[39;49m\u001b[43mvalidationFunc\u001b[49m\u001b[43m,\u001b[49m\n\u001b[1;32m    406\u001b[0m \u001b[43m\u001b[49m\u001b[43m)\u001b[49m\n",
      "File \u001b[0;32m~/miniconda3/lib/python3.9/site-packages/pyinputplus/__init__.py:188\u001b[0m, in \u001b[0;36m_genericInput\u001b[0;34m(prompt, default, timeout, limit, applyFunc, validationFunc, postValidateApplyFunc, passwordMask)\u001b[0m\n\u001b[1;32m    185\u001b[0m         \u001b[38;5;28;01mreturn\u001b[39;00m default\n\u001b[1;32m    186\u001b[0m     \u001b[38;5;28;01melse\u001b[39;00m:\n\u001b[1;32m    187\u001b[0m         \u001b[38;5;66;03m# If there is no default, then raise the timeout/limit exception.\u001b[39;00m\n\u001b[0;32m--> 188\u001b[0m         \u001b[38;5;28;01mraise\u001b[39;00m limitOrTimeoutException\n\u001b[1;32m    189\u001b[0m \u001b[38;5;28;01melse\u001b[39;00m:\n\u001b[1;32m    190\u001b[0m     \u001b[38;5;66;03m# If there was no timeout/limit exceeded, let the user enter input again.\u001b[39;00m\n\u001b[1;32m    191\u001b[0m     \u001b[38;5;28;01mcontinue\u001b[39;00m\n",
      "\u001b[0;31mRetryLimitException\u001b[0m: "
     ]
    }
   ],
   "source": [
    "# limit keyword argument to determine how many attempts\n",
    "pyip.inputNum(limit=2)"
   ]
  },
  {
   "cell_type": "code",
   "execution_count": 7,
   "id": "f9376297",
   "metadata": {},
   "outputs": [
    {
     "name": "stdout",
     "output_type": "stream",
     "text": [
      "50\n"
     ]
    },
    {
     "ename": "TimeoutException",
     "evalue": "",
     "output_type": "error",
     "traceback": [
      "\u001b[0;31m---------------------------------------------------------------------------\u001b[0m",
      "\u001b[0;31mTimeoutException\u001b[0m                          Traceback (most recent call last)",
      "Cell \u001b[0;32mIn [7], line 2\u001b[0m\n\u001b[1;32m      1\u001b[0m \u001b[38;5;66;03m# timeout keyword argument to determine how many seconds the user has to enter valid input\u001b[39;00m\n\u001b[0;32m----> 2\u001b[0m pyip\u001b[38;5;241m.\u001b[39minputNum(timeout\u001b[38;5;241m=\u001b[39m\u001b[38;5;241m5\u001b[39m)\n",
      "File \u001b[0;32m~/miniconda3/lib/python3.9/site-packages/pyinputplus/__init__.py:398\u001b[0m, in \u001b[0;36minputNum\u001b[0;34m(prompt, default, blank, timeout, limit, strip, allowRegexes, blockRegexes, applyFunc, postValidateApplyFunc, min, max, greaterThan, lessThan)\u001b[0m\n\u001b[1;32m    383\u001b[0m pysv\u001b[38;5;241m.\u001b[39m_validateParamsFor_validateNum(\u001b[38;5;28mmin\u001b[39m\u001b[38;5;241m=\u001b[39m\u001b[38;5;28mmin\u001b[39m, \u001b[38;5;28mmax\u001b[39m\u001b[38;5;241m=\u001b[39m\u001b[38;5;28mmax\u001b[39m, lessThan\u001b[38;5;241m=\u001b[39mlessThan, greaterThan\u001b[38;5;241m=\u001b[39mgreaterThan)\n\u001b[1;32m    385\u001b[0m validationFunc \u001b[38;5;241m=\u001b[39m \u001b[38;5;28;01mlambda\u001b[39;00m value: pysv\u001b[38;5;241m.\u001b[39mvalidateNum(\n\u001b[1;32m    386\u001b[0m     value,\n\u001b[1;32m    387\u001b[0m     blank\u001b[38;5;241m=\u001b[39mblank,\n\u001b[0;32m   (...)\u001b[0m\n\u001b[1;32m    395\u001b[0m     _numType\u001b[38;5;241m=\u001b[39m\u001b[38;5;124m\"\u001b[39m\u001b[38;5;124mnum\u001b[39m\u001b[38;5;124m\"\u001b[39m,\n\u001b[1;32m    396\u001b[0m )\n\u001b[0;32m--> 398\u001b[0m \u001b[38;5;28;01mreturn\u001b[39;00m \u001b[43m_genericInput\u001b[49m\u001b[43m(\u001b[49m\n\u001b[1;32m    399\u001b[0m \u001b[43m    \u001b[49m\u001b[43mprompt\u001b[49m\u001b[38;5;241;43m=\u001b[39;49m\u001b[43mprompt\u001b[49m\u001b[43m,\u001b[49m\n\u001b[1;32m    400\u001b[0m \u001b[43m    \u001b[49m\u001b[43mdefault\u001b[49m\u001b[38;5;241;43m=\u001b[39;49m\u001b[43mdefault\u001b[49m\u001b[43m,\u001b[49m\n\u001b[1;32m    401\u001b[0m \u001b[43m    \u001b[49m\u001b[43mtimeout\u001b[49m\u001b[38;5;241;43m=\u001b[39;49m\u001b[43mtimeout\u001b[49m\u001b[43m,\u001b[49m\n\u001b[1;32m    402\u001b[0m \u001b[43m    \u001b[49m\u001b[43mlimit\u001b[49m\u001b[38;5;241;43m=\u001b[39;49m\u001b[43mlimit\u001b[49m\u001b[43m,\u001b[49m\n\u001b[1;32m    403\u001b[0m \u001b[43m    \u001b[49m\u001b[43mapplyFunc\u001b[49m\u001b[38;5;241;43m=\u001b[39;49m\u001b[43mapplyFunc\u001b[49m\u001b[43m,\u001b[49m\n\u001b[1;32m    404\u001b[0m \u001b[43m    \u001b[49m\u001b[43mpostValidateApplyFunc\u001b[49m\u001b[38;5;241;43m=\u001b[39;49m\u001b[43mpostValidateApplyFunc\u001b[49m\u001b[43m,\u001b[49m\n\u001b[1;32m    405\u001b[0m \u001b[43m    \u001b[49m\u001b[43mvalidationFunc\u001b[49m\u001b[38;5;241;43m=\u001b[39;49m\u001b[43mvalidationFunc\u001b[49m\u001b[43m,\u001b[49m\n\u001b[1;32m    406\u001b[0m \u001b[43m\u001b[49m\u001b[43m)\u001b[49m\n",
      "File \u001b[0;32m~/miniconda3/lib/python3.9/site-packages/pyinputplus/__init__.py:203\u001b[0m, in \u001b[0;36m_genericInput\u001b[0;34m(prompt, default, timeout, limit, applyFunc, validationFunc, postValidateApplyFunc, passwordMask)\u001b[0m\n\u001b[1;32m    201\u001b[0m         \u001b[38;5;28;01mreturn\u001b[39;00m default\n\u001b[1;32m    202\u001b[0m     \u001b[38;5;28;01melse\u001b[39;00m:\n\u001b[0;32m--> 203\u001b[0m         \u001b[38;5;28;01mraise\u001b[39;00m TimeoutException()\n\u001b[1;32m    205\u001b[0m \u001b[38;5;28;01mif\u001b[39;00m postValidateApplyFunc \u001b[38;5;129;01mis\u001b[39;00m \u001b[38;5;129;01mnot\u001b[39;00m \u001b[38;5;28;01mNone\u001b[39;00m:\n\u001b[1;32m    206\u001b[0m     \u001b[38;5;28;01mreturn\u001b[39;00m postValidateApplyFunc(userInput)\n",
      "\u001b[0;31mTimeoutException\u001b[0m: "
     ]
    }
   ],
   "source": [
    "# timeout keyword argument to determine how many seconds the user has to enter valid input\n",
    "pyip.inputNum(timeout=5)"
   ]
  },
  {
   "cell_type": "code",
   "execution_count": 8,
   "id": "951dcd74",
   "metadata": {},
   "outputs": [
    {
     "name": "stdout",
     "output_type": "stream",
     "text": [
      "this\n",
      "'this' is not a number.\n",
      "num\n",
      "'num' is not a number.\n"
     ]
    },
    {
     "data": {
      "text/plain": [
       "'N/A'"
      ]
     },
     "execution_count": 8,
     "metadata": {},
     "output_type": "execute_result"
    }
   ],
   "source": [
    "pyip.inputNum(limit=2, default=\"N/A\")"
   ]
  },
  {
   "cell_type": "code",
   "execution_count": 17,
   "id": "697cfb71",
   "metadata": {
    "scrolled": true
   },
   "outputs": [
    {
     "name": "stdout",
     "output_type": "stream",
     "text": [
      "10\n"
     ]
    },
    {
     "data": {
      "text/plain": [
       "'Time out!'"
      ]
     },
     "execution_count": 17,
     "metadata": {},
     "output_type": "execute_result"
    }
   ],
   "source": [
    "pyip.inputNum(timeout=4, default='Time out!')"
   ]
  },
  {
   "cell_type": "markdown",
   "id": "481657b5",
   "metadata": {},
   "source": [
    "### The `allowRegexes` and `blockRegexes` Keyword Arguments"
   ]
  },
  {
   "cell_type": "code",
   "execution_count": 10,
   "id": "6bdedd32",
   "metadata": {},
   "outputs": [
    {
     "name": "stdout",
     "output_type": "stream",
     "text": [
      "XXI\n"
     ]
    },
    {
     "data": {
      "text/plain": [
       "'XXI'"
      ]
     },
     "execution_count": 10,
     "metadata": {},
     "output_type": "execute_result"
    }
   ],
   "source": [
    "# Following code will accept Roman numerals in addition to the usual numbers\n",
    "pyip.inputNum(allowRegexes=[r'(I|V|X|L|C|D|M)+', r'zero'])"
   ]
  },
  {
   "cell_type": "code",
   "execution_count": 11,
   "id": "517767f5",
   "metadata": {},
   "outputs": [
    {
     "name": "stdout",
     "output_type": "stream",
     "text": [
      "xlii\n"
     ]
    },
    {
     "data": {
      "text/plain": [
       "'xlii'"
      ]
     },
     "execution_count": 11,
     "metadata": {},
     "output_type": "execute_result"
    }
   ],
   "source": [
    "# Following code will accept Roman numerals in addition to the usual numbers\n",
    "pyip.inputNum(allowRegexes=[r'(i|v|x|l|c|d|m)+', r'zero'])"
   ]
  },
  {
   "cell_type": "code",
   "execution_count": 13,
   "id": "30c44f79",
   "metadata": {},
   "outputs": [
    {
     "name": "stdout",
     "output_type": "stream",
     "text": [
      "42\n",
      "This response is invalid.\n",
      "44\n",
      "This response is invalid.\n",
      "43\n"
     ]
    },
    {
     "data": {
      "text/plain": [
       "43"
      ]
     },
     "execution_count": 13,
     "metadata": {},
     "output_type": "execute_result"
    }
   ],
   "source": [
    "pyip.inputNum(blockRegexes=[r'[02468]$'])"
   ]
  },
  {
   "cell_type": "markdown",
   "id": "6b0b73d9",
   "metadata": {},
   "source": [
    "If you specify both an `allowRegexes` and `blockRegexes` argument, the allow list overrides the block list."
   ]
  },
  {
   "cell_type": "code",
   "execution_count": 14,
   "id": "c4eac014",
   "metadata": {},
   "outputs": [
    {
     "name": "stdout",
     "output_type": "stream",
     "text": [
      "cat\n",
      "This response is invalid.\n",
      "catastrophe\n",
      "This response is invalid.\n",
      "category\n"
     ]
    },
    {
     "data": {
      "text/plain": [
       "'category'"
      ]
     },
     "execution_count": 14,
     "metadata": {},
     "output_type": "execute_result"
    }
   ],
   "source": [
    "pyip.inputStr(allowRegexes=[r'caterpillar', 'category'], blockRegexes=[r'cat'])"
   ]
  },
  {
   "cell_type": "markdown",
   "id": "bc5ed7d7",
   "metadata": {},
   "source": [
    "### Passing a Custom Validation Function to `inputCustom()`\n",
    "\n",
    "You can write a function to perform your own custom validation logic by passing the function to `inputCustom()`. For example, say you want the user to enter a series of digits that adds up to 10."
   ]
  },
  {
   "cell_type": "code",
   "execution_count": 20,
   "id": "51ad5536",
   "metadata": {},
   "outputs": [],
   "source": [
    "def addsUpToTen(numbers):\n",
    "    numbersList = list(numbers)\n",
    "    for i, digit in enumerate(numbersList):\n",
    "        numbersList[i] = int(digit)\n",
    "    if sum(numbersList) != 10:\n",
    "        raise Exception(f'The digits must add up to 10, not {sum(numbersList)}.')\n",
    "        \n",
    "    return int(numbers)  # Return an int form of numbers."
   ]
  },
  {
   "cell_type": "code",
   "execution_count": 22,
   "id": "69b8a93d",
   "metadata": {},
   "outputs": [
    {
     "name": "stdout",
     "output_type": "stream",
     "text": [
      "123\n",
      "The digits must add up to 10, not 6.\n",
      "1235\n",
      "The digits must add up to 10, not 11.\n",
      "1234\n"
     ]
    },
    {
     "data": {
      "text/plain": [
       "1234"
      ]
     },
     "execution_count": 22,
     "metadata": {},
     "output_type": "execute_result"
    }
   ],
   "source": [
    "pyip.inputCustom(addsUpToTen)"
   ]
  },
  {
   "cell_type": "code",
   "execution_count": 23,
   "id": "1d4eb6bb",
   "metadata": {},
   "outputs": [
    {
     "name": "stdout",
     "output_type": "stream",
     "text": [
      "hello\n",
      "invalid literal for int() with base 10: 'h'\n",
      "55\n"
     ]
    },
    {
     "data": {
      "text/plain": [
       "55"
      ]
     },
     "execution_count": 23,
     "metadata": {},
     "output_type": "execute_result"
    }
   ],
   "source": [
    "pyip.inputCustom(addsUpToTen)"
   ]
  },
  {
   "cell_type": "markdown",
   "id": "4ad23933",
   "metadata": {},
   "source": [
    "## Project: How to Keep an Idiot Busy for Hours"
   ]
  },
  {
   "cell_type": "code",
   "execution_count": 9,
   "id": "9fc33568",
   "metadata": {},
   "outputs": [
    {
     "name": "stdout",
     "output_type": "stream",
     "text": [
      "Want to know how to keep an idiot busy for hours?\n",
      "sure\n",
      "'sure' is not a valid yes/no response.\n",
      "Want to know how to keep an idiot busy for hours?\n",
      "yes\n",
      "Want to know how to keep an idiot busy for hours?\n",
      "y\n",
      "Want to know how to keep an idiot busy for hours?\n",
      "Yes\n",
      "Want to know how to keep an idiot busy for hours?\n",
      "YES\n",
      "Want to know how to keep an idiot busy for hours?\n",
      "YES!!!!!\n",
      "'YES!!!!!' is not a valid yes/no response.\n",
      "Want to know how to keep an idiot busy for hours?\n",
      "TELL ME HOW TO KEEP AN IDIOT BUSY FOR HOURS.\n",
      "'TELL ME HOW TO KEEP AN IDIOT BUSY FOR HOURS.' is not a valid yes/no response.\n",
      "Want to know how to keep an idiot busy for hours?\n",
      "NO\n",
      "Thank you. Have a nice day.\n"
     ]
    }
   ],
   "source": [
    "while True:\n",
    "    prompt = \"Want to know how to keep an idiot busy for hours?\\n\"\n",
    "    response = pyip.inputYesNo(prompt)\n",
    "\n",
    "    if response == 'no':\n",
    "        break\n",
    "print(\"Thank you. Have a nice day.\")"
   ]
  },
  {
   "cell_type": "markdown",
   "id": "0be14a1c",
   "metadata": {},
   "source": [
    "## Project: Multiplication Quiz"
   ]
  },
  {
   "cell_type": "code",
   "execution_count": 9,
   "id": "2caed11b",
   "metadata": {},
   "outputs": [
    {
     "name": "stdout",
     "output_type": "stream",
     "text": [
      "#1: 7 x 4 = 28\n",
      "Out of time!\n",
      "#2: 8 x 0 = 1\n",
      "Incorrect!\n",
      "#2: 8 x 0 = 2\n",
      "Incorrect!\n",
      "#2: 8 x 0 = 3\n",
      "Incorrect!\n",
      "Out of tries!\n",
      "#3: 1 x 7 = 6\n",
      "Incorrect!\n",
      "#3: 1 x 7 = 7\n",
      "Correct!\n",
      "#4: 6 x 2 = 12\n",
      "Correct!\n",
      "#5: 6 x 6 = 36\n",
      "Correct!\n",
      "#6: 4 x 4 = 16\n",
      "Correct!\n",
      "#7: 0 x 1 = 0\n",
      "Correct!\n",
      "#8: 6 x 8 = 48\n",
      "Correct!\n",
      "#9: 2 x 5 = 10\n",
      "Correct!\n",
      "#10: 8 x 1 = 8\n",
      "Correct!\n",
      "Score: 8 / 10\n"
     ]
    }
   ],
   "source": [
    "import time\n",
    "import random\n",
    "import pyinputplus as pyip\n",
    "\n",
    "numberOfQuestions = 10\n",
    "correctAnswers = 0\n",
    "\n",
    "for questionNumber in range(1, numberOfQuestions + 1):\n",
    "    \n",
    "        # Pick two random numbers:\n",
    "        num1 = random.randint(0, 9)\n",
    "        num2 = random.randint(0, 9)\n",
    "        \n",
    "        prompt = f\"#{questionNumber}: {num1} x {num2} = \"\n",
    "        \n",
    "        try:\n",
    "            # Right answers are handled by allowRegexes.\n",
    "            # Wrong answers are handled by blockRegexes, with a custom message.\n",
    "            pyip.inputStr(prompt, allowRegexes=[f'^{num1*num2}$'],\n",
    "                          blockRegexes=[(\".*\", \"Incorrect!\")],\n",
    "                          timeout=8, limit=3)\n",
    "\n",
    "        except pyip.TimeoutException:\n",
    "            print('Out of time!')\n",
    "\n",
    "        except pyip.RetryLimitException:\n",
    "            print('Out of tries!')\n",
    "\n",
    "        else:\n",
    "            # This block runs if no exceptions were raised in the try block.\n",
    "            print('Correct!')\n",
    "            correctAnswers += 1\n",
    "\n",
    "        # Brief pause to let user see the result.\n",
    "        time.sleep(1)\n",
    "\n",
    "print(f\"Score: {correctAnswers} / {numberOfQuestions}\")"
   ]
  },
  {
   "cell_type": "markdown",
   "id": "2128e3ee",
   "metadata": {},
   "source": [
    "### How can you ensure that the user enters a whole number between 0 and 99 using PyInputPlus?"
   ]
  },
  {
   "cell_type": "code",
   "execution_count": 3,
   "id": "94d3abe8",
   "metadata": {},
   "outputs": [
    {
     "name": "stdout",
     "output_type": "stream",
     "text": [
      "Enter a number: -1\n",
      "This response is invalid.\n",
      "Enter a number: -19\n",
      "This response is invalid.\n",
      "Enter a number: 100\n",
      "This response is invalid.\n",
      "Enter a number: 999\n",
      "This response is invalid.\n",
      "Enter a number: 123\n",
      "This response is invalid.\n",
      "Enter a number: 45\n"
     ]
    }
   ],
   "source": [
    "response = pyip.inputInt(\"Enter a number: \", allowRegexes=[r'^[0-9]{1,2}$'],\n",
    "                         blockRegexes=[r'.*'])"
   ]
  },
  {
   "cell_type": "code",
   "execution_count": 4,
   "id": "ae91abef",
   "metadata": {},
   "outputs": [
    {
     "data": {
      "text/plain": [
       "45"
      ]
     },
     "execution_count": 4,
     "metadata": {},
     "output_type": "execute_result"
    }
   ],
   "source": [
    "response"
   ]
  },
  {
   "cell_type": "markdown",
   "id": "f9e1725c",
   "metadata": {},
   "source": [
    "## Practice Projects"
   ]
  },
  {
   "cell_type": "markdown",
   "id": "a7e65e0e",
   "metadata": {},
   "source": [
    "### Sandwich Maker\n",
    "\n",
    "Write a program that asks users for their sandwich preferences. The program should use PyInputPlus to ensure that they enter valid input, such as:\n",
    "\n",
    "- Using `inputMenu()` for a bread type: wheat, white, or sourdough.\n",
    "- Using `inputMenu()` for a protein type: chicken, turkey, ham, or tofu.\n",
    "- Using `inputYesNo()` to ask if they want cheese.\n",
    "- If so, using `inputMenu()` to ask for a cheese type: cheddar, Swiss, or mozzarella.\n",
    "- Using `inputYesNo()` to ask if they want mayo, mustard, lettuce, or tomato.\n",
    "- Using `inputInt()` to ask how many sandwiches they want. Make sure this number is 1 or more.\n",
    "\n",
    "Come up with prices for each of these options, and have your program display a total cost after the user enters their selection."
   ]
  },
  {
   "cell_type": "code",
   "execution_count": 9,
   "id": "409e45ad",
   "metadata": {},
   "outputs": [
    {
     "name": "stdout",
     "output_type": "stream",
     "text": [
      "Choose a bread type:\n",
      "* wheat\n",
      "* white\n",
      "* sourdough\n",
      "wheat\n",
      "\n",
      "Choose a protein type:\n",
      "* chicken\n",
      "* turkey\n",
      "* ham\n",
      "* toifu\n",
      "chicken\n",
      "\n",
      "Do you want cheese: yes\n",
      "\n",
      "Which type of cheese you want:\n",
      "* cheddar\n",
      "* Swiss\n",
      "* mozzarella\n",
      "cheddar\n",
      "\n",
      "Do you want mayo, mustard, lettuce or tomato? yes\n",
      "How many sandwiches you want: 2\n"
     ]
    },
    {
     "data": {
      "text/plain": [
       "2"
      ]
     },
     "execution_count": 9,
     "metadata": {},
     "output_type": "execute_result"
    }
   ],
   "source": [
    "# price_dict = {}\n",
    "# total_cost = 0\n",
    "\n",
    "bread_type = pyip.inputMenu(choices=['wheat', 'white', 'sourdough'],\n",
    "                            prompt=\"Choose a bread type:\\n\")\n",
    "protein_type = pyip.inputMenu(choices=['chicken', 'turkey', 'ham', 'toifu'],\n",
    "                              prompt=\"\\nChoose a protein type:\\n\")\n",
    "is_cheese = pyip.inputYesNo(prompt=\"\\nDo you want cheese: \")\n",
    "if is_cheese == 'yes':\n",
    "    cheese_type = pyip.inputMenu(['cheddar', 'Swiss', 'mozzarella'],\n",
    "                                 prompt=\"\\nWhich type of cheese you want:\\n\")\n",
    "extra = pyip.inputYesNo(prompt=\"\\nDo you want mayo, mustard, lettuce or tomato? \")\n",
    "pyip.inputInt(prompt=\"How many sandwiches you want: \")\n",
    "\n",
    "# print(f\"Total Price:\", total_cost)"
   ]
  },
  {
   "cell_type": "markdown",
   "id": "c9ddcd10",
   "metadata": {},
   "source": [
    "### Write Your Own Multiplication Quiz\n",
    "\n",
    "To see how much PyInputPlus is doing for you, try re-creating the multiplication quiz project on your own without importing it. This program will prompt the user with 10 multiplication questions, ranging from 0 × 0 to 9 × 9. You’ll need to implement the following features:\n",
    "\n",
    "- If the user enters the correct answer, the program displays “Correct!” for 1 second and moves on to the next question.\n",
    "- The user gets three tries to enter the correct answer before the program moves on to the next question.\n",
    "- Eight seconds after first displaying the question, the question is marked as incorrect even if the user enters the correct answer after the 8-second limit.\n",
    "\n",
    "Compare your code to the code using PyInputPlus in “Project: Multiplication Quiz”"
   ]
  },
  {
   "cell_type": "code",
   "execution_count": 8,
   "id": "0a423bf3",
   "metadata": {},
   "outputs": [
    {
     "name": "stdout",
     "output_type": "stream",
     "text": [
      "#1: 3 * 5 = 15\n",
      "Out of time!\n",
      "#2: 2 * 2 = 4\n",
      "Correct!\n",
      "#3: 9 * 9 = 80\n",
      "This response is invalid.\n",
      "#3: 9 * 9 = 88\n",
      "This response is invalid.\n",
      "Out of time!\n",
      "#4: 3 * 1 = 3\n",
      "Correct!\n",
      "#5: 4 * 6 = 21\n",
      "This response is invalid.\n",
      "#5: 4 * 6 = 22\n",
      "This response is invalid.\n",
      "#5: 4 * 6 = 23\n",
      "This response is invalid.\n",
      "Out of tries!\n",
      "#6: 9 * 6 = 54\n",
      "Correct!\n",
      "#7: 7 * 7 = 498\n",
      "This response is invalid.\n",
      "#7: 7 * 7 = 49\n",
      "Correct!\n",
      "#8: 9 * 1 = 9\n",
      "Correct!\n",
      "#9: 1 * 5 = 5\n",
      "Correct!\n",
      "#10: 9 * 9 = 81\n",
      "Correct!\n",
      "Score: 7 / 10\n"
     ]
    }
   ],
   "source": [
    "import time\n",
    "import random\n",
    "import pyinputplus as pyip\n",
    "\n",
    "n_questions = 10\n",
    "correct_answers = 0\n",
    "\n",
    "for q_num in range(1, n_questions + 1):\n",
    "    num1 = random.randint(0, 9)\n",
    "    num2 = random.randint(0, 9)\n",
    "    \n",
    "    prompt = f\"#{q_num}: {num1} * {num2} = \"\n",
    "    \n",
    "    try:\n",
    "        pyip.inputStr(prompt, allowRegexes=[f\"^{num1*num2}$\"],\n",
    "                      blockRegexes=[r\".*\", \"Incorrect!\"],\n",
    "                      limit=3, timeout=7)\n",
    "\n",
    "    except pyip.RetryLimitException:\n",
    "        print(\"Out of tries!\")\n",
    "\n",
    "    except pyip.TimeoutException:\n",
    "        print(\"Out of time!\")\n",
    "        \n",
    "    else:\n",
    "        print(\"Correct!\")\n",
    "        correct_answers += 1\n",
    "    \n",
    "    time.sleep(1)  # Wait a second for user read the result.\n",
    "\n",
    "print(f\"\\nScore: {correct_answers} / {n_questions}\")"
   ]
  }
 ],
 "metadata": {
  "kernelspec": {
   "display_name": "Python 3 (ipykernel)",
   "language": "python",
   "name": "python3"
  },
  "language_info": {
   "codemirror_mode": {
    "name": "ipython",
    "version": 3
   },
   "file_extension": ".py",
   "mimetype": "text/x-python",
   "name": "python",
   "nbconvert_exporter": "python",
   "pygments_lexer": "ipython3",
   "version": "3.9.13"
  },
  "vscode": {
   "interpreter": {
    "hash": "2c7666c1320a956fa05893d10993164efa76d3af81fc7470d6f4943526f3df36"
   }
  }
 },
 "nbformat": 4,
 "nbformat_minor": 5
}
