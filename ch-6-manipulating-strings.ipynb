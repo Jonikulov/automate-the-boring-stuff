{
 "cells": [
  {
   "cell_type": "markdown",
   "id": "a34690bb",
   "metadata": {},
   "source": [
    "# MANIPULATING STRINGS"
   ]
  },
  {
   "cell_type": "code",
   "execution_count": 2,
   "id": "b8af13f0",
   "metadata": {},
   "outputs": [],
   "source": [
    "## PAGE -> 179"
   ]
  },
  {
   "cell_type": "code",
   "execution_count": null,
   "id": "73231a0c",
   "metadata": {},
   "outputs": [],
   "source": []
  }
 ],
 "metadata": {
  "kernelspec": {
   "display_name": "Python 3 (ipykernel)",
   "language": "python",
   "name": "python3"
  },
  "language_info": {
   "codemirror_mode": {
    "name": "ipython",
    "version": 3
   },
   "file_extension": ".py",
   "mimetype": "text/x-python",
   "name": "python",
   "nbconvert_exporter": "python",
   "pygments_lexer": "ipython3",
   "version": "3.10.5"
  }
 },
 "nbformat": 4,
 "nbformat_minor": 5
}
