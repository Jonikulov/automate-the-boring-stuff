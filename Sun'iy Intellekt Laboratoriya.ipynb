{
 "cells": [
  {
   "cell_type": "markdown",
   "id": "1e7aad7f",
   "metadata": {},
   "source": [
    "# SUN'IY INTELLEKT\n",
    "\n",
    "### 1-laboratoriya ishi\n",
    "\n",
    "## MAVZU: Sun'iy intellektning matematik algoritmlari"
   ]
  },
  {
   "cell_type": "code",
   "execution_count": 2,
   "id": "9d5dc24e",
   "metadata": {},
   "outputs": [
    {
     "data": {
      "text/plain": [
       "815981654643"
      ]
     },
     "execution_count": 2,
     "metadata": {},
     "output_type": "execute_result"
    }
   ],
   "source": [
    "815981654643131 // 1000"
   ]
  },
  {
   "cell_type": "code",
   "execution_count": null,
   "id": "bb57dcca",
   "metadata": {},
   "outputs": [],
   "source": []
  },
  {
   "cell_type": "code",
   "execution_count": null,
   "id": "e0ecc8b8",
   "metadata": {},
   "outputs": [],
   "source": []
  },
  {
   "cell_type": "code",
   "execution_count": null,
   "id": "625e8ddc",
   "metadata": {},
   "outputs": [],
   "source": []
  }
 ],
 "metadata": {
  "kernelspec": {
   "display_name": "Python [conda env:root] *",
   "language": "python",
   "name": "conda-root-py"
  },
  "language_info": {
   "codemirror_mode": {
    "name": "ipython",
    "version": 3
   },
   "file_extension": ".py",
   "mimetype": "text/x-python",
   "name": "python",
   "nbconvert_exporter": "python",
   "pygments_lexer": "ipython3",
   "version": "3.9.13"
  }
 },
 "nbformat": 4,
 "nbformat_minor": 5
}
