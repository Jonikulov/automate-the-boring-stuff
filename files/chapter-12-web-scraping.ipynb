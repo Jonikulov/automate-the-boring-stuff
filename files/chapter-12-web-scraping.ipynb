{
 "cells": [
  {
   "cell_type": "code",
   "execution_count": 1,
   "id": "967d570f",
   "metadata": {},
   "outputs": [
    {
     "name": "stdout",
     "output_type": "stream",
     "text": [
      "https://google.com/maps/place/f+CUsersjavohAppDataRoamingjupyterruntimekernele13daea8923f4519b80434dfe9b27974json/\n"
     ]
    }
   ],
   "source": [
    "# map_it.py - Launches a map in the browser using an\n",
    "# address from the command line or clipboard.\n",
    "# sample address: 870 Valencia St, San Francisco, CA 94110\n",
    "\n",
    "import webbrowser as wb\n",
    "import sys, pyperclip\n",
    "\n",
    "if len(sys.argv) > 1:\n",
    "    # get address from command line\n",
    "    address = ' '.join(sys.argv[1:])\n",
    "else:\n",
    "    # get address from clipboard\n",
    "    address = pyperclip.paste()\n",
    "\n",
    "string_address = \"\"\n",
    "for char in address:\n",
    "    if char.isalnum() or char.isspace():\n",
    "        string_address += char\n",
    "\n",
    "string_address = '+'.join(string_address.split())\n",
    "url = f\"https://google.com/maps/place/{string_address}/\"\n",
    "wb.open(url)\n",
    "print(url)"
   ]
  },
  {
   "cell_type": "code",
   "execution_count": 3,
   "id": "c6e43192",
   "metadata": {},
   "outputs": [],
   "source": [
    "# Use the BeautifulSoup and requests Python packages to print out a\n",
    "# list of all the article titles on the New York Times homepage.\n",
    "\n",
    "import requests\n",
    "from bs4 import BeautifulSoup\n",
    "\n",
    "url = 'https://nytimes.com'\n",
    "r = requests.get(url)\n",
    "\n",
    "text_html = r.text\n",
    "\n",
    "soup = BeautifulSoup(text_html, features=\"html5lib\")\n",
    "\n",
    "# title = soup.find_all('h2')\n",
    "# print(title)\n",
    "\n",
    "for title in soup.find_all('span'):\n",
    "    print(title.get_text())\n",
    "\n",
    "for story_heading in soup.find_all(class_=\"css-hdqqnpa\"): \n",
    "    print(story_heading)\n",
    "\n",
    "for story_heading in soup.find_all('h1'): \n",
    "    print(story_heading)\n",
    "\n",
    "\n",
    "# filename = 'html_file.html'\n",
    "# with open(filename,'w') as file:\n",
    "#     for link in soup.find_all('h3'):\n",
    "#         file.write(link.get_text())\n",
    "#         file.write('\\n')"
   ]
  },
  {
   "cell_type": "code",
   "execution_count": null,
   "id": "f098b277",
   "metadata": {},
   "outputs": [],
   "source": []
  }
 ],
 "metadata": {
  "kernelspec": {
   "display_name": "Python 3 (ipykernel)",
   "language": "python",
   "name": "python3"
  },
  "language_info": {
   "codemirror_mode": {
    "name": "ipython",
    "version": 3
   },
   "file_extension": ".py",
   "mimetype": "text/x-python",
   "name": "python",
   "nbconvert_exporter": "python",
   "pygments_lexer": "ipython3",
   "version": "3.10.5"
  }
 },
 "nbformat": 4,
 "nbformat_minor": 5
}
