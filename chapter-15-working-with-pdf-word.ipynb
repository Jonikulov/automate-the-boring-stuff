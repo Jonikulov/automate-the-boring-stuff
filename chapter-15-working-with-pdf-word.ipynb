{
 "cells": [
  {
   "cell_type": "markdown",
   "id": "0f033327",
   "metadata": {},
   "source": [
    "# Chapter 14: WORKING WITH PDF AND WORD DOCUMENTS"
   ]
  },
  {
   "cell_type": "markdown",
   "id": "887296cb",
   "metadata": {},
   "source": [
    "## PDF Documents\n",
    "\n",
    "`! pip install PyPDF2==1.26.0`"
   ]
  },
  {
   "cell_type": "markdown",
   "id": "8823a3de",
   "metadata": {},
   "source": [
    "### Extracting Text from PDFs"
   ]
  },
  {
   "cell_type": "code",
   "execution_count": null,
   "id": "92a77776",
   "metadata": {},
   "outputs": [],
   "source": []
  },
  {
   "cell_type": "code",
   "execution_count": null,
   "id": "b0d9f31b",
   "metadata": {},
   "outputs": [],
   "source": []
  }
 ],
 "metadata": {
  "kernelspec": {
   "display_name": "Python 3.10.5 64-bit",
   "language": "python",
   "name": "python3"
  },
  "language_info": {
   "codemirror_mode": {
    "name": "ipython",
    "version": 3
   },
   "file_extension": ".py",
   "mimetype": "text/x-python",
   "name": "python",
   "nbconvert_exporter": "python",
   "pygments_lexer": "ipython3",
   "version": "3.10.5"
  },
  "vscode": {
   "interpreter": {
    "hash": "2c7666c1320a956fa05893d10993164efa76d3af81fc7470d6f4943526f3df36"
   }
  }
 },
 "nbformat": 4,
 "nbformat_minor": 5
}
