{
 "cells": [
  {
   "cell_type": "markdown",
   "id": "0f033327",
   "metadata": {},
   "source": [
    "# Chapter 15: WORKING WITH PDF AND WORD DOCUMENTS"
   ]
  },
  {
   "cell_type": "markdown",
   "id": "887296cb",
   "metadata": {},
   "source": [
    "## PDF Documents\n",
    "\n",
    "`$ pip install PyPDF2==1.26.0`"
   ]
  },
  {
   "cell_type": "code",
   "execution_count": 34,
   "id": "ea61dd67",
   "metadata": {},
   "outputs": [
    {
     "data": {
      "text/plain": [
       "'2.11.1'"
      ]
     },
     "execution_count": 34,
     "metadata": {},
     "output_type": "execute_result"
    }
   ],
   "source": [
    "import PyPDF2\n",
    "PyPDF2.__version__"
   ]
  },
  {
   "cell_type": "markdown",
   "id": "8823a3de",
   "metadata": {},
   "source": [
    "### Extracting Text from PDFs"
   ]
  },
  {
   "cell_type": "code",
   "execution_count": 1,
   "id": "e340510e",
   "metadata": {},
   "outputs": [
    {
     "data": {
      "text/plain": [
       "19"
      ]
     },
     "execution_count": 1,
     "metadata": {},
     "output_type": "execute_result"
    }
   ],
   "source": [
    "import PyPDF2\n",
    "\n",
    "pdfFileObj = open(\"automate-online-materials/meetingminutes.pdf\", 'rb')\n",
    "pdfReader = PyPDF2.PdfFileReader(pdfFileObj)\n",
    "pdfReader.numPages"
   ]
  },
  {
   "cell_type": "code",
   "execution_count": 2,
   "id": "9a82e7f1",
   "metadata": {},
   "outputs": [
    {
     "name": "stdout",
     "output_type": "stream",
     "text": [
      "OOFFFFIICCIIAALL  BBOOAARRDD  MMIINNUUTTEESS  \n",
      " \n",
      "Meeting of March 7 , 2014  \n",
      " \n",
      " \n",
      " \n",
      "  \n",
      " \n",
      "  \n",
      " \n",
      "   \n",
      "The Board of Elementary and Secondary Education shall provide leadership and \n",
      "create policies for education that expand opportunities for children, empower \n",
      "families and communities, and advance Louisiana in an increasingly \n",
      "competitive glob al market.  BOARD  \n",
      "of \n",
      "ELEMENTARY  \n",
      "and  \n",
      "SECONDARY  \n",
      "EDUCATION  \n",
      " \n"
     ]
    }
   ],
   "source": [
    "pageObj = pdfReader.getPage(0)\n",
    "print(pageObj.extract_text(0))\n",
    "pdfFileObj.close()"
   ]
  },
  {
   "cell_type": "markdown",
   "id": "0620b8e4",
   "metadata": {},
   "source": [
    "### Decrypting PDFs"
   ]
  },
  {
   "cell_type": "code",
   "execution_count": 3,
   "id": "ff513fe7",
   "metadata": {
    "scrolled": true
   },
   "outputs": [
    {
     "data": {
      "text/plain": [
       "True"
      ]
     },
     "execution_count": 3,
     "metadata": {},
     "output_type": "execute_result"
    }
   ],
   "source": [
    "import PyPDF2\n",
    "\n",
    "pdfReader = PyPDF2.PdfFileReader(open(\"automate-online-materials/encrypted.pdf\", 'rb'))\n",
    "pdfReader.is_encrypted"
   ]
  },
  {
   "cell_type": "code",
   "execution_count": 4,
   "id": "bbea58a4",
   "metadata": {
    "scrolled": true
   },
   "outputs": [
    {
     "ename": "FileNotDecryptedError",
     "evalue": "File has not been decrypted",
     "output_type": "error",
     "traceback": [
      "\u001b[0;31m---------------------------------------------------------------------------\u001b[0m",
      "\u001b[0;31mFileNotDecryptedError\u001b[0m                     Traceback (most recent call last)",
      "Cell \u001b[0;32mIn [4], line 1\u001b[0m\n\u001b[0;32m----> 1\u001b[0m \u001b[43mpdfReader\u001b[49m\u001b[38;5;241;43m.\u001b[39;49m\u001b[43mgetPage\u001b[49m\u001b[43m(\u001b[49m\u001b[38;5;241;43m0\u001b[39;49m\u001b[43m)\u001b[49m\n",
      "File \u001b[0;32m~/miniconda3/lib/python3.9/site-packages/PyPDF2/_reader.py:477\u001b[0m, in \u001b[0;36mPdfReader.getPage\u001b[0;34m(self, pageNumber)\u001b[0m\n\u001b[1;32m    469\u001b[0m \u001b[38;5;124;03m\"\"\"\u001b[39;00m\n\u001b[1;32m    470\u001b[0m \u001b[38;5;124;03m.. deprecated:: 1.28.0\u001b[39;00m\n\u001b[1;32m    471\u001b[0m \n\u001b[1;32m    472\u001b[0m \u001b[38;5;124;03m    Use :code:`reader.pages[pageNumber]` instead.\u001b[39;00m\n\u001b[1;32m    473\u001b[0m \u001b[38;5;124;03m\"\"\"\u001b[39;00m\n\u001b[1;32m    474\u001b[0m deprecate_with_replacement(\n\u001b[1;32m    475\u001b[0m     \u001b[38;5;124m\"\u001b[39m\u001b[38;5;124mreader.getPage(pageNumber)\u001b[39m\u001b[38;5;124m\"\u001b[39m, \u001b[38;5;124m\"\u001b[39m\u001b[38;5;124mreader.pages[pageNumber]\u001b[39m\u001b[38;5;124m\"\u001b[39m\n\u001b[1;32m    476\u001b[0m )\n\u001b[0;32m--> 477\u001b[0m \u001b[38;5;28;01mreturn\u001b[39;00m \u001b[38;5;28;43mself\u001b[39;49m\u001b[38;5;241;43m.\u001b[39;49m\u001b[43m_get_page\u001b[49m\u001b[43m(\u001b[49m\u001b[43mpageNumber\u001b[49m\u001b[43m)\u001b[49m\n",
      "File \u001b[0;32m~/miniconda3/lib/python3.9/site-packages/PyPDF2/_reader.py:490\u001b[0m, in \u001b[0;36mPdfReader._get_page\u001b[0;34m(self, page_number)\u001b[0m\n\u001b[1;32m    487\u001b[0m \u001b[38;5;66;03m# ensure that we're not trying to access an encrypted PDF\u001b[39;00m\n\u001b[1;32m    488\u001b[0m \u001b[38;5;66;03m# assert not self.trailer.has_key(TK.ENCRYPT)\u001b[39;00m\n\u001b[1;32m    489\u001b[0m \u001b[38;5;28;01mif\u001b[39;00m \u001b[38;5;28mself\u001b[39m\u001b[38;5;241m.\u001b[39mflattened_pages \u001b[38;5;129;01mis\u001b[39;00m \u001b[38;5;28;01mNone\u001b[39;00m:\n\u001b[0;32m--> 490\u001b[0m     \u001b[38;5;28;43mself\u001b[39;49m\u001b[38;5;241;43m.\u001b[39;49m\u001b[43m_flatten\u001b[49m\u001b[43m(\u001b[49m\u001b[43m)\u001b[49m\n\u001b[1;32m    491\u001b[0m \u001b[38;5;28;01massert\u001b[39;00m \u001b[38;5;28mself\u001b[39m\u001b[38;5;241m.\u001b[39mflattened_pages \u001b[38;5;129;01mis\u001b[39;00m \u001b[38;5;129;01mnot\u001b[39;00m \u001b[38;5;28;01mNone\u001b[39;00m, \u001b[38;5;124m\"\u001b[39m\u001b[38;5;124mhint for mypy\u001b[39m\u001b[38;5;124m\"\u001b[39m\n\u001b[1;32m    492\u001b[0m \u001b[38;5;28;01mreturn\u001b[39;00m \u001b[38;5;28mself\u001b[39m\u001b[38;5;241m.\u001b[39mflattened_pages[page_number]\n",
      "File \u001b[0;32m~/miniconda3/lib/python3.9/site-packages/PyPDF2/_reader.py:1074\u001b[0m, in \u001b[0;36mPdfReader._flatten\u001b[0;34m(self, pages, inherit, indirect_ref)\u001b[0m\n\u001b[1;32m   1070\u001b[0m     inherit \u001b[38;5;241m=\u001b[39m {}\n\u001b[1;32m   1071\u001b[0m \u001b[38;5;28;01mif\u001b[39;00m pages \u001b[38;5;129;01mis\u001b[39;00m \u001b[38;5;28;01mNone\u001b[39;00m:\n\u001b[1;32m   1072\u001b[0m     \u001b[38;5;66;03m# Fix issue 327: set flattened_pages attribute only for\u001b[39;00m\n\u001b[1;32m   1073\u001b[0m     \u001b[38;5;66;03m# decrypted file\u001b[39;00m\n\u001b[0;32m-> 1074\u001b[0m     catalog \u001b[38;5;241m=\u001b[39m \u001b[38;5;28;43mself\u001b[39;49m\u001b[38;5;241;43m.\u001b[39;49m\u001b[43mtrailer\u001b[49m\u001b[43m[\u001b[49m\u001b[43mTK\u001b[49m\u001b[38;5;241;43m.\u001b[39;49m\u001b[43mROOT\u001b[49m\u001b[43m]\u001b[49m\u001b[38;5;241m.\u001b[39mget_object()\n\u001b[1;32m   1075\u001b[0m     pages \u001b[38;5;241m=\u001b[39m catalog[\u001b[38;5;124m\"\u001b[39m\u001b[38;5;124m/Pages\u001b[39m\u001b[38;5;124m\"\u001b[39m]\u001b[38;5;241m.\u001b[39mget_object()  \u001b[38;5;66;03m# type: ignore\u001b[39;00m\n\u001b[1;32m   1076\u001b[0m     \u001b[38;5;28mself\u001b[39m\u001b[38;5;241m.\u001b[39mflattened_pages \u001b[38;5;241m=\u001b[39m []\n",
      "File \u001b[0;32m~/miniconda3/lib/python3.9/site-packages/PyPDF2/generic/_data_structures.py:149\u001b[0m, in \u001b[0;36mDictionaryObject.__getitem__\u001b[0;34m(self, key)\u001b[0m\n\u001b[1;32m    148\u001b[0m \u001b[38;5;28;01mdef\u001b[39;00m \u001b[38;5;21m__getitem__\u001b[39m(\u001b[38;5;28mself\u001b[39m, key: Any) \u001b[38;5;241m-\u001b[39m\u001b[38;5;241m>\u001b[39m PdfObject:\n\u001b[0;32m--> 149\u001b[0m     \u001b[38;5;28;01mreturn\u001b[39;00m \u001b[38;5;28;43mdict\u001b[39;49m\u001b[38;5;241;43m.\u001b[39;49m\u001b[38;5;21;43m__getitem__\u001b[39;49m\u001b[43m(\u001b[49m\u001b[38;5;28;43mself\u001b[39;49m\u001b[43m,\u001b[49m\u001b[43m \u001b[49m\u001b[43mkey\u001b[49m\u001b[43m)\u001b[49m\u001b[38;5;241;43m.\u001b[39;49m\u001b[43mget_object\u001b[49m\u001b[43m(\u001b[49m\u001b[43m)\u001b[49m\n",
      "File \u001b[0;32m~/miniconda3/lib/python3.9/site-packages/PyPDF2/generic/_base.py:164\u001b[0m, in \u001b[0;36mIndirectObject.get_object\u001b[0;34m(self)\u001b[0m\n\u001b[1;32m    163\u001b[0m \u001b[38;5;28;01mdef\u001b[39;00m \u001b[38;5;21mget_object\u001b[39m(\u001b[38;5;28mself\u001b[39m) \u001b[38;5;241m-\u001b[39m\u001b[38;5;241m>\u001b[39m Optional[PdfObject]:\n\u001b[0;32m--> 164\u001b[0m     obj \u001b[38;5;241m=\u001b[39m \u001b[38;5;28;43mself\u001b[39;49m\u001b[38;5;241;43m.\u001b[39;49m\u001b[43mpdf\u001b[49m\u001b[38;5;241;43m.\u001b[39;49m\u001b[43mget_object\u001b[49m\u001b[43m(\u001b[49m\u001b[38;5;28;43mself\u001b[39;49m\u001b[43m)\u001b[49m\n\u001b[1;32m    165\u001b[0m     \u001b[38;5;28;01mif\u001b[39;00m obj \u001b[38;5;129;01mis\u001b[39;00m \u001b[38;5;28;01mNone\u001b[39;00m:\n\u001b[1;32m    166\u001b[0m         \u001b[38;5;28;01mreturn\u001b[39;00m \u001b[38;5;28;01mNone\u001b[39;00m\n",
      "File \u001b[0;32m~/miniconda3/lib/python3.9/site-packages/PyPDF2/_reader.py:1228\u001b[0m, in \u001b[0;36mPdfReader.get_object\u001b[0;34m(self, indirect_reference)\u001b[0m\n\u001b[1;32m   1225\u001b[0m \u001b[38;5;28;01mif\u001b[39;00m \u001b[38;5;129;01mnot\u001b[39;00m \u001b[38;5;28mself\u001b[39m\u001b[38;5;241m.\u001b[39m_override_encryption \u001b[38;5;129;01mand\u001b[39;00m \u001b[38;5;28mself\u001b[39m\u001b[38;5;241m.\u001b[39m_encryption \u001b[38;5;129;01mis\u001b[39;00m \u001b[38;5;129;01mnot\u001b[39;00m \u001b[38;5;28;01mNone\u001b[39;00m:\n\u001b[1;32m   1226\u001b[0m     \u001b[38;5;66;03m# if we don't have the encryption key:\u001b[39;00m\n\u001b[1;32m   1227\u001b[0m     \u001b[38;5;28;01mif\u001b[39;00m \u001b[38;5;129;01mnot\u001b[39;00m \u001b[38;5;28mself\u001b[39m\u001b[38;5;241m.\u001b[39m_encryption\u001b[38;5;241m.\u001b[39mis_decrypted():\n\u001b[0;32m-> 1228\u001b[0m         \u001b[38;5;28;01mraise\u001b[39;00m FileNotDecryptedError(\u001b[38;5;124m\"\u001b[39m\u001b[38;5;124mFile has not been decrypted\u001b[39m\u001b[38;5;124m\"\u001b[39m)\n\u001b[1;32m   1229\u001b[0m     \u001b[38;5;66;03m# otherwise, decrypt here...\u001b[39;00m\n\u001b[1;32m   1230\u001b[0m     retval \u001b[38;5;241m=\u001b[39m cast(PdfObject, retval)\n",
      "\u001b[0;31mFileNotDecryptedError\u001b[0m: File has not been decrypted"
     ]
    }
   ],
   "source": [
    "pdfReader.getPage(0)"
   ]
  },
  {
   "cell_type": "code",
   "execution_count": 5,
   "id": "b5ded3b7",
   "metadata": {},
   "outputs": [
    {
     "data": {
      "text/plain": [
       "<PasswordType.OWNER_PASSWORD: 2>"
      ]
     },
     "execution_count": 5,
     "metadata": {},
     "output_type": "execute_result"
    }
   ],
   "source": [
    "pdfReader = PyPDF2.PdfFileReader(open(\"automate-online-materials/encrypted.pdf\", 'rb'))\n",
    "pdfReader.decrypt('rosebud')"
   ]
  },
  {
   "cell_type": "code",
   "execution_count": 8,
   "id": "15804b7f",
   "metadata": {},
   "outputs": [
    {
     "name": "stdout",
     "output_type": "stream",
     "text": [
      "OOFFFFIICCIIAALL  BBOOAARRDD  MMIINNUUTTEESS  \n",
      " \n",
      "Meeting of March 7 , 2014  \n",
      " \n",
      " \n",
      " \n",
      "  \n",
      " \n",
      "  \n",
      " \n",
      "   \n",
      "The Board of Elementary and Secondary Education shall provide leadership and \n",
      "create policies for education that expand opportunities for children, empower \n",
      "families and communities, and advance Louisiana in an increasingly \n",
      "competitive glob al market.  BOARD  \n",
      "of \n",
      "ELEMENTARY  \n",
      "and  \n",
      "SECONDARY  \n",
      "EDUCATION  \n",
      " \n"
     ]
    }
   ],
   "source": [
    "print(pdfReader.getPage(0).extract_text(0))"
   ]
  },
  {
   "cell_type": "markdown",
   "id": "4e8c586a",
   "metadata": {},
   "source": [
    "### Copying Pages"
   ]
  },
  {
   "cell_type": "code",
   "execution_count": 9,
   "id": "b686fb75",
   "metadata": {},
   "outputs": [],
   "source": [
    "# Combine two PDF files into a new single PDF.\n",
    "\n",
    "import PyPDF2\n",
    "\n",
    "pdf1File = open('automate-online-materials/meetingminutes.pdf', 'rb')\n",
    "pdf2File = open('automate-online-materials/meetingminutes2.pdf', 'rb')\n",
    "\n",
    "pdf1Reader = PyPDF2.PdfFileReader(pdf1File)\n",
    "pdf2Reader = PyPDF2.PdfFileReader(pdf2File)\n",
    "pdfWriter = PyPDF2.PdfFileWriter()\n",
    "\n",
    "for pageNum in range(pdf1Reader.numPages):\n",
    "    pageObj = pdf1Reader.getPage(pageNum)\n",
    "    pdfWriter.addPage(pageObj)\n",
    "    \n",
    "for pageNum in range(pdf2Reader.numPages):\n",
    "    pageObj = pdf2Reader.getPage(pageNum)\n",
    "    pdfWriter.addPage(pageObj)\n",
    "\n",
    "pdfOutputFile = open('combinedmintes.pdf', 'wb')\n",
    "pdfWriter.write(pdfOutputFile)\n",
    "pdfOutputFile.close()\n",
    "pdf1File.close()\n",
    "pdf2File.close()"
   ]
  },
  {
   "cell_type": "markdown",
   "id": "a1997ca4",
   "metadata": {},
   "source": [
    "### Rotating Pages"
   ]
  },
  {
   "cell_type": "code",
   "execution_count": 1,
   "id": "db3cc269",
   "metadata": {},
   "outputs": [],
   "source": [
    "import PyPDF2\n",
    "\n",
    "pdf_reader = PyPDF2.PdfFileReader(open(\"automate-online-materials/meetingminutes.pdf\", 'rb'))\n",
    "pdf_writer = PyPDF2.PdfFileWriter()\n",
    "\n",
    "page = pdf_reader.pages[0]\n",
    "page.rotate_clockwise(90)\n",
    "pdf_writer.add_page(page)\n",
    "result_pdf = open(\"rotated_page.pdf\", 'wb')\n",
    "pdf_writer.write(result_pdf)\n",
    "\n",
    "result_pdf.close()"
   ]
  },
  {
   "cell_type": "markdown",
   "id": "ced740a0",
   "metadata": {},
   "source": [
    "![rotated-page.jpg](https://automatetheboringstuff.com/2e/images/000098.jpg)"
   ]
  },
  {
   "cell_type": "markdown",
   "id": "de25a822",
   "metadata": {},
   "source": [
    "### Overlaying Pages"
   ]
  },
  {
   "cell_type": "code",
   "execution_count": 9,
   "id": "f0fb95b2",
   "metadata": {},
   "outputs": [],
   "source": [
    "import PyPDF2\n",
    "\n",
    "minutesFile = open(\"automate-online-materials/meetingminutes.pdf\", 'rb')\n",
    "pdfReader = PyPDF2.PdfFileReader(minutesFile)\n",
    "minutesFirstPage = pdfReader.pages[0]\n",
    "pdfWatermarkReaer = PyPDF2.PdfReader(open(\"automate-online-materials/watermark.pdf\", 'rb'))\n",
    "minutesFirstPage.merge_page(pdfWatermarkReaer.pages[0])\n",
    "pdfWriter = PyPDF2.PdfFileWriter()\n",
    "pdfWriter.add_page(minutesFirstPage)\n",
    "\n",
    "for page_num in range(1, len(pdfReader.pages)):\n",
    "    pageObj = pdfReader.pages[page_num]\n",
    "    pdfWriter.add_page(pageObj)\n",
    "\n",
    "resultPdfFile = open(\"watermarkdCover.pdf\", 'wb')\n",
    "pdfWriter.write(resultPdfFile)\n",
    "minutesFile.close()\n",
    "resultPdfFile.close()"
   ]
  },
  {
   "cell_type": "markdown",
   "id": "ba81001a",
   "metadata": {},
   "source": [
    "![watermark-pdf.jpg](https://automatetheboringstuff.com/2e/images/000044.jpg)"
   ]
  },
  {
   "cell_type": "markdown",
   "id": "e1497330",
   "metadata": {},
   "source": [
    "### Encrypting PDFs"
   ]
  },
  {
   "cell_type": "code",
   "execution_count": 10,
   "id": "41a18ff6",
   "metadata": {},
   "outputs": [],
   "source": [
    "import PyPDF2\n",
    "\n",
    "pdfFile = open(\"automate-online-materials/meetingminutes.pdf\", 'rb')\n",
    "pdfReader = PyPDF2.PdfFileReader(pdfFile)\n",
    "pdfWriter = PyPDF2.PdfFileWriter()\n",
    "\n",
    "for page_num in range(len(pdfReader.pages)):\n",
    "    pdfWriter.add_page(pdfReader.pages[page_num])\n",
    "    \n",
    "pdfWriter.encrypt('swordfish')\n",
    "resultPdf = open('encryptedminutes.pdf', 'wb')\n",
    "pdfWriter.write(resultPdf)\n",
    "resultPdf.close()"
   ]
  },
  {
   "cell_type": "markdown",
   "id": "52895b9c",
   "metadata": {},
   "source": [
    "### Project: Combining Select Pages from Many PDFs"
   ]
  },
  {
   "cell_type": "code",
   "execution_count": 31,
   "id": "d6fb8050",
   "metadata": {},
   "outputs": [],
   "source": [
    "\"\"\"Combines all the PDFs in the current working directory into a single PDF.\"\"\"\n",
    "\n",
    "import os\n",
    "import PyPDF2\n",
    "\n",
    "# Get all the PDF filenames.\n",
    "pdfFiles = [file for file in os.listdir('.') if file.endswith('.pdf')]\n",
    "pdfFiles.sort()\n",
    "\n",
    "pdfWriter = PyPDF2.PdfFileWriter()\n",
    "\n",
    "# Loop through all the PDF files.\n",
    "for filename in pdfFiles:\n",
    "    pdfFileObj = open(filename, 'rb')\n",
    "    pdfReader = PyPDF2.PdfFileReader(pdfFileObj)\n",
    "\n",
    "    # Loop through all the pages (except the first) and add them.\n",
    "    for pageNum in range(1, pdfReader.numPages):\n",
    "        pageObj = pdfReader.pages[pageNum]\n",
    "        pdfWriter.add_page(pageObj)\n",
    "\n",
    "# Save the resulting PDF to a file.\n",
    "pdfOutput = open('allminutes.pdf', 'wb')\n",
    "pdfWriter.write(pdfOutput)\n",
    "pdfOutput.close()"
   ]
  },
  {
   "cell_type": "markdown",
   "id": "b4989e9c",
   "metadata": {},
   "source": [
    "#### Ideas for Similar Programs\n",
    "\n",
    "- Cut out specific pages from PDFs.\n",
    "- Reorder pages in a PDF.\n",
    "- Create a PDF from only those pages that have some specific text, identified by `extractText()`."
   ]
  },
  {
   "cell_type": "markdown",
   "id": "b5b6ae99",
   "metadata": {},
   "source": [
    "## Word Documents\n",
    "\n",
    "`$ pip install python-docx`\n",
    "\n",
    "---\n",
    "\n",
    "![word-doc.jpg](https://automatetheboringstuff.com/2e/images/000138.jpg)\n",
    "*The Run objects identified in a Paragraph object*"
   ]
  },
  {
   "cell_type": "code",
   "execution_count": 35,
   "id": "1ec9dbf6",
   "metadata": {},
   "outputs": [
    {
     "data": {
      "text/plain": [
       "'0.8.11'"
      ]
     },
     "execution_count": 35,
     "metadata": {},
     "output_type": "execute_result"
    }
   ],
   "source": [
    "import docx\n",
    "docx.__version__"
   ]
  },
  {
   "cell_type": "markdown",
   "id": "2103fce0",
   "metadata": {},
   "source": [
    "### Reading Word Documents"
   ]
  },
  {
   "cell_type": "code",
   "execution_count": 41,
   "id": "2a26cfc1",
   "metadata": {},
   "outputs": [
    {
     "data": {
      "text/plain": [
       "7"
      ]
     },
     "execution_count": 41,
     "metadata": {},
     "output_type": "execute_result"
    }
   ],
   "source": [
    "import docx\n",
    "\n",
    "doc = docx.Document(\"automate-online-materials/demo.docx\")\n",
    "len(doc.paragraphs)"
   ]
  },
  {
   "cell_type": "code",
   "execution_count": 48,
   "id": "59815834",
   "metadata": {},
   "outputs": [
    {
     "data": {
      "text/plain": [
       "'A plain paragraph with some bold and some italic'"
      ]
     },
     "execution_count": 48,
     "metadata": {},
     "output_type": "execute_result"
    }
   ],
   "source": [
    "doc.paragraphs[1].text"
   ]
  },
  {
   "cell_type": "code",
   "execution_count": 57,
   "id": "bb30c9dd",
   "metadata": {},
   "outputs": [
    {
     "data": {
      "text/plain": [
       "5"
      ]
     },
     "execution_count": 57,
     "metadata": {},
     "output_type": "execute_result"
    }
   ],
   "source": [
    "len(doc.paragraphs[1].runs)"
   ]
  },
  {
   "cell_type": "code",
   "execution_count": 66,
   "id": "c4c8510a",
   "metadata": {},
   "outputs": [
    {
     "data": {
      "text/plain": [
       "'A plain paragraph with'"
      ]
     },
     "execution_count": 66,
     "metadata": {},
     "output_type": "execute_result"
    }
   ],
   "source": [
    "doc.paragraphs[1].runs[0].text"
   ]
  },
  {
   "cell_type": "code",
   "execution_count": 67,
   "id": "acf36e2e",
   "metadata": {},
   "outputs": [
    {
     "data": {
      "text/plain": [
       "' some '"
      ]
     },
     "execution_count": 67,
     "metadata": {},
     "output_type": "execute_result"
    }
   ],
   "source": [
    "doc.paragraphs[1].runs[1].text"
   ]
  },
  {
   "cell_type": "code",
   "execution_count": 68,
   "id": "5ec8b225",
   "metadata": {},
   "outputs": [
    {
     "data": {
      "text/plain": [
       "'bold'"
      ]
     },
     "execution_count": 68,
     "metadata": {},
     "output_type": "execute_result"
    }
   ],
   "source": [
    "doc.paragraphs[1].runs[2].text"
   ]
  },
  {
   "cell_type": "code",
   "execution_count": 69,
   "id": "f3e89dd1",
   "metadata": {},
   "outputs": [
    {
     "data": {
      "text/plain": [
       "' and some '"
      ]
     },
     "execution_count": 69,
     "metadata": {},
     "output_type": "execute_result"
    }
   ],
   "source": [
    "doc.paragraphs[1].runs[3].text"
   ]
  },
  {
   "cell_type": "code",
   "execution_count": 70,
   "id": "be1153c6",
   "metadata": {},
   "outputs": [
    {
     "data": {
      "text/plain": [
       "'italic'"
      ]
     },
     "execution_count": 70,
     "metadata": {},
     "output_type": "execute_result"
    }
   ],
   "source": [
    "doc.paragraphs[1].runs[4].text"
   ]
  },
  {
   "cell_type": "markdown",
   "id": "3da12749",
   "metadata": {},
   "source": [
    "### Getting the Full Text from a .docx File\n",
    "\n",
    "If you care only about the text, not the styling information, in the Word document, you can use the `getText()` function. It accepts a filename of a *.docx* file and returns a single string value of its text."
   ]
  },
  {
   "cell_type": "code",
   "execution_count": 79,
   "id": "7a0705d1",
   "metadata": {},
   "outputs": [
    {
     "name": "stdout",
     "output_type": "stream",
     "text": [
      "Document Title\n",
      "A plain paragraph with some bold and some italic\n",
      "Heading, level 1\n",
      "Intense quote\n",
      "first item in unordered list\n",
      "first item in ordered list\n",
      "\n",
      "\n"
     ]
    }
   ],
   "source": [
    "import docx\n",
    "\n",
    "def getText(filename):\n",
    "    doc = docx.Document(filename)\n",
    "    fullText = []\n",
    "    for para in doc.paragraphs:\n",
    "        fullText.append(para.text)\n",
    "    \n",
    "    return \"\\n\".join(fullText)\n",
    "\n",
    "print(getText(\"automate-online-materials/demo.docx\"))"
   ]
  },
  {
   "cell_type": "markdown",
   "id": "105f3aaa",
   "metadata": {},
   "source": [
    "### Run Attributes\n",
    "\n",
    "`Run` Object `text` Attributes:\n",
    "\n",
    "| Attribute | Description |\n",
    "| :-: | :- |\n",
    "| **`bold`** | The text appears in bold. |\n",
    "| **`italic`** | The text appears in italic. |\n",
    "| **`underline`** | The text is underlined. |\n",
    "| **`strike`** | The text appears with strikethrough. |\n",
    "| **`double_strike`** | The text appears with double strikethrough. |\n",
    "| **`all_caps`** | The text appears in capital letters. |\n",
    "| **`small_caps`** | The text appears in capital letters, with lowercase letters two points smaller. |\n",
    "| **`shadow`** | The text appears with a shadow. |\n",
    "| **`outline`** | The text appears outlined rather than solid. |\n",
    "| **`rtl`** | The text is written right-to-left. |\n",
    "| **`imprint`** | The text appears pressed into the page. |\n",
    "| **`emboss`** | The text appears raised off the page in relief. |"
   ]
  },
  {
   "cell_type": "code",
   "execution_count": 5,
   "id": "11935eea",
   "metadata": {},
   "outputs": [
    {
     "data": {
      "text/plain": [
       "'Document Title'"
      ]
     },
     "execution_count": 5,
     "metadata": {},
     "output_type": "execute_result"
    }
   ],
   "source": [
    "import docx\n",
    "\n",
    "doc = docx.Document(\"automate-online-materials/demo.docx\")\n",
    "doc.paragraphs[0].text"
   ]
  },
  {
   "cell_type": "code",
   "execution_count": 14,
   "id": "8199e835",
   "metadata": {},
   "outputs": [
    {
     "data": {
      "text/plain": [
       "_ParagraphStyle('Title') id: 140293766293104"
      ]
     },
     "execution_count": 14,
     "metadata": {},
     "output_type": "execute_result"
    }
   ],
   "source": [
    "doc.paragraphs[0].style  # The exact id may be different"
   ]
  },
  {
   "cell_type": "code",
   "execution_count": 15,
   "id": "cc3b38fe",
   "metadata": {},
   "outputs": [],
   "source": [
    "doc.paragraphs[0].style = 'Normal'"
   ]
  },
  {
   "cell_type": "code",
   "execution_count": 16,
   "id": "770a88d4",
   "metadata": {},
   "outputs": [
    {
     "data": {
      "text/plain": [
       "'A plain paragraph with some bold and some italic'"
      ]
     },
     "execution_count": 16,
     "metadata": {},
     "output_type": "execute_result"
    }
   ],
   "source": [
    "doc.paragraphs[1].text"
   ]
  },
  {
   "cell_type": "code",
   "execution_count": 18,
   "id": "306b2d2d",
   "metadata": {},
   "outputs": [
    {
     "data": {
      "text/plain": [
       "('A plain paragraph with', ' some ', 'bold', ' and some ', 'italic')"
      ]
     },
     "execution_count": 18,
     "metadata": {},
     "output_type": "execute_result"
    }
   ],
   "source": [
    "(doc.paragraphs[1].runs[0].text, doc.paragraphs[1].runs[1].text, doc.paragraphs[1].runs[2].text, doc.paragraphs[1].runs[3].text, doc.paragraphs[1].runs[4].text)"
   ]
  },
  {
   "cell_type": "code",
   "execution_count": 23,
   "id": "99c11138",
   "metadata": {},
   "outputs": [
    {
     "name": "stderr",
     "output_type": "stream",
     "text": [
      "/home/javohir/miniconda3/lib/python3.9/site-packages/docx/styles/styles.py:139: UserWarning: style lookup by style_id is deprecated. Use style name as key instead.\n",
      "  return self._get_style_id_from_style(self[style_name], style_type)\n"
     ]
    }
   ],
   "source": [
    "doc.paragraphs[1].runs[0].style = 'QuoteChar'\n",
    "doc.paragraphs[1].runs[1].underline = True\n",
    "doc.paragraphs[1].runs[3].underline = True\n",
    "doc.save('restyled.docx')"
   ]
  },
  {
   "cell_type": "markdown",
   "id": "2242ca3d",
   "metadata": {},
   "source": [
    "### Writing Word Documents"
   ]
  },
  {
   "cell_type": "code",
   "execution_count": 3,
   "id": "23889ef0",
   "metadata": {},
   "outputs": [
    {
     "data": {
      "text/plain": [
       "<docx.text.paragraph.Paragraph at 0x7f0cba498c40>"
      ]
     },
     "execution_count": 3,
     "metadata": {},
     "output_type": "execute_result"
    }
   ],
   "source": [
    "import docx\n",
    "\n",
    "doc = docx.Document()\n",
    "doc.add_paragraph(\"Hello, world!\")"
   ]
  },
  {
   "cell_type": "code",
   "execution_count": 4,
   "id": "b1151b0e",
   "metadata": {},
   "outputs": [],
   "source": [
    "doc.save('helloworld.docx')"
   ]
  },
  {
   "cell_type": "markdown",
   "id": "15515385",
   "metadata": {},
   "source": [
    "You can add paragraphs by calling the `add_paragraph()` method again with the new paragraph’s text. Or to add text to the end of an existing paragraph, you can call the paragraph’s `add_run()` method and pass it a string."
   ]
  },
  {
   "cell_type": "code",
   "execution_count": 10,
   "id": "09df2741",
   "metadata": {},
   "outputs": [
    {
     "data": {
      "text/plain": [
       "<docx.text.paragraph.Paragraph at 0x7f0cba441970>"
      ]
     },
     "execution_count": 10,
     "metadata": {},
     "output_type": "execute_result"
    }
   ],
   "source": [
    "doc = docx.Document()\n",
    "doc.add_paragraph('Hello, world!')"
   ]
  },
  {
   "cell_type": "code",
   "execution_count": 11,
   "id": "c8726898",
   "metadata": {},
   "outputs": [
    {
     "data": {
      "text/plain": [
       "<docx.text.run.Run at 0x7f0ce8ae9190>"
      ]
     },
     "execution_count": 11,
     "metadata": {},
     "output_type": "execute_result"
    }
   ],
   "source": [
    "paraObj1 = doc.add_paragraph('This is a second paragraph.')\n",
    "paraObj2 = doc.add_paragraph('This is a yet another paragraph.')\n",
    "\n",
    "paraObj1.add_run(' This text is being added to the second paragraph.')"
   ]
  },
  {
   "cell_type": "code",
   "execution_count": 12,
   "id": "32cb575d",
   "metadata": {},
   "outputs": [],
   "source": [
    "doc.save('multipleParagraphs.docx')"
   ]
  },
  {
   "cell_type": "markdown",
   "id": "6f2cf391",
   "metadata": {},
   "source": [
    "### Adding Headings"
   ]
  },
  {
   "cell_type": "code",
   "execution_count": 15,
   "id": "f5155ba1",
   "metadata": {},
   "outputs": [],
   "source": [
    "doc = docx.Document()\n",
    "\n",
    "doc.add_heading('Header 0', 0)\n",
    "doc.add_heading('Header 1', 1)\n",
    "doc.add_heading('Header 2', 2)\n",
    "doc.add_heading('Header 3', 3)\n",
    "doc.add_heading('Header 4', 4)\n",
    "\n",
    "doc.save('headings.docx')"
   ]
  },
  {
   "cell_type": "markdown",
   "id": "530dfded",
   "metadata": {},
   "source": [
    "### Adding Line and Page Breaks"
   ]
  },
  {
   "cell_type": "code",
   "execution_count": 16,
   "id": "2f64fcee",
   "metadata": {},
   "outputs": [],
   "source": [
    "doc = docx.Document()\n",
    "\n",
    "doc.add_paragraph('This is on the first page!')\n",
    "doc.paragraphs[0].runs[0].add_break(docx.enum.text.WD_BREAK.PAGE)\n",
    "doc.add_paragraph('This is on the second page!')\n",
    "\n",
    "doc.save('twoPage.docx')"
   ]
  },
  {
   "cell_type": "markdown",
   "id": "a18eb7ce",
   "metadata": {},
   "source": [
    "### Adding Pictures"
   ]
  },
  {
   "cell_type": "code",
   "execution_count": 20,
   "id": "d220191d",
   "metadata": {},
   "outputs": [],
   "source": [
    "doc.add_picture('Astronaut.jpg', width=docx.shared.Inches(1), height=docx.shared.Cm(4))\n",
    "doc.save('image.docx')"
   ]
  },
  {
   "cell_type": "markdown",
   "id": "51780265",
   "metadata": {},
   "source": [
    "## Creating PDFs from Word Documents\n",
    "\n",
    "The `PyPDF2` module doesn’t allow you to create PDF documents directly, but there’s a way to generate PDF files with Python if you’re on Windows and have Microsoft Word installed. You’ll need to install the `Pywin32` package by running `pip install pywin32`. With this and the `docx` module, you can create Word documents and then convert them to PDFs with the following script."
   ]
  },
  {
   "cell_type": "code",
   "execution_count": 5,
   "id": "2e8208f5",
   "metadata": {},
   "outputs": [],
   "source": [
    "# This script runs on Windows only, and you must have Word installed.\n",
    "import win32com.client # install with \"pip install pywin32==224\"\n",
    "import docx\n",
    "wordFilename = 'your_word_document.docx'\n",
    "pdfFilename = 'your_pdf_filename.pdf'\n",
    "\n",
    "doc = docx.Document()\n",
    "# Code to create Word document goes here.\n",
    "doc.save(wordFilename)\n",
    "\n",
    "wdFormatPDF = 17 # Word's numeric code for PDFs.\n",
    "wordObj = win32com.client.Dispatch('Word.Application')\n",
    "\n",
    "docObj = wordObj.Documents.Open(wordFilename)\n",
    "docObj.SaveAs(pdfFilename, FileFormat=wdFormatPDF)\n",
    "docObj.Close()\n",
    "wordObj.Quit()"
   ]
  },
  {
   "cell_type": "markdown",
   "id": "d3ebfb39",
   "metadata": {},
   "source": [
    "## Practice Projects"
   ]
  },
  {
   "cell_type": "markdown",
   "id": "f30a817b",
   "metadata": {},
   "source": [
    "### PDF Paranoia\n",
    "\n",
    "Using the `os.walk()` function from Chapter 10, write a script that will go through every PDF in a folder (and its subfolders) and encrypt the PDFs using a password provided on the command line. Save each encrypted PDF with an *_encrypted.pdf* suffix added to the original filename. Before deleting the original file, have the program attempt to read and decrypt the file to ensure that it was encrypted correctly.\n",
    "\n",
    "Then, write a program that finds all encrypted PDFs in a folder (and its subfolders) and creates a decrypted copy of the PDF using a provided password. If the password is incorrect, the program should print a message to the user and continue to the next PDF."
   ]
  },
  {
   "cell_type": "code",
   "execution_count": null,
   "id": "126c7eac",
   "metadata": {},
   "outputs": [],
   "source": []
  },
  {
   "cell_type": "markdown",
   "id": "53ac5602",
   "metadata": {},
   "source": [
    "### Custom Invitations as Word Documents\n",
    "\n",
    "Say you have a text file of guest names. This *guests.txt* file has one name per line, as follows:\n",
    "\n",
    "---\n",
    "`Prof. Plum` \\\n",
    "`Miss Scarlet` \\\n",
    "`Col. Mustard` \\\n",
    "`Al Sweigart` \\\n",
    "`RoboCop`\n",
    "\n",
    "Write a program that would generate a Word document with custom invitations that look like figure below: ![robocop-invitation.jpg](https://automatetheboringstuff.com/2e/images/000069.jpg)\n",
    "\n",
    "Since Python-Docx can use only those styles that already exist in the Word document, you will have to first add these styles to a blank Word file and then open that file with Python-Docx. There should be one invitation per page in the resulting Word document, so call `add_break()` to add a page break after the last paragraph of each invitation. This way, you will need to open only one Word document to print all of the invitations at once.\n",
    "\n",
    "You can download a sample guests.txt file from https://nostarch.com/automatestuff2/."
   ]
  },
  {
   "cell_type": "code",
   "execution_count": null,
   "id": "7955d8f5",
   "metadata": {},
   "outputs": [],
   "source": []
  },
  {
   "cell_type": "markdown",
   "id": "75be77eb",
   "metadata": {},
   "source": [
    "### Brute-Force PDF Password Breaker\n",
    "\n",
    "Say you have an encrypted PDF that you have forgotten the password to, but you remember it was a single English word. Trying to guess your forgotten password is quite a boring task. Instead you can write a program that will decrypt the PDF by trying every possible English word until it finds one that works. This is called a *brute-force password attack.* Download the text file *dictionary.txt* from https://nostarch.com/automatestuff2/. This *dictionary file* contains over 44,000 English words with one word per line.\n",
    "\n",
    "Using the file-reading skills you learned in Chapter 9, create a list of word strings by reading this file. Then loop over each word in this list, passing it to the `decrypt()` method. If this method returns the integer 0, the password was wrong and your program should continue to the next password. If `decrypt()` returns 1, then your program should break out of the loop and print the hacked password. You should try both the uppercase and lowercase form of each word. (On my laptop, going through all 88,000 uppercase and lowercase words from the dictionary file takes a couple of minutes. This is why you shouldn’t use a simple English word for your passwords.)"
   ]
  },
  {
   "cell_type": "code",
   "execution_count": null,
   "id": "e82f5353",
   "metadata": {},
   "outputs": [],
   "source": []
  }
 ],
 "metadata": {
  "kernelspec": {
   "display_name": "Python 3 (ipykernel)",
   "language": "python",
   "name": "python3"
  },
  "language_info": {
   "codemirror_mode": {
    "name": "ipython",
    "version": 3
   },
   "file_extension": ".py",
   "mimetype": "text/x-python",
   "name": "python",
   "nbconvert_exporter": "python",
   "pygments_lexer": "ipython3",
   "version": "3.9.15"
  },
  "vscode": {
   "interpreter": {
    "hash": "2c7666c1320a956fa05893d10993164efa76d3af81fc7470d6f4943526f3df36"
   }
  }
 },
 "nbformat": 4,
 "nbformat_minor": 5
}
