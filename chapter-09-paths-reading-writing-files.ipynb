{
 "cells": [
  {
   "cell_type": "markdown",
   "id": "9b5b2591",
   "metadata": {
    "id": "9b5b2591"
   },
   "source": [
    "# Chapter 9: READING AND WRITING FILES"
   ]
  },
  {
   "cell_type": "markdown",
   "id": "12763f29",
   "metadata": {
    "id": "12763f29"
   },
   "source": [
    "## Files and File Paths"
   ]
  },
  {
   "cell_type": "code",
   "execution_count": 3,
   "id": "4fd76f48",
   "metadata": {
    "id": "4fd76f48"
   },
   "outputs": [],
   "source": [
    "import os\n",
    "from pathlib import Path"
   ]
  },
  {
   "cell_type": "markdown",
   "id": "8cdd5c6a",
   "metadata": {
    "id": "8cdd5c6a"
   },
   "source": [
    "**Path** object works with any operating system"
   ]
  },
  {
   "cell_type": "code",
   "execution_count": 4,
   "id": "732b2914",
   "metadata": {
    "id": "732b2914",
    "outputId": "df950fad-df83-41a0-e8d2-436f7f3df135"
   },
   "outputs": [
    {
     "data": {
      "text/plain": [
       "PosixPath('Disk/Folder/File')"
      ]
     },
     "execution_count": 4,
     "metadata": {},
     "output_type": "execute_result"
    }
   ],
   "source": [
    "path = Path(\"Disk\", \"Folder\", \"File\")\n",
    "path"
   ]
  },
  {
   "cell_type": "code",
   "execution_count": 6,
   "id": "37b7444d",
   "metadata": {},
   "outputs": [
    {
     "data": {
      "text/plain": [
       "'Disk/Folder/File'"
      ]
     },
     "execution_count": 6,
     "metadata": {},
     "output_type": "execute_result"
    }
   ],
   "source": [
    "str(Path(\"Disk\", \"Folder\", \"File\"))"
   ]
  },
  {
   "cell_type": "markdown",
   "id": "ebd8b9d2",
   "metadata": {
    "id": "ebd8b9d2"
   },
   "source": [
    "#### Joining Paths"
   ]
  },
  {
   "cell_type": "code",
   "execution_count": 7,
   "id": "7b337f97",
   "metadata": {
    "id": "7b337f97",
    "outputId": "22a38f29-0350-4eff-f796-8938893d99a0"
   },
   "outputs": [
    {
     "data": {
      "text/plain": [
       "PosixPath('Disk/Folder/File/new_file')"
      ]
     },
     "execution_count": 7,
     "metadata": {},
     "output_type": "execute_result"
    }
   ],
   "source": [
    "Path(path, \"new_file\")"
   ]
  },
  {
   "cell_type": "code",
   "execution_count": 8,
   "id": "0f01057b",
   "metadata": {
    "id": "0f01057b",
    "outputId": "1f7c185d-1e1f-4c23-e237-0e65d76b73f0"
   },
   "outputs": [
    {
     "data": {
      "text/plain": [
       "PosixPath('disk/some_folder/My_Files')"
      ]
     },
     "execution_count": 8,
     "metadata": {},
     "output_type": "execute_result"
    }
   ],
   "source": [
    "Path('disk') / Path('some_folder', 'My_Files')"
   ]
  },
  {
   "cell_type": "code",
   "execution_count": null,
   "id": "18f482ed",
   "metadata": {
    "id": "18f482ed",
    "outputId": "cdbc9f48-180b-4adc-d2f3-c2e65340603c"
   },
   "outputs": [
    {
     "data": {
      "text/plain": [
       "PosixPath('folder/dir1/files')"
      ]
     },
     "execution_count": 5,
     "metadata": {},
     "output_type": "execute_result"
    }
   ],
   "source": [
    "Path('folder') / Path('dir1/files')"
   ]
  },
  {
   "cell_type": "code",
   "execution_count": null,
   "id": "b09d4ed1",
   "metadata": {
    "id": "b09d4ed1",
    "outputId": "42f64377-eae7-45a0-f98b-3859b4871382"
   },
   "outputs": [
    {
     "data": {
      "text/plain": [
       "PosixPath('Mail/Inbox/Spam')"
      ]
     },
     "execution_count": 9,
     "metadata": {},
     "output_type": "execute_result"
    }
   ],
   "source": [
    "Path('Mail') / 'Inbox' / 'Spam'"
   ]
  },
  {
   "cell_type": "code",
   "execution_count": 22,
   "id": "6432643a",
   "metadata": {
    "id": "6432643a",
    "outputId": "2d21bd9c-b04c-47a2-e606-e960387cad98"
   },
   "outputs": [
    {
     "data": {
      "text/plain": [
       "PosixPath('Inbox/Mail/Spam')"
      ]
     },
     "execution_count": 22,
     "metadata": {},
     "output_type": "execute_result"
    }
   ],
   "source": [
    "'Inbox' / Path('Mail') / 'Spam'"
   ]
  },
  {
   "cell_type": "code",
   "execution_count": 13,
   "id": "c8b2dc04",
   "metadata": {},
   "outputs": [
    {
     "name": "stdout",
     "output_type": "stream",
     "text": [
      "/mnt/c/Users/Javohir/accounts.txt\n",
      "/mnt/c/Users/Javohir/details.csv\n",
      "/mnt/c/Users/Javohir/invite.docx\n"
     ]
    }
   ],
   "source": [
    "myFiles = ['accounts.txt', 'details.csv', 'invite.docx']\n",
    "for filename in myFiles:\n",
    "        print(Path('/mnt/c/Users/Javohir', filename))"
   ]
  },
  {
   "cell_type": "code",
   "execution_count": 23,
   "id": "23b4269a",
   "metadata": {},
   "outputs": [],
   "source": [
    "# alternatively we can use from os module -> os.path.join"
   ]
  },
  {
   "cell_type": "code",
   "execution_count": 11,
   "id": "e7adef8a",
   "metadata": {},
   "outputs": [
    {
     "data": {
      "text/plain": [
       "'piuo/asoipu/piousf'"
      ]
     },
     "execution_count": 11,
     "metadata": {},
     "output_type": "execute_result"
    }
   ],
   "source": []
  },
  {
   "cell_type": "markdown",
   "id": "294f5c0e",
   "metadata": {
    "id": "294f5c0e"
   },
   "source": [
    "#### Drive letter in Path"
   ]
  },
  {
   "cell_type": "code",
   "execution_count": 14,
   "id": "102e4dbe",
   "metadata": {
    "id": "102e4dbe",
    "outputId": "349600eb-37ec-43ad-8dd7-dd555098793e"
   },
   "outputs": [
    {
     "data": {
      "text/plain": [
       "PosixPath('/mnt/d/PATH/folder')"
      ]
     },
     "execution_count": 14,
     "metadata": {},
     "output_type": "execute_result"
    }
   ],
   "source": [
    "Path(\"D:/\", \"PATH\", \"folder\")  # Windows\n",
    "Path(\"/mnt/d\", \"PATH\", \"folder\")  # Linux"
   ]
  },
  {
   "cell_type": "markdown",
   "id": "6f3cfa35",
   "metadata": {
    "id": "6f3cfa35"
   },
   "source": [
    "#### Current Working Directory"
   ]
  },
  {
   "cell_type": "code",
   "execution_count": 15,
   "id": "915ad9ef",
   "metadata": {
    "id": "915ad9ef",
    "outputId": "c77abf31-0feb-472e-b821-8c929b0ced8c"
   },
   "outputs": [
    {
     "data": {
      "text/plain": [
       "PosixPath('/mnt/d/GitHub/automate-the-boring-stuff-with-python/automate-the-boring-stuff')"
      ]
     },
     "execution_count": 15,
     "metadata": {},
     "output_type": "execute_result"
    }
   ],
   "source": [
    "Path.cwd()"
   ]
  },
  {
   "cell_type": "code",
   "execution_count": 16,
   "id": "76fe849b",
   "metadata": {
    "id": "76fe849b",
    "outputId": "7fd90e0e-1c6b-4763-d58a-bd0fcba02e00"
   },
   "outputs": [
    {
     "data": {
      "text/plain": [
       "'/mnt/d/GitHub/automate-the-boring-stuff-with-python/automate-the-boring-stuff'"
      ]
     },
     "execution_count": 16,
     "metadata": {},
     "output_type": "execute_result"
    }
   ],
   "source": [
    "os.getcwd()"
   ]
  },
  {
   "cell_type": "markdown",
   "id": "1c25b133",
   "metadata": {
    "id": "1c25b133"
   },
   "source": [
    "#### Change Current Working Directory"
   ]
  },
  {
   "cell_type": "code",
   "execution_count": null,
   "id": "b5be89ba",
   "metadata": {
    "id": "b5be89ba",
    "outputId": "2f52a92b-d5f4-4727-e5ac-d63d9dc55067"
   },
   "outputs": [
    {
     "data": {
      "text/plain": [
       "PosixPath('/mnt/d/Software')"
      ]
     },
     "execution_count": 37,
     "metadata": {},
     "output_type": "execute_result"
    }
   ],
   "source": [
    "os.chdir(\"/mnt/d/Software\")\n",
    "\n",
    "Path.cwd()"
   ]
  },
  {
   "cell_type": "markdown",
   "id": "6da95905",
   "metadata": {
    "id": "6da95905"
   },
   "source": [
    "#### The Home Directory"
   ]
  },
  {
   "cell_type": "code",
   "execution_count": 17,
   "id": "24063258",
   "metadata": {
    "id": "24063258",
    "outputId": "cef50874-2b97-4a73-cd01-04498c9ada95",
    "scrolled": true
   },
   "outputs": [
    {
     "data": {
      "text/plain": [
       "PosixPath('/home/javohir')"
      ]
     },
     "execution_count": 17,
     "metadata": {},
     "output_type": "execute_result"
    }
   ],
   "source": [
    "Path.home()"
   ]
  },
  {
   "cell_type": "code",
   "execution_count": 18,
   "id": "e1aae204",
   "metadata": {},
   "outputs": [
    {
     "data": {
      "text/plain": [
       "'/home/javohir'"
      ]
     },
     "execution_count": 18,
     "metadata": {},
     "output_type": "execute_result"
    }
   ],
   "source": [
    "os.path.expanduser('~')"
   ]
  },
  {
   "cell_type": "markdown",
   "id": "1417757b",
   "metadata": {
    "id": "1417757b"
   },
   "source": [
    "#### Create New Folders (Directories)"
   ]
  },
  {
   "cell_type": "code",
   "execution_count": null,
   "id": "f3fc7102",
   "metadata": {
    "id": "f3fc7102"
   },
   "outputs": [],
   "source": [
    "os.makedirs(Path(\"/mnt/d\", \"FOLDER1\", 'sub_folder_1', 'again_folder!'))"
   ]
  },
  {
   "cell_type": "code",
   "execution_count": null,
   "id": "3838e132",
   "metadata": {
    "id": "3838e132"
   },
   "outputs": [],
   "source": [
    "os.makedirs(\"/mnt/d/i/can/make/multiple/folders/at/once!!!\")"
   ]
  },
  {
   "cell_type": "markdown",
   "id": "07f39079",
   "metadata": {
    "id": "07f39079"
   },
   "source": [
    "#### Create Only One Directory"
   ]
  },
  {
   "cell_type": "code",
   "execution_count": null,
   "id": "12b94fb5",
   "metadata": {
    "id": "12b94fb5",
    "outputId": "f2c00769-7707-45dc-ecf2-9a659ef09072"
   },
   "outputs": [
    {
     "data": {
      "text/plain": [
       "PosixPath('/mnt/d/temp_folder')"
      ]
     },
     "execution_count": 72,
     "metadata": {},
     "output_type": "execute_result"
    }
   ],
   "source": [
    "Path(\"/mnt/d\", \"temp_folder\")"
   ]
  },
  {
   "cell_type": "code",
   "execution_count": null,
   "id": "12649c4b",
   "metadata": {
    "id": "12649c4b"
   },
   "outputs": [],
   "source": [
    "Path(\"/mnt/d\", \"temp_folder\").mkdir()"
   ]
  },
  {
   "cell_type": "code",
   "execution_count": null,
   "id": "f13c2b65",
   "metadata": {
    "id": "f13c2b65"
   },
   "outputs": [],
   "source": [
    "os.mkdir(\"/mnt/d/my_folder_1\")"
   ]
  },
  {
   "cell_type": "markdown",
   "id": "afd9c535",
   "metadata": {
    "id": "afd9c535"
   },
   "source": [
    "#### Check Whether a Given Path is an Absolute Path"
   ]
  },
  {
   "cell_type": "code",
   "execution_count": null,
   "id": "23dae477",
   "metadata": {
    "id": "23dae477",
    "outputId": "21bdfea3-fbda-4ab7-ba75-f7584c549b33"
   },
   "outputs": [
    {
     "data": {
      "text/plain": [
       "True"
      ]
     },
     "execution_count": 93,
     "metadata": {},
     "output_type": "execute_result"
    }
   ],
   "source": [
    "Path(\"/mnt/d/GitHub Repos/coding/\").is_absolute()"
   ]
  },
  {
   "cell_type": "code",
   "execution_count": null,
   "id": "30ce83c3",
   "metadata": {
    "id": "30ce83c3",
    "outputId": "cc7efadf-9607-44e3-a6dd-2112d4f4ad94"
   },
   "outputs": [
    {
     "data": {
      "text/plain": [
       "False"
      ]
     },
     "execution_count": 94,
     "metadata": {},
     "output_type": "execute_result"
    }
   ],
   "source": [
    "Path(\"GitHub Repos/coding/\").is_absolute()"
   ]
  },
  {
   "cell_type": "code",
   "execution_count": null,
   "id": "1b140825",
   "metadata": {
    "id": "1b140825",
    "outputId": "5c8ec6a1-f8db-400e-fb25-6c7a3b5a63b5"
   },
   "outputs": [
    {
     "data": {
      "text/plain": [
       "True"
      ]
     },
     "execution_count": 96,
     "metadata": {},
     "output_type": "execute_result"
    }
   ],
   "source": [
    "os.path.isabs(\"/mnt/f/Hello/Path\")"
   ]
  },
  {
   "cell_type": "code",
   "execution_count": null,
   "id": "e95a8314",
   "metadata": {
    "id": "e95a8314",
    "outputId": "213d878f-53fc-47df-951f-27ab1567b7f7"
   },
   "outputs": [
    {
     "data": {
      "text/plain": [
       "False"
      ]
     },
     "execution_count": 97,
     "metadata": {},
     "output_type": "execute_result"
    }
   ],
   "source": [
    "os.path.isabs(\"directory/some_folder\")"
   ]
  },
  {
   "cell_type": "markdown",
   "id": "32c1411a",
   "metadata": {
    "id": "32c1411a"
   },
   "source": [
    "#### String of the Absolute Path of the Argument - convert a relative path into an absolute"
   ]
  },
  {
   "cell_type": "code",
   "execution_count": null,
   "id": "ca5b34be",
   "metadata": {
    "id": "ca5b34be",
    "outputId": "8e5f3c0c-a4d3-4a79-cbe2-87b3d113355c"
   },
   "outputs": [
    {
     "data": {
      "text/plain": [
       "PosixPath('Disk/Folder/File')"
      ]
     },
     "execution_count": 98,
     "metadata": {},
     "output_type": "execute_result"
    }
   ],
   "source": [
    "path"
   ]
  },
  {
   "cell_type": "code",
   "execution_count": null,
   "id": "b7e8b661",
   "metadata": {
    "id": "b7e8b661",
    "outputId": "9fda15fd-1863-40d2-ce01-454b0fe7a2a1"
   },
   "outputs": [
    {
     "data": {
      "text/plain": [
       "'/mnt/d/Software/Disk/Folder/File'"
      ]
     },
     "execution_count": 99,
     "metadata": {},
     "output_type": "execute_result"
    }
   ],
   "source": [
    "os.path.abspath(path)"
   ]
  },
  {
   "cell_type": "markdown",
   "id": "a63cc90e",
   "metadata": {
    "id": "a63cc90e"
   },
   "source": [
    "#### String of a Relative Path from the `start` path to `path`\n",
    "*`os.path.relpath(`**`start, path`**`)`*"
   ]
  },
  {
   "cell_type": "code",
   "execution_count": null,
   "id": "5b3e7c13",
   "metadata": {
    "id": "5b3e7c13",
    "outputId": "aecf009b-cb85-4d55-ed30-84ebc1098f4c"
   },
   "outputs": [
    {
     "data": {
      "text/plain": [
       "'path/dir'"
      ]
     },
     "execution_count": 114,
     "metadata": {},
     "output_type": "execute_result"
    }
   ],
   "source": [
    "os.path.relpath('D:/path/dir', 'D:/')"
   ]
  },
  {
   "cell_type": "code",
   "execution_count": null,
   "id": "dba8e2b7",
   "metadata": {
    "id": "dba8e2b7",
    "outputId": "9988ed30-4aa3-48f3-bec5-9dcc4c54fb6d"
   },
   "outputs": [
    {
     "data": {
      "text/plain": [
       "'../path/dir'"
      ]
     },
     "execution_count": 128,
     "metadata": {},
     "output_type": "execute_result"
    }
   ],
   "source": [
    "os.path.relpath('/mnt/d/path/dir')"
   ]
  },
  {
   "cell_type": "markdown",
   "id": "9dfefa12",
   "metadata": {
    "id": "9dfefa12"
   },
   "source": [
    "#### Getting the Parts of a File Path"
   ]
  },
  {
   "cell_type": "markdown",
   "id": "2675e82f",
   "metadata": {
    "id": "2675e82f"
   },
   "source": [
    "![image.png](data:image/png;base64,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)\n",
    "\n",
    "*The parts of a Windows (top) and macOS/Linux (bottom) file path*"
   ]
  },
  {
   "cell_type": "code",
   "execution_count": 23,
   "id": "ce7decf5",
   "metadata": {
    "id": "ce7decf5"
   },
   "outputs": [],
   "source": [
    "p = Path(\"D:/Folders/Pictures/nature.png\")  # in Windows"
   ]
  },
  {
   "cell_type": "code",
   "execution_count": 26,
   "id": "d0be799e",
   "metadata": {
    "id": "d0be799e",
    "outputId": "1890baad-797d-400b-92e1-70167edbbeaa"
   },
   "outputs": [
    {
     "name": "stdout",
     "output_type": "stream",
     "text": [
      "'D:\\\\'\n"
     ]
    }
   ],
   "source": [
    "p.anchor"
   ]
  },
  {
   "cell_type": "code",
   "execution_count": 8,
   "id": "52e1b8dc",
   "metadata": {
    "id": "52e1b8dc",
    "outputId": "748abcb0-7884-44cb-b076-faf113002ffe"
   },
   "outputs": [
    {
     "name": "stdout",
     "output_type": "stream",
     "text": [
      "'D:'\n"
     ]
    }
   ],
   "source": [
    "p.drive"
   ]
  },
  {
   "cell_type": "code",
   "execution_count": 13,
   "id": "5c89a180",
   "metadata": {
    "id": "5c89a180",
    "outputId": "24ac4e4a-4dfe-4059-c32a-6692f3e303ed"
   },
   "outputs": [
    {
     "name": "stdout",
     "output_type": "stream",
     "text": [
      "('D:\\\\', 'Folders', 'Pictures', 'nature.png')\n"
     ]
    }
   ],
   "source": [
    "p.parts"
   ]
  },
  {
   "cell_type": "code",
   "execution_count": null,
   "id": "95b68e3b",
   "metadata": {
    "id": "95b68e3b",
    "outputId": "66a30556-a508-4a71-e908-a14dce5061a8"
   },
   "outputs": [
    {
     "data": {
      "text/plain": [
       "WindowsPath('D:/Folders/Pictures')"
      ]
     },
     "execution_count": 98,
     "metadata": {},
     "output_type": "execute_result"
    }
   ],
   "source": [
    "p.parent"
   ]
  },
  {
   "cell_type": "code",
   "execution_count": null,
   "id": "bb1a9d5d",
   "metadata": {
    "id": "bb1a9d5d",
    "outputId": "b8315c3a-d742-4294-8fa6-888312ff403f"
   },
   "outputs": [
    {
     "data": {
      "text/plain": [
       "WindowsPath('D:/Folders/Pictures')"
      ]
     },
     "execution_count": 107,
     "metadata": {},
     "output_type": "execute_result"
    }
   ],
   "source": [
    "p.parents[0]"
   ]
  },
  {
   "cell_type": "code",
   "execution_count": null,
   "id": "fa3212e7",
   "metadata": {
    "id": "fa3212e7",
    "outputId": "a4105d4f-64b9-4b2e-aaa5-5f8e3a8e8e8b"
   },
   "outputs": [
    {
     "data": {
      "text/plain": [
       "WindowsPath('D:/')"
      ]
     },
     "execution_count": 108,
     "metadata": {},
     "output_type": "execute_result"
    }
   ],
   "source": [
    "p.parents[2]"
   ]
  },
  {
   "cell_type": "code",
   "execution_count": null,
   "id": "6121f837",
   "metadata": {
    "id": "6121f837",
    "outputId": "f579b693-eace-4d04-939a-0a13263c9c14"
   },
   "outputs": [
    {
     "data": {
      "text/plain": [
       "'\\\\'"
      ]
     },
     "execution_count": 109,
     "metadata": {},
     "output_type": "execute_result"
    }
   ],
   "source": [
    "p.root"
   ]
  },
  {
   "cell_type": "code",
   "execution_count": null,
   "id": "5181a4b6",
   "metadata": {
    "id": "5181a4b6",
    "outputId": "bf7deed9-6cc5-4310-e7e9-13375ce399f8"
   },
   "outputs": [
    {
     "data": {
      "text/plain": [
       "'nature.png'"
      ]
     },
     "execution_count": 110,
     "metadata": {},
     "output_type": "execute_result"
    }
   ],
   "source": [
    "p.name"
   ]
  },
  {
   "cell_type": "code",
   "execution_count": null,
   "id": "5323427b",
   "metadata": {
    "id": "5323427b",
    "outputId": "2fa6474e-941b-4cc3-ffec-8b490f38b7b6"
   },
   "outputs": [
    {
     "data": {
      "text/plain": [
       "'nature'"
      ]
     },
     "execution_count": 111,
     "metadata": {},
     "output_type": "execute_result"
    }
   ],
   "source": [
    "p.stem"
   ]
  },
  {
   "cell_type": "code",
   "execution_count": null,
   "id": "dbbac61f",
   "metadata": {
    "id": "dbbac61f",
    "outputId": "4bbd3c48-4456-43e7-d7a4-8e1112605461"
   },
   "outputs": [
    {
     "data": {
      "text/plain": [
       "'.png'"
      ]
     },
     "execution_count": 112,
     "metadata": {},
     "output_type": "execute_result"
    }
   ],
   "source": [
    "p.suffix"
   ]
  },
  {
   "cell_type": "code",
   "execution_count": null,
   "id": "095da2a8",
   "metadata": {
    "id": "095da2a8",
    "outputId": "7d65a24a-95c6-4fcc-8508-67c47b00afc8"
   },
   "outputs": [
    {
     "data": {
      "text/plain": [
       "['.png']"
      ]
     },
     "execution_count": 113,
     "metadata": {},
     "output_type": "execute_result"
    }
   ],
   "source": [
    "p.suffixes"
   ]
  },
  {
   "cell_type": "code",
   "execution_count": 37,
   "id": "c1771817",
   "metadata": {},
   "outputs": [
    {
     "name": "stdout",
     "output_type": "stream",
     "text": [
      "D:/Folders/Pictures/nature.png\n"
     ]
    },
    {
     "data": {
      "text/plain": [
       "'nature.png'"
      ]
     },
     "execution_count": 37,
     "metadata": {},
     "output_type": "execute_result"
    }
   ],
   "source": [
    "print(p)\n",
    "os.path.basename(p)  # Returns the final component of a pathname"
   ]
  },
  {
   "cell_type": "markdown",
   "id": "9c3241e2",
   "metadata": {
    "id": "9c3241e2"
   },
   "source": [
    "#### Finding File Sizes and Folder Contents"
   ]
  },
  {
   "cell_type": "markdown",
   "id": "dda2453b",
   "metadata": {
    "id": "dda2453b"
   },
   "source": [
    "**`os.path.getsize`** will return the size in *bytes* of the file"
   ]
  },
  {
   "cell_type": "code",
   "execution_count": null,
   "id": "ab296590",
   "metadata": {
    "id": "ab296590",
    "outputId": "56803d4b-2425-4b6b-9a7e-5d66eabb6408",
    "scrolled": false
   },
   "outputs": [
    {
     "data": {
      "text/plain": [
       "168448"
      ]
     },
     "execution_count": 115,
     "metadata": {},
     "output_type": "execute_result"
    }
   ],
   "source": [
    "os.path.getsize(\"D:/Software/NewFolderWizard.exe\")"
   ]
  },
  {
   "cell_type": "markdown",
   "id": "34dc5fd9",
   "metadata": {
    "id": "34dc5fd9"
   },
   "source": [
    "**`os.listdir`** will return a list of filename strings"
   ]
  },
  {
   "cell_type": "code",
   "execution_count": null,
   "id": "9f724592",
   "metadata": {
    "id": "9f724592",
    "outputId": "83602391-3f0f-41b9-dc17-ecc3e006b35c",
    "scrolled": false
   },
   "outputs": [
    {
     "data": {
      "text/plain": [
       "['antivirus-update.py',\n",
       " 'pi-million-digits-no-space.txt',\n",
       " 'pi-million-digits.txt',\n",
       " 'regex-corey-schafer.py',\n",
       " 'space-correction',\n",
       " 'wordlist-10000-mit.txt']"
      ]
     },
     "execution_count": 119,
     "metadata": {},
     "output_type": "execute_result"
    }
   ],
   "source": [
    "os.listdir(\"D:/GitHub Repos/coding/ARCHIVE\")"
   ]
  },
  {
   "cell_type": "code",
   "execution_count": 32,
   "id": "6234d320",
   "metadata": {
    "id": "6234d320",
    "outputId": "fe328f49-eda6-4b1d-d626-b57be9a09133"
   },
   "outputs": [
    {
     "name": "stdout",
     "output_type": "stream",
     "text": [
      "2115033 bytes = 2065.46 KB = 2.02 MB\n"
     ]
    }
   ],
   "source": [
    "total_size = 0\n",
    "folder_path = \"/mnt/d/GitHub/coding/archive\"\n",
    "for filename in os.listdir(folder_path):\n",
    "    total_size += os.path.getsize(folder_path / Path(filename))\n",
    "\n",
    "print(f\"{total_size} bytes = {total_size/1024:.2f} KB = {total_size/(1024*1024):.2f} MB\")"
   ]
  },
  {
   "cell_type": "markdown",
   "id": "c271068f",
   "metadata": {
    "id": "c271068f"
   },
   "source": [
    "#### Modifying a List of Files Using Glob Patterns"
   ]
  },
  {
   "cell_type": "code",
   "execution_count": null,
   "id": "7c527148",
   "metadata": {
    "id": "7c527148",
    "outputId": "def20a29-8839-4095-e15c-5e75ab716144"
   },
   "outputs": [
    {
     "data": {
      "text/plain": [
       "<generator object Path.glob at 0x0000020757F55310>"
      ]
     },
     "execution_count": 25,
     "metadata": {},
     "output_type": "execute_result"
    }
   ],
   "source": [
    "p = Path(\"D:/GitHub Repos/automate-the-boring-stuff\")\n",
    "p.glob('*')"
   ]
  },
  {
   "cell_type": "code",
   "execution_count": null,
   "id": "8eea9b1f",
   "metadata": {
    "id": "8eea9b1f",
    "outputId": "e6f78a3e-c69a-43a0-b4e7-3c1b02440a4b"
   },
   "outputs": [
    {
     "data": {
      "text/plain": [
       "[WindowsPath('D:/GitHub Repos/automate-the-boring-stuff/.git'),\n",
       " WindowsPath('D:/GitHub Repos/automate-the-boring-stuff/.gitignore'),\n",
       " WindowsPath('D:/GitHub Repos/automate-the-boring-stuff/.ipynb_checkpoints'),\n",
       " WindowsPath('D:/GitHub Repos/automate-the-boring-stuff/auto-with-py.py'),\n",
       " WindowsPath('D:/GitHub Repos/automate-the-boring-stuff/chapter-6-manipulating-strings.ipynb'),\n",
       " WindowsPath('D:/GitHub Repos/automate-the-boring-stuff/chapter-9-reading-writing-files.ipynb'),\n",
       " WindowsPath('D:/GitHub Repos/automate-the-boring-stuff/README.md')]"
      ]
     },
     "execution_count": 52,
     "metadata": {},
     "output_type": "execute_result"
    }
   ],
   "source": [
    "list(p.glob('*'))"
   ]
  },
  {
   "cell_type": "markdown",
   "id": "3a32d191",
   "metadata": {
    "id": "3a32d191"
   },
   "source": [
    "**The asterisk (\\*) stands for “multiple of any characters,” so p.glob('\\*') returns a generator of all files in the path stored in p.**"
   ]
  },
  {
   "cell_type": "code",
   "execution_count": null,
   "id": "9cbe6fca",
   "metadata": {
    "id": "9cbe6fca",
    "outputId": "57cfdfdf-0047-4be9-8642-f4cdd11cde65"
   },
   "outputs": [
    {
     "data": {
      "text/plain": [
       "[WindowsPath('auto-with-py.py')]"
      ]
     },
     "execution_count": 50,
     "metadata": {},
     "output_type": "execute_result"
    }
   ],
   "source": [
    "list(Path('./').glob('*.py'))"
   ]
  },
  {
   "cell_type": "code",
   "execution_count": null,
   "id": "7fcc838b",
   "metadata": {
    "id": "7fcc838b",
    "outputId": "84f3b8d5-9b0d-47fd-d963-da78cff6d6d3"
   },
   "outputs": [
    {
     "data": {
      "text/plain": [
       "[WindowsPath('D:/GitHub Repos/automate-the-boring-stuff/chapter-6-manipulating-strings.ipynb'),\n",
       " WindowsPath('D:/GitHub Repos/automate-the-boring-stuff/chapter-9-reading-writing-files.ipynb')]"
      ]
     },
     "execution_count": 53,
     "metadata": {},
     "output_type": "execute_result"
    }
   ],
   "source": [
    "list(p.glob('chapter*.ipynb'))"
   ]
  },
  {
   "cell_type": "markdown",
   "id": "6afbe628",
   "metadata": {
    "id": "6afbe628"
   },
   "source": [
    "**The question mark (?) stands for any single character**"
   ]
  },
  {
   "cell_type": "code",
   "execution_count": null,
   "id": "2784a6fe",
   "metadata": {
    "id": "2784a6fe",
    "outputId": "e463536f-7644-4d61-c187-c95baae27e4b"
   },
   "outputs": [
    {
     "data": {
      "text/plain": [
       "[WindowsPath('D:/GitHub Repos/project1.docx'),\n",
       " WindowsPath('D:/GitHub Repos/project2.docx'),\n",
       " WindowsPath('D:/GitHub Repos/project3.docx'),\n",
       " WindowsPath('D:/GitHub Repos/project4.docx')]"
      ]
     },
     "execution_count": 51,
     "metadata": {},
     "output_type": "execute_result"
    }
   ],
   "source": [
    "list(Path(\"D:/GitHub Repos\").glob(\"project?.docx\"))"
   ]
  },
  {
   "cell_type": "code",
   "execution_count": null,
   "id": "18053c46",
   "metadata": {
    "id": "18053c46",
    "outputId": "18dfafab-fbf8-461c-e031-f0088d003ba3"
   },
   "outputs": [
    {
     "data": {
      "text/plain": [
       "[WindowsPath('D:/GitHub Repos/calculator.exe'),\n",
       " WindowsPath('D:/GitHub Repos/dummy_file.txt'),\n",
       " WindowsPath('D:/GitHub Repos/notes.txt')]"
      ]
     },
     "execution_count": 66,
     "metadata": {},
     "output_type": "execute_result"
    }
   ],
   "source": [
    "list(Path(\"D:/GitHub Repos\").glob('*.?x?'))"
   ]
  },
  {
   "cell_type": "code",
   "execution_count": null,
   "id": "e24addd0",
   "metadata": {
    "id": "e24addd0",
    "outputId": "85e136c2-36a6-4e83-a9ca-ca281116f60f"
   },
   "outputs": [
    {
     "name": "stdout",
     "output_type": "stream",
     "text": [
      "D:\\GitHub Repos\\dummy_file.txt\n",
      "D:\\GitHub Repos\\notes.txt\n"
     ]
    }
   ],
   "source": [
    "p = Path(\"D:/GitHub Repos\")\n",
    "for file_path_obj in p.glob(\"*.txt\"):\n",
    "    print(file_path_obj)\n",
    "    # You can do something with the file."
   ]
  },
  {
   "cell_type": "markdown",
   "id": "eb512352",
   "metadata": {
    "id": "eb512352"
   },
   "source": [
    "#### Checking Path Validity"
   ]
  },
  {
   "cell_type": "markdown",
   "id": "cfec275d",
   "metadata": {
    "id": "cfec275d"
   },
   "source": [
    "- **`path_obj.exists()`** returns `True` if the path exists or returns `False` if it doesn't exist."
   ]
  },
  {
   "cell_type": "code",
   "execution_count": null,
   "id": "1d22dc01",
   "metadata": {
    "id": "1d22dc01"
   },
   "outputs": [],
   "source": [
    "exist_dir = Path(\"D:/GitHub Repos\")\n",
    "not_exist_dir = Path(\"D:/This/Folder/Does/Not/Exist\")\n",
    "py_file = Path(\"D:/GitHub Repos/coding/app.py\")"
   ]
  },
  {
   "cell_type": "code",
   "execution_count": null,
   "id": "abdbbe76",
   "metadata": {
    "id": "abdbbe76",
    "outputId": "57096655-21ae-4efa-ba39-71720a4513d6"
   },
   "outputs": [
    {
     "data": {
      "text/plain": [
       "True"
      ]
     },
     "execution_count": 103,
     "metadata": {},
     "output_type": "execute_result"
    }
   ],
   "source": [
    "exist_dir.exists()"
   ]
  },
  {
   "cell_type": "code",
   "execution_count": null,
   "id": "e8dbfe78",
   "metadata": {
    "id": "e8dbfe78",
    "outputId": "11590f0c-2cbe-494f-bc6d-1df3aa5163bf"
   },
   "outputs": [
    {
     "data": {
      "text/plain": [
       "False"
      ]
     },
     "execution_count": 104,
     "metadata": {},
     "output_type": "execute_result"
    }
   ],
   "source": [
    "not_exist_dir.exists()"
   ]
  },
  {
   "cell_type": "code",
   "execution_count": null,
   "id": "20058162",
   "metadata": {
    "id": "20058162",
    "outputId": "96d2fd85-52df-4009-f28b-813aaa145fc7"
   },
   "outputs": [
    {
     "data": {
      "text/plain": [
       "True"
      ]
     },
     "execution_count": 105,
     "metadata": {},
     "output_type": "execute_result"
    }
   ],
   "source": [
    "py_file.exists()"
   ]
  },
  {
   "cell_type": "markdown",
   "id": "7db86d18",
   "metadata": {
    "id": "7db86d18"
   },
   "source": [
    "- **`path_obj.is_dir()`** returns `True` if the path exists and is a directory, or returns `False` otherwise."
   ]
  },
  {
   "cell_type": "code",
   "execution_count": null,
   "id": "26b724d6",
   "metadata": {
    "id": "26b724d6",
    "outputId": "1820e763-423a-471b-bda4-64b599da15ce"
   },
   "outputs": [
    {
     "data": {
      "text/plain": [
       "True"
      ]
     },
     "execution_count": 106,
     "metadata": {},
     "output_type": "execute_result"
    }
   ],
   "source": [
    "exist_dir.is_dir()"
   ]
  },
  {
   "cell_type": "code",
   "execution_count": null,
   "id": "0e9aa79a",
   "metadata": {
    "id": "0e9aa79a",
    "outputId": "debab96a-f787-4ff4-95e2-36a3345018dc"
   },
   "outputs": [
    {
     "data": {
      "text/plain": [
       "False"
      ]
     },
     "execution_count": 107,
     "metadata": {},
     "output_type": "execute_result"
    }
   ],
   "source": [
    "not_exist_dir.is_dir()"
   ]
  },
  {
   "cell_type": "code",
   "execution_count": null,
   "id": "c20dbf7b",
   "metadata": {
    "id": "c20dbf7b",
    "outputId": "172b31a6-9ecc-42e1-873c-f7b3db007c2e"
   },
   "outputs": [
    {
     "data": {
      "text/plain": [
       "False"
      ]
     },
     "execution_count": 108,
     "metadata": {},
     "output_type": "execute_result"
    }
   ],
   "source": [
    "py_file.is_dir()"
   ]
  },
  {
   "cell_type": "markdown",
   "id": "4a6e61e5",
   "metadata": {
    "id": "4a6e61e5"
   },
   "source": [
    "- **`path_obj.is_file()`** returns `True` if the path exists and is a file, or returns `False` otherwise."
   ]
  },
  {
   "cell_type": "code",
   "execution_count": null,
   "id": "0ce677dc",
   "metadata": {
    "id": "0ce677dc",
    "outputId": "18de7f50-4ce9-42cb-fdab-469182765ae7"
   },
   "outputs": [
    {
     "data": {
      "text/plain": [
       "False"
      ]
     },
     "execution_count": 110,
     "metadata": {},
     "output_type": "execute_result"
    }
   ],
   "source": [
    "exist_dir.is_file()"
   ]
  },
  {
   "cell_type": "code",
   "execution_count": null,
   "id": "8712b6a1",
   "metadata": {
    "id": "8712b6a1",
    "outputId": "b9ad86b6-f109-457f-abd8-8a1d01346b0d"
   },
   "outputs": [
    {
     "data": {
      "text/plain": [
       "False"
      ]
     },
     "execution_count": 113,
     "metadata": {},
     "output_type": "execute_result"
    }
   ],
   "source": [
    "not_exist_dir.is_file()"
   ]
  },
  {
   "cell_type": "code",
   "execution_count": null,
   "id": "c3963c1a",
   "metadata": {
    "id": "c3963c1a",
    "outputId": "6f129a25-3c7e-448a-d48f-8ef6dfcd39a7"
   },
   "outputs": [
    {
     "data": {
      "text/plain": [
       "True"
      ]
     },
     "execution_count": 114,
     "metadata": {},
     "output_type": "execute_result"
    }
   ],
   "source": [
    "py_file.is_file()"
   ]
  },
  {
   "cell_type": "code",
   "execution_count": null,
   "id": "1c211e10",
   "metadata": {
    "id": "1c211e10",
    "outputId": "58c80a70-a827-4ac2-f453-e80125f7eb93"
   },
   "outputs": [
    {
     "name": "stdout",
     "output_type": "stream",
     "text": [
      "True\n",
      "False\n"
     ]
    }
   ],
   "source": [
    "print(Path(\"D:/\").exists())\n",
    "print(Path(\"F:/\").exists())"
   ]
  },
  {
   "cell_type": "markdown",
   "id": "f9b49704",
   "metadata": {
    "id": "f9b49704"
   },
   "source": [
    "#### The older os.path module can accomplish the same tasks\n",
    "\n",
    "- **`os.path.exists(`*`path`*`)`**\n",
    "\n",
    "- **`os.path.isfile(`*`path`*`)`**\n",
    "\n",
    "- **`os.path.isdir(`*`path`*`)`**"
   ]
  },
  {
   "cell_type": "markdown",
   "id": "d0268b92",
   "metadata": {
    "id": "d0268b92"
   },
   "source": [
    "## The File Reading/Writing Process"
   ]
  },
  {
   "cell_type": "code",
   "execution_count": 7,
   "id": "caaab462",
   "metadata": {
    "id": "caaab462",
    "outputId": "9444fa0b-3744-426b-90d0-5c47d933e40c",
    "scrolled": true
   },
   "outputs": [
    {
     "data": {
      "text/plain": [
       "13"
      ]
     },
     "execution_count": 7,
     "metadata": {},
     "output_type": "execute_result"
    }
   ],
   "source": [
    "p = Path('spam.txt')\n",
    "p.write_text('Hello, world!')"
   ]
  },
  {
   "cell_type": "code",
   "execution_count": 10,
   "id": "a070d377",
   "metadata": {
    "id": "a070d377",
    "outputId": "836bc52c-4fce-4c71-fa25-379170856efe"
   },
   "outputs": [
    {
     "name": "stdout",
     "output_type": "stream",
     "text": [
      "\u001b[0m\u001b[01;32mREADME.md\u001b[0m*\r\n",
      "\u001b[34;42mautomate-online-materials\u001b[0m/\r\n",
      "\u001b[01;32mbasics.ipynb\u001b[0m*\r\n",
      "\u001b[01;32mchapter-07-regular-expressions.ipynb\u001b[0m*\r\n",
      "\u001b[01;32mchapter-08-input-validation.ipynb\u001b[0m*\r\n",
      "\u001b[01;32mchapter-09-paths-reading-writing-files.ipynb\u001b[0m*\r\n",
      "\u001b[01;32mchapter-10-organizing-files.ipynb\u001b[0m*\r\n",
      "\u001b[01;32mspam.txt\u001b[0m*\r\n"
     ]
    }
   ],
   "source": [
    "ls"
   ]
  },
  {
   "cell_type": "code",
   "execution_count": 9,
   "id": "130a7abd",
   "metadata": {
    "id": "130a7abd",
    "outputId": "b56324d0-608a-4ee9-8968-192bdcce7b14"
   },
   "outputs": [
    {
     "data": {
      "text/plain": [
       "'Hello, world!'"
      ]
     },
     "execution_count": 9,
     "metadata": {},
     "output_type": "execute_result"
    }
   ],
   "source": [
    "p.read_text()"
   ]
  },
  {
   "cell_type": "markdown",
   "id": "680ff338",
   "metadata": {},
   "source": [
    "### Opening Files with the open() Function"
   ]
  },
  {
   "cell_type": "code",
   "execution_count": 23,
   "id": "7f0341b4",
   "metadata": {},
   "outputs": [],
   "source": [
    "helloFile = open(Path(\"/mnt/d/GitHub/hello.txt\"))"
   ]
  },
  {
   "cell_type": "code",
   "execution_count": 24,
   "id": "b1c4afb2",
   "metadata": {},
   "outputs": [],
   "source": [
    "helloFile = open('/mnt/d/GitHub/hello.txt')"
   ]
  },
  {
   "cell_type": "markdown",
   "id": "b77cb243",
   "metadata": {},
   "source": [
    "The call to `open()` returns a `File` object. A `File` object represents a file on your computer."
   ]
  },
  {
   "cell_type": "markdown",
   "id": "56995b00",
   "metadata": {},
   "source": [
    "### Reading the Contents of Files"
   ]
  },
  {
   "cell_type": "code",
   "execution_count": 26,
   "id": "76ec246c",
   "metadata": {},
   "outputs": [
    {
     "data": {
      "text/plain": [
       "'Hello, World!'"
      ]
     },
     "execution_count": 26,
     "metadata": {},
     "output_type": "execute_result"
    }
   ],
   "source": [
    "helloContent = helloFile.read()\n",
    "helloContent"
   ]
  },
  {
   "cell_type": "code",
   "execution_count": 35,
   "id": "440412a3",
   "metadata": {},
   "outputs": [
    {
     "data": {
      "text/plain": [
       "[\"When, in disgrace with fortune and men's eyes,\\n\",\n",
       " 'I all alone beweep my outcast state,\\n',\n",
       " 'And trouble deaf heaven with my bootless cries,\\n',\n",
       " 'And look upon myself and curse my fate,']"
      ]
     },
     "execution_count": 35,
     "metadata": {},
     "output_type": "execute_result"
    }
   ],
   "source": [
    "sonnetFile = open(Path(\"automate-online-materials/sonnet29.txt\"))\n",
    "sonnetFile.readlines()"
   ]
  },
  {
   "cell_type": "markdown",
   "id": "29c047dc",
   "metadata": {},
   "source": [
    "### Writing to Files"
   ]
  },
  {
   "cell_type": "code",
   "execution_count": 46,
   "id": "bf0d9bd8",
   "metadata": {},
   "outputs": [
    {
     "data": {
      "text/plain": [
       "14"
      ]
     },
     "execution_count": 46,
     "metadata": {},
     "output_type": "execute_result"
    }
   ],
   "source": [
    "baconFile = open('bacon.txt', 'w')\n",
    "baconFile.write(\"Hello, world!\\n\")"
   ]
  },
  {
   "cell_type": "code",
   "execution_count": 47,
   "id": "07f971b4",
   "metadata": {},
   "outputs": [],
   "source": [
    "baconFile.close()"
   ]
  },
  {
   "cell_type": "code",
   "execution_count": 48,
   "id": "7e986c93",
   "metadata": {},
   "outputs": [
    {
     "data": {
      "text/plain": [
       "25"
      ]
     },
     "execution_count": 48,
     "metadata": {},
     "output_type": "execute_result"
    }
   ],
   "source": [
    "baconFile = open('bacon.txt', 'a')\n",
    "baconFile.write('Bacon is not a vegetable.')"
   ]
  },
  {
   "cell_type": "code",
   "execution_count": 49,
   "id": "a65d4aec",
   "metadata": {},
   "outputs": [],
   "source": [
    "baconFile.close()"
   ]
  },
  {
   "cell_type": "code",
   "execution_count": 53,
   "id": "6b1053c4",
   "metadata": {},
   "outputs": [],
   "source": [
    "baconFile = open('bacon.txt')\n",
    "content = baconFile.read()\n",
    "baconFile.close()"
   ]
  },
  {
   "cell_type": "code",
   "execution_count": 54,
   "id": "f502614c",
   "metadata": {},
   "outputs": [
    {
     "name": "stdout",
     "output_type": "stream",
     "text": [
      "Hello, world!\n",
      "Bacon is not a vegetable.\n"
     ]
    }
   ],
   "source": [
    "print(content)"
   ]
  },
  {
   "cell_type": "markdown",
   "id": "4bbae6d6",
   "metadata": {},
   "source": [
    "## Saving Variables with the shelve Module\n",
    "\n",
    "You can save variables in your Python programs to binary shelf files using the `shelve` module. This way, your program can restore data to variables from the hard drive. The `shelve` module will let you add Save and Open features to your program. For example, if you ran a program and entered some configuration settings, you could save those settings to a shelf file and then have the program load them the next time it is run."
   ]
  },
  {
   "cell_type": "code",
   "execution_count": 3,
   "id": "a7ff2fc1",
   "metadata": {},
   "outputs": [],
   "source": [
    "import shelve\n",
    "\n",
    "shelfFile = shelve.open('mydata')\n",
    "cats = ['Zophie', 'Pooka', 'Simon']\n",
    "shelfFile['cats'] = cats\n",
    "shelfFile.close()"
   ]
  },
  {
   "cell_type": "code",
   "execution_count": 68,
   "id": "85675385",
   "metadata": {
    "scrolled": true
   },
   "outputs": [
    {
     "name": "stdout",
     "output_type": "stream",
     "text": [
      "\u001b[0m\u001b[01;32mmydata.bak\u001b[0m*  \u001b[01;32mmydata.dat\u001b[0m*  \u001b[01;32mmydata.dir\u001b[0m*\r\n"
     ]
    }
   ],
   "source": [
    "ls *mydata*"
   ]
  },
  {
   "cell_type": "markdown",
   "id": "7f2e4dc3",
   "metadata": {},
   "source": [
    "After running the previous code on Windows, you will see three new files in the current working directory: *mydata.bak*, *mydata.dat*, and *mydata.dir*. On macOS, only a single *mydata.db* file will be created."
   ]
  },
  {
   "cell_type": "code",
   "execution_count": 5,
   "id": "4ac25780",
   "metadata": {},
   "outputs": [
    {
     "name": "stdout",
     "output_type": "stream",
     "text": [
      "<class 'shelve.DbfilenameShelf'>\n"
     ]
    }
   ],
   "source": [
    "shelfFile = shelve.open('mydata')\n",
    "print(type(shelfFile))"
   ]
  },
  {
   "cell_type": "code",
   "execution_count": 6,
   "id": "2a07dce7",
   "metadata": {},
   "outputs": [
    {
     "data": {
      "text/plain": [
       "['Zophie', 'Pooka', 'Simon']"
      ]
     },
     "execution_count": 6,
     "metadata": {},
     "output_type": "execute_result"
    }
   ],
   "source": [
    "shelfFile['cats']"
   ]
  },
  {
   "cell_type": "code",
   "execution_count": 7,
   "id": "cd1e9296",
   "metadata": {},
   "outputs": [],
   "source": [
    "shelfFile.close()"
   ]
  },
  {
   "cell_type": "code",
   "execution_count": 13,
   "id": "d0f75c0b",
   "metadata": {},
   "outputs": [
    {
     "data": {
      "text/plain": [
       "['cats']"
      ]
     },
     "execution_count": 13,
     "metadata": {},
     "output_type": "execute_result"
    }
   ],
   "source": [
    "shelfFile = shelve.open('mydata')\n",
    "list(shelfFile.keys())"
   ]
  },
  {
   "cell_type": "code",
   "execution_count": 14,
   "id": "319acb5f",
   "metadata": {},
   "outputs": [
    {
     "data": {
      "text/plain": [
       "[['Zophie', 'Pooka', 'Simon']]"
      ]
     },
     "execution_count": 14,
     "metadata": {},
     "output_type": "execute_result"
    }
   ],
   "source": [
    "list(shelfFile.values())"
   ]
  },
  {
   "cell_type": "code",
   "execution_count": 15,
   "id": "2c393585",
   "metadata": {},
   "outputs": [],
   "source": [
    "shelfFile.close()"
   ]
  },
  {
   "cell_type": "markdown",
   "id": "0a84dd91",
   "metadata": {},
   "source": [
    "## Saving Variables with the pprint.pformat() Function"
   ]
  },
  {
   "cell_type": "code",
   "execution_count": 18,
   "id": "2d8e76c4",
   "metadata": {},
   "outputs": [
    {
     "data": {
      "text/plain": [
       "\"[{'desc': 'chubby', 'name': 'Zophie'}, {'desc': 'fluffy', 'name': 'Pooka'}]\""
      ]
     },
     "execution_count": 18,
     "metadata": {},
     "output_type": "execute_result"
    }
   ],
   "source": [
    "import pprint\n",
    "\n",
    "cats = [{'name': 'Zophie', 'desc': 'chubby'}, {'name': 'Pooka', 'desc': 'fluffy'}]\n",
    "pprint.pformat(cats)"
   ]
  },
  {
   "cell_type": "code",
   "execution_count": 27,
   "id": "58d2dd88",
   "metadata": {},
   "outputs": [
    {
     "data": {
      "text/plain": [
       "83"
      ]
     },
     "execution_count": 27,
     "metadata": {},
     "output_type": "execute_result"
    }
   ],
   "source": [
    "fileObj = open('myCats.py', 'w')\n",
    "fileObj.write('cats = ' + pprint.pformat(cats) + '\\n')"
   ]
  },
  {
   "cell_type": "code",
   "execution_count": 28,
   "id": "f654bd4c",
   "metadata": {},
   "outputs": [],
   "source": [
    "fileObj.close()"
   ]
  },
  {
   "cell_type": "code",
   "execution_count": 35,
   "id": "769846b8",
   "metadata": {},
   "outputs": [
    {
     "data": {
      "text/plain": [
       "[{'desc': 'chubby', 'name': 'Zophie'}, {'desc': 'fluffy', 'name': 'Pooka'}]"
      ]
     },
     "execution_count": 35,
     "metadata": {},
     "output_type": "execute_result"
    }
   ],
   "source": [
    "import myCats\n",
    "\n",
    "myCats.cats"
   ]
  },
  {
   "cell_type": "code",
   "execution_count": 36,
   "id": "ff031545",
   "metadata": {},
   "outputs": [
    {
     "data": {
      "text/plain": [
       "{'desc': 'chubby', 'name': 'Zophie'}"
      ]
     },
     "execution_count": 36,
     "metadata": {},
     "output_type": "execute_result"
    }
   ],
   "source": [
    "myCats.cats[0]"
   ]
  },
  {
   "cell_type": "code",
   "execution_count": 37,
   "id": "8796dd3d",
   "metadata": {},
   "outputs": [
    {
     "data": {
      "text/plain": [
       "'Zophie'"
      ]
     },
     "execution_count": 37,
     "metadata": {},
     "output_type": "execute_result"
    }
   ],
   "source": [
    "myCats.cats[0]['name']"
   ]
  },
  {
   "cell_type": "markdown",
   "id": "bc808e6f",
   "metadata": {},
   "source": [
    "## Project: Generating Random Quiz Files"
   ]
  },
  {
   "cell_type": "code",
   "execution_count": 33,
   "id": "2515d043",
   "metadata": {},
   "outputs": [],
   "source": [
    "import random\n",
    "\n",
    "# The quiz data. Keys are states and values are their capitals.\n",
    "capitals = {'Alabama':'Montgomery', 'Alaska': 'Juneau', 'Arizona': 'Phoenix',\n",
    "'Arkansas': 'Little Rock', 'California': 'Sacramento', 'Colorado': 'Denver',\n",
    "'Connecticut': 'Hartford', 'Delaware': 'Dover', 'Florida': 'Tallahassee',\n",
    "'Georgia': 'Atlanta', 'Hawaii': 'Honolulu', 'Idaho': 'Boise', 'Illinois':'Springfield',\n",
    "'Indiana': 'Indianapolis', 'Iowa': 'Des Moines', 'Kansas':'Topeka',\n",
    "'Kentucky': 'Frankfort', 'Louisiana': 'Baton Rouge', 'Maine':'Augusta',\n",
    "'Maryland': 'Annapolis', 'Massachusetts': 'Boston', 'Michigan':\n",
    "'Lansing', 'Minnesota': 'Saint Paul', 'Mississippi': 'Jackson', 'Missouri':\n",
    "'Jefferson City', 'Montana': 'Helena', 'Nebraska': 'Lincoln', 'Nevada':\n",
    "'Carson City', 'New Hampshire': 'Concord', 'New Jersey': 'Trenton',\n",
    "'New Mexico': 'Santa Fe', 'New York': 'Albany', 'North Carolina': 'Raleigh',\n",
    "'North Dakota': 'Bismarck', 'Ohio': 'Columbus', 'Oklahoma': 'Oklahoma City',\n",
    "'Oregon': 'Salem', 'Pennsylvania': 'Harrisburg', 'Rhode Island': 'Providence',\n",
    "'South Carolina': 'Columbia', 'South Dakota': 'Pierre', 'Tennessee':\n",
    "'Nashville', 'Texas': 'Austin', 'Utah': 'Salt Lake City', 'Vermont':\n",
    "'Montpelier', 'Virginia': 'Richmond', 'Washington': 'Olympia',\n",
    "'West Virginia': 'Charleston', 'Wisconsin': 'Madison', 'Wyoming': 'Cheyenne'}\n",
    "\n",
    "# Generate 35 quiz files.\n",
    "for quizNum in range(35):\n",
    "\n",
    "    # Create the quiz and answer key files.\n",
    "    quizFile = open(f'capitalsquiz{quizNum + 1}.txt', 'w')\n",
    "    answerKeyFile = open(f'capitalsquiz_answers{quizNum + 1}.txt', 'w')\n",
    "\n",
    "    # Write out the header for the quiz.\n",
    "    quizFile.write('Name:\\n\\nDate:\\n\\nPeriod:\\n\\n')\n",
    "    quizFile.write((' ' * 20) + f'State Capitals Quiz (Form{quizNum + 1})')\n",
    "    quizFile.write('\\n\\n')\n",
    "\n",
    "    # Shuffle the order of the states.\n",
    "    states = list(capitals.keys())\n",
    "    random.shuffle(states)\n",
    "    \n",
    "    # Loop through all 50 states, making a question for each.\n",
    "    for questionNum in range(50):\n",
    "        \n",
    "        # Get right and wrong answers.\n",
    "        correctAnswer = capitals[states[questionNum]]\n",
    "        wrongAnswers = list(capitals.values())\n",
    "        del wrongAnswers[wrongAnswers.index(correctAnswer)]\n",
    "        wrongAnswers = random.sample(wrongAnswers, 3)\n",
    "        answerOptions = wrongAnswers + [correctAnswer]\n",
    "        random.shuffle(answerOptions)\n",
    "        \n",
    "        # Write the question and the answer options to the quiz file.\n",
    "        quizFile.write(f'{questionNum + 1}. What is the capital of {states[questionNum]}?\\n')\n",
    "        \n",
    "        for i in range(4):\n",
    "            quizFile.write(f\"    {'ABCD'[i]}. { answerOptions[i]}\\n\")\n",
    "        quizFile.write('\\n')\n",
    "\n",
    "        # Write the answer key to a file.\n",
    "        answerKeyFile.write(f\"{questionNum + 1}.{'ABCD'[answerOptions.index(correctAnswer)]}\\n\")\n",
    "    \n",
    "    quizFile.close()\n",
    "    answerKeyFile.close()"
   ]
  },
  {
   "cell_type": "markdown",
   "id": "78f43116",
   "metadata": {},
   "source": [
    "## Project: Updatable Multi-Clipboard"
   ]
  },
  {
   "cell_type": "code",
   "execution_count": null,
   "id": "c2aab7e4",
   "metadata": {},
   "outputs": [],
   "source": []
  },
  {
   "cell_type": "code",
   "execution_count": null,
   "id": "7ecdf232",
   "metadata": {},
   "outputs": [],
   "source": []
  },
  {
   "cell_type": "code",
   "execution_count": null,
   "id": "1813115d",
   "metadata": {},
   "outputs": [],
   "source": []
  }
 ],
 "metadata": {
  "colab": {
   "collapsed_sections": [
    "9c3241e2",
    "c271068f",
    "eb512352",
    "f9b49704"
   ],
   "name": "chapter-09-reading-writing-files.ipynb",
   "provenance": []
  },
  "kernelspec": {
   "display_name": "Python 3 (ipykernel)",
   "language": "python",
   "name": "python3"
  },
  "language_info": {
   "codemirror_mode": {
    "name": "ipython",
    "version": 3
   },
   "file_extension": ".py",
   "mimetype": "text/x-python",
   "name": "python",
   "nbconvert_exporter": "python",
   "pygments_lexer": "ipython3",
   "version": "3.9.13"
  },
  "vscode": {
   "interpreter": {
    "hash": "2c7666c1320a956fa05893d10993164efa76d3af81fc7470d6f4943526f3df36"
   }
  }
 },
 "nbformat": 4,
 "nbformat_minor": 5
}
