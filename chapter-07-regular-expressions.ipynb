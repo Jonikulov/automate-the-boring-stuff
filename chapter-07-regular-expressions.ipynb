{
 "cells": [
  {
   "cell_type": "markdown",
   "id": "dbdc6aa6",
   "metadata": {},
   "source": [
    "# Chapter 7: PATTERN MATCHING WITH REGULAR EXPRESSIONS"
   ]
  },
  {
   "cell_type": "markdown",
   "id": "3fa9dfaa",
   "metadata": {},
   "source": [
    "## Finding Patterns of Text with Regular Expressions"
   ]
  },
  {
   "cell_type": "markdown",
   "id": "a00ed4a9",
   "metadata": {},
   "source": [
    "### Creating Regex Objects"
   ]
  },
  {
   "cell_type": "code",
   "execution_count": 1,
   "id": "7b7d454a",
   "metadata": {},
   "outputs": [],
   "source": [
    "import re"
   ]
  },
  {
   "cell_type": "code",
   "execution_count": 3,
   "id": "8e1b1592",
   "metadata": {},
   "outputs": [],
   "source": [
    "phoneNumRegex = re.compile(r'\\d\\d\\d-\\d\\d\\d-\\d\\d\\d\\d')"
   ]
  },
  {
   "cell_type": "markdown",
   "id": "9c849683",
   "metadata": {},
   "source": [
    "### Matching Regex Objects"
   ]
  },
  {
   "cell_type": "code",
   "execution_count": 12,
   "id": "8eabf692",
   "metadata": {},
   "outputs": [
    {
     "name": "stdout",
     "output_type": "stream",
     "text": [
      "Phone number found: 415-555-4242\n"
     ]
    }
   ],
   "source": [
    "match_obj = phoneNumRegex.search(\"My number is 415-555-4242.\")\n",
    "print(\"Phone number found:\", match_obj.group())"
   ]
  },
  {
   "cell_type": "markdown",
   "id": "9e42c3c1",
   "metadata": {},
   "source": [
    "## More Pattern Matching with Regular Expressions"
   ]
  },
  {
   "cell_type": "markdown",
   "id": "eef55cec",
   "metadata": {},
   "source": [
    "### Grouping with Parentheses"
   ]
  },
  {
   "cell_type": "code",
   "execution_count": 22,
   "id": "df782732",
   "metadata": {},
   "outputs": [
    {
     "data": {
      "text/plain": [
       "'(415) 555-4242'"
      ]
     },
     "execution_count": 22,
     "metadata": {},
     "output_type": "execute_result"
    }
   ],
   "source": [
    "phoneNumRegex = re.compile(r'(\\(\\d\\d\\d\\)) (\\d\\d\\d-\\d\\d\\d\\d)')\n",
    "match_obj = phoneNumRegex.search(\"My number is (415) 555-4242.\")\n",
    "match_obj.group(0)"
   ]
  },
  {
   "cell_type": "code",
   "execution_count": 23,
   "id": "0aab7d4a",
   "metadata": {},
   "outputs": [
    {
     "data": {
      "text/plain": [
       "'(415)'"
      ]
     },
     "execution_count": 23,
     "metadata": {},
     "output_type": "execute_result"
    }
   ],
   "source": [
    "match_obj.group(1)"
   ]
  },
  {
   "cell_type": "code",
   "execution_count": 24,
   "id": "2bb2f2b6",
   "metadata": {},
   "outputs": [
    {
     "data": {
      "text/plain": [
       "'555-4242'"
      ]
     },
     "execution_count": 24,
     "metadata": {},
     "output_type": "execute_result"
    }
   ],
   "source": [
    "match_obj.group(2)"
   ]
  },
  {
   "cell_type": "markdown",
   "id": "891b60f7",
   "metadata": {},
   "source": [
    "The `\\(` and `\\)` escape characters in the raw string passed to `re.compile()` will match actual parenthesis characters. In regular expressions, the following characters have special meanings:\n",
    "\n",
    "**`. ^ $ * + ? { } [ ] \\ | ( )`**\n",
    "\n",
    "If you want to detect these characters as part of your text pattern, you need to escape them with a\n",
    "backslash."
   ]
  },
  {
   "cell_type": "markdown",
   "id": "50e91082",
   "metadata": {},
   "source": [
    "### Matching Multiple Groups with the Pipe\n",
    "\n",
    "The `|` character is called a *pipe*. You can use it anywhere you want to match one of many expressions. For example, the regular expression `r'Batman|Tina Fey'` will match either *'Batman'* or *'Tina Fey'*."
   ]
  },
  {
   "cell_type": "code",
   "execution_count": 28,
   "id": "2a809e50",
   "metadata": {},
   "outputs": [
    {
     "data": {
      "text/plain": [
       "'Batman'"
      ]
     },
     "execution_count": 28,
     "metadata": {},
     "output_type": "execute_result"
    }
   ],
   "source": [
    "heroRegex = re.compile(r'Batman|Tina Fey')\n",
    "match_obj1 = heroRegex.search('Batman and Tina Fey')\n",
    "match_obj1.group()"
   ]
  },
  {
   "cell_type": "code",
   "execution_count": 29,
   "id": "29354504",
   "metadata": {},
   "outputs": [
    {
     "data": {
      "text/plain": [
       "'Tina Fey'"
      ]
     },
     "execution_count": 29,
     "metadata": {},
     "output_type": "execute_result"
    }
   ],
   "source": [
    "match_obj2 = heroRegex.search(\"Tina Fey and Batman\")\n",
    "match_obj2.group()"
   ]
  },
  {
   "cell_type": "code",
   "execution_count": 30,
   "id": "ad475b1b",
   "metadata": {},
   "outputs": [
    {
     "data": {
      "text/plain": [
       "'Batmobile'"
      ]
     },
     "execution_count": 30,
     "metadata": {},
     "output_type": "execute_result"
    }
   ],
   "source": [
    "batRegex = re.compile(r\"Bat(man|mobile|copter|bat)\")\n",
    "match_obj3 = batRegex.search(\"Batmobile lost a wheel.\")\n",
    "match_obj3.group()"
   ]
  },
  {
   "cell_type": "code",
   "execution_count": 31,
   "id": "188ca404",
   "metadata": {},
   "outputs": [
    {
     "data": {
      "text/plain": [
       "'mobile'"
      ]
     },
     "execution_count": 31,
     "metadata": {},
     "output_type": "execute_result"
    }
   ],
   "source": [
    "match_obj3.group(1)"
   ]
  },
  {
   "cell_type": "markdown",
   "id": "587d34f7",
   "metadata": {},
   "source": [
    "### Optional Matching with the Question Mark"
   ]
  },
  {
   "cell_type": "code",
   "execution_count": 32,
   "id": "df010281",
   "metadata": {},
   "outputs": [
    {
     "data": {
      "text/plain": [
       "'Batman'"
      ]
     },
     "execution_count": 32,
     "metadata": {},
     "output_type": "execute_result"
    }
   ],
   "source": [
    "batRegex = re.compile(r'Bat(wo)?man')\n",
    "match_obj4 = batRegex.search(\"The Adventures of Batman\")\n",
    "match_obj4.group()"
   ]
  },
  {
   "cell_type": "code",
   "execution_count": 38,
   "id": "beade5c5",
   "metadata": {},
   "outputs": [
    {
     "data": {
      "text/plain": [
       "'Batwoman'"
      ]
     },
     "execution_count": 38,
     "metadata": {},
     "output_type": "execute_result"
    }
   ],
   "source": [
    "match_obj5 = batRegex.search(\"The Adventures of Batwoman\")\n",
    "match_obj5.group()"
   ]
  },
  {
   "cell_type": "code",
   "execution_count": 39,
   "id": "3b8a884b",
   "metadata": {},
   "outputs": [
    {
     "data": {
      "text/plain": [
       "'415-555-4242'"
      ]
     },
     "execution_count": 39,
     "metadata": {},
     "output_type": "execute_result"
    }
   ],
   "source": [
    "phoneRegex = re.compile(r'(\\d\\d\\d-)?\\d\\d\\d-\\d\\d\\d\\d')\n",
    "match_obj6 = phoneRegex.search(\"My number is 415-555-4242\")\n",
    "match_obj6.group()"
   ]
  },
  {
   "cell_type": "code",
   "execution_count": 40,
   "id": "54c856a5",
   "metadata": {},
   "outputs": [
    {
     "data": {
      "text/plain": [
       "'555-4242'"
      ]
     },
     "execution_count": 40,
     "metadata": {},
     "output_type": "execute_result"
    }
   ],
   "source": [
    "match_obj7 = phoneRegex.search(\"My number is 555-4242\")\n",
    "match_obj7.group()"
   ]
  },
  {
   "cell_type": "markdown",
   "id": "9b7686ca",
   "metadata": {},
   "source": [
    "### Matching Zero or More with the Star\n",
    "\n",
    "The * (called *star* or *asterisk*) means **\"match zero or more\"** - the group that precedes the star can occur any number of times in the text. It can be completely absent or repeated over and over again."
   ]
  },
  {
   "cell_type": "code",
   "execution_count": 4,
   "id": "20347405",
   "metadata": {},
   "outputs": [
    {
     "data": {
      "text/plain": [
       "'Batman'"
      ]
     },
     "execution_count": 4,
     "metadata": {},
     "output_type": "execute_result"
    }
   ],
   "source": [
    "batRegex = re.compile(r'Bat(wo)*man')\n",
    "match_obj8 = batRegex.search('The Adventures of Batman')\n",
    "match_obj8.group()"
   ]
  },
  {
   "cell_type": "code",
   "execution_count": 7,
   "id": "df4ec36a",
   "metadata": {},
   "outputs": [
    {
     "data": {
      "text/plain": [
       "'Batwoman'"
      ]
     },
     "execution_count": 7,
     "metadata": {},
     "output_type": "execute_result"
    }
   ],
   "source": [
    "match_obj9 = batRegex.search('The Adventures of Batwoman')\n",
    "match_obj9.group()"
   ]
  },
  {
   "cell_type": "code",
   "execution_count": 8,
   "id": "f62f1875",
   "metadata": {},
   "outputs": [
    {
     "data": {
      "text/plain": [
       "'Batwowowowoman'"
      ]
     },
     "execution_count": 8,
     "metadata": {},
     "output_type": "execute_result"
    }
   ],
   "source": [
    "mo1 = batRegex.search('The Adventures of Batwowowowoman')\n",
    "mo1.group()"
   ]
  },
  {
   "cell_type": "markdown",
   "id": "c7793058",
   "metadata": {},
   "source": [
    "### Matching One or More with the Plus\n",
    "\n",
    "The + (or *plus*) means **\"match one or more.\"** Unlike the star, which does not require its group to appear in the matched string, the group preceding a plus must appear at least once. It is not optional."
   ]
  },
  {
   "cell_type": "code",
   "execution_count": 9,
   "id": "ddc4f22e",
   "metadata": {},
   "outputs": [
    {
     "data": {
      "text/plain": [
       "'Batwoman'"
      ]
     },
     "execution_count": 9,
     "metadata": {},
     "output_type": "execute_result"
    }
   ],
   "source": [
    "batRegex = re.compile(r'Bat(wo)+man')\n",
    "mo1 = batRegex.search('The Adventures of Batwoman')\n",
    "mo1.group()"
   ]
  },
  {
   "cell_type": "code",
   "execution_count": 10,
   "id": "af916b1e",
   "metadata": {},
   "outputs": [
    {
     "data": {
      "text/plain": [
       "'Batwowowowoman'"
      ]
     },
     "execution_count": 10,
     "metadata": {},
     "output_type": "execute_result"
    }
   ],
   "source": [
    "mo2 = batRegex.search('The Adventures of Batwowowowoman')\n",
    "mo2.group()"
   ]
  },
  {
   "cell_type": "code",
   "execution_count": 18,
   "id": "baea5f62",
   "metadata": {},
   "outputs": [
    {
     "data": {
      "text/plain": [
       "True"
      ]
     },
     "execution_count": 18,
     "metadata": {},
     "output_type": "execute_result"
    }
   ],
   "source": [
    "mo3 = batRegex.search('The Adventures of Batman')\n",
    "mo3 == None"
   ]
  },
  {
   "cell_type": "markdown",
   "id": "ef59bd92",
   "metadata": {},
   "source": [
    "### Matching Specific Repetitions with Braces\n",
    " \n",
    "If you have a group that you want to repeat a specific number of times, follow the group in your regex with a number in braces. For example, the regex `(Ha){3}` will match the string `'HaHaHa'`, but it will not match `'HaHa'`, since the latter has only two repeats of the `(Ha)` group.\n",
    "\n",
    "Instead of one number, you can specify a range by writing a minimum, a comma, and a maximum in between the braces. For example, the regex `(Ha){3,5}` will match `'HaHaHa'`, `'HaHaHaHa'`, and `'HaHaHaHaHa'`.\n",
    "\n",
    "You can also leave out the first or second number in the braces to leave the minimum or maximum unbounded. For example, `(Ha){3,}` will match three or more instances of the `(Ha)` group, while `(Ha){,5}` will match zero to five instances. Braces can help make your regular expressions shorter.\n",
    "\n",
    "These two regular expressions match identical patterns:\n",
    "\n",
    "(Ha){3}\\\n",
    "(Ha)(Ha)(Ha)\n",
    "\n",
    "-----\n",
    "\n",
    "And these two regular expressions also match identical patterns:\n",
    "\n",
    "(Ha){3,5}\\\n",
    "((Ha)(Ha)(Ha)) | ((Ha)(Ha)(Ha)(Ha)) | ((Ha)(Ha)(Ha)(Ha)(Ha))\n",
    "\n",
    "---"
   ]
  },
  {
   "cell_type": "code",
   "execution_count": 19,
   "id": "92330656",
   "metadata": {},
   "outputs": [
    {
     "data": {
      "text/plain": [
       "'HaHaHa'"
      ]
     },
     "execution_count": 19,
     "metadata": {},
     "output_type": "execute_result"
    }
   ],
   "source": [
    "haRegex = re.compile(r'(Ha){3}')\n",
    "mo1 = haRegex.search('HaHaHa')\n",
    "mo1.group()"
   ]
  },
  {
   "cell_type": "code",
   "execution_count": 20,
   "id": "e03f0c1c",
   "metadata": {},
   "outputs": [
    {
     "data": {
      "text/plain": [
       "True"
      ]
     },
     "execution_count": 20,
     "metadata": {},
     "output_type": "execute_result"
    }
   ],
   "source": [
    "mo2 = haRegex.search('Ha')\n",
    "mo2 == None"
   ]
  },
  {
   "cell_type": "markdown",
   "id": "d71c3b15",
   "metadata": {},
   "source": [
    "## Greedy and Non-greedy Matching\n",
    "\n",
    "Since `(Ha){3,5}` can match three, four, or five instances of `Ha` in the string `'HaHaHaHaHa'`, you may wonder why the `Match` object’s call to `group()` in the previous brace example returns `'HaHaHaHaHa'` instead of the shorter possibilities. After all, `'HaHaHa'` and `'HaHaHaHa'` are also valid matches of the regular expression `(Ha){3,5}`.\n",
    "\n",
    "Python’s regular expressions are *greedy* by default, which means that in ambiguous situations they will match the longest string possible. The *non-greedy* (also called *lazy*) version of the braces, which matches the shortest string possible, has the closing brace followed by a question mark."
   ]
  },
  {
   "cell_type": "code",
   "execution_count": 2,
   "id": "71f97c10",
   "metadata": {},
   "outputs": [
    {
     "data": {
      "text/plain": [
       "'HaHaHaHaHa'"
      ]
     },
     "execution_count": 2,
     "metadata": {},
     "output_type": "execute_result"
    }
   ],
   "source": [
    "greedyRegex = re.compile(r'(Ha){3,5}')\n",
    "mo1 = greedyRegex.search('HaHaHaHaHa')\n",
    "mo1.group()"
   ]
  },
  {
   "cell_type": "code",
   "execution_count": 3,
   "id": "49095fcd",
   "metadata": {},
   "outputs": [
    {
     "data": {
      "text/plain": [
       "'HaHaHa'"
      ]
     },
     "execution_count": 3,
     "metadata": {},
     "output_type": "execute_result"
    }
   ],
   "source": [
    "nongreedyRegex = re.compile(r'(Ha){3,5}?')\n",
    "mo2 = nongreedyRegex.search('HaHaHaHaHa')\n",
    "mo2.group()"
   ]
  },
  {
   "cell_type": "markdown",
   "id": "c42eb2e6",
   "metadata": {},
   "source": [
    "> **Note** that the question mark can have two meanings in regular expressions: declaring a non-greedy match or flagging an optional group."
   ]
  },
  {
   "cell_type": "markdown",
   "id": "3e8e5987",
   "metadata": {},
   "source": [
    "## The findall() Method\n",
    "\n",
    "In addition to the `search()` method, *Regex* objects also have a `findall()` method. While `search()` will return a *Match* object of the *first* matched text in the searched string, the `findall()` method will return the strings of *every* match in the searched string."
   ]
  },
  {
   "cell_type": "code",
   "execution_count": 7,
   "id": "0c0b731a",
   "metadata": {},
   "outputs": [
    {
     "data": {
      "text/plain": [
       "'415-555-9999'"
      ]
     },
     "execution_count": 7,
     "metadata": {},
     "output_type": "execute_result"
    }
   ],
   "source": [
    "phoneNumRegex = re.compile(r'\\d\\d\\d-\\d\\d\\d-\\d\\d\\d\\d')\n",
    "mo = phoneNumRegex.search('Cell: 415-555-9999 Work: 212-555-0000')\n",
    "mo.group()"
   ]
  },
  {
   "cell_type": "markdown",
   "id": "0c6849a3",
   "metadata": {},
   "source": [
    "On the other hand, `findall()` will not return a *Match* object but a list of strings — *as long as there are no groups in the regular expression*."
   ]
  },
  {
   "cell_type": "code",
   "execution_count": 9,
   "id": "8cc5532f",
   "metadata": {},
   "outputs": [
    {
     "data": {
      "text/plain": [
       "['415-555-9999', '212-555-0000']"
      ]
     },
     "execution_count": 9,
     "metadata": {},
     "output_type": "execute_result"
    }
   ],
   "source": [
    "phoneNumRegex = re.compile(r'\\d\\d\\d-\\d\\d\\d-\\d\\d\\d\\d')  # has no groups\n",
    "phoneNumRegex.findall('Cell: 415-555-9999 Work: 212-555-0000')"
   ]
  },
  {
   "cell_type": "markdown",
   "id": "288b9d15",
   "metadata": {},
   "source": [
    "If there *are* groups in the regular expression, then `findall()` will return a list of tuples. Each tuple represents a found match, and its items are the matched strings for each group in the regex."
   ]
  },
  {
   "cell_type": "code",
   "execution_count": 12,
   "id": "a149fa6b",
   "metadata": {},
   "outputs": [
    {
     "data": {
      "text/plain": [
       "[('415', '555', '9999'), ('212', '555', '0000')]"
      ]
     },
     "execution_count": 12,
     "metadata": {},
     "output_type": "execute_result"
    }
   ],
   "source": [
    "phoneNumRegex = re.compile(r'(\\d\\d\\d)-(\\d\\d\\d)-(\\d\\d\\d\\d)')  # has groups\n",
    "phoneNumRegex.findall('Cell: 415-555-9999 Work: 212-555-0000')"
   ]
  },
  {
   "cell_type": "markdown",
   "id": "21fd1365",
   "metadata": {},
   "source": [
    "## Character Classes\n",
    "\n",
    "**Shorthand character class | Represents**\n",
    "\n",
    "- `\\d` — Any numeric digit from 0 to 9.\n",
    "\n",
    "- `\\D` — Any character that is not a numeric digit from 0 to 9.\n",
    "\n",
    "- `\\w` — Any letter, numeric digit, or the underscore character. (Think of this as matching \"word\" characters.)\n",
    "\n",
    "- `\\W` — Any character that is not a letter, numeric digit, or the underscore character.\n",
    "\n",
    "- `\\s` — Any space, tab, or newline character. (Think of this as matching \"space\" characters.)\n",
    "\n",
    "- `\\S` — Any character that is not a space, tab, or newline."
   ]
  },
  {
   "cell_type": "code",
   "execution_count": 18,
   "id": "f8d74dae",
   "metadata": {},
   "outputs": [
    {
     "data": {
      "text/plain": [
       "['12 drummers',\n",
       " '11 pipers',\n",
       " '10 lords',\n",
       " '9 ladies',\n",
       " '8 maids',\n",
       " '7 swans',\n",
       " '6 geese',\n",
       " '5 rings',\n",
       " '4 birds',\n",
       " '3 hens',\n",
       " '2 doves',\n",
       " '1 partridge']"
      ]
     },
     "execution_count": 18,
     "metadata": {},
     "output_type": "execute_result"
    }
   ],
   "source": [
    "giftRegex = re.compile(r'\\d+\\s\\w+')\n",
    "text = ('12 drummers, 11 pipers, 10 lords, 9 ladies, 8 maids, \\\n",
    "7 swans, 6 geese, 5 rings, 4 birds, 3 hens, 2 doves, 1 partridge')\n",
    "giftRegex.findall(text)"
   ]
  },
  {
   "cell_type": "markdown",
   "id": "25e9a99d",
   "metadata": {},
   "source": [
    "## Making Your Own Character Classes\n",
    "\n",
    "There are times when you want to match a set of characters but the shorthand character classes `(\\d, \\w, \\s, and so on)` are too broad. You can define your own character class using square brackets. For example, the character class `[aeiouAEIOU]` will match any vowel, both lowercase and uppercase."
   ]
  },
  {
   "cell_type": "code",
   "execution_count": 2,
   "id": "4f03fb4a",
   "metadata": {},
   "outputs": [
    {
     "data": {
      "text/plain": [
       "['o', 'o', 'o', 'e', 'a', 'a', 'o', 'o', 'A', 'O', 'O']"
      ]
     },
     "execution_count": 2,
     "metadata": {},
     "output_type": "execute_result"
    }
   ],
   "source": [
    "vowelRegex = re.compile(r'[aeiouAEIOU]')\n",
    "vowelRegex.findall('RoboCop eats baby food. BABY FOOD.')"
   ]
  },
  {
   "cell_type": "markdown",
   "id": "a9c64740",
   "metadata": {},
   "source": [
    "You can also include ranges of letters or numbers by using a hyphen. For example, the character class `[a-zA-Z0-9]` will match all lowercase letters, uppercase letters, and numbers.\n",
    "\n",
    "Note that inside the square brackets, the normal regular expression symbols are not interpreted as such. This means you do not need to escape the `., *, ?, or ()` characters with a preceding backslash. For example, the character class `[0-5.]` will match digits 0 to 5 and a period. You do not need to write it as `[0-5\\.]`.\n",
    "\n",
    "By placing a caret character `(^)` just after the character class’s opening bracket, you can make a *negative character class*. A negative character class will match all the characters that are *not* in the character class."
   ]
  },
  {
   "cell_type": "code",
   "execution_count": 7,
   "id": "bbe599d6",
   "metadata": {},
   "outputs": [
    {
     "name": "stdout",
     "output_type": "stream",
     "text": [
      "['R', 'b', 'C', 'p', ' ', 't', 's', ' ', 'b', 'b', 'y', ' ', 'f', 'd', '.', ' ', 'B', 'B', 'Y', ' ', 'F', 'D', '.']\n"
     ]
    }
   ],
   "source": [
    "constantRegex = re.compile(r'[^aeiouAEIOU]')\n",
    "print(constantRegex.findall('RoboCop eats baby food. BABY FOOD.'))"
   ]
  },
  {
   "cell_type": "markdown",
   "id": "b07302aa",
   "metadata": {},
   "source": [
    "## The Caret and Dollar Sign Characters\n",
    "\n",
    "You can also use the caret symbol (`^`) at the start of a regex to indicate that a match must occur at the *beginning* of the searched text. Likewise, you can put a dollar sign (`$`) at the end of the regex to indicate the string must *end* with this regex pattern. And you can use the `^` and `$` together to indicate that the entire string must match the regex—that is, it’s not enough for a match to be made on some subset of the string."
   ]
  },
  {
   "cell_type": "code",
   "execution_count": 8,
   "id": "7fbf62bc",
   "metadata": {},
   "outputs": [
    {
     "data": {
      "text/plain": [
       "<re.Match object; span=(0, 5), match='Hello'>"
      ]
     },
     "execution_count": 8,
     "metadata": {},
     "output_type": "execute_result"
    }
   ],
   "source": [
    "beginsWithHello = re.compile(r'^Hello')\n",
    "beginsWithHello.search('Hello, world!')"
   ]
  },
  {
   "cell_type": "code",
   "execution_count": 10,
   "id": "5e159ba0",
   "metadata": {},
   "outputs": [
    {
     "data": {
      "text/plain": [
       "True"
      ]
     },
     "execution_count": 10,
     "metadata": {},
     "output_type": "execute_result"
    }
   ],
   "source": [
    "beginsWithHello.search('He said Hello.') == None"
   ]
  },
  {
   "cell_type": "code",
   "execution_count": 12,
   "id": "6199bd76",
   "metadata": {},
   "outputs": [
    {
     "data": {
      "text/plain": [
       "<re.Match object; span=(16, 17), match='2'>"
      ]
     },
     "execution_count": 12,
     "metadata": {},
     "output_type": "execute_result"
    }
   ],
   "source": [
    "endsWithNumber = re.compile(r'\\d$')\n",
    "endsWithNumber.search('Your number is 42')"
   ]
  },
  {
   "cell_type": "code",
   "execution_count": 13,
   "id": "2662dd67",
   "metadata": {},
   "outputs": [
    {
     "data": {
      "text/plain": [
       "True"
      ]
     },
     "execution_count": 13,
     "metadata": {},
     "output_type": "execute_result"
    }
   ],
   "source": [
    "endsWithNumber.search('Your number is forty two') == None"
   ]
  },
  {
   "cell_type": "code",
   "execution_count": 16,
   "id": "71964ea5",
   "metadata": {},
   "outputs": [
    {
     "data": {
      "text/plain": [
       "<re.Match object; span=(0, 9), match='123456890'>"
      ]
     },
     "execution_count": 16,
     "metadata": {},
     "output_type": "execute_result"
    }
   ],
   "source": [
    "wholeStringNum = re.compile(r'^\\d+$')\n",
    "wholeStringNum.search('123456890')"
   ]
  },
  {
   "cell_type": "code",
   "execution_count": 18,
   "id": "bf03c011",
   "metadata": {},
   "outputs": [
    {
     "data": {
      "text/plain": [
       "True"
      ]
     },
     "execution_count": 18,
     "metadata": {},
     "output_type": "execute_result"
    }
   ],
   "source": [
    "wholeStringNum.search('1234xyz56890') == None"
   ]
  },
  {
   "cell_type": "code",
   "execution_count": 19,
   "id": "0410e6d6",
   "metadata": {},
   "outputs": [
    {
     "data": {
      "text/plain": [
       "True"
      ]
     },
     "execution_count": 19,
     "metadata": {},
     "output_type": "execute_result"
    }
   ],
   "source": [
    "wholeStringNum.search('123 456890') == None"
   ]
  },
  {
   "cell_type": "markdown",
   "id": "3aefc814",
   "metadata": {},
   "source": [
    "## The Wildcard Character\n",
    "\n",
    "The `.` (or *dot*) character in a regular expression is called a wildcard and will match any character except for a newline."
   ]
  },
  {
   "cell_type": "code",
   "execution_count": 20,
   "id": "90f71f18",
   "metadata": {},
   "outputs": [
    {
     "data": {
      "text/plain": [
       "['cat', 'hat', 'sat', 'lat', 'mat']"
      ]
     },
     "execution_count": 20,
     "metadata": {},
     "output_type": "execute_result"
    }
   ],
   "source": [
    "atRegex = re.compile(r'.at')\n",
    "atRegex.findall('The cat in the hat sat on the flat mat.')"
   ]
  },
  {
   "cell_type": "markdown",
   "id": "7f1332f0",
   "metadata": {},
   "source": [
    "Remember that the dot character will match just one character, which is why the match for the text `flat` in the previous example matched only `lat`. To match an actual dot, escape the dot with a backslash: `\\..`"
   ]
  },
  {
   "cell_type": "markdown",
   "id": "0f6225f7",
   "metadata": {},
   "source": [
    "### Matching Everything with Dot-Star"
   ]
  },
  {
   "cell_type": "code",
   "execution_count": 2,
   "id": "29b96cbe",
   "metadata": {},
   "outputs": [
    {
     "data": {
      "text/plain": [
       "'Al'"
      ]
     },
     "execution_count": 2,
     "metadata": {},
     "output_type": "execute_result"
    }
   ],
   "source": [
    "nameRegex = re.compile(r'First Name: (.*) Last Name: (.*)')\n",
    "mo = nameRegex.search('First Name: Al Last Name: Sweigart')\n",
    "mo.group(1)"
   ]
  },
  {
   "cell_type": "code",
   "execution_count": 3,
   "id": "63d0ccf2",
   "metadata": {},
   "outputs": [
    {
     "data": {
      "text/plain": [
       "'Sweigart'"
      ]
     },
     "execution_count": 3,
     "metadata": {},
     "output_type": "execute_result"
    }
   ],
   "source": [
    "mo.group(2)"
   ]
  },
  {
   "cell_type": "markdown",
   "id": "48708715",
   "metadata": {},
   "source": [
    "The dot-star uses *greedy* mode: It will always try to match as much text as possible. To match any and all text in a *non-greedy* fashion, use the dot, star, and question mark `(.*?)`. Like with braces, the question mark tells Python to match in a non-greedy way."
   ]
  },
  {
   "cell_type": "code",
   "execution_count": 6,
   "id": "5fd0aec6",
   "metadata": {},
   "outputs": [
    {
     "data": {
      "text/plain": [
       "'<To serve man>'"
      ]
     },
     "execution_count": 6,
     "metadata": {},
     "output_type": "execute_result"
    }
   ],
   "source": [
    "nongreedyRegex = re.compile(r'<.*?>')\n",
    "mo = nongreedyRegex.search('<To serve man> for dinner.>')\n",
    "mo.group()"
   ]
  },
  {
   "cell_type": "code",
   "execution_count": 10,
   "id": "4c48bb1d",
   "metadata": {},
   "outputs": [
    {
     "data": {
      "text/plain": [
       "'<To serve man> for dinner.>'"
      ]
     },
     "execution_count": 10,
     "metadata": {},
     "output_type": "execute_result"
    }
   ],
   "source": [
    "greedyRegex = re.compile(r'<.*>')\n",
    "mo1 = greedyRegex.search('<To serve man> for dinner.>')\n",
    "mo1.group()"
   ]
  },
  {
   "cell_type": "markdown",
   "id": "b4d8ab67",
   "metadata": {},
   "source": [
    "### Matching Newlines with the Dot Character\n",
    "\n",
    "The dot-star will match everything except a newline. By passing `re.DOTALL` as the second argument to `re.compile()`, you can make the dot character match *all* characters, including the newline character."
   ]
  },
  {
   "cell_type": "code",
   "execution_count": 13,
   "id": "d487d02f",
   "metadata": {
    "scrolled": true
   },
   "outputs": [
    {
     "data": {
      "text/plain": [
       "'Serve the public trust.'"
      ]
     },
     "execution_count": 13,
     "metadata": {},
     "output_type": "execute_result"
    }
   ],
   "source": [
    "noNewlineRegex = re.compile(r'(.*)')\n",
    "noNewlineRegex.search('Serve the public trust.\\nProtect the innocent.\\nUphold the law.').group()"
   ]
  },
  {
   "cell_type": "code",
   "execution_count": 15,
   "id": "3fdcda1b",
   "metadata": {},
   "outputs": [
    {
     "data": {
      "text/plain": [
       "'Serve the public trust.\\nProtect the innocent.\\nUphold the law.'"
      ]
     },
     "execution_count": 15,
     "metadata": {},
     "output_type": "execute_result"
    }
   ],
   "source": [
    "newlineRegex = re.compile(r'(.*)', re.DOTALL)\n",
    "newlineRegex.search('Serve the public trust.\\nProtect the innocent.\\nUphold the law.').group()"
   ]
  },
  {
   "cell_type": "markdown",
   "id": "2ff3e8ef",
   "metadata": {},
   "source": [
    "## Case-Insensitive Matching\n",
    "\n",
    "Normally, regular expressions match text with the exact casing you specify."
   ]
  },
  {
   "cell_type": "code",
   "execution_count": 17,
   "id": "1a100198",
   "metadata": {},
   "outputs": [],
   "source": [
    "regex1 = re.compile('RoboCop')\n",
    "regex2 = re.compile('ROBOCOP')\n",
    "regex3 = re.compile('robOcop')\n",
    "regex4 = re.compile('RobocOp')"
   ]
  },
  {
   "cell_type": "markdown",
   "id": "a7eb9901",
   "metadata": {},
   "source": [
    "But sometimes you care only about matching the letters without worrying whether they're uppercase or lowercase. To make your regex case-insensitive, you can pass `re.IGNORECASE` or `re.I` as a second argument to `re.compile()`."
   ]
  },
  {
   "cell_type": "code",
   "execution_count": 19,
   "id": "0ef80014",
   "metadata": {},
   "outputs": [
    {
     "data": {
      "text/plain": [
       "'RoboCop'"
      ]
     },
     "execution_count": 19,
     "metadata": {},
     "output_type": "execute_result"
    }
   ],
   "source": [
    "robocop = re.compile(r'robocop', re.IGNORECASE)\n",
    "robocop.search('RoboCop is part man, part machine, all cop.').group()"
   ]
  },
  {
   "cell_type": "code",
   "execution_count": 20,
   "id": "f347fb60",
   "metadata": {},
   "outputs": [
    {
     "data": {
      "text/plain": [
       "'ROBOCOP'"
      ]
     },
     "execution_count": 20,
     "metadata": {},
     "output_type": "execute_result"
    }
   ],
   "source": [
    "robocop.search('ROBOCOP protects the innocent.').group()"
   ]
  },
  {
   "cell_type": "code",
   "execution_count": 21,
   "id": "62fd81bd",
   "metadata": {},
   "outputs": [
    {
     "data": {
      "text/plain": [
       "'robocop'"
      ]
     },
     "execution_count": 21,
     "metadata": {},
     "output_type": "execute_result"
    }
   ],
   "source": [
    "robocop.search('Al, why does your programming book talk about robocop so much?').group()"
   ]
  },
  {
   "cell_type": "markdown",
   "id": "88b94e99",
   "metadata": {},
   "source": [
    "## Substituting Strings with the sub() Method"
   ]
  },
  {
   "cell_type": "code",
   "execution_count": 28,
   "id": "cb69566f",
   "metadata": {},
   "outputs": [
    {
     "data": {
      "text/plain": [
       "'CENSORED gave the secret documents to CENSORED.'"
      ]
     },
     "execution_count": 28,
     "metadata": {},
     "output_type": "execute_result"
    }
   ],
   "source": [
    "namesRegex = re.compile(r'Agent \\w+')\n",
    "namesRegex.sub('CENSORED', 'Agent Alice gave the secret documents to Agent Bob.')"
   ]
  },
  {
   "cell_type": "markdown",
   "id": "8dd08689",
   "metadata": {},
   "source": [
    "Sometimes you may need to use the matched text itself as part of the substitution. In the first argument to sub(), you can type `\\1`, `\\2`, `\\3`, and so on, to mean \"Enter the text of group `1, 2, 3`, and so on, in the substitution.\" For example, say you want to censor the names of the secret agents by showing just the first letters of their names. To do this, you could use the regex `Agent (\\w)\\w*` and pass `r'\\1****'` as the first argument to sub(). The \\1 in that string will be replaced by whatever text was matched by group 1 — that is, the `(\\w)` group of the regular expression."
   ]
  },
  {
   "cell_type": "code",
   "execution_count": 29,
   "id": "73d93b05",
   "metadata": {},
   "outputs": [
    {
     "data": {
      "text/plain": [
       "'A**** told C**** that E**** knew B**** was a double agent.'"
      ]
     },
     "execution_count": 29,
     "metadata": {},
     "output_type": "execute_result"
    }
   ],
   "source": [
    "agentNamesRegex = re.compile(r'Agent (\\w)\\w*')\n",
    "agentNamesRegex.sub(r'\\1****', 'Agent Alice told Agent Carol that Agent Eve knew \\\n",
    "Agent Bob was a double agent.')"
   ]
  },
  {
   "cell_type": "markdown",
   "id": "b8a5bac0",
   "metadata": {},
   "source": [
    "## Managing Complex Regexes\n",
    "\n",
    "You can match complicated text patterns by telling the `re.compile()` function to ignore whitespace and comments inside the regular expression string. This \"verbose mode\" can be enabled by passing the variable `re.VERBOSE` as the second argument to `re.compile()`.\n",
    "\n",
    "Now instead of a hard-to-read regular expression like this:"
   ]
  },
  {
   "cell_type": "code",
   "execution_count": 2,
   "id": "eea4a7d4",
   "metadata": {},
   "outputs": [],
   "source": [
    "phoneRegex = re.compile(r'((\\d{3}|\\(\\d{3}\\))?(\\s|-|\\.)?\\d{3}(\\s|-|\\.)\\d{4}(\\s*(ext|x|ext.)\\s*\\d{2,5})?)')"
   ]
  },
  {
   "cell_type": "markdown",
   "id": "98ebce7e",
   "metadata": {},
   "source": [
    "we can spread the regular expression over multiple lines with comments like this:"
   ]
  },
  {
   "cell_type": "code",
   "execution_count": 3,
   "id": "b8dca855",
   "metadata": {},
   "outputs": [],
   "source": [
    "phoneRegex = re.compile(r'''(\n",
    "    (\\d{3}|\\(\\d{3}\\))?            # area code\n",
    "    (\\s|-|\\.)?                    # separator\n",
    "    \\d{3}                         # first 3 digits\n",
    "    (\\s|-|\\.)                     # separator\n",
    "    \\d{4}                         # last 4 digits\n",
    "    (\\s*(ext|x|ext.)\\s*\\d{2,5})?  # extension\n",
    "    )''', re.VERBOSE)"
   ]
  },
  {
   "cell_type": "markdown",
   "id": "01434287",
   "metadata": {},
   "source": [
    "### Combining re.IGNORECASE, re.DOTALL, and re.VERBOSE\n",
    "\n",
    "The `re.compile()` function takes only a single value as its second argument. You can get around this limitation by combining the `re.IGNORECASE`, `re.DOTALL`, and `re.VERBOSE` variables using the pipe character (`|`), which in this context is known as the *bitwise or* operator."
   ]
  },
  {
   "cell_type": "code",
   "execution_count": 5,
   "id": "b4446eb9",
   "metadata": {},
   "outputs": [],
   "source": [
    "someRegexValue = re.compile('foo', re.IGNORECASE | re.DOTALL)"
   ]
  },
  {
   "cell_type": "markdown",
   "id": "2c13c5ed",
   "metadata": {},
   "source": [
    "Including all three options in the second argument will look like this:"
   ]
  },
  {
   "cell_type": "code",
   "execution_count": 6,
   "id": "78eeb6a9",
   "metadata": {},
   "outputs": [],
   "source": [
    "someRegexValue = re.compile('foo', re.IGNORECASE | re.DOTALL | re.VERBOSE)"
   ]
  },
  {
   "cell_type": "markdown",
   "id": "1103367a",
   "metadata": {},
   "source": [
    "## Project: Phone Number and Email Address Extractor\n",
    "\n",
    "Your phone and email address extractor will need to do the following:\n",
    "\n",
    "1. Get the text off the clipboard.\n",
    "2. Find all phone numbers and email addresses in the text.\n",
    "3. Paste them onto the clipboard.\n",
    "\n",
    "---"
   ]
  },
  {
   "cell_type": "markdown",
   "id": "02151089",
   "metadata": {},
   "source": [
    "**Copy the (example) text below and run the program:**\n",
    "\n",
    "Contact Us\n",
    "Reach Us by Email - email is the best way to reach us\n",
    "Help with your order: support@nostarch.com\n",
    "Academic requests: academic@nostarch.com (Further information)\n",
    "Bulk and special sales questions: sales@nostarch.com\n",
    "Conference and event inquiries: conferences@nostarch.com\n",
    "Errata - please send any errata reports to: errata@nostarch.com\n",
    "General inquiries: info@nostarch.com\n",
    "Media requests: media@nostarch.com\n",
    "Proposals or editorial inquiries: editors@nostarch.com\n",
    "Rights inquiries: rights@nostarch.com\n",
    "Reach Us by Mail\n",
    "Our Mailing Address\n",
    "\n",
    "No Starch Press\n",
    "329 Primrose Road,  #42\n",
    "Burlingame, CA 94010\n",
    "\n",
    "Our Physical Address\n",
    "\n",
    "No Starch Press, Inc.\n",
    "245 8th Street\n",
    "San Francisco, CA 94103\n",
    "USA\n",
    "\n",
    "NOTE: Below are our business phone numbers but we are a completely remote company. Please email support@nostarch.com with your questions and we will do our best to promptly resolve any issues that you may have.\n",
    "\n",
    "Phone: 800.420.7240 or +1 415.863.9900\n",
    "Fax: +1 415.863.9950\n",
    "\n",
    "Reach Us on Social Media\n",
    "Twitter Facebook Instagram Linkedin Pinterest"
   ]
  },
  {
   "cell_type": "code",
   "execution_count": 13,
   "id": "b1806b17",
   "metadata": {},
   "outputs": [
    {
     "name": "stdout",
     "output_type": "stream",
     "text": [
      "Copied to clipboard:\n",
      "\n",
      "800-420-7240\n",
      "415-863-9900\n",
      "415-863-9950\n",
      "support@nostarch.com\n",
      "academic@nostarch.com\n",
      "sales@nostarch.com\n",
      "conferences@nostarch.com\n",
      "errata@nostarch.com\n",
      "info@nostarch.com\n",
      "media@nostarch.com\n",
      "editors@nostarch.com\n",
      "rights@nostarch.com\n",
      "support@nostarch.com\n"
     ]
    }
   ],
   "source": [
    "# phoneAndEmail.py - Finds phone numbers and email addresses on the clipboard.\n",
    "import re\n",
    "import pyperclip\n",
    "\n",
    "# Create phone regex.\n",
    "phone_regex = re.compile(r'''(\n",
    "    (\\d{3}|\\(\\d{3}\\))?                # area code\n",
    "    (\\s|-|\\.)?                        # separator\n",
    "    (\\d{3})                           # first 3 digits\n",
    "    (\\s|-|\\.)                         # separator\n",
    "    (\\d{4})                           # last 4 digits\n",
    "    (\\s*(ext|x|ext.)\\s*(\\d{2,5}))?    # extension\n",
    "    )''', re.VERBOSE)\n",
    "\n",
    "# Create email regex.\n",
    "emailRegex = re.compile(r'''(\n",
    "    [a-zA-Z0-9._%+-]+      # username\n",
    "    @                      # @ symbol\n",
    "    [a-zA-Z0-9.-]+         # domain name\n",
    "    (\\.[a-zA-Z]{2,4})      # dot-something\n",
    "    )''', re.VERBOSE)\n",
    "\n",
    "# Find matches in clipboard text.\n",
    "text = pyperclip.paste()\n",
    "\n",
    "matches = []\n",
    "for groups in phone_regex.findall(text):\n",
    "    phone_num = '-'.join([groups[1], groups[3], groups[5]])\n",
    "    if groups[8] != \"\":\n",
    "        phone_num += ' x' + groups[8]\n",
    "    matches.append(phone_num)\n",
    "\n",
    "for groups in emailRegex.findall(text):\n",
    "    matches.append(groups[0])\n",
    "    \n",
    "# Copy results to the clipboard.\n",
    "if len(matches) > 0:\n",
    "    pyperclip.copy(\"\\n\".join(matches))\n",
    "    print('Copied to clipboard:\\n')\n",
    "    print(\"\\n\".join(matches))\n",
    "else:\n",
    "    print(\"No phone numbers or email addresses found.\")"
   ]
  },
  {
   "cell_type": "markdown",
   "id": "bac61586",
   "metadata": {},
   "source": [
    "### Ideas for Similar Programs\n",
    "\n",
    "- Find website URLs that begin with *http://* or *https://*.\n",
    "- Clean up dates in different date formats (such as 3/14/2019, 03-14-2019, and 2015/3/19) by replacing them with dates in a single, standard format.\n",
    "- Remove sensitive information such as Social Security or credit card numbers.\n",
    "- Find common typos such as multiple spaces between words, accidentally accidentally repeated words, or multiple exclamation marks at the end of sentences."
   ]
  },
  {
   "cell_type": "markdown",
   "id": "38601634",
   "metadata": {},
   "source": [
    "## Practice Projects"
   ]
  },
  {
   "cell_type": "markdown",
   "id": "af478a08",
   "metadata": {},
   "source": [
    "### Date Detection\n",
    "\n",
    "Write a regular expression that can detect dates in the *DD/MM/YYYY* format. Assume that the days range from 01 to 31, the months range from 01 to 12, and the years range from 1000 to 2999. Note that if the day or month is a single digit, it’ll have a leading zero.\n",
    "\n",
    "The regular expression doesn’t have to detect correct days for each month or for leap years; it will accept nonexistent dates like 31/02/2020 or 31/04/2021. Then store these strings into variables named `month`, `day`, and `year`, and write additional code that can detect if it is a valid date. April, June, September, and November have 30 days, February has 28 days, and the rest of the months have 31 days. February has 29 days in leap years. Leap years are every year evenly divisible by 4, except for years evenly divisible by 100, unless the year is also evenly divisible by 400. Note how this calculation makes it impossible to make a reasonably sized regular expression that can detect a valid date."
   ]
  },
  {
   "cell_type": "code",
   "execution_count": 3,
   "id": "84957b0a",
   "metadata": {
    "scrolled": true
   },
   "outputs": [
    {
     "data": {
      "text/plain": [
       "['31/02/2020',\n",
       " '31/04/2021',\n",
       " '12/01/1900',\n",
       " '01.12.2019',\n",
       " '10-10-2099',\n",
       " '31.01.1000']"
      ]
     },
     "execution_count": 3,
     "metadata": {},
     "output_type": "execute_result"
    }
   ],
   "source": [
    "date_detector = re.compile(r'[0-3][0-9].[01][0-9].[0-9]{4}')\n",
    "\n",
    "text = \"\"\"The regular expression doesn’t have to detect correct days for each month or for leap years;\n",
    "it will accept nonexistent dates like 31/02/2020 or 31/04/2021.\n",
    "Date of birth: 12/01/1900\n",
    "Date of birth: 01.12.2019\n",
    "Birthday: 10-10-2099f\n",
    "Sample date 31.01.1000\"\"\"\n",
    "\n",
    "date_detector.findall(text)"
   ]
  },
  {
   "cell_type": "markdown",
   "id": "6e3cd64d",
   "metadata": {},
   "source": [
    "### Strong Password Detection\n",
    "\n",
    "Write a function that uses regular expressions to make sure the password string it is passed is strong. A strong password is defined as one that is at least eight characters long, contains both uppercase and lowercase characters, and has at least one digit. You may need to test the string against multiple regex patterns to validate its strength."
   ]
  },
  {
   "cell_type": "code",
   "execution_count": 15,
   "id": "c92c9fab",
   "metadata": {},
   "outputs": [
    {
     "data": {
      "text/plain": [
       "['005$&FlE']"
      ]
     },
     "execution_count": 15,
     "metadata": {},
     "output_type": "execute_result"
    }
   ],
   "source": [
    "password_detector = re.compile(r'[0-9a-zA-Z!#-_.$]{8}')\n",
    "pwd = '005$&FlE'\n",
    "password_detector.findall(pwd)"
   ]
  },
  {
   "cell_type": "markdown",
   "id": "365e030a",
   "metadata": {},
   "source": [
    "### Regex Version of the strip() Method\n",
    "\n",
    "Write a function that takes a string and does the same thing as the `strip()` string method. If no other arguments are passed other than the string to strip, then whitespace characters will be removed from the beginning and end of the string. Otherwise, the characters specified in the second argument to the function will be removed from the string."
   ]
  },
  {
   "cell_type": "code",
   "execution_count": 19,
   "id": "1d75a3ef",
   "metadata": {},
   "outputs": [
    {
     "data": {
      "text/plain": [
       "<re.Match object; span=(4, 9), match='asfsd'>"
      ]
     },
     "execution_count": 19,
     "metadata": {},
     "output_type": "execute_result"
    }
   ],
   "source": [
    "strip = re.compile('\\S(\\w)+')\n",
    "text = '    asfsd    '\n",
    "strip.search(text)"
   ]
  }
 ],
 "metadata": {
  "kernelspec": {
   "display_name": "Python 3 (ipykernel)",
   "language": "python",
   "name": "python3"
  },
  "language_info": {
   "codemirror_mode": {
    "name": "ipython",
    "version": 3
   },
   "file_extension": ".py",
   "mimetype": "text/x-python",
   "name": "python",
   "nbconvert_exporter": "python",
   "pygments_lexer": "ipython3",
   "version": "3.9.13"
  },
  "vscode": {
   "interpreter": {
    "hash": "2c7666c1320a956fa05893d10993164efa76d3af81fc7470d6f4943526f3df36"
   }
  }
 },
 "nbformat": 4,
 "nbformat_minor": 5
}
