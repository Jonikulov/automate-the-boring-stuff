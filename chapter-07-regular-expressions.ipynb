{
 "cells": [
  {
   "cell_type": "markdown",
   "id": "dbdc6aa6",
   "metadata": {},
   "source": [
    "# Chapter 7: PATTERN MATCHING WITH REGULAR EXPRESSIONS"
   ]
  },
  {
   "cell_type": "markdown",
   "id": "3fa9dfaa",
   "metadata": {},
   "source": [
    "## Finding Patterns of Text with Regular Expressions"
   ]
  },
  {
   "cell_type": "markdown",
   "id": "a00ed4a9",
   "metadata": {},
   "source": [
    "### Creating Regex Objects"
   ]
  },
  {
   "cell_type": "code",
   "execution_count": 2,
   "id": "7b7d454a",
   "metadata": {},
   "outputs": [],
   "source": [
    "import re"
   ]
  },
  {
   "cell_type": "code",
   "execution_count": 3,
   "id": "8e1b1592",
   "metadata": {},
   "outputs": [],
   "source": [
    "phoneNumRegex = re.compile(r'\\d\\d\\d-\\d\\d\\d-\\d\\d\\d\\d')"
   ]
  },
  {
   "cell_type": "markdown",
   "id": "9c849683",
   "metadata": {},
   "source": [
    "### Matching Regex Objects"
   ]
  },
  {
   "cell_type": "code",
   "execution_count": 12,
   "id": "8eabf692",
   "metadata": {},
   "outputs": [
    {
     "name": "stdout",
     "output_type": "stream",
     "text": [
      "Phone number found: 415-555-4242\n"
     ]
    }
   ],
   "source": [
    "match_obj = phoneNumRegex.search(\"My number is 415-555-4242.\")\n",
    "print(\"Phone number found:\", match_obj.group())"
   ]
  },
  {
   "cell_type": "markdown",
   "id": "9e42c3c1",
   "metadata": {},
   "source": [
    "## More Pattern Matching with Regular Expressions"
   ]
  },
  {
   "cell_type": "markdown",
   "id": "eef55cec",
   "metadata": {},
   "source": [
    "### Grouping with Parentheses"
   ]
  },
  {
   "cell_type": "code",
   "execution_count": 22,
   "id": "df782732",
   "metadata": {},
   "outputs": [
    {
     "data": {
      "text/plain": [
       "'(415) 555-4242'"
      ]
     },
     "execution_count": 22,
     "metadata": {},
     "output_type": "execute_result"
    }
   ],
   "source": [
    "phoneNumRegex = re.compile(r'(\\(\\d\\d\\d\\)) (\\d\\d\\d-\\d\\d\\d\\d)')\n",
    "match_obj = phoneNumRegex.search(\"My number is (415) 555-4242.\")\n",
    "match_obj.group(0)"
   ]
  },
  {
   "cell_type": "code",
   "execution_count": 23,
   "id": "0aab7d4a",
   "metadata": {},
   "outputs": [
    {
     "data": {
      "text/plain": [
       "'(415)'"
      ]
     },
     "execution_count": 23,
     "metadata": {},
     "output_type": "execute_result"
    }
   ],
   "source": [
    "match_obj.group(1)"
   ]
  },
  {
   "cell_type": "code",
   "execution_count": 24,
   "id": "2bb2f2b6",
   "metadata": {},
   "outputs": [
    {
     "data": {
      "text/plain": [
       "'555-4242'"
      ]
     },
     "execution_count": 24,
     "metadata": {},
     "output_type": "execute_result"
    }
   ],
   "source": [
    "match_obj.group(2)"
   ]
  },
  {
   "cell_type": "markdown",
   "id": "891b60f7",
   "metadata": {},
   "source": [
    "The `\\(` and `\\)` escape characters in the raw string passed to `re.compile()` will match actual parenthesis characters. In regular expressions, the following characters have special meanings:\n",
    "\n",
    "**`. ^ $ * + ? { } [ ] \\ | ( )`**\n",
    "\n",
    "If you want to detect these characters as part of your text pattern, you need to escape them with a\n",
    "backslash."
   ]
  },
  {
   "cell_type": "markdown",
   "id": "50e91082",
   "metadata": {},
   "source": [
    "### Matching Multiple Groups with the Pipe\n",
    "\n",
    "The `|` character is called a *pipe*. You can use it anywhere you want to match one of many expressions. For example, the regular expression `r'Batman|Tina Fey'` will match either *'Batman'* or *'Tina Fey'*."
   ]
  },
  {
   "cell_type": "code",
   "execution_count": 28,
   "id": "2a809e50",
   "metadata": {},
   "outputs": [
    {
     "data": {
      "text/plain": [
       "'Batman'"
      ]
     },
     "execution_count": 28,
     "metadata": {},
     "output_type": "execute_result"
    }
   ],
   "source": [
    "heroRegex = re.compile(r'Batman|Tina Fey')\n",
    "match_obj1 = heroRegex.search('Batman and Tina Fey')\n",
    "match_obj1.group()"
   ]
  },
  {
   "cell_type": "code",
   "execution_count": 29,
   "id": "29354504",
   "metadata": {},
   "outputs": [
    {
     "data": {
      "text/plain": [
       "'Tina Fey'"
      ]
     },
     "execution_count": 29,
     "metadata": {},
     "output_type": "execute_result"
    }
   ],
   "source": [
    "match_obj2 = heroRegex.search(\"Tina Fey and Batman\")\n",
    "match_obj2.group()"
   ]
  },
  {
   "cell_type": "code",
   "execution_count": 30,
   "id": "ad475b1b",
   "metadata": {},
   "outputs": [
    {
     "data": {
      "text/plain": [
       "'Batmobile'"
      ]
     },
     "execution_count": 30,
     "metadata": {},
     "output_type": "execute_result"
    }
   ],
   "source": [
    "batRegex = re.compile(r\"Bat(man|mobile|copter|bat)\")\n",
    "match_obj3 = batRegex.search(\"Batmobile lost a wheel.\")\n",
    "match_obj3.group()"
   ]
  },
  {
   "cell_type": "code",
   "execution_count": 31,
   "id": "188ca404",
   "metadata": {},
   "outputs": [
    {
     "data": {
      "text/plain": [
       "'mobile'"
      ]
     },
     "execution_count": 31,
     "metadata": {},
     "output_type": "execute_result"
    }
   ],
   "source": [
    "match_obj3.group(1)"
   ]
  },
  {
   "cell_type": "markdown",
   "id": "587d34f7",
   "metadata": {},
   "source": [
    "### Optional Matching with the Question Mark"
   ]
  },
  {
   "cell_type": "code",
   "execution_count": 32,
   "id": "df010281",
   "metadata": {},
   "outputs": [
    {
     "data": {
      "text/plain": [
       "'Batman'"
      ]
     },
     "execution_count": 32,
     "metadata": {},
     "output_type": "execute_result"
    }
   ],
   "source": [
    "batRegex = re.compile(r'Bat(wo)?man')\n",
    "match_obj4 = batRegex.search(\"The Adventures of Batman\")\n",
    "match_obj4.group()"
   ]
  },
  {
   "cell_type": "code",
   "execution_count": 38,
   "id": "beade5c5",
   "metadata": {},
   "outputs": [
    {
     "data": {
      "text/plain": [
       "'Batwoman'"
      ]
     },
     "execution_count": 38,
     "metadata": {},
     "output_type": "execute_result"
    }
   ],
   "source": [
    "match_obj5 = batRegex.search(\"The Adventures of Batwoman\")\n",
    "match_obj5.group()"
   ]
  },
  {
   "cell_type": "code",
   "execution_count": 39,
   "id": "3b8a884b",
   "metadata": {},
   "outputs": [
    {
     "data": {
      "text/plain": [
       "'415-555-4242'"
      ]
     },
     "execution_count": 39,
     "metadata": {},
     "output_type": "execute_result"
    }
   ],
   "source": [
    "phoneRegex = re.compile(r'(\\d\\d\\d-)?\\d\\d\\d-\\d\\d\\d\\d')\n",
    "match_obj6 = phoneRegex.search(\"My number is 415-555-4242\")\n",
    "match_obj6.group()"
   ]
  },
  {
   "cell_type": "code",
   "execution_count": 40,
   "id": "54c856a5",
   "metadata": {},
   "outputs": [
    {
     "data": {
      "text/plain": [
       "'555-4242'"
      ]
     },
     "execution_count": 40,
     "metadata": {},
     "output_type": "execute_result"
    }
   ],
   "source": [
    "match_obj7 = phoneRegex.search(\"My number is 555-4242\")\n",
    "match_obj7.group()"
   ]
  },
  {
   "cell_type": "markdown",
   "id": "9b7686ca",
   "metadata": {},
   "source": [
    "### Matching Zero or More with the Star"
   ]
  },
  {
   "cell_type": "code",
   "execution_count": null,
   "id": "041609cf",
   "metadata": {},
   "outputs": [],
   "source": []
  },
  {
   "cell_type": "code",
   "execution_count": null,
   "id": "20347405",
   "metadata": {},
   "outputs": [],
   "source": []
  },
  {
   "cell_type": "code",
   "execution_count": null,
   "id": "df4ec36a",
   "metadata": {},
   "outputs": [],
   "source": []
  },
  {
   "cell_type": "code",
   "execution_count": null,
   "id": "6f9d7265",
   "metadata": {},
   "outputs": [],
   "source": []
  },
  {
   "cell_type": "code",
   "execution_count": null,
   "id": "1ee66e21",
   "metadata": {},
   "outputs": [],
   "source": []
  }
 ],
 "metadata": {
  "kernelspec": {
   "display_name": "Python 3 (ipykernel)",
   "language": "python",
   "name": "python3"
  },
  "language_info": {
   "codemirror_mode": {
    "name": "ipython",
    "version": 3
   },
   "file_extension": ".py",
   "mimetype": "text/x-python",
   "name": "python",
   "nbconvert_exporter": "python",
   "pygments_lexer": "ipython3",
   "version": "3.10.4"
  },
  "vscode": {
   "interpreter": {
    "hash": "2c7666c1320a956fa05893d10993164efa76d3af81fc7470d6f4943526f3df36"
   }
  }
 },
 "nbformat": 4,
 "nbformat_minor": 5
}
