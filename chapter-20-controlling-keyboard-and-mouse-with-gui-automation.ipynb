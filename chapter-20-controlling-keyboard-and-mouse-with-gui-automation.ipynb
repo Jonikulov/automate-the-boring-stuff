{
 "cells": [
  {
   "cell_type": "markdown",
   "id": "8fe5b251",
   "metadata": {},
   "source": [
    "# Chapter 20: CONTROLLING THE KEYBOARD AND MOUSE WITH GUI AUTOMATION\n",
    "\n",
    "`pip install PyAutoGUI`\n",
    "\n",
    "For linux:\n",
    "- `sudo apt install scrot python3-tk python3-dev`"
   ]
  },
  {
   "cell_type": "markdown",
   "id": "d9c44d4b",
   "metadata": {},
   "source": [
    "### Pauses and Fail-Safes\n",
    "\n",
    "If your program has a bug and you’re unable to use the keyboard and mouse to shut it down, you can use PyAutoGUI’s fail-safe feature. Quickly slide the mouse to one of the four corners of the screen. Every PyAutoGUI function call has a 10th-of-a-second delay after performing its action to give you enough time to move the mouse to a corner. If PyAutoGUI then finds that the mouse cursor is in a corner, it raises the `pyautogui.FailSafeException` exception. Non-PyAutoGUI instructions will not have this 10th-of-a-second delay.\n",
    "\n",
    "If you find yourself in a situation where you need to stop your PyAutoGUI program, just slam the mouse toward a corner to stop it."
   ]
  },
  {
   "attachments": {},
   "cell_type": "markdown",
   "id": "6b854372",
   "metadata": {},
   "source": [
    "## Controlling Mouse Movement"
   ]
  },
  {
   "cell_type": "code",
   "execution_count": 3,
   "id": "48164c41",
   "metadata": {},
   "outputs": [
    {
     "data": {
      "text/plain": [
       "Size(width=1920, height=1080)"
      ]
     },
     "execution_count": 3,
     "metadata": {},
     "output_type": "execute_result"
    }
   ],
   "source": [
    "import pyautogui\n",
    "\n",
    "wh = pyautogui.size()  # Obtain the screen resolution.\n",
    "wh"
   ]
  },
  {
   "cell_type": "code",
   "execution_count": 13,
   "id": "ae378050",
   "metadata": {},
   "outputs": [
    {
     "name": "stdout",
     "output_type": "stream",
     "text": [
      "1920\n",
      "1080\n"
     ]
    }
   ],
   "source": [
    "print(wh[0])\n",
    "print(wh[1])"
   ]
  },
  {
   "cell_type": "code",
   "execution_count": 8,
   "id": "85a47e34",
   "metadata": {},
   "outputs": [
    {
     "name": "stdout",
     "output_type": "stream",
     "text": [
      "1920\n",
      "1080\n"
     ]
    }
   ],
   "source": [
    "print(wh.width)\n",
    "print(wh.height)"
   ]
  },
  {
   "cell_type": "markdown",
   "id": "f21bc428",
   "metadata": {},
   "source": [
    "### Moving the Mouse"
   ]
  },
  {
   "cell_type": "code",
   "execution_count": 21,
   "id": "ae972be1",
   "metadata": {},
   "outputs": [],
   "source": [
    "import pyautogui\n",
    "\n",
    "for i in range(3):  # Move mouse in a square\n",
    "    pyautogui.moveTo(100, 100, duration=0.25)\n",
    "    pyautogui.moveTo(200, 100, duration=0.25)\n",
    "    pyautogui.moveTo(200, 200, duration=0.25)\n",
    "    pyautogui.moveTo(100, 200, duration=0.25)"
   ]
  },
  {
   "cell_type": "markdown",
   "id": "d1c14b8f",
   "metadata": {},
   "source": [
    "The `pyautogui.move()` function moves the mouse cursor *relative to its current position*."
   ]
  },
  {
   "cell_type": "code",
   "execution_count": 23,
   "id": "49fc98a9",
   "metadata": {},
   "outputs": [],
   "source": [
    "for i in range(3):\n",
    "    pyautogui.move(100, 0, duration=0.25) # right\n",
    "    pyautogui.move(0, 100, duration=0.25) # down\n",
    "    pyautogui.move(-100, 0, duration=0.25) # left\n",
    "    pyautogui.move(0, -100, duration=0.25) # up"
   ]
  },
  {
   "cell_type": "markdown",
   "id": "7987b848",
   "metadata": {},
   "source": [
    "### Getting the Mouse Position"
   ]
  },
  {
   "cell_type": "code",
   "execution_count": 29,
   "id": "dc0fc43e",
   "metadata": {},
   "outputs": [
    {
     "data": {
      "text/plain": [
       "Point(x=769, y=363)"
      ]
     },
     "execution_count": 29,
     "metadata": {},
     "output_type": "execute_result"
    }
   ],
   "source": [
    "pyautogui.position() # Get current mouse position."
   ]
  },
  {
   "cell_type": "code",
   "execution_count": 30,
   "id": "ac5a0bbc",
   "metadata": {},
   "outputs": [
    {
     "data": {
      "text/plain": [
       "Point(x=669, y=475)"
      ]
     },
     "execution_count": 30,
     "metadata": {},
     "output_type": "execute_result"
    }
   ],
   "source": [
    "p = pyautogui.position()\n",
    "p"
   ]
  },
  {
   "cell_type": "code",
   "execution_count": 31,
   "id": "41f3bffb",
   "metadata": {},
   "outputs": [
    {
     "data": {
      "text/plain": [
       "669"
      ]
     },
     "execution_count": 31,
     "metadata": {},
     "output_type": "execute_result"
    }
   ],
   "source": [
    "p[0]  # The x-coordinate is at index 0."
   ]
  },
  {
   "cell_type": "code",
   "execution_count": 32,
   "id": "c23209bb",
   "metadata": {},
   "outputs": [
    {
     "data": {
      "text/plain": [
       "669"
      ]
     },
     "execution_count": 32,
     "metadata": {},
     "output_type": "execute_result"
    }
   ],
   "source": [
    "p.x  # The x-coordinate is also in the x attribute."
   ]
  },
  {
   "attachments": {},
   "cell_type": "markdown",
   "id": "7221d7c1",
   "metadata": {},
   "source": [
    "### Controlling Mouse Interaction"
   ]
  },
  {
   "attachments": {},
   "cell_type": "markdown",
   "id": "8c759e48",
   "metadata": {},
   "source": [
    "#### Clicking the Mouse\n",
    "\n",
    "`pyautogui.click(100, 150, button='left')`\n",
    "\n",
    "button: 'left', 'middle', 'right'."
   ]
  },
  {
   "cell_type": "code",
   "execution_count": 44,
   "id": "21fc0a08",
   "metadata": {},
   "outputs": [],
   "source": [
    "import pyautogui\n",
    "\n",
    "pyautogui.click(10, 5)  # Move mouse to (10, 5) and click."
   ]
  },
  {
   "cell_type": "code",
   "execution_count": 109,
   "id": "485e489c",
   "metadata": {},
   "outputs": [],
   "source": [
    "pyautogui.mouseDown(30, 70)\n",
    "pyautogui.move(0, 150, duration=0.2)\n",
    "pyautogui.mouseUp()"
   ]
  },
  {
   "cell_type": "code",
   "execution_count": 112,
   "id": "902c779f",
   "metadata": {},
   "outputs": [],
   "source": [
    "pyautogui.doubleClick()"
   ]
  },
  {
   "cell_type": "code",
   "execution_count": 113,
   "id": "2db91018",
   "metadata": {},
   "outputs": [],
   "source": [
    "pyautogui.rightClick()"
   ]
  },
  {
   "cell_type": "code",
   "execution_count": 116,
   "id": "b06c56ca",
   "metadata": {},
   "outputs": [],
   "source": [
    "pyautogui.leftClick()"
   ]
  },
  {
   "cell_type": "code",
   "execution_count": 117,
   "metadata": {},
   "outputs": [],
   "source": [
    "pyautogui.middleClick()"
   ]
  },
  {
   "cell_type": "markdown",
   "id": "a1552ca2",
   "metadata": {},
   "source": [
    "#### Dragging the Mouse"
   ]
  },
  {
   "cell_type": "code",
   "execution_count": null,
   "id": "223fd5ef",
   "metadata": {},
   "outputs": [],
   "source": []
  },
  {
   "cell_type": "code",
   "execution_count": null,
   "id": "f3144f74",
   "metadata": {},
   "outputs": [],
   "source": []
  },
  {
   "cell_type": "code",
   "execution_count": null,
   "id": "a1d82a9e",
   "metadata": {},
   "outputs": [],
   "source": []
  }
 ],
 "metadata": {
  "kernelspec": {
   "display_name": "Python 3 (ipykernel)",
   "language": "python",
   "name": "python3"
  },
  "language_info": {
   "codemirror_mode": {
    "name": "ipython",
    "version": 3
   },
   "file_extension": ".py",
   "mimetype": "text/x-python",
   "name": "python",
   "nbconvert_exporter": "python",
   "pygments_lexer": "ipython3",
   "version": "3.10.5"
  },
  "vscode": {
   "interpreter": {
    "hash": "2c7666c1320a956fa05893d10993164efa76d3af81fc7470d6f4943526f3df36"
   }
  }
 },
 "nbformat": 4,
 "nbformat_minor": 5
}
