{
 "cells": [
  {
   "cell_type": "markdown",
   "id": "8fe5b251",
   "metadata": {},
   "source": [
    "# Chapter 20: CONTROLLING THE KEYBOARD AND MOUSE WITH GUI AUTOMATION\n",
    "\n",
    "`pip install PyAutoGUI`\n",
    "\n",
    "For linux:\n",
    "- `sudo apt install scrot python3-tk python3-dev`"
   ]
  },
  {
   "cell_type": "markdown",
   "id": "d9c44d4b",
   "metadata": {},
   "source": [
    "### Pauses and Fail-Safes\n",
    "\n",
    "If your program has a bug and you’re unable to use the keyboard and mouse to shut it down, you can use PyAutoGUI’s fail-safe feature. Quickly slide the mouse to one of the four corners of the screen. Every PyAutoGUI function call has a 10th-of-a-second delay after performing its action to give you enough time to move the mouse to a corner. If PyAutoGUI then finds that the mouse cursor is in a corner, it raises the `pyautogui.FailSafeException` exception. Non-PyAutoGUI instructions will not have this 10th-of-a-second delay.\n",
    "\n",
    "If you find yourself in a situation where you need to stop your PyAutoGUI program, just slam the mouse toward a corner to stop it."
   ]
  },
  {
   "attachments": {},
   "cell_type": "markdown",
   "id": "6b854372",
   "metadata": {},
   "source": [
    "## Controlling Mouse Movement"
   ]
  },
  {
   "cell_type": "code",
   "execution_count": 3,
   "id": "48164c41",
   "metadata": {},
   "outputs": [
    {
     "data": {
      "text/plain": [
       "Size(width=1920, height=1080)"
      ]
     },
     "execution_count": 3,
     "metadata": {},
     "output_type": "execute_result"
    }
   ],
   "source": [
    "import pyautogui\n",
    "\n",
    "wh = pyautogui.size()  # Obtain the screen resolution.\n",
    "wh"
   ]
  },
  {
   "cell_type": "code",
   "execution_count": 13,
   "id": "ae378050",
   "metadata": {},
   "outputs": [
    {
     "name": "stdout",
     "output_type": "stream",
     "text": [
      "1920\n",
      "1080\n"
     ]
    }
   ],
   "source": [
    "print(wh[0])\n",
    "print(wh[1])"
   ]
  },
  {
   "cell_type": "code",
   "execution_count": 8,
   "id": "85a47e34",
   "metadata": {},
   "outputs": [
    {
     "name": "stdout",
     "output_type": "stream",
     "text": [
      "1920\n",
      "1080\n"
     ]
    }
   ],
   "source": [
    "print(wh.width)\n",
    "print(wh.height)"
   ]
  },
  {
   "cell_type": "markdown",
   "id": "f21bc428",
   "metadata": {},
   "source": [
    "### Moving the Mouse"
   ]
  },
  {
   "cell_type": "code",
   "execution_count": 2,
   "id": "ae972be1",
   "metadata": {},
   "outputs": [],
   "source": [
    "import pyautogui\n",
    "\n",
    "for i in range(2):  # Move mouse in a square\n",
    "    pyautogui.moveTo(100, 100, duration=0.2)\n",
    "    pyautogui.moveTo(200, 100, duration=0.2)\n",
    "    pyautogui.moveTo(200, 200, duration=0.2)\n",
    "    pyautogui.moveTo(100, 200, duration=0.2)"
   ]
  },
  {
   "cell_type": "markdown",
   "id": "d1c14b8f",
   "metadata": {},
   "source": [
    "The `pyautogui.move()` function moves the mouse cursor *relative to its current position*."
   ]
  },
  {
   "cell_type": "code",
   "execution_count": 10,
   "id": "49fc98a9",
   "metadata": {},
   "outputs": [],
   "source": [
    "for i in range(2):\n",
    "    pyautogui.move(100, 0, duration=0.2) # right\n",
    "    pyautogui.move(0, 100, duration=0.2) # down\n",
    "    pyautogui.move(-100, 0, duration=0.2) # left\n",
    "    pyautogui.move(0, -100, duration=0.2) # up"
   ]
  },
  {
   "cell_type": "markdown",
   "id": "7987b848",
   "metadata": {},
   "source": [
    "### Getting the Mouse Position"
   ]
  },
  {
   "cell_type": "code",
   "execution_count": 29,
   "id": "dc0fc43e",
   "metadata": {},
   "outputs": [
    {
     "data": {
      "text/plain": [
       "Point(x=769, y=363)"
      ]
     },
     "execution_count": 29,
     "metadata": {},
     "output_type": "execute_result"
    }
   ],
   "source": [
    "pyautogui.position() # Get current mouse position."
   ]
  },
  {
   "cell_type": "code",
   "execution_count": 30,
   "id": "ac5a0bbc",
   "metadata": {},
   "outputs": [
    {
     "data": {
      "text/plain": [
       "Point(x=669, y=475)"
      ]
     },
     "execution_count": 30,
     "metadata": {},
     "output_type": "execute_result"
    }
   ],
   "source": [
    "p = pyautogui.position()\n",
    "p"
   ]
  },
  {
   "cell_type": "code",
   "execution_count": 31,
   "id": "41f3bffb",
   "metadata": {},
   "outputs": [
    {
     "data": {
      "text/plain": [
       "669"
      ]
     },
     "execution_count": 31,
     "metadata": {},
     "output_type": "execute_result"
    }
   ],
   "source": [
    "p[0]  # The x-coordinate is at index 0."
   ]
  },
  {
   "cell_type": "code",
   "execution_count": 32,
   "id": "c23209bb",
   "metadata": {},
   "outputs": [
    {
     "data": {
      "text/plain": [
       "669"
      ]
     },
     "execution_count": 32,
     "metadata": {},
     "output_type": "execute_result"
    }
   ],
   "source": [
    "p.x  # The x-coordinate is also in the x attribute."
   ]
  },
  {
   "attachments": {},
   "cell_type": "markdown",
   "id": "7221d7c1",
   "metadata": {},
   "source": [
    "### Controlling Mouse Interaction"
   ]
  },
  {
   "attachments": {},
   "cell_type": "markdown",
   "id": "8c759e48",
   "metadata": {},
   "source": [
    "#### Clicking the Mouse\n",
    "\n",
    "`pyautogui.click(100, 150, button='left')`\n",
    "\n",
    "button: 'left', 'middle', 'right'."
   ]
  },
  {
   "cell_type": "code",
   "execution_count": 2,
   "id": "21fc0a08",
   "metadata": {},
   "outputs": [],
   "source": [
    "import pyautogui\n",
    "\n",
    "pyautogui.click(10, 5)  # Move mouse to (10, 5) and click."
   ]
  },
  {
   "cell_type": "code",
   "execution_count": 3,
   "id": "485e489c",
   "metadata": {},
   "outputs": [],
   "source": [
    "pyautogui.mouseDown(30, 70)\n",
    "pyautogui.move(0, 150, duration=0.2)\n",
    "pyautogui.mouseUp()"
   ]
  },
  {
   "cell_type": "code",
   "execution_count": 12,
   "id": "902c779f",
   "metadata": {},
   "outputs": [],
   "source": [
    "pyautogui.doubleClick()"
   ]
  },
  {
   "cell_type": "code",
   "execution_count": 11,
   "id": "2db91018",
   "metadata": {},
   "outputs": [],
   "source": [
    "pyautogui.rightClick()"
   ]
  },
  {
   "cell_type": "code",
   "execution_count": 116,
   "id": "b06c56ca",
   "metadata": {},
   "outputs": [],
   "source": [
    "pyautogui.leftClick()"
   ]
  },
  {
   "cell_type": "code",
   "execution_count": 117,
   "metadata": {},
   "outputs": [],
   "source": [
    "pyautogui.middleClick()"
   ]
  },
  {
   "attachments": {},
   "cell_type": "markdown",
   "id": "a1552ca2",
   "metadata": {},
   "source": [
    "#### Dragging the Mouse\n",
    "\n",
    "- `pyautogui.drag()`\n",
    "- `pyautogui.dragTo()`"
   ]
  },
  {
   "cell_type": "code",
   "execution_count": 18,
   "id": "53d06592",
   "metadata": {},
   "outputs": [],
   "source": [
    "import time\n",
    "import pyautogui\n",
    "\n",
    "time.sleep(3)\n",
    "pyautogui.click()  # Click to make the window active.\n",
    "distance = 400\n",
    "change = 20\n",
    "\n",
    "while distance > 0:\n",
    "    pyautogui.drag(distance, 0)  # Move right.\n",
    "    distance -= change\n",
    "    pyautogui.drag(0, distance)  # Move down.\n",
    "    pyautogui.drag(-distance, 0)  # Move left.\n",
    "    distance -= change\n",
    "    pyautogui.drag(0, -distance)  # Move up."
   ]
  },
  {
   "attachments": {},
   "cell_type": "markdown",
   "id": "9f7243b0",
   "metadata": {},
   "source": [
    "#### Scrolling the Mouse"
   ]
  },
  {
   "cell_type": "code",
   "execution_count": 23,
   "id": "d53308bc",
   "metadata": {},
   "outputs": [],
   "source": [
    "import pyautogui\n",
    "\n",
    "pyautogui.scroll(200)"
   ]
  },
  {
   "attachments": {},
   "cell_type": "markdown",
   "id": "e3f54354",
   "metadata": {},
   "source": [
    "### Planning Your Mouse Movements\n",
    "\n",
    "By default, the 3 Sec. Button Delay checkbox is checked, causing a three-second delay between clicking a Copy or Log button and the copying or logging taking place. This gives you a short amount of time in which to click the button and then move the mouse into your desired position. It may be easier to uncheck this box, move the mouse into position, and press the F1 to F8 keys to copy or log the mouse position.\n",
    "\n",
    "For example, uncheck the 3 Sec. Button Delay, then move the mouse around the screen while pressing the F6 button, and notice how the x- and y-coordinates of the mouse are recorded in the large text field in the middle of the window. You can later use these coordinates in your PyAutoGUI scripts.\n",
    "\n",
    "For more information on MouseInfo, review the complete documentation at https://mouseinfo.readthedocs.io/."
   ]
  },
  {
   "cell_type": "code",
   "execution_count": 29,
   "id": "394b5480",
   "metadata": {},
   "outputs": [],
   "source": [
    "import pyautogui\n",
    "\n",
    "pyautogui.mouseInfo()  # provides mouse coordinate information"
   ]
  },
  {
   "cell_type": "markdown",
   "id": "b03fb95d",
   "metadata": {},
   "source": [
    "### Working with the Screen"
   ]
  },
  {
   "attachments": {},
   "cell_type": "markdown",
   "id": "318a7650",
   "metadata": {},
   "source": [
    "#### Getting a Screenshot"
   ]
  },
  {
   "cell_type": "code",
   "execution_count": 32,
   "id": "45a3059d",
   "metadata": {},
   "outputs": [],
   "source": [
    "import pyautogui\n",
    "\n",
    "im = pyautogui.screenshot()"
   ]
  },
  {
   "attachments": {},
   "cell_type": "markdown",
   "id": "e865c8be",
   "metadata": {},
   "source": [
    "The `im` variable will contain the `Image` object of the screenshot. You can now call methods on the `Image` object in the `im` variable, just like any other `Image` object."
   ]
  },
  {
   "cell_type": "markdown",
   "id": "d164c354",
   "metadata": {},
   "source": [
    "#### Analyzing the Screenshot"
   ]
  },
  {
   "attachments": {},
   "cell_type": "markdown",
   "id": "4ec07ce4",
   "metadata": {},
   "source": [
    "Say that one of the steps in your GUI automation program is to click a gray button. Before calling the `click()` method, you could take a screenshot and look at the pixel where the script is about to click. If it’s not the same gray as the gray button, then your program knows something is wrong. Maybe the window moved unexpectedly, or maybe a pop-up dialog has blocked the button. At this point, instead of continuing—and possibly wreaking havoc by clicking the wrong thing—your program can “see” that it isn’t clicking the right thing and stop itself. You can obtain the RGB color value of a particular pixel on the screen with the `pixel()` function."
   ]
  },
  {
   "cell_type": "code",
   "execution_count": 45,
   "id": "800e42a2",
   "metadata": {},
   "outputs": [
    {
     "data": {
      "text/plain": [
       "(0, 17, 38)"
      ]
     },
     "execution_count": 45,
     "metadata": {},
     "output_type": "execute_result"
    }
   ],
   "source": [
    "import pyautogui\n",
    "\n",
    "pyautogui.pixel(0, 0)"
   ]
  },
  {
   "cell_type": "code",
   "execution_count": 46,
   "id": "47bd9bf6",
   "metadata": {},
   "outputs": [
    {
     "data": {
      "text/plain": [
       "(40, 44, 52)"
      ]
     },
     "execution_count": 46,
     "metadata": {},
     "output_type": "execute_result"
    }
   ],
   "source": [
    "pyautogui.pixel(50, 200)"
   ]
  },
  {
   "attachments": {},
   "cell_type": "markdown",
   "id": "a0a2b415",
   "metadata": {},
   "source": [
    "The return value from `pixel()` is an RGB tuple of three integers for the amount of red, green, and blue in the pixel. (There is no fourth value for alpha, because screenshot images are fully opaque.)\n",
    "\n",
    "PyAutoGUI’s `pixelMatchesColor()` function will return True if the pixel at the given x- and y-coordinates on the screen matches the given color. The first and second arguments are integers for the x- and y-coordinates, and the third argument is a tuple of three integers for the RGB color the screen pixel must match."
   ]
  },
  {
   "cell_type": "code",
   "execution_count": 48,
   "id": "98c5d777",
   "metadata": {},
   "outputs": [
    {
     "data": {
      "text/plain": [
       "(40, 44, 52)"
      ]
     },
     "execution_count": 48,
     "metadata": {},
     "output_type": "execute_result"
    }
   ],
   "source": [
    "pyautogui.pixel(50, 200)"
   ]
  },
  {
   "cell_type": "code",
   "execution_count": 51,
   "id": "ab65d7e7",
   "metadata": {},
   "outputs": [
    {
     "data": {
      "text/plain": [
       "True"
      ]
     },
     "execution_count": 51,
     "metadata": {},
     "output_type": "execute_result"
    }
   ],
   "source": [
    "pyautogui.pixelMatchesColor(50, 200, ((40, 44, 52)))"
   ]
  },
  {
   "cell_type": "code",
   "execution_count": 52,
   "id": "868d3915",
   "metadata": {},
   "outputs": [
    {
     "data": {
      "text/plain": [
       "False"
      ]
     },
     "execution_count": 52,
     "metadata": {},
     "output_type": "execute_result"
    }
   ],
   "source": [
    "pyautogui.pixelMatchesColor(50, 200, (255, 135, 144))"
   ]
  },
  {
   "attachments": {},
   "cell_type": "markdown",
   "id": "1b422d3a",
   "metadata": {},
   "source": [
    "### Image Recognition"
   ]
  },
  {
   "cell_type": "code",
   "execution_count": 36,
   "id": "0f850131",
   "metadata": {},
   "outputs": [
    {
     "data": {
      "text/plain": [
       "Box(left=0, top=0, width=63, height=52)"
      ]
     },
     "execution_count": 36,
     "metadata": {},
     "output_type": "execute_result"
    }
   ],
   "source": [
    "import pyautogui\n",
    "\n",
    "b = pyautogui.locateOnScreen('submit.png')\n",
    "b"
   ]
  },
  {
   "cell_type": "code",
   "execution_count": 37,
   "id": "0a05f9d1",
   "metadata": {},
   "outputs": [
    {
     "data": {
      "text/plain": [
       "0"
      ]
     },
     "execution_count": 37,
     "metadata": {},
     "output_type": "execute_result"
    }
   ],
   "source": [
    "b[0]"
   ]
  },
  {
   "cell_type": "code",
   "execution_count": 38,
   "id": "e5b45ccb",
   "metadata": {},
   "outputs": [
    {
     "data": {
      "text/plain": [
       "0"
      ]
     },
     "execution_count": 38,
     "metadata": {},
     "output_type": "execute_result"
    }
   ],
   "source": [
    "b.left"
   ]
  },
  {
   "cell_type": "code",
   "execution_count": 45,
   "id": "a65cec39",
   "metadata": {},
   "outputs": [],
   "source": [
    "pyautogui.click((643, 745, 70, 29))"
   ]
  },
  {
   "cell_type": "code",
   "execution_count": 47,
   "id": "010eaca0",
   "metadata": {},
   "outputs": [],
   "source": [
    "pyautogui.click(b)"
   ]
  },
  {
   "cell_type": "code",
   "execution_count": 48,
   "id": "2462de52",
   "metadata": {},
   "outputs": [],
   "source": [
    "pyautogui.click('submit.png')"
   ]
  },
  {
   "cell_type": "code",
   "execution_count": 49,
   "id": "dc51e18c",
   "metadata": {},
   "outputs": [],
   "source": [
    "try:\n",
    "    location = pyautogui.locateOnScreen('submit.png')\n",
    "except:\n",
    "    print(\"Image could not be found.\")"
   ]
  },
  {
   "attachments": {},
   "cell_type": "markdown",
   "id": "9775cecf",
   "metadata": {},
   "source": [
    "### Getting Window Information"
   ]
  },
  {
   "cell_type": "markdown",
   "id": "548e027a",
   "metadata": {},
   "source": [
    "#### Obtaining the Active Window"
   ]
  },
  {
   "cell_type": "code",
   "execution_count": 52,
   "id": "47e98032",
   "metadata": {},
   "outputs": [
    {
     "data": {
      "text/plain": [
       "Win32Window(hWnd=918830)"
      ]
     },
     "execution_count": 52,
     "metadata": {},
     "output_type": "execute_result"
    }
   ],
   "source": [
    "import time\n",
    "import pyautogui\n",
    "\n",
    "pyautogui.getActiveWindow()"
   ]
  },
  {
   "attachments": {},
   "cell_type": "markdown",
   "id": "05b0ac02",
   "metadata": {},
   "source": [
    "In the interactive shell, call the `pyautogui.getActiveWindow()` function to get a Window object.\n",
    "\n",
    "Once you have that Window object, you can retrieve any of the object’s attributes, which describe its size, position, and title:\n",
    "\n",
    "- `left, right, top, bottom` - A single integer for the x- or y-coordinate of the window’s side\n",
    "- `topleft, topright, bottomleft, bottomright` - A named tuple of two integers for the (x, y) coordinates of the window’s corner\n",
    "- `midleft, midright, midleft, midright` - A named tuple of two integers for the (x, y) coordinate of the middle of the window’s side\n",
    "- `width, height` - A single integer for one of the window’s dimensions, in pixels\n",
    "- `size` - A named tuple of two integers for the (width, height) of the window\n",
    "- `area` - A single integer representing the area of the window, in pixels\n",
    "- `center` - A named tuple of two integers for the (x, y) coordinate of the window’s center\n",
    "- `centerx, centery` - A single integer for the x- or y-coordinate of the window’s center\n",
    "- `box` - A named tuple of four integers for the (left, top, width, height) measurements of the window\n",
    "- `title` - A string of the text in the title bar at the top of the window"
   ]
  },
  {
   "cell_type": "code",
   "execution_count": 56,
   "id": "a2ee2216",
   "metadata": {},
   "outputs": [
    {
     "data": {
      "text/plain": [
       "Win32Window(hWnd=918830)"
      ]
     },
     "execution_count": 56,
     "metadata": {},
     "output_type": "execute_result"
    }
   ],
   "source": [
    "import pyautogui\n",
    "\n",
    "wo = pyautogui.getActiveWindow()\n",
    "wo"
   ]
  },
  {
   "cell_type": "code",
   "execution_count": 58,
   "id": "89ad0ba5",
   "metadata": {},
   "outputs": [
    {
     "data": {
      "text/plain": [
       "'<Win32Window left=\"-9\", top=\"-9\", width=\"1938\", height=\"1048\", title=\"● chapter-20-controlling-keyboard-and-mouse-with-gui-automation.ipynb - Visual Studio Code\">'"
      ]
     },
     "execution_count": 58,
     "metadata": {},
     "output_type": "execute_result"
    }
   ],
   "source": [
    "str(wo)"
   ]
  },
  {
   "cell_type": "code",
   "execution_count": 59,
   "id": "7363333f",
   "metadata": {},
   "outputs": [
    {
     "data": {
      "text/plain": [
       "'● chapter-20-controlling-keyboard-and-mouse-with-gui-automation.ipynb - Visual Studio Code'"
      ]
     },
     "execution_count": 59,
     "metadata": {},
     "output_type": "execute_result"
    }
   ],
   "source": [
    "wo.title"
   ]
  },
  {
   "cell_type": "code",
   "execution_count": 60,
   "id": "e6bd475f",
   "metadata": {},
   "outputs": [
    {
     "data": {
      "text/plain": [
       "Size(width=1938, height=1048)"
      ]
     },
     "execution_count": 60,
     "metadata": {},
     "output_type": "execute_result"
    }
   ],
   "source": [
    "wo.size"
   ]
  },
  {
   "cell_type": "code",
   "execution_count": 63,
   "id": "91f170d1",
   "metadata": {},
   "outputs": [
    {
     "data": {
      "text/plain": [
       "(-9, -9, 1929, 1039)"
      ]
     },
     "execution_count": 63,
     "metadata": {},
     "output_type": "execute_result"
    }
   ],
   "source": [
    "wo.left, wo.top, wo.right, wo.bottom"
   ]
  },
  {
   "cell_type": "code",
   "execution_count": 65,
   "id": "108f2cb8",
   "metadata": {},
   "outputs": [
    {
     "data": {
      "text/plain": [
       "Point(x=1929, y=-9)"
      ]
     },
     "execution_count": 65,
     "metadata": {},
     "output_type": "execute_result"
    }
   ],
   "source": [
    "wo.topright"
   ]
  },
  {
   "cell_type": "code",
   "execution_count": 68,
   "id": "7dacef2c",
   "metadata": {},
   "outputs": [],
   "source": [
    "pyautogui.click(wo.left+10, wo.right+20)"
   ]
  },
  {
   "cell_type": "markdown",
   "id": "ddf9ea2e",
   "metadata": {},
   "source": [
    "#### Other Ways of Obtaining Windows"
   ]
  },
  {
   "cell_type": "code",
   "execution_count": null,
   "id": "65d1d6ed",
   "metadata": {},
   "outputs": [],
   "source": []
  },
  {
   "cell_type": "code",
   "execution_count": null,
   "id": "7c11040b",
   "metadata": {},
   "outputs": [],
   "source": []
  },
  {
   "cell_type": "code",
   "execution_count": null,
   "id": "c07f8327",
   "metadata": {},
   "outputs": [],
   "source": []
  },
  {
   "cell_type": "code",
   "execution_count": null,
   "id": "1c4f8e30",
   "metadata": {},
   "outputs": [],
   "source": []
  }
 ],
 "metadata": {
  "kernelspec": {
   "display_name": "Python 3 (ipykernel)",
   "language": "python",
   "name": "python3"
  },
  "language_info": {
   "codemirror_mode": {
    "name": "ipython",
    "version": 3
   },
   "file_extension": ".py",
   "mimetype": "text/x-python",
   "name": "python",
   "nbconvert_exporter": "python",
   "pygments_lexer": "ipython3",
   "version": "3.10.5"
  },
  "vscode": {
   "interpreter": {
    "hash": "2c7666c1320a956fa05893d10993164efa76d3af81fc7470d6f4943526f3df36"
   }
  }
 },
 "nbformat": 4,
 "nbformat_minor": 5
}
