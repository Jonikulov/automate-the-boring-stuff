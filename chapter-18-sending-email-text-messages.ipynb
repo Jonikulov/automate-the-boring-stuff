{
 "cells": [
  {
   "cell_type": "markdown",
   "id": "8fe5b251",
   "metadata": {},
   "source": [
    "# Chapter 18: SENDING EMAIL AND TEXT MESSAGES"
   ]
  },
  {
   "cell_type": "markdown",
   "id": "d7d385dc",
   "metadata": {},
   "source": [
    "## Sending and Receiving Email with the Gmail API\n",
    "\n",
    "**`! pip install ezgmail`**"
   ]
  },
  {
   "cell_type": "markdown",
   "id": "c1093730",
   "metadata": {},
   "source": [
    "### Enabling the Gmail API"
   ]
  },
  {
   "cell_type": "code",
   "execution_count": null,
   "id": "07066c58",
   "metadata": {},
   "outputs": [],
   "source": []
  },
  {
   "cell_type": "code",
   "execution_count": null,
   "id": "f4c65909",
   "metadata": {},
   "outputs": [],
   "source": []
  },
  {
   "cell_type": "code",
   "execution_count": null,
   "id": "a8c11bd5",
   "metadata": {},
   "outputs": [],
   "source": []
  },
  {
   "cell_type": "code",
   "execution_count": null,
   "id": "1c0756ca",
   "metadata": {},
   "outputs": [],
   "source": []
  },
  {
   "cell_type": "code",
   "execution_count": null,
   "id": "405e6af5",
   "metadata": {},
   "outputs": [],
   "source": []
  }
 ],
 "metadata": {
  "kernelspec": {
   "display_name": "Python 3 (ipykernel)",
   "language": "python",
   "name": "python3"
  },
  "language_info": {
   "codemirror_mode": {
    "name": "ipython",
    "version": 3
   },
   "file_extension": ".py",
   "mimetype": "text/x-python",
   "name": "python",
   "nbconvert_exporter": "python",
   "pygments_lexer": "ipython3",
   "version": "3.9.15"
  },
  "vscode": {
   "interpreter": {
    "hash": "2c7666c1320a956fa05893d10993164efa76d3af81fc7470d6f4943526f3df36"
   }
  }
 },
 "nbformat": 4,
 "nbformat_minor": 5
}
