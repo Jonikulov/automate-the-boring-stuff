{
 "cells": [
  {
   "cell_type": "markdown",
   "id": "0f033327",
   "metadata": {},
   "source": [
    "# Chapter 16: WORKING WITH CSV FILES AND JSON DATA"
   ]
  },
  {
   "cell_type": "markdown",
   "id": "887296cb",
   "metadata": {},
   "source": [
    "## The csv Module\n",
    "\n",
    "CSV stands for “comma-separated values,” and CSV files are simplified spreadsheets stored as plaintext files. Python’s `csv` module makes it easy to parse CSV files."
   ]
  },
  {
   "cell_type": "markdown",
   "id": "8823a3de",
   "metadata": {},
   "source": [
    "### reader Objects\n",
    "\n",
    "To read data from a CSV file with the `csv` module, you need to create a `reader` object. A `reader` object lets you iterate over lines in the CSV file."
   ]
  },
  {
   "cell_type": "code",
   "execution_count": 20,
   "id": "72608120",
   "metadata": {},
   "outputs": [
    {
     "data": {
      "text/plain": [
       "[['04/05/2014 13:34', 'Apples', '73'],\n",
       " ['04/05/2014 03:41', 'Cherries', '85'],\n",
       " ['04/06/2014 12:46', 'Pears', '14'],\n",
       " ['04/08/2014 08:59', 'Oranges', '52'],\n",
       " ['04/10/2014 02:07', 'Apples', '152'],\n",
       " ['04/10/2014 18:10', 'Bananas', '23'],\n",
       " ['04/10/2014 02:40', 'Strawberries', '98']]"
      ]
     },
     "execution_count": 20,
     "metadata": {},
     "output_type": "execute_result"
    }
   ],
   "source": [
    "import csv\n",
    "\n",
    "example_file = open(\"automate-online-materials/example.csv\")\n",
    "example_reader = csv.reader(example_file)\n",
    "example_data = list(example_reader)\n",
    "example_data"
   ]
  },
  {
   "cell_type": "code",
   "execution_count": 26,
   "id": "878535d5",
   "metadata": {},
   "outputs": [
    {
     "data": {
      "text/plain": [
       "['04/05/2014 13:34', 'Apples', '73']"
      ]
     },
     "execution_count": 26,
     "metadata": {},
     "output_type": "execute_result"
    }
   ],
   "source": [
    "example_data[0]  # first row"
   ]
  },
  {
   "cell_type": "code",
   "execution_count": 31,
   "id": "402b3223",
   "metadata": {},
   "outputs": [
    {
     "data": {
      "text/plain": [
       "'Apples'"
      ]
     },
     "execution_count": 31,
     "metadata": {},
     "output_type": "execute_result"
    }
   ],
   "source": [
    "example_data[0][1]  # second element of the first row"
   ]
  },
  {
   "cell_type": "markdown",
   "id": "388f22c6",
   "metadata": {},
   "source": [
    "### Reading Data from reader Objects in a for Loop"
   ]
  },
  {
   "cell_type": "code",
   "execution_count": 44,
   "id": "26e6b33b",
   "metadata": {},
   "outputs": [
    {
     "name": "stdout",
     "output_type": "stream",
     "text": [
      "Row #1 ['04/05/2014 13:34', 'Apples', '73']\n",
      "Row #2 ['04/05/2014 03:41', 'Cherries', '85']\n",
      "Row #3 ['04/06/2014 12:46', 'Pears', '14']\n",
      "Row #4 ['04/08/2014 08:59', 'Oranges', '52']\n",
      "Row #5 ['04/10/2014 02:07', 'Apples', '152']\n",
      "Row #6 ['04/10/2014 18:10', 'Bananas', '23']\n",
      "Row #7 ['04/10/2014 02:40', 'Strawberries', '98']\n"
     ]
    }
   ],
   "source": [
    "import csv\n",
    "\n",
    "reader = csv.reader(open(\"automate-online-materials/example.csv\"))\n",
    "for row in reader:\n",
    "    print(f\"Row #{reader.line_num} {row}\")"
   ]
  },
  {
   "cell_type": "markdown",
   "id": "7ccc4ae7",
   "metadata": {},
   "source": [
    "### writer Objects\n",
    "\n",
    "A `writer` object lets you write data to a CSV file. To create a `writer` object, you use the `csv.writer()` function."
   ]
  },
  {
   "cell_type": "code",
   "execution_count": 1,
   "id": "1f8cbe5f",
   "metadata": {},
   "outputs": [],
   "source": [
    "import csv\n",
    "\n",
    "output_file = open('output.csv', 'w')\n",
    "output_writer = csv.writer(output_file)\n",
    "\n",
    "output_writer.writerow(['spam', 'eggs', 'bacon', 'ham'])\n",
    "output_writer.writerow(['Hello, world!', 'eggs', 'bacon', 'ham'])\n",
    "output_writer.writerow([1, 2, 3.141592, 4])\n",
    "\n",
    "output_file.close()"
   ]
  },
  {
   "cell_type": "code",
   "execution_count": 6,
   "id": "7ea4b5f1",
   "metadata": {},
   "outputs": [
    {
     "name": "stdout",
     "output_type": "stream",
     "text": [
      "spam,eggs,bacon,ham\r",
      "\r\n",
      "\"Hello, world!\",eggs,bacon,ham\r",
      "\r\n",
      "1,2,3.141592,4\r",
      "\r\n"
     ]
    }
   ],
   "source": [
    "!cat output.csv"
   ]
  },
  {
   "cell_type": "markdown",
   "id": "6720795c",
   "metadata": {},
   "source": [
    "### The delimiter and lineterminator Keyword Arguments"
   ]
  },
  {
   "cell_type": "code",
   "execution_count": 1,
   "id": "ae2e4ea1",
   "metadata": {},
   "outputs": [],
   "source": [
    "import csv\n",
    "\n",
    "csv_file = open('example.tsv', 'w', newline='')\n",
    "csv_writer = csv.writer(csv_file, delimiter='\\t', lineterminator='\\n\\n')\n",
    "csv_writer.writerow(['apples', 'oranges', 'grapes'])\n",
    "csv_writer.writerow(['eggs', 'bacon', 'ham'])\n",
    "csv_writer.writerow(['spam', 'spam', 'spam', 'spam', 'spam', 'spam'])\n",
    "\n",
    "csv_file.close()"
   ]
  },
  {
   "cell_type": "code",
   "execution_count": 2,
   "id": "191e08b4",
   "metadata": {},
   "outputs": [
    {
     "name": "stdout",
     "output_type": "stream",
     "text": [
      "apples\toranges\tgrapes\r\n",
      "\r\n",
      "eggs\tbacon\tham\r\n",
      "\r\n",
      "spam\tspam\tspam\tspam\tspam\tspam\r\n",
      "\r\n"
     ]
    }
   ],
   "source": [
    "!cat example.tsv"
   ]
  },
  {
   "cell_type": "markdown",
   "id": "e899bbf3",
   "metadata": {},
   "source": [
    "### DictReader and DictWriter CSV Objects"
   ]
  },
  {
   "cell_type": "code",
   "execution_count": 10,
   "id": "b1f78dc3",
   "metadata": {},
   "outputs": [
    {
     "name": "stdout",
     "output_type": "stream",
     "text": [
      "4/5/2014 13:34 Apples 73\n",
      "4/5/2014 3:41 Cherries 85\n",
      "4/6/2014 12:46 Pears 14\n",
      "4/8/2014 8:59 Oranges 52\n",
      "4/10/2014 2:07 Apples 152\n",
      "4/10/2014 18:10 Bananas 23\n",
      "4/10/2014 2:40 Strawberries 98\n"
     ]
    }
   ],
   "source": [
    "import csv\n",
    "\n",
    "csv_file = open(\"automate-online-materials/exampleWithHeader.csv\")\n",
    "dict_reader = csv.DictReader(csv_file)\n",
    "for row in dict_reader:\n",
    "    print(row['Timestamp'], row['Fruit'], row['Quantity'])"
   ]
  },
  {
   "cell_type": "markdown",
   "id": "6ba5471c",
   "metadata": {},
   "source": [
    "If you tried to use `DictReader` objects with *example.csv*, which doesn’t have column headers in the first row, the `DictReader` object would use `'4/5/2015 13:34', 'Apples'`, and `'73'` as the dictionary keys. To avoid this, you can supply the `DictReader()` function with a second argument containing made-up header names:"
   ]
  },
  {
   "cell_type": "code",
   "execution_count": 11,
   "id": "5edcebf8",
   "metadata": {},
   "outputs": [
    {
     "name": "stdout",
     "output_type": "stream",
     "text": [
      "04/05/2014 13:34 Apples 73\n",
      "04/05/2014 03:41 Cherries 85\n",
      "04/06/2014 12:46 Pears 14\n",
      "04/08/2014 08:59 Oranges 52\n",
      "04/10/2014 02:07 Apples 152\n",
      "04/10/2014 18:10 Bananas 23\n",
      "04/10/2014 02:40 Strawberries 98\n"
     ]
    }
   ],
   "source": [
    "file = open(\"automate-online-materials/example.csv\")\n",
    "dict_reader = csv.DictReader(file, ['time', 'name', 'amount'])\n",
    "for row in dict_reader:\n",
    "    print(row['time'], row['name'], row['amount'])"
   ]
  },
  {
   "cell_type": "markdown",
   "id": "e6fdfdef",
   "metadata": {},
   "source": [
    "`DictWriter` objects use dictionaries to create CSV files."
   ]
  },
  {
   "cell_type": "code",
   "execution_count": 12,
   "id": "3d22f0a8",
   "metadata": {},
   "outputs": [],
   "source": [
    "output_file = open('output.csv', 'w', newline='')\n",
    "outputDictWriter = csv.DictWriter(output_file, ['Name', 'Pet', 'Phone'])\n",
    "outputDictWriter.writeheader()\n",
    "outputDictWriter.writerow({'Name':'Alice', 'Pet':'cat', 'Phone':'555-1234'})\n",
    "outputDictWriter.writerow({'Name':'Bob', 'Phone':'555-9999'})\n",
    "outputDictWriter.writerow({'Phone':'555-5555', 'Name':'Carol', 'Pet':'dog'})\n",
    "\n",
    "output_file.close()"
   ]
  },
  {
   "cell_type": "code",
   "execution_count": 16,
   "id": "47030c4d",
   "metadata": {},
   "outputs": [
    {
     "name": "stdout",
     "output_type": "stream",
     "text": [
      "Name,Pet,Phone\r",
      "\r\n",
      "Alice,cat,555-1234\r",
      "\r\n",
      "Bob,,555-9999\r",
      "\r\n",
      "Carol,dog,555-5555\r",
      "\r\n"
     ]
    }
   ],
   "source": [
    "!cat output.csv"
   ]
  },
  {
   "cell_type": "markdown",
   "id": "52e5f706",
   "metadata": {},
   "source": [
    "## Project: Removing the Header from CSV Files"
   ]
  },
  {
   "cell_type": "code",
   "execution_count": 10,
   "id": "22949621",
   "metadata": {},
   "outputs": [
    {
     "name": "stdout",
     "output_type": "stream",
     "text": [
      "Removing header from example.csv ...\n",
      "Removing header from exampleWithHeader.csv ...\n",
      "Removing header from output.csv ...\n"
     ]
    }
   ],
   "source": [
    "# removeCsvHeader.py - Removes the header from all CSV files in the current\n",
    "# working directory\n",
    "\n",
    "import os\n",
    "import csv\n",
    "\n",
    "os.makedirs('headerRemoved', exist_ok=True)\n",
    "\n",
    "# Loop through every file in the current working directory.\n",
    "for csvFilename in os.listdir('.'):\n",
    "    if not csvFilename.endswith('.csv'):\n",
    "        continue  # skip non-csv files\n",
    "        \n",
    "    print(f\"Removing header from {csvFilename} ...\")\n",
    "    \n",
    "    # Read the CSV file in (skipping first row)\n",
    "    csvRows = []\n",
    "    csvFileObj = open(csvFilename)\n",
    "    readerObj = csv.reader(csvFileObj)\n",
    "    for row in readerObj:\n",
    "        if readerObj.line_num == 1:\n",
    "            continue  # skip first row\n",
    "        csvRows.append(row)\n",
    "    csvFileObj.close()\n",
    "    \n",
    "    # Write out the CSV file\n",
    "    csvFileObj = open(os.path.join('headerRemoved', csvFilename), 'w', newline='')\n",
    "    csvWriter = csv.writer(csvFileObj)\n",
    "    for row in csvRows:\n",
    "        csvWriter.writerow(row)\n",
    "    csvFileObj.close()"
   ]
  },
  {
   "cell_type": "markdown",
   "id": "a7ddcaa7",
   "metadata": {},
   "source": [
    "### Ideas for Similar Programs\n",
    "\n",
    "- Compare data between different rows in a CSV file or between multiple CSV files.\n",
    "- Copy specific data from a CSV file to an Excel file, or vice versa.\n",
    "- Check for invalid data or formatting mistakes in CSV files and alert the user to these errors.\n",
    "- Read data from a CSV file as input for your Python programs.\n",
    "\n",
    "---"
   ]
  },
  {
   "cell_type": "markdown",
   "id": "c53c478d",
   "metadata": {},
   "source": [
    "## JSON and APIs\n",
    "\n",
    "JavaScript Object Notation is a popular way to format data as a single human-readable string. JSON is the native way that JavaScript programs write their data structures.\n",
    "\n",
    "**JSON (JavaScript Object Notation)** is a lightweight data-interchange format. It is easy for humans to read and write. It is easy for machines to parse and generate. © [json.org](https://json.org/)"
   ]
  },
  {
   "cell_type": "markdown",
   "id": "6bf60416",
   "metadata": {},
   "source": [
    "### The json Module\n",
    "\n",
    "Python’s `json` module handles all the details of translating between a string with JSON data and Python values for the `json.loads()` and `json.dumps()` functions. JSON can’t store *every* kind of Python value. It can contain values of only the following data types: strings, integers, floats, Booleans, lists, dictionaries, and `NoneType`. JSON cannot represent Python-specific objects, such as `File` objects, CSV `reader` or `writer` objects, `Regex` objects, or Selenium `WebElement` objects."
   ]
  },
  {
   "cell_type": "markdown",
   "id": "7f68ba92",
   "metadata": {},
   "source": [
    "#### Reading JSON with the `loads()` Function"
   ]
  },
  {
   "cell_type": "code",
   "execution_count": 14,
   "id": "42ae7fb6",
   "metadata": {},
   "outputs": [
    {
     "data": {
      "text/plain": [
       "{'name': 'Zophie', 'isCat': True, 'miceCaught': 0, 'felineIQ': None}"
      ]
     },
     "execution_count": 14,
     "metadata": {},
     "output_type": "execute_result"
    }
   ],
   "source": [
    "stringOfJsonData = '{\"name\":\"Zophie\", \"isCat\":true, \"miceCaught\":0, \"felineIQ\":null}'\n",
    "import json\n",
    "\n",
    "jsonDataAsPythonValue = json.loads(stringOfJsonData)\n",
    "jsonDataAsPythonValue"
   ]
  },
  {
   "cell_type": "markdown",
   "id": "ffd9082c",
   "metadata": {},
   "source": [
    "#### Writing JSON with the `dumps()` Function"
   ]
  },
  {
   "cell_type": "code",
   "execution_count": 15,
   "id": "4da6841f",
   "metadata": {},
   "outputs": [
    {
     "data": {
      "text/plain": [
       "'{\"isCat\": true, \"miceCaugth\": 0, \"name\": \"Zophie\", \"felineIQ\": null}'"
      ]
     },
     "execution_count": 15,
     "metadata": {},
     "output_type": "execute_result"
    }
   ],
   "source": [
    "pythonValue = {'isCat':True, 'miceCaugth':0, 'name':'Zophie', 'felineIQ':None}\n",
    "import json\n",
    "\n",
    "stringOfJsonData = json.dumps(pythonValue)\n",
    "stringOfJsonData"
   ]
  },
  {
   "cell_type": "markdown",
   "id": "dada30b5",
   "metadata": {},
   "source": [
    "### Project: Fetching Current Weather Data\n",
    "\n",
    "https://openweathermap.org/api\n",
    "- https://openweathermap.org/current\n",
    "- https://openweathermap.org/forecast5"
   ]
  },
  {
   "cell_type": "code",
   "execution_count": 16,
   "id": "6a8ce6bf",
   "metadata": {},
   "outputs": [
    {
     "name": "stdout",
     "output_type": "stream",
     "text": [
      "Current weather in Samarkand, Uzbekistan:\n",
      "Clouds - overcast clouds\n"
     ]
    }
   ],
   "source": [
    "# getOpenWeather.py - Prints the weather for a location from the command line.\n",
    "\n",
    "import sys\n",
    "import json\n",
    "import requests\n",
    "\n",
    "# Computer location from command line arguments.\n",
    "if len(sys.argv) < 2:\n",
    "    print(\"Usage: getOpenWeather.py city_name, 2-letter_country_code\")\n",
    "    sys.exit()\n",
    "\n",
    "# variables to request\n",
    "# location = \",\".join(sys.argv[1:])\n",
    "location = \"Samarkand, Uzbekistan\"\n",
    "API_KEY = 'YOUR_API_KEY_HERE'\n",
    "\n",
    "# Download the JSON data from OpenWeatherMap.org's API\n",
    "url = f\"https://api.openweathermap.org/data/2.5/weather?q={location}&appid={API_KEY}\"\n",
    "response = requests.get(url)\n",
    "response.raise_for_status()\n",
    "#print(response.text)\n",
    "\n",
    "# Load JSON data into a Python variable\n",
    "w = json.loads(response.text)  # weather data\n",
    "# Print weather description\n",
    "print(f\"Current weather in {location}:\")\n",
    "print(W['weather'][0]['main'], '-', W['weather'][0]['description'])"
   ]
  },
  {
   "cell_type": "markdown",
   "id": "70266855",
   "metadata": {},
   "source": [
    "#### Ideas for Similar Programs\n",
    "\n",
    "- Collect weather forecasts for several campsites or hiking trails to see which one will have the best weather.\n",
    "- Schedule a program to regularly check the weather and send you a frost alert if you need to move your plants indoors. (Chapter 17 covers scheduling, and Chapter 18 explains how to send email.)\n",
    "- Pull weather data from multiple sites to show all at once, or calculate and show the average of the multiple weather predictions."
   ]
  },
  {
   "cell_type": "markdown",
   "id": "e96b492d",
   "metadata": {},
   "source": [
    "## Practice Project\n",
    "\n",
    "### Excel-to-CSV Converter\n",
    "\n",
    "**LINK ➡** https://automatetheboringstuff.com/2e/chapter16/#calibre_link-372:~:text=Excel%2Dto%2DCSV%20Converter"
   ]
  },
  {
   "cell_type": "code",
   "execution_count": null,
   "id": "96f45b90",
   "metadata": {},
   "outputs": [],
   "source": [
    "import openpyxl\n",
    "\n",
    "for excelFile in os.listdir('.'):\n",
    "    # Skip non-xlsx files, load the workbook object.\n",
    "    for sheetName in wb.get_sheet_names():\n",
    "        # Loop through every sheet in the workbook.\n",
    "        sheet = wb.get_sheet_by_name(sheetName)\n",
    "\n",
    "        # Create the CSV filename from the Excel filename and sheet title.\n",
    "        # Create the csv.writer object for this CSV file.\n",
    "\n",
    "        # Loop through every row in the sheet.\n",
    "        for rowNum in range(1, sheet.max_row + 1):\n",
    "            rowData = []    # append each cell to this list\n",
    "            # Loop through each cell in the row.\n",
    "            for colNum in range(1, sheet.max_column + 1):\n",
    "                # Append each cell's data to rowData.\n",
    "\n",
    "            # Write the rowData list to the CSV file.\n",
    "\n",
    "        csvFile.close()"
   ]
  },
  {
   "cell_type": "code",
   "execution_count": null,
   "id": "95d23470",
   "metadata": {},
   "outputs": [],
   "source": []
  }
 ],
 "metadata": {
  "kernelspec": {
   "display_name": "Python 3 (ipykernel)",
   "language": "python",
   "name": "python3"
  },
  "language_info": {
   "codemirror_mode": {
    "name": "ipython",
    "version": 3
   },
   "file_extension": ".py",
   "mimetype": "text/x-python",
   "name": "python",
   "nbconvert_exporter": "python",
   "pygments_lexer": "ipython3",
   "version": "3.9.15"
  },
  "vscode": {
   "interpreter": {
    "hash": "2c7666c1320a956fa05893d10993164efa76d3af81fc7470d6f4943526f3df36"
   }
  }
 },
 "nbformat": 4,
 "nbformat_minor": 5
}
